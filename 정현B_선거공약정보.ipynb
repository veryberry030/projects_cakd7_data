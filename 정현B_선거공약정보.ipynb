{
 "cells": [
  {
   "cell_type": "markdown",
   "id": "6f208b82",
   "metadata": {},
   "source": [
    "# 선거 공약 데이터 (공공데이터)"
   ]
  },
  {
   "cell_type": "code",
   "execution_count": 6,
   "id": "103fe1a4",
   "metadata": {},
   "outputs": [
    {
     "name": "stdout",
     "output_type": "stream",
     "text": [
      "http://apis.data.go.kr/9760000/ElecPrmsInfoInqireService/getCnddtElecPrmsInfoInqire?pageNo=1&numOfRows=10&resultType=json&sgId=20220309&sgTypecode=1&serviceKey=wwG4An4Ry7Kkzy7DQpH6rW11KVMcRE7V0sXU%2BZ6Fu%2Bv2X4Eu%2Fm6HCyjTcoVDbUIJzdrgVWaBLfO1FuPlv7dhvg%3D%3D\n"
     ]
    }
   ],
   "source": [
    "from urllib.request import Request,urlopen\n",
    "from urllib.parse import urlencode,quote_plus\n",
    "import pandas as pd\n",
    "import json\n",
    "\n",
    "skey = 'wwG4An4Ry7Kkzy7DQpH6rW11KVMcRE7V0sXU%2BZ6Fu%2Bv2X4Eu%2Fm6HCyjTcoVDbUIJzdrgVWaBLfO1FuPlv7dhvg%3D%3D'\n",
    "#skey = 'EbwPIaTQ+n53RTCBMoZUvZYQ6Md6hF85t6GkF1SQn4IQbT8lXzCKZPS+LvYw4mTX2ytwazyZbfe6SzIXv3YZKA=='\n",
    "resultType = 'json'\n",
    "sgId = '20220309'\n",
    "sgTypecode = '1' #선거공약서 제출코드(SgTypecode) : 1(대통령선거), 3(시∙도시자선거),4(구∙시∙군의장선거), 11(교육감선거)\n",
    "pageNo = '1'\n",
    "numOfRows = '10'\n",
    "\n",
    "\n",
    "url = 'http://apis.data.go.kr/9760000/ElecPrmsInfoInqireService/getCnddtElecPrmsInfoInqire'\n",
    "\n",
    "params = f'?pageNo={pageNo}&numOfRows={numOfRows}&resultType={resultType}&sgId={sgId}&sgTypecode={sgTypecode}&serviceKey={skey}'\n",
    "query = url + params\n",
    "print(query)\n",
    "\n",
    "# request = Request(query)\n",
    "# request.get_method = lambda:'GET'\n",
    "# response_body = urlopen(request).read()\n",
    "# print(response_body)\n",
    "\n",
    "# response_dict = json.loads(response_body.decode('utf-8'))\n",
    "# response_dict\n",
    "#items = response_dict['body']['items']\n",
    "\n",
    "#df = pd.DataFrame(items)\n",
    "#df"
   ]
  },
  {
   "cell_type": "code",
   "execution_count": null,
   "id": "1a1395e5",
   "metadata": {},
   "outputs": [],
   "source": []
  }
 ],
 "metadata": {
  "kernelspec": {
   "display_name": "Python 3 (ipykernel)",
   "language": "python",
   "name": "python3"
  },
  "language_info": {
   "codemirror_mode": {
    "name": "ipython",
    "version": 3
   },
   "file_extension": ".py",
   "mimetype": "text/x-python",
   "name": "python",
   "nbconvert_exporter": "python",
   "pygments_lexer": "ipython3",
   "version": "3.8.13"
  },
  "toc": {
   "base_numbering": 1,
   "nav_menu": {},
   "number_sections": true,
   "sideBar": true,
   "skip_h1_title": false,
   "title_cell": "Table of Contents",
   "title_sidebar": "Contents",
   "toc_cell": false,
   "toc_position": {},
   "toc_section_display": true,
   "toc_window_display": false
  }
 },
 "nbformat": 4,
 "nbformat_minor": 5
}
