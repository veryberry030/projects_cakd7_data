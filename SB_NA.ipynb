{
 "cells": [
  {
   "cell_type": "code",
   "execution_count": 24,
   "id": "d6a0a139",
   "metadata": {},
   "outputs": [],
   "source": [
    "import os\n",
    "import sys\n",
    "import urllib.request\n",
    "import json\n",
    "import pandas as pd\n",
    "from bs4 import BeautifulSoup"
   ]
  },
  {
   "cell_type": "markdown",
   "id": "246ef777",
   "metadata": {},
   "source": [
    "# 계획"
   ]
  },
  {
   "cell_type": "markdown",
   "id": "0c161f88",
   "metadata": {},
   "source": [
    "- 크롤링 준비\n",
    "    - 국회의원이름리스트MPnames 만들기\n",
    "        - 중복이 없는지 확인, 있다면 그 국회의원에 한해 신뢰도가 떨어지겠거니 일단 생각만 해둔다.\n",
    "    - getNewsAbout(MPname)이름 넣으면 크롤링 데이터 반환하는 함수 만들기\n",
    "        - return df_org (컬럼 구성 : ['title', 'originallink', 'link', 'description', 'pubDate'])\n",
    "    - reduction1(df) 데이터 프레임을 넣으면 1차 전처리를 해서 데이터 프레임 반환하는 함수 만들기\n",
    "        - return df_r1 (위와 같음)\n",
    "    - reduction2(df) 데이터 프레임을 넣으면 2차 전처리를 해서 문자열 반환하는 함수 만들기\n",
    "        - return text\n",
    "\n",
    "- 크롤링\n",
    "    - 만든거 for 문으로 휘리릭\n",
    "    - 과정과 결과를 딕셔너리  에 저장 {MPname: [df_org, df_r1, text]}\n",
    "\n",
    "- 1차 전처리\n",
    "    - 한글이외의 것 삭제\n",
    "    - 검색어 삭제 (여기선 윤석열)\n",
    "    - (title, description)으로 중복 거른다.\n",
    "\n",
    "- 2차 전처리\n",
    "    - 모든 title description을 하나의 문자열 text로 합친다."
   ]
  },
  {
   "cell_type": "markdown",
   "id": "0db86b4c",
   "metadata": {},
   "source": [
    "# 구현"
   ]
  },
  {
   "cell_type": "markdown",
   "id": "b3d4b111",
   "metadata": {},
   "source": [
    "## 크롤링 준비\n",
    "### MPnames \n",
    "- 국회의원이름리스트 만들기\n",
    "- 중복이 없는지 확인, 있다면 그 국회의원에 한해 신뢰도가 떨어지겠거니 일단 생각만 해둔다."
   ]
  },
  {
   "cell_type": "code",
   "execution_count": 64,
   "id": "78f65d9e",
   "metadata": {},
   "outputs": [],
   "source": [
    "MP = pd.read_pickle('MP.pkl')"
   ]
  },
  {
   "cell_type": "code",
   "execution_count": 65,
   "id": "7104e69d",
   "metadata": {},
   "outputs": [
    {
     "name": "stdout",
     "output_type": "stream",
     "text": [
      "<class 'pandas.core.frame.DataFrame'>\n",
      "RangeIndex: 299 entries, 0 to 298\n",
      "Data columns (total 7 columns):\n",
      " #   Column  Non-Null Count  Dtype \n",
      "---  ------  --------------  ----- \n",
      " 0   의원명     299 non-null    object\n",
      " 1   정당      299 non-null    object\n",
      " 2   소속위원회   298 non-null    object\n",
      " 3   지역      299 non-null    object\n",
      " 4   성별      299 non-null    object\n",
      " 5   당선횟수    299 non-null    object\n",
      " 6   당선방법    299 non-null    object\n",
      "dtypes: object(7)\n",
      "memory usage: 16.5+ KB\n"
     ]
    }
   ],
   "source": [
    "MP.info()"
   ]
  },
  {
   "cell_type": "code",
   "execution_count": 76,
   "id": "86d5dbff",
   "metadata": {},
   "outputs": [],
   "source": [
    "MPnames = MP['의원명']"
   ]
  },
  {
   "cell_type": "code",
   "execution_count": 94,
   "id": "21fd0c2c",
   "metadata": {},
   "outputs": [
    {
     "data": {
      "text/plain": [
       "(299, 297)"
      ]
     },
     "execution_count": 94,
     "metadata": {},
     "output_type": "execute_result"
    }
   ],
   "source": [
    "MPnames.count(), len(MPnames.unique())"
   ]
  },
  {
   "cell_type": "markdown",
   "id": "f2ef44d0",
   "metadata": {},
   "source": [
    "- 동명이인이 있다.\n",
    "\n",
    "- 김병욱(33, 34), 이수진(191, 192)"
   ]
  },
  {
   "cell_type": "code",
   "execution_count": 86,
   "id": "ce23fc15",
   "metadata": {
    "scrolled": false
   },
   "outputs": [
    {
     "data": {
      "text/html": [
       "<div>\n",
       "<style scoped>\n",
       "    .dataframe tbody tr th:only-of-type {\n",
       "        vertical-align: middle;\n",
       "    }\n",
       "\n",
       "    .dataframe tbody tr th {\n",
       "        vertical-align: top;\n",
       "    }\n",
       "\n",
       "    .dataframe thead th {\n",
       "        text-align: right;\n",
       "    }\n",
       "</style>\n",
       "<table border=\"1\" class=\"dataframe\">\n",
       "  <thead>\n",
       "    <tr style=\"text-align: right;\">\n",
       "      <th></th>\n",
       "      <th>의원명</th>\n",
       "      <th>정당</th>\n",
       "      <th>소속위원회</th>\n",
       "      <th>지역</th>\n",
       "      <th>성별</th>\n",
       "      <th>당선횟수</th>\n",
       "      <th>당선방법</th>\n",
       "    </tr>\n",
       "  </thead>\n",
       "  <tbody>\n",
       "    <tr>\n",
       "      <th>33</th>\n",
       "      <td>김병욱</td>\n",
       "      <td>더불어민주당</td>\n",
       "      <td>[국토교통위원회]</td>\n",
       "      <td>경기 성남시분당구을</td>\n",
       "      <td>남</td>\n",
       "      <td>재선</td>\n",
       "      <td>지역구</td>\n",
       "    </tr>\n",
       "    <tr>\n",
       "      <th>191</th>\n",
       "      <td>이수진</td>\n",
       "      <td>더불어민주당</td>\n",
       "      <td>[기획재정위원회,  예산결산특...</td>\n",
       "      <td>서울 동작구을</td>\n",
       "      <td>여</td>\n",
       "      <td>초선</td>\n",
       "      <td>지역구</td>\n",
       "    </tr>\n",
       "  </tbody>\n",
       "</table>\n",
       "</div>"
      ],
      "text/plain": [
       "     의원명      정당                소속위원회          지역 성별 당선횟수 당선방법\n",
       "33   김병욱  더불어민주당            [국토교통위원회]  경기 성남시분당구을  남   재선  지역구\n",
       "191  이수진  더불어민주당  [기획재정위원회,  예산결산특...     서울 동작구을  여   초선  지역구"
      ]
     },
     "execution_count": 86,
     "metadata": {},
     "output_type": "execute_result"
    }
   ],
   "source": [
    "MP[MP.duplicated(subset=['의원명'], keep='last')]"
   ]
  },
  {
   "cell_type": "code",
   "execution_count": 87,
   "id": "f0ad40b9",
   "metadata": {},
   "outputs": [
    {
     "data": {
      "text/html": [
       "<div>\n",
       "<style scoped>\n",
       "    .dataframe tbody tr th:only-of-type {\n",
       "        vertical-align: middle;\n",
       "    }\n",
       "\n",
       "    .dataframe tbody tr th {\n",
       "        vertical-align: top;\n",
       "    }\n",
       "\n",
       "    .dataframe thead th {\n",
       "        text-align: right;\n",
       "    }\n",
       "</style>\n",
       "<table border=\"1\" class=\"dataframe\">\n",
       "  <thead>\n",
       "    <tr style=\"text-align: right;\">\n",
       "      <th></th>\n",
       "      <th>의원명</th>\n",
       "      <th>정당</th>\n",
       "      <th>소속위원회</th>\n",
       "      <th>지역</th>\n",
       "      <th>성별</th>\n",
       "      <th>당선횟수</th>\n",
       "      <th>당선방법</th>\n",
       "    </tr>\n",
       "  </thead>\n",
       "  <tbody>\n",
       "    <tr>\n",
       "      <th>34</th>\n",
       "      <td>김병욱</td>\n",
       "      <td>국민의힘</td>\n",
       "      <td>[교육위원회,  예산결산특별위원회]</td>\n",
       "      <td>경북 포항시남구울릉군</td>\n",
       "      <td>남</td>\n",
       "      <td>초선</td>\n",
       "      <td>지역구</td>\n",
       "    </tr>\n",
       "    <tr>\n",
       "      <th>192</th>\n",
       "      <td>이수진</td>\n",
       "      <td>더불어민주당</td>\n",
       "      <td>[민생경제안정특별위원회,  국...</td>\n",
       "      <td>비례대표</td>\n",
       "      <td>여</td>\n",
       "      <td>초선</td>\n",
       "      <td>비례대표</td>\n",
       "    </tr>\n",
       "  </tbody>\n",
       "</table>\n",
       "</div>"
      ],
      "text/plain": [
       "     의원명      정당                소속위원회           지역 성별 당선횟수  당선방법\n",
       "34   김병욱    국민의힘  [교육위원회,  예산결산특별위원회]  경북 포항시남구울릉군  남   초선   지역구\n",
       "192  이수진  더불어민주당  [민생경제안정특별위원회,  국...         비례대표  여   초선  비례대표"
      ]
     },
     "execution_count": 87,
     "metadata": {},
     "output_type": "execute_result"
    }
   ],
   "source": [
    "MP[MP.duplicated(subset=['의원명'], keep='first')]"
   ]
  },
  {
   "cell_type": "code",
   "execution_count": 99,
   "id": "a4d55dee",
   "metadata": {},
   "outputs": [
    {
     "name": "stdout",
     "output_type": "stream",
     "text": [
      "강기윤 강대식 강득구 강민국 강민정 강병원 강선우 강은미 강준현 강훈식 고민정 고영인 고용진 구자근 권명호 권성동 권영세 권은희 권인숙 권칠승 기동민 김경만 김경협 김교흥 김기현 김남국 김도읍 김두관 김미애 김민기 김민석 김민철 김병기 김병욱 김병욱 김병주 김상훈 김상희 김석기 김선교 김성원 김성주 김성환 김수흥 김승남 김승수 김승원 김영배 김영선 김영식 김영주 김영진 김영호 김예지 김용민 김용판 김웅 김원이 김윤덕 김의겸 김정재 김정호 김종민 김주영 김진표 김철민 김태년 김태호 김학용 김한규 김한정 김형동 김홍걸 김회재 김희곤 김희국 남인순 노용호 노웅래 도종환 류성걸 류호정 맹성규 문정복 문진석 민병덕 민형배 민홍철 박광온 박대수 박대출 박덕흠 박범계 박병석 박상혁 박성민 박성준 박성중 박수영 박영순 박완주 박용진 박재호 박정 박정하 박주민 박진 박찬대 박형수 박홍근 배준영 배진교 배현진 백종헌 백혜련 변재일 서동용 서범수 서병수 서삼석 서영교 서영석 서일준 서정숙 설훈 성일종 소병철 소병훈 송갑석 송기헌 송석준 송언석 송옥주 송재호 신동근 신영대 신원식 신정훈 신현영 심상정 안규백 안민석 안병길 안철수 안호영 양경숙 양금희 양기대 양이원영 양정숙 양향자 어기구 엄태영 오기형 오영환 용혜인 우상호 우원식 위성곤 유경준 유기홍 유동수 유상범 유의동 유정주 윤건영 윤관석 윤두현 윤미향 윤상현 윤영덕 윤영석 윤영찬 윤재갑 윤재옥 윤주경 윤준병 윤창현 윤한홍 윤호중 윤후덕 이개호 이달곤 이동주 이만희 이명수 이병훈 이상민 이상헌 이성만 이소영 이수진 이수진 이양수 이용 이용빈 이용선 이용우 이용호 이원욱 이원택 이은주 이인선 이인영 이장섭 이재명 이재정 이정문 이종배 이종성 이주환 이채익 이철규 이탄희 이태규 이학영 이해식 이헌승 이형석 인재근 임병헌 임오경 임이자 임종성 임호선 장경태 장동혁 장제원 장철민 장혜영 전봉민 전용기 전재수 전주혜 전해철 전혜숙 정경희 정동만 정성호 정우택 정운천 정일영 정점식 정진석 정찬민 정청래 정춘숙 정태호 정필모 정희용 조경태 조명희 조수진 조승래 조오섭 조은희 조응천 조정식 조정훈 조해진 주철현 주호영 지성호 진선미 진성준 천준호 최강욱 최기상 최승재 최연숙 최영희 최인호 최재형 최종윤 최춘식 최형두 최혜영 추경호 태영호 하영제 하태경 한기호 한무경 한병도 한정애 한준호 허영 허은아 허종식 홍기원 홍문표 홍석준 홍성국 홍영표 홍익표 홍정민 황보승희 황운하 황희 "
     ]
    }
   ],
   "source": [
    "for name in MPnames:\n",
    "    print(name, end=\" \")"
   ]
  },
  {
   "cell_type": "markdown",
   "id": "380f7c1f",
   "metadata": {},
   "source": [
    "### getNewsAbout(name)\n",
    "- 이름 넣으면 크롤링 데이터 반환하는 함수 만들기\n",
    "- return df_org (컬럼 구성 : ['title', 'originallink', 'link', 'description', 'pubDate']) "
   ]
  },
  {
   "cell_type": "markdown",
   "id": "4f692719",
   "metadata": {},
   "source": [
    "- https://developers.naver.com/docs/serviceapi/search/news/news.md#%EB%89%B4%EC%8A%A4"
   ]
  },
  {
   "cell_type": "code",
   "execution_count": 258,
   "id": "08bdc98f",
   "metadata": {},
   "outputs": [],
   "source": [
    "df = pd.DataFrame()"
   ]
  },
  {
   "cell_type": "code",
   "execution_count": 260,
   "id": "7f9e2255",
   "metadata": {},
   "outputs": [
    {
     "data": {
      "text/plain": [
       "True"
      ]
     },
     "execution_count": 260,
     "metadata": {},
     "output_type": "execute_result"
    }
   ],
   "source": [
    "df.empty"
   ]
  },
  {
   "cell_type": "code",
   "execution_count": 277,
   "id": "923ac111",
   "metadata": {},
   "outputs": [],
   "source": [
    "client_id = \"ISdXTGuV8Tdqx9fNxPgz\"\n",
    "client_secret = \"e2kcexi37t\"\n",
    "display = 100 # 출력건수 (최대)\n",
    "sort = 'sim' # 유사도\n",
    "\n",
    "def getNewsAbout(name):    \n",
    "    encText = urllib.parse.quote(name)\n",
    "    url = f'https://openapi.naver.com/v1/search/news?query={encText}&display={display}&sort={sort}'\n",
    "\n",
    "    request = urllib.request.Request(url)\n",
    "    request.add_header(\"X-Naver-Client-Id\",client_id)\n",
    "    request.add_header(\"X-Naver-Client-Secret\",client_secret)\n",
    "\n",
    "    response = urllib.request.urlopen(request)\n",
    "    rescode = response.getcode()\n",
    "    \n",
    "    df = pd.DataFrame()\n",
    "    if(rescode==200):\n",
    "        response_body = response.read()\n",
    "#         print('getNewsAbout : crawling about ', name, 'done.')\n",
    "    else:\n",
    "        print('getNewsAbout : crawling about ', name, 'failed.')\n",
    "        print(\"Error Code:\" + rescode)\n",
    "        return df\n",
    "        \n",
    "    df = response_body.decode('utf-8')\n",
    "    df = json.loads(df)\n",
    "    df = pd.DataFrame(df['items'])\n",
    "    \n",
    "    return df"
   ]
  },
  {
   "cell_type": "code",
   "execution_count": 231,
   "id": "a6846dfc",
   "metadata": {},
   "outputs": [
    {
     "name": "stdout",
     "output_type": "stream",
     "text": [
      "Success\n"
     ]
    }
   ],
   "source": [
    "name = MPnames[0]\n",
    "df = getNewsAbout(name)"
   ]
  },
  {
   "cell_type": "raw",
   "id": "fcca6074",
   "metadata": {},
   "source": [
    "pd.options.display.max_colwidth = 20"
   ]
  },
  {
   "cell_type": "code",
   "execution_count": 232,
   "id": "93120959",
   "metadata": {},
   "outputs": [
    {
     "name": "stdout",
     "output_type": "stream",
     "text": [
      "<class 'pandas.core.frame.DataFrame'>\n",
      "RangeIndex: 100 entries, 0 to 99\n",
      "Data columns (total 5 columns):\n",
      " #   Column        Non-Null Count  Dtype \n",
      "---  ------        --------------  ----- \n",
      " 0   title         100 non-null    object\n",
      " 1   originallink  100 non-null    object\n",
      " 2   link          100 non-null    object\n",
      " 3   description   100 non-null    object\n",
      " 4   pubDate       100 non-null    object\n",
      "dtypes: object(5)\n",
      "memory usage: 4.0+ KB\n"
     ]
    }
   ],
   "source": [
    "df.info()"
   ]
  },
  {
   "cell_type": "code",
   "execution_count": 233,
   "id": "1ebe1617",
   "metadata": {},
   "outputs": [
    {
     "data": {
      "text/html": [
       "<div>\n",
       "<style scoped>\n",
       "    .dataframe tbody tr th:only-of-type {\n",
       "        vertical-align: middle;\n",
       "    }\n",
       "\n",
       "    .dataframe tbody tr th {\n",
       "        vertical-align: top;\n",
       "    }\n",
       "\n",
       "    .dataframe thead th {\n",
       "        text-align: right;\n",
       "    }\n",
       "</style>\n",
       "<table border=\"1\" class=\"dataframe\">\n",
       "  <thead>\n",
       "    <tr style=\"text-align: right;\">\n",
       "      <th></th>\n",
       "      <th>title</th>\n",
       "      <th>originallink</th>\n",
       "      <th>link</th>\n",
       "      <th>description</th>\n",
       "      <th>pubDate</th>\n",
       "    </tr>\n",
       "  </thead>\n",
       "  <tbody>\n",
       "    <tr>\n",
       "      <th>0</th>\n",
       "      <td>&lt;b&gt;강기윤&lt;/b&gt; &amp;quot...</td>\n",
       "      <td>http://www.edail...</td>\n",
       "      <td>https://n.news.n...</td>\n",
       "      <td>&lt;b&gt;강기윤&lt;/b&gt; 국민의힘 ...</td>\n",
       "      <td>Fri, 29 Jul 2022...</td>\n",
       "    </tr>\n",
       "    <tr>\n",
       "      <th>1</th>\n",
       "      <td>&lt;b&gt;강기윤&lt;/b&gt; 의원 “코...</td>\n",
       "      <td>https://mdtoday....</td>\n",
       "      <td>https://mdtoday....</td>\n",
       "      <td>▲ 국민의힘 &lt;b&gt;강기윤&lt;/b...</td>\n",
       "      <td>Fri, 29 Jul 2022...</td>\n",
       "    </tr>\n",
       "    <tr>\n",
       "      <th>2</th>\n",
       "      <td>보건복지위원장 정춘숙…간사 &lt;...</td>\n",
       "      <td>https://www.dail...</td>\n",
       "      <td>https://www.dail...</td>\n",
       "      <td>﻿﻿﻿사진설명 = 좌측부터 보...</td>\n",
       "      <td>Fri, 22 Jul 2022...</td>\n",
       "    </tr>\n",
       "    <tr>\n",
       "      <th>3</th>\n",
       "      <td>후반기 국회 복지위원장에 정춘...</td>\n",
       "      <td>http://www.medig...</td>\n",
       "      <td>http://www.medig...</td>\n",
       "      <td>여당 간사는 국민의힘 &lt;b&gt;강...</td>\n",
       "      <td>Fri, 22 Jul 2022...</td>\n",
       "    </tr>\n",
       "    <tr>\n",
       "      <th>4</th>\n",
       "      <td>&amp;quot;팬데믹 시대 과학 ...</td>\n",
       "      <td>http://www.sisao...</td>\n",
       "      <td>http://www.sisao...</td>\n",
       "      <td>토론자: &lt;b&gt;강기윤&lt;/b&gt;-...</td>\n",
       "      <td>Tue, 26 Jul 2022...</td>\n",
       "    </tr>\n",
       "  </tbody>\n",
       "</table>\n",
       "</div>"
      ],
      "text/plain": [
       "                 title         originallink                 link  \\\n",
       "0  <b>강기윤</b> &quot...  http://www.edail...  https://n.news.n...   \n",
       "1  <b>강기윤</b> 의원 “코...  https://mdtoday....  https://mdtoday....   \n",
       "2  보건복지위원장 정춘숙…간사 <...  https://www.dail...  https://www.dail...   \n",
       "3  후반기 국회 복지위원장에 정춘...  http://www.medig...  http://www.medig...   \n",
       "4  &quot;팬데믹 시대 과학 ...  http://www.sisao...  http://www.sisao...   \n",
       "\n",
       "           description              pubDate  \n",
       "0  <b>강기윤</b> 국민의힘 ...  Fri, 29 Jul 2022...  \n",
       "1  ▲ 국민의힘 <b>강기윤</b...  Fri, 29 Jul 2022...  \n",
       "2  ﻿﻿﻿사진설명 = 좌측부터 보...  Fri, 22 Jul 2022...  \n",
       "3  여당 간사는 국민의힘 <b>강...  Fri, 22 Jul 2022...  \n",
       "4  토론자: <b>강기윤</b>-...  Tue, 26 Jul 2022...  "
      ]
     },
     "execution_count": 233,
     "metadata": {},
     "output_type": "execute_result"
    }
   ],
   "source": [
    "df.head()"
   ]
  },
  {
   "cell_type": "markdown",
   "id": "29fa9416",
   "metadata": {},
   "source": [
    "### reduction1(df, name) \n",
    "- 데이터 프레임을 넣으면 1차 전처리를 해서 데이터 프레임 반환하는 함수 만들기\n",
    "- return df_r1 (위와 같음)"
   ]
  },
  {
   "cell_type": "markdown",
   "id": "7feac6b7",
   "metadata": {},
   "source": [
    "- 1차 전처리\n",
    "    - (title, description)에 대하여\n",
    "        - 한글이외의 것 삭제\n",
    "        - 검색어 삭제 (여기선 윤석열)\n",
    "    - (title, description)으로 중복 거른다."
   ]
  },
  {
   "cell_type": "code",
   "execution_count": 162,
   "id": "48c5879c",
   "metadata": {},
   "outputs": [],
   "source": [
    "import re"
   ]
  },
  {
   "cell_type": "code",
   "execution_count": 163,
   "id": "42857f33",
   "metadata": {},
   "outputs": [
    {
     "name": "stdout",
     "output_type": "stream",
     "text": [
      "<class 'pandas.core.frame.DataFrame'>\n",
      "RangeIndex: 100 entries, 0 to 99\n",
      "Data columns (total 5 columns):\n",
      " #   Column        Non-Null Count  Dtype \n",
      "---  ------        --------------  ----- \n",
      " 0   title         100 non-null    object\n",
      " 1   originallink  100 non-null    object\n",
      " 2   link          100 non-null    object\n",
      " 3   description   100 non-null    object\n",
      " 4   pubDate       100 non-null    object\n",
      "dtypes: object(5)\n",
      "memory usage: 4.0+ KB\n"
     ]
    },
    {
     "data": {
      "text/plain": [
       "(None, str, str)"
      ]
     },
     "execution_count": 163,
     "metadata": {},
     "output_type": "execute_result"
    }
   ],
   "source": [
    "df.info(), type(df.title[0]), type(df.description[0])"
   ]
  },
  {
   "cell_type": "code",
   "execution_count": 278,
   "id": "479ec074",
   "metadata": {},
   "outputs": [
    {
     "name": "stdout",
     "output_type": "stream",
     "text": [
      "<class 'pandas.core.frame.DataFrame'>\n",
      "Int64Index: 79 entries, 0 to 99\n",
      "Data columns (total 5 columns):\n",
      " #   Column        Non-Null Count  Dtype \n",
      "---  ------        --------------  ----- \n",
      " 0   title         79 non-null     object\n",
      " 1   originallink  79 non-null     object\n",
      " 2   link          79 non-null     object\n",
      " 3   description   79 non-null     object\n",
      " 4   pubDate       79 non-null     object\n",
      "dtypes: object(5)\n",
      "memory usage: 3.7+ KB\n"
     ]
    }
   ],
   "source": [
    "def reduction1(df, name):\n",
    "    \n",
    "    if df.empty:\n",
    "        print(\"reduction1 : empty data.\")\n",
    "        return df\n",
    "    \n",
    "    df.title = df.title.apply(lambda x : re.sub('[^가-힣]+', ' ', x))\n",
    "    df.description = df.description.apply(lambda x : re.sub('[^가-힣]+', ' ', x))\n",
    "    \n",
    "    df.title = df.title.apply(lambda x : x.replace(name, ''))\n",
    "    df.description = df.description.apply(lambda x : x.replace(name, ''))\n",
    "    \n",
    "    df.drop_duplicates(subset=['title'], inplace=True)\n",
    "    df.drop_duplicates(subset=['description'], inplace=True)\n",
    "    \n",
    "#     print(\"reduction1 done.\")\n",
    "     \n",
    "    return df\n",
    "df1 = df.copy()\n",
    "df1.info()\n",
    "df_r1 = reduction1(df1, name)"
   ]
  },
  {
   "cell_type": "code",
   "execution_count": 271,
   "id": "7d726b50",
   "metadata": {
    "scrolled": true
   },
   "outputs": [
    {
     "data": {
      "text/html": [
       "<div>\n",
       "<style scoped>\n",
       "    .dataframe tbody tr th:only-of-type {\n",
       "        vertical-align: middle;\n",
       "    }\n",
       "\n",
       "    .dataframe tbody tr th {\n",
       "        vertical-align: top;\n",
       "    }\n",
       "\n",
       "    .dataframe thead th {\n",
       "        text-align: right;\n",
       "    }\n",
       "</style>\n",
       "<table border=\"1\" class=\"dataframe\">\n",
       "  <thead>\n",
       "    <tr style=\"text-align: right;\">\n",
       "      <th></th>\n",
       "    </tr>\n",
       "  </thead>\n",
       "  <tbody>\n",
       "  </tbody>\n",
       "</table>\n",
       "</div>"
      ],
      "text/plain": [
       "Empty DataFrame\n",
       "Columns: []\n",
       "Index: []"
      ]
     },
     "execution_count": 271,
     "metadata": {},
     "output_type": "execute_result"
    }
   ],
   "source": [
    "df_r1.head()"
   ]
  },
  {
   "cell_type": "markdown",
   "id": "9ad784e9",
   "metadata": {},
   "source": [
    "### reduction2(df) \n",
    "- 데이터 프레임을 넣으면 2차 전처리를 해서 문자열 반환하는 함수 만들기\n",
    "- return text"
   ]
  },
  {
   "cell_type": "markdown",
   "id": "b885f8c7",
   "metadata": {},
   "source": [
    "- 모든 title description을 하나의 문자열 text로 합친다."
   ]
  },
  {
   "cell_type": "code",
   "execution_count": 225,
   "id": "dd66bd9c",
   "metadata": {},
   "outputs": [
    {
     "name": "stdout",
     "output_type": "stream",
     "text": [
      "<class 'pandas.core.frame.DataFrame'>\n",
      "Int64Index: 89 entries, 0 to 99\n",
      "Data columns (total 5 columns):\n",
      " #   Column        Non-Null Count  Dtype \n",
      "---  ------        --------------  ----- \n",
      " 0   title         89 non-null     object\n",
      " 1   originallink  89 non-null     object\n",
      " 2   link          89 non-null     object\n",
      " 3   description   89 non-null     object\n",
      " 4   pubDate       89 non-null     object\n",
      "dtypes: object(5)\n",
      "memory usage: 6.2+ KB\n"
     ]
    }
   ],
   "source": [
    "df_r1_ = df_r1.copy()\n",
    "df_r1_.info()"
   ]
  },
  {
   "cell_type": "code",
   "execution_count": 279,
   "id": "2f08261d",
   "metadata": {
    "scrolled": true
   },
   "outputs": [
    {
     "name": "stdout",
     "output_type": "stream",
     "text": [
      "11050 <class 'str'>\n",
      "  확진자 접촉 무증상자도 신속항원 검사 무료화   국민의힘 의원 사진 은 이르면 다음주부터 코로나 확진자와 접촉한 무증상자 또한 의료기관  의원은 코로나 확진자와 접촉한 무증상자에 대해서도 의사의 판단 하에 신속항원검사비를 무료로    의원 코로나 무증상자도 신속항원검사 무료로 받을 수 있어  국민의힘  의원 사진  의원실 제공 이르면 다음주부터 코로나 확진자와 접촉한 무증상자 또한 의료기관 등에서 의사의 판단 하에 신속항원검사 를 무료로 받게 된다 국회 보건복지위원회 소속  보건복지위원장 정춘숙 간사  강훈식 의원 사진설명 좌측부터 보건복지위원장 정춘숙 의원 국민의힘  의원 더민주당 강훈식 의원 보건복지위 위원장은 보건복지위원장 정춘숙 의원이 맡았으며 간사는 여당에서  의원 국민의힘  후반기 국회 복지위원장에 정춘숙 의원 양당 간사는  강훈식여당 간사는 국민의힘  의원이 야당 간사는 더불어민주당 강훈식 의원이 맡게됐다  의원은 전반기에 이어 후반기에도 간사 직책을 이어가게 됐으며 강훈식 의원은 전반기   팬데믹 시대 과학 방역의 핵심 관료 아닌 전문가에 맡길 것 안철수 민 당 토론자  박향 정재훈 조동찬 국민의힘 안철수 의원이 일 오전 국회 의원회관에서 열린 위기를 연합뉴스 제언 전문가 의사 결정 따른 과학방역 이뤄야 국가 책임 중요 국민의힘  의원은    코로나 재유행대비 의료체계 점검 긴급 간담회 연다  의원 국회 국민의힘  의원 경남 창원시 성산구 보건복지위원회 간사 이 오는 일 목 오후 국회의원회관 제 간담회의실에서 코로나 재유행 의료체계 점검 긴급간담회 를 개최할 예정이다 이번 간담회는  후반기 국회 보건복지위 정춘숙 한정애 의원 이끈다보건복지위 간사로는 국민의힘  의원과 더불어민주당 강훈식 의원이 각각 내정됐다  의원은 전반기에서도 보건복지위원회 국민의힘 간사로 활동했다 지난 월 일 일찍이 보건복지위 국민의힘 간사로    코로나 재유행대비 의료체계 점검 위한 긴급 간담회 개최국민의힘 보건복지위원회 간사인  의원 경남 창원성산구 사진 국제뉴스 국회\n"
     ]
    }
   ],
   "source": [
    "def reduction2(df):\n",
    "    if df.empty:\n",
    "        print(\"reduction2 : empty data.\")\n",
    "        return \"\"\n",
    "    text = \"\"\n",
    "    sr = df.title + df.description\n",
    "    text = \" \".join(sr)\n",
    "    \n",
    "#     print(\"reduction2 done.\")\n",
    "    return text\n",
    "text = reduction2(df_r1_)\n",
    "print(len(text), type(text))\n",
    "print(text[:1000])"
   ]
  },
  {
   "cell_type": "code",
   "execution_count": null,
   "id": "067ab187",
   "metadata": {},
   "outputs": [],
   "source": []
  },
  {
   "cell_type": "markdown",
   "id": "73ed182c",
   "metadata": {},
   "source": [
    "## 크롤링\n",
    "- 만든거 for 문으로 휘리릭\n",
    "- 과정과 결과를 딕셔너리  에 저장 {MPname: [df_org, df_r1, text]}\n",
    "    - 객체로 저장하면 어떨까 MP_dict = {MPname : mp 객체}\n",
    "    - 접근은 MPdict['강기윤'].df_r1 이렇게. 하면 편하겠다."
   ]
  },
  {
   "cell_type": "code",
   "execution_count": 280,
   "id": "fe5b2a3a",
   "metadata": {},
   "outputs": [],
   "source": [
    "class MPdata:\n",
    "    def __init__(self, name):\n",
    "        self.name = name\n",
    "    def save_org(self, df_org):\n",
    "        self.df_org = df_org\n",
    "    def save_r1(self, df_r1):\n",
    "        self.df_r1 = df_r1\n",
    "    def save_text(self, text):\n",
    "        self.text = text"
   ]
  },
  {
   "cell_type": "code",
   "execution_count": null,
   "id": "98e5fb73",
   "metadata": {
    "scrolled": false
   },
   "outputs": [
    {
     "name": "stdout",
     "output_type": "stream",
     "text": [
      "*****  0 / 299  *****\n",
      "*****  1 / 299  *****\n",
      "*****  2 / 299  *****\n",
      "*****  3 / 299  *****\n",
      "*****  4 / 299  *****\n",
      "*****  5 / 299  *****\n",
      "*****  6 / 299  *****\n",
      "*****  7 / 299  *****\n",
      "*****  8 / 299  *****\n",
      "*****  9 / 299  *****\n",
      "*****  10 / 299  *****\n",
      "*****  11 / 299  *****\n",
      "*****  12 / 299  *****\n",
      "*****  13 / 299  *****\n",
      "*****  14 / 299  *****\n",
      "*****  15 / 299  *****\n",
      "*****  16 / 299  *****\n",
      "*****  17 / 299  *****\n",
      "*****  18 / 299  *****\n",
      "*****  19 / 299  *****\n",
      "*****  20 / 299  *****\n",
      "*****  21 / 299  *****\n",
      "*****  22 / 299  *****\n",
      "*****  23 / 299  *****\n",
      "*****  24 / 299  *****\n",
      "*****  25 / 299  *****\n",
      "*****  26 / 299  *****\n",
      "*****  27 / 299  *****\n",
      "*****  28 / 299  *****\n",
      "*****  29 / 299  *****\n",
      "*****  30 / 299  *****\n",
      "*****  31 / 299  *****\n",
      "*****  32 / 299  *****\n",
      "*****  33 / 299  *****\n",
      "*****  34 / 299  *****\n",
      "*****  35 / 299  *****\n",
      "*****  36 / 299  *****\n",
      "*****  37 / 299  *****\n",
      "*****  38 / 299  *****\n",
      "*****  39 / 299  *****\n",
      "*****  40 / 299  *****\n",
      "*****  41 / 299  *****\n",
      "*****  42 / 299  *****\n",
      "*****  43 / 299  *****\n",
      "*****  44 / 299  *****\n",
      "*****  45 / 299  *****\n",
      "*****  46 / 299  *****\n",
      "*****  47 / 299  *****\n",
      "*****  48 / 299  *****\n",
      "*****  49 / 299  *****\n",
      "*****  50 / 299  *****\n",
      "*****  51 / 299  *****\n",
      "*****  52 / 299  *****\n",
      "*****  53 / 299  *****\n",
      "*****  54 / 299  *****\n",
      "*****  55 / 299  *****\n",
      "*****  56 / 299  *****\n",
      "*****  57 / 299  *****\n",
      "*****  58 / 299  *****\n",
      "*****  59 / 299  *****\n",
      "*****  60 / 299  *****\n",
      "*****  61 / 299  *****\n",
      "*****  62 / 299  *****\n",
      "*****  63 / 299  *****\n",
      "*****  64 / 299  *****\n",
      "*****  65 / 299  *****\n",
      "*****  66 / 299  *****\n",
      "*****  67 / 299  *****\n",
      "*****  68 / 299  *****\n",
      "*****  69 / 299  *****\n",
      "*****  70 / 299  *****\n",
      "*****  71 / 299  *****\n",
      "*****  72 / 299  *****\n",
      "*****  73 / 299  *****\n",
      "*****  74 / 299  *****\n",
      "*****  75 / 299  *****\n",
      "*****  76 / 299  *****\n",
      "*****  77 / 299  *****\n",
      "*****  78 / 299  *****\n",
      "*****  79 / 299  *****\n",
      "*****  80 / 299  *****\n",
      "*****  81 / 299  *****\n",
      "*****  82 / 299  *****\n",
      "*****  83 / 299  *****\n",
      "*****  84 / 299  *****\n",
      "*****  85 / 299  *****\n",
      "*****  86 / 299  *****\n",
      "*****  87 / 299  *****\n",
      "*****  88 / 299  *****\n",
      "*****  89 / 299  *****\n",
      "*****  90 / 299  *****\n",
      "*****  91 / 299  *****\n",
      "*****  92 / 299  *****\n",
      "*****  93 / 299  *****\n",
      "*****  94 / 299  *****\n",
      "*****  95 / 299  *****\n",
      "*****  96 / 299  *****\n",
      "*****  97 / 299  *****\n",
      "*****  98 / 299  *****\n",
      "*****  99 / 299  *****\n",
      "*****  100 / 299  *****\n",
      "*****  101 / 299  *****\n",
      "*****  102 / 299  *****\n",
      "*****  103 / 299  *****\n",
      "*****  104 / 299  *****\n",
      "*****  105 / 299  *****\n",
      "*****  106 / 299  *****\n",
      "*****  107 / 299  *****\n",
      "*****  108 / 299  *****\n",
      "*****  109 / 299  *****\n",
      "*****  110 / 299  *****\n",
      "*****  111 / 299  *****\n",
      "*****  112 / 299  *****\n",
      "*****  113 / 299  *****\n",
      "*****  114 / 299  *****\n",
      "*****  115 / 299  *****\n",
      "*****  116 / 299  *****\n",
      "*****  117 / 299  *****\n",
      "*****  118 / 299  *****\n",
      "*****  119 / 299  *****\n",
      "*****  120 / 299  *****\n",
      "*****  121 / 299  *****\n",
      "*****  122 / 299  *****\n",
      "*****  123 / 299  *****\n",
      "*****  124 / 299  *****\n",
      "*****  125 / 299  *****\n",
      "*****  126 / 299  *****\n",
      "*****  127 / 299  *****\n",
      "*****  128 / 299  *****\n",
      "*****  129 / 299  *****\n",
      "*****  130 / 299  *****\n",
      "*****  131 / 299  *****\n",
      "*****  132 / 299  *****\n",
      "*****  133 / 299  *****\n",
      "*****  134 / 299  *****\n",
      "*****  135 / 299  *****\n",
      "*****  136 / 299  *****\n",
      "*****  137 / 299  *****\n",
      "*****  138 / 299  *****\n",
      "*****  139 / 299  *****\n",
      "*****  140 / 299  *****\n",
      "*****  141 / 299  *****\n",
      "*****  142 / 299  *****\n",
      "*****  143 / 299  *****\n",
      "*****  144 / 299  *****\n",
      "*****  145 / 299  *****\n",
      "*****  146 / 299  *****\n",
      "*****  147 / 299  *****\n",
      "*****  148 / 299  *****\n",
      "*****  149 / 299  *****\n",
      "*****  150 / 299  *****\n",
      "*****  151 / 299  *****\n",
      "*****  152 / 299  *****\n",
      "*****  153 / 299  *****\n",
      "*****  154 / 299  *****\n",
      "*****  155 / 299  *****\n",
      "*****  156 / 299  *****\n",
      "*****  157 / 299  *****\n",
      "*****  158 / 299  *****\n",
      "*****  159 / 299  *****\n",
      "*****  160 / 299  *****\n",
      "*****  161 / 299  *****\n",
      "*****  162 / 299  *****\n",
      "*****  163 / 299  *****\n",
      "*****  164 / 299  *****\n",
      "*****  165 / 299  *****\n",
      "*****  166 / 299  *****\n",
      "*****  167 / 299  *****\n"
     ]
    }
   ],
   "source": [
    "MPdict = {}\n",
    "nMP = len(MPnames)\n",
    "print('totla')\n",
    "for i, name in enumerate(MPnames):\n",
    "#     print('***** ', i, '/', nMP, ' *****')\n",
    "\n",
    "    mp = MPdata(name)\n",
    "    \n",
    "    df = getNewsAbout(name)\n",
    "    mp.save_org(df)\n",
    "    \n",
    "    df_r1 = reduction1(df, name)\n",
    "    mp.save_r1(df_r1)\n",
    "    \n",
    "    text = reduction2(df_r1)\n",
    "    mp.save_text(text)\n",
    "    \n",
    "    MPdict[name] = mp"
   ]
  },
  {
   "cell_type": "code",
   "execution_count": null,
   "id": "012ff3a7",
   "metadata": {},
   "outputs": [],
   "source": []
  },
  {
   "cell_type": "code",
   "execution_count": null,
   "id": "5c608963",
   "metadata": {},
   "outputs": [],
   "source": []
  },
  {
   "cell_type": "code",
   "execution_count": null,
   "id": "4382df5a",
   "metadata": {},
   "outputs": [],
   "source": []
  },
  {
   "cell_type": "code",
   "execution_count": null,
   "id": "6a7dcd3e",
   "metadata": {},
   "outputs": [],
   "source": []
  },
  {
   "cell_type": "code",
   "execution_count": null,
   "id": "c7d78ebf",
   "metadata": {},
   "outputs": [],
   "source": []
  },
  {
   "cell_type": "code",
   "execution_count": null,
   "id": "42684e8c",
   "metadata": {},
   "outputs": [],
   "source": []
  },
  {
   "cell_type": "code",
   "execution_count": null,
   "id": "5cf3b012",
   "metadata": {},
   "outputs": [],
   "source": []
  },
  {
   "cell_type": "code",
   "execution_count": null,
   "id": "2c28c2ea",
   "metadata": {},
   "outputs": [],
   "source": []
  },
  {
   "cell_type": "markdown",
   "id": "3919c893",
   "metadata": {},
   "source": [
    "## 1차 전처리\n",
    "- 한글이외의 것 삭제\n",
    "- 검색어 삭제 (여기선 윤석열)\n",
    "- (title, description)으로 중복 거른다."
   ]
  },
  {
   "cell_type": "code",
   "execution_count": null,
   "id": "efef53f7",
   "metadata": {},
   "outputs": [],
   "source": []
  },
  {
   "cell_type": "markdown",
   "id": "0edd724f",
   "metadata": {},
   "source": [
    "## 2차 전처리\n",
    "- 모든 title description을 하나의 문자열 text로 합친다."
   ]
  },
  {
   "cell_type": "code",
   "execution_count": null,
   "id": "bf61657e",
   "metadata": {},
   "outputs": [],
   "source": []
  },
  {
   "cell_type": "code",
   "execution_count": null,
   "id": "a682471f",
   "metadata": {},
   "outputs": [],
   "source": []
  },
  {
   "cell_type": "markdown",
   "id": "30a90930",
   "metadata": {},
   "source": [
    "# 테스트"
   ]
  },
  {
   "cell_type": "markdown",
   "id": "51513311",
   "metadata": {},
   "source": [
    "## 네이버 API"
   ]
  },
  {
   "cell_type": "markdown",
   "id": "61c0ae28",
   "metadata": {},
   "source": [
    "- https://developers.naver.com/docs/serviceapi/search/news/news.md#%EB%89%B4%EC%8A%A4"
   ]
  },
  {
   "cell_type": "code",
   "execution_count": 184,
   "id": "54219d6e",
   "metadata": {},
   "outputs": [],
   "source": [
    "client_id = \"ISdXTGuV8Tdqx9fNxPgz\"\n",
    "client_secret = \"e2kcexi37t\"\n",
    "\n",
    "encText = urllib.parse.quote(\"윤석열\")\n",
    "display = 100 # 출력건수 (최대)\n",
    "sort = 'sim' # 유사도"
   ]
  },
  {
   "cell_type": "code",
   "execution_count": 185,
   "id": "e820e033",
   "metadata": {},
   "outputs": [],
   "source": [
    "def getDFabout(cat):\n",
    "    url = f'https://openapi.naver.com/v1/search/{cat}?query={encText}&display={display}&sort={sort}'\n",
    "\n",
    "    request = urllib.request.Request(url)\n",
    "    request.add_header(\"X-Naver-Client-Id\",client_id)\n",
    "    request.add_header(\"X-Naver-Client-Secret\",client_secret)\n",
    "\n",
    "    response = urllib.request.urlopen(request)\n",
    "    rescode = response.getcode()\n",
    "\n",
    "    if(rescode==200):\n",
    "        response_body = response.read()\n",
    "        print('Success')\n",
    "    else:\n",
    "        print(\"Error Code:\" + rescode)\n",
    "    data = response_body.decode('utf-8')\n",
    "    data=json.loads(data)\n",
    "    data1 = pd.DataFrame(data['items'])\n",
    "    return data1"
   ]
  },
  {
   "cell_type": "code",
   "execution_count": 186,
   "id": "0771107e",
   "metadata": {},
   "outputs": [
    {
     "name": "stdout",
     "output_type": "stream",
     "text": [
      "Success\n"
     ]
    }
   ],
   "source": [
    "df = getDFabout('news')"
   ]
  },
  {
   "cell_type": "code",
   "execution_count": 187,
   "id": "5cbecb37",
   "metadata": {},
   "outputs": [],
   "source": [
    "pd.options.display.max_colwidth = 20"
   ]
  },
  {
   "cell_type": "code",
   "execution_count": 188,
   "id": "a8d57336",
   "metadata": {},
   "outputs": [
    {
     "data": {
      "text/plain": [
       "Index(['title', 'originallink', 'link', 'description', 'pubDate'], dtype='object')"
      ]
     },
     "execution_count": 188,
     "metadata": {},
     "output_type": "execute_result"
    }
   ],
   "source": [
    "df.columns"
   ]
  },
  {
   "cell_type": "code",
   "execution_count": 189,
   "id": "dcbbe409",
   "metadata": {},
   "outputs": [
    {
     "name": "stdout",
     "output_type": "stream",
     "text": [
      "<class 'pandas.core.frame.DataFrame'>\n",
      "RangeIndex: 100 entries, 0 to 99\n",
      "Data columns (total 5 columns):\n",
      " #   Column        Non-Null Count  Dtype \n",
      "---  ------        --------------  ----- \n",
      " 0   title         100 non-null    object\n",
      " 1   originallink  100 non-null    object\n",
      " 2   link          100 non-null    object\n",
      " 3   description   100 non-null    object\n",
      " 4   pubDate       100 non-null    object\n",
      "dtypes: object(5)\n",
      "memory usage: 4.0+ KB\n"
     ]
    }
   ],
   "source": [
    "df.info()"
   ]
  },
  {
   "cell_type": "code",
   "execution_count": 190,
   "id": "7632d373",
   "metadata": {},
   "outputs": [
    {
     "data": {
      "text/html": [
       "<div>\n",
       "<style scoped>\n",
       "    .dataframe tbody tr th:only-of-type {\n",
       "        vertical-align: middle;\n",
       "    }\n",
       "\n",
       "    .dataframe tbody tr th {\n",
       "        vertical-align: top;\n",
       "    }\n",
       "\n",
       "    .dataframe thead th {\n",
       "        text-align: right;\n",
       "    }\n",
       "</style>\n",
       "<table border=\"1\" class=\"dataframe\">\n",
       "  <thead>\n",
       "    <tr style=\"text-align: right;\">\n",
       "      <th></th>\n",
       "      <th>title</th>\n",
       "      <th>originallink</th>\n",
       "      <th>link</th>\n",
       "      <th>description</th>\n",
       "      <th>pubDate</th>\n",
       "    </tr>\n",
       "  </thead>\n",
       "  <tbody>\n",
       "    <tr>\n",
       "      <th>0</th>\n",
       "      <td>1년 형·언니와 경쟁 등떠밀린...</td>\n",
       "      <td>https://www.hani...</td>\n",
       "      <td>https://n.news.n...</td>\n",
       "      <td>사회적 논란 속에 사실상 폐기...</td>\n",
       "      <td>Fri, 29 Jul 2022...</td>\n",
       "    </tr>\n",
       "    <tr>\n",
       "      <th>1</th>\n",
       "      <td>[속보] &lt;b&gt;윤석열&lt;/b&gt; ...</td>\n",
       "      <td>https://www.hank...</td>\n",
       "      <td>https://n.news.n...</td>\n",
       "      <td>&lt;b&gt;윤석열&lt;/b&gt; 정부의 첫...</td>\n",
       "      <td>Thu, 28 Jul 2022...</td>\n",
       "    </tr>\n",
       "    <tr>\n",
       "      <th>2</th>\n",
       "      <td>경란(警亂) 고비 넘긴 &lt;b&gt;...</td>\n",
       "      <td>http://www.sisaj...</td>\n",
       "      <td>https://n.news.n...</td>\n",
       "      <td>&lt;b&gt;윤석열&lt;/b&gt; 정부의 승...</td>\n",
       "      <td>Fri, 29 Jul 2022...</td>\n",
       "    </tr>\n",
       "    <tr>\n",
       "      <th>3</th>\n",
       "      <td>&lt;b&gt;윤석열&lt;/b&gt; 대통령 직...</td>\n",
       "      <td>https://www.khan...</td>\n",
       "      <td>https://n.news.n...</td>\n",
       "      <td>&lt;b&gt;윤석열&lt;/b&gt; 대통령의 ...</td>\n",
       "      <td>Fri, 29 Jul 2022...</td>\n",
       "    </tr>\n",
       "    <tr>\n",
       "      <th>4</th>\n",
       "      <td>김정은 “위험한 시도 시 &lt;b...</td>\n",
       "      <td>https://news.kbs...</td>\n",
       "      <td>https://n.news.n...</td>\n",
       "      <td>북한 김정은 위원장이 &amp;apo...</td>\n",
       "      <td>Thu, 28 Jul 2022...</td>\n",
       "    </tr>\n",
       "    <tr>\n",
       "      <th>...</th>\n",
       "      <td>...</td>\n",
       "      <td>...</td>\n",
       "      <td>...</td>\n",
       "      <td>...</td>\n",
       "      <td>...</td>\n",
       "    </tr>\n",
       "    <tr>\n",
       "      <th>95</th>\n",
       "      <td>[전문] 김정은, 尹대통령 실...</td>\n",
       "      <td>https://biz.chos...</td>\n",
       "      <td>https://n.news.n...</td>\n",
       "      <td>김정은, 연설서 “&lt;b&gt;윤석열...</td>\n",
       "      <td>Thu, 28 Jul 2022...</td>\n",
       "    </tr>\n",
       "    <tr>\n",
       "      <th>96</th>\n",
       "      <td>직접 소통하던 &lt;b&gt;윤석열&lt;/...</td>\n",
       "      <td>https://www.hani...</td>\n",
       "      <td>https://n.news.n...</td>\n",
       "      <td>&lt;b&gt;윤석열&lt;/b&gt; 대통령의 ...</td>\n",
       "      <td>Thu, 28 Jul 2022...</td>\n",
       "    </tr>\n",
       "    <tr>\n",
       "      <th>97</th>\n",
       "      <td>국기에 경례하는 &lt;b&gt;윤석열&lt;...</td>\n",
       "      <td>https://www.yna....</td>\n",
       "      <td>https://n.news.n...</td>\n",
       "      <td>&lt;b&gt;윤석열&lt;/b&gt; 대통령과 ...</td>\n",
       "      <td>Thu, 28 Jul 2022...</td>\n",
       "    </tr>\n",
       "    <tr>\n",
       "      <th>98</th>\n",
       "      <td>&amp;quot;진작 탈당하길 잘했...</td>\n",
       "      <td>http://www.edail...</td>\n",
       "      <td>https://n.news.n...</td>\n",
       "      <td>이는 앞서 &lt;b&gt;윤석열&lt;/b&gt;...</td>\n",
       "      <td>Thu, 28 Jul 2022...</td>\n",
       "    </tr>\n",
       "    <tr>\n",
       "      <th>99</th>\n",
       "      <td>배현진 &amp;quot;&lt;b&gt;윤석열...</td>\n",
       "      <td>http://www.newsi...</td>\n",
       "      <td>https://n.news.n...</td>\n",
       "      <td>배 최고위원은 “&lt;b&gt;윤석열&lt;...</td>\n",
       "      <td>Fri, 29 Jul 2022...</td>\n",
       "    </tr>\n",
       "  </tbody>\n",
       "</table>\n",
       "<p>100 rows × 5 columns</p>\n",
       "</div>"
      ],
      "text/plain": [
       "                  title         originallink                 link  \\\n",
       "0   1년 형·언니와 경쟁 등떠밀린...  https://www.hani...  https://n.news.n...   \n",
       "1   [속보] <b>윤석열</b> ...  https://www.hank...  https://n.news.n...   \n",
       "2   경란(警亂) 고비 넘긴 <b>...  http://www.sisaj...  https://n.news.n...   \n",
       "3   <b>윤석열</b> 대통령 직...  https://www.khan...  https://n.news.n...   \n",
       "4   김정은 “위험한 시도 시 <b...  https://news.kbs...  https://n.news.n...   \n",
       "..                  ...                  ...                  ...   \n",
       "95  [전문] 김정은, 尹대통령 실...  https://biz.chos...  https://n.news.n...   \n",
       "96  직접 소통하던 <b>윤석열</...  https://www.hani...  https://n.news.n...   \n",
       "97  국기에 경례하는 <b>윤석열<...  https://www.yna....  https://n.news.n...   \n",
       "98  &quot;진작 탈당하길 잘했...  http://www.edail...  https://n.news.n...   \n",
       "99  배현진 &quot;<b>윤석열...  http://www.newsi...  https://n.news.n...   \n",
       "\n",
       "            description              pubDate  \n",
       "0   사회적 논란 속에 사실상 폐기...  Fri, 29 Jul 2022...  \n",
       "1   <b>윤석열</b> 정부의 첫...  Thu, 28 Jul 2022...  \n",
       "2   <b>윤석열</b> 정부의 승...  Fri, 29 Jul 2022...  \n",
       "3   <b>윤석열</b> 대통령의 ...  Fri, 29 Jul 2022...  \n",
       "4   북한 김정은 위원장이 &apo...  Thu, 28 Jul 2022...  \n",
       "..                  ...                  ...  \n",
       "95  김정은, 연설서 “<b>윤석열...  Thu, 28 Jul 2022...  \n",
       "96  <b>윤석열</b> 대통령의 ...  Thu, 28 Jul 2022...  \n",
       "97  <b>윤석열</b> 대통령과 ...  Thu, 28 Jul 2022...  \n",
       "98  이는 앞서 <b>윤석열</b>...  Thu, 28 Jul 2022...  \n",
       "99  배 최고위원은 “<b>윤석열<...  Fri, 29 Jul 2022...  \n",
       "\n",
       "[100 rows x 5 columns]"
      ]
     },
     "execution_count": 190,
     "metadata": {},
     "output_type": "execute_result"
    }
   ],
   "source": [
    "df"
   ]
  },
  {
   "cell_type": "markdown",
   "id": "a246976c",
   "metadata": {},
   "source": [
    "### description 내용 확인"
   ]
  },
  {
   "cell_type": "code",
   "execution_count": 191,
   "id": "4e789bfc",
   "metadata": {},
   "outputs": [
    {
     "data": {
      "text/plain": [
       "0     사회적 논란 속에 사실상 폐기...\n",
       "1     <b>윤석열</b> 정부의 첫...\n",
       "2     <b>윤석열</b> 정부의 승...\n",
       "3     <b>윤석열</b> 대통령의 ...\n",
       "4     북한 김정은 위원장이 &apo...\n",
       "             ...         \n",
       "95    김정은, 연설서 “<b>윤석열...\n",
       "96    <b>윤석열</b> 대통령의 ...\n",
       "97    <b>윤석열</b> 대통령과 ...\n",
       "98    이는 앞서 <b>윤석열</b>...\n",
       "99    배 최고위원은 “<b>윤석열<...\n",
       "Name: description, Length: 100, dtype: object"
      ]
     },
     "execution_count": 191,
     "metadata": {},
     "output_type": "execute_result"
    }
   ],
   "source": [
    "df.description"
   ]
  },
  {
   "cell_type": "code",
   "execution_count": 192,
   "id": "6a34d025",
   "metadata": {},
   "outputs": [],
   "source": [
    "description_len = df.description.apply(lambda x : len(x))"
   ]
  },
  {
   "cell_type": "code",
   "execution_count": 193,
   "id": "32380caa",
   "metadata": {
    "scrolled": false
   },
   "outputs": [
    {
     "data": {
      "text/plain": [
       "count    100.000000\n",
       "mean     128.330000\n",
       "std       21.629131\n",
       "min       81.000000\n",
       "25%      116.750000\n",
       "50%      135.000000\n",
       "75%      140.250000\n",
       "max      166.000000\n",
       "Name: description, dtype: float64"
      ]
     },
     "execution_count": 193,
     "metadata": {},
     "output_type": "execute_result"
    }
   ],
   "source": [
    "description_len.describe() # 길이도.. 제각각..."
   ]
  },
  {
   "cell_type": "code",
   "execution_count": 194,
   "id": "701007e3",
   "metadata": {},
   "outputs": [
    {
     "data": {
      "text/plain": [
       "0     137\n",
       "1     131\n",
       "2     158\n",
       "3     129\n",
       "4     166\n",
       "     ... \n",
       "95    139\n",
       "96    138\n",
       "97     91\n",
       "98    130\n",
       "99    124\n",
       "Name: description, Length: 100, dtype: int64"
      ]
     },
     "execution_count": 194,
     "metadata": {},
     "output_type": "execute_result"
    }
   ],
   "source": [
    "description_len"
   ]
  },
  {
   "cell_type": "code",
   "execution_count": 195,
   "id": "7031fabf",
   "metadata": {},
   "outputs": [],
   "source": [
    "desc = df.description[95]"
   ]
  },
  {
   "cell_type": "code",
   "execution_count": 196,
   "id": "78e5c562",
   "metadata": {},
   "outputs": [
    {
     "name": "stdout",
     "output_type": "stream",
     "text": [
      "김정은, 연설서 “<b>윤석열</b>이 내뱉은 망언과 추태 정확히 기억하고 있다” 국가안보실 “깊은 유감” 김정은... 조선중앙통신에 따르면 김정은은 연설에서 <b>윤석열</b> 정부 출범 이후 처음으로 직접 <b>윤석열</b> 대통령 이름을... "
     ]
    }
   ],
   "source": [
    "for d in desc:\n",
    "    print(d, end=\"\")"
   ]
  },
  {
   "cell_type": "code",
   "execution_count": 197,
   "id": "da281822",
   "metadata": {},
   "outputs": [
    {
     "data": {
      "text/plain": [
       "'을... '"
      ]
     },
     "execution_count": 197,
     "metadata": {},
     "output_type": "execute_result"
    }
   ],
   "source": [
    "desc[len(desc)-5:] # ...은 출력이 생략된게 아니라 이런 문자열이었음 젠장"
   ]
  },
  {
   "cell_type": "code",
   "execution_count": 198,
   "id": "2bfbd756",
   "metadata": {},
   "outputs": [
    {
     "name": "stdout",
     "output_type": "stream",
     "text": [
      "********** 0 **********\n",
      "사회적 논란 속에 사실상 폐기된 정책을 <b>윤석열</b> 정부가 다시 꺼내들었다. 1949년 최초 제정된 교육법... 이른바 ‘<b>윤석열</b> 세대’ ‘박순애 세대’의 탄생이다. 박순애 사회부총리 겸 교육부장관은 29일 초등학교 입학... \n",
      "********** 1 **********\n",
      "<b>윤석열</b> 정부의 첫 대법관 후보로 오석준(60·사법연수원 19기) 제주지방법원장이 선정됐다. 대법원은 김명수 대법원장이 <b>윤석열</b> 대통령에게 오는 9월 퇴임 예정인 김재형 대법관의 후임으로 오 법원장의 임명을... \n",
      "********** 2 **********\n",
      "<b>윤석열</b> 정부의 승리, 경찰의 패배라고 말할 수 있을까. 모두가 졌다. 엠브레인퍼블릭, 케이스탯리서치... <b>윤석열</b> 대통령 국정운영에 대한 부정평가는 54%로 집계됐는데, &apos;독단적이고 일방적이어서&apos;가 30%를 차지했다. &quot;행안부... \n",
      "********** 3 **********\n",
      "<b>윤석열</b> 대통령의 직무수행 긍정율이 28%를 기록했다는 여론조사결과가 29일 나왔다. 취임 80일 만에 직무수행 긍정률이 30% 밑으로 떨어졌다. 부정평가가 긍정평가를 웃도는 ‘데드크로스’에 이어 30% 지지율마저... \n",
      "********** 4 **********\n",
      "북한 김정은 위원장이 &apos;선제 타격&apos; 등 <b>윤석열</b> 정부 대북 정책에 대해 강력하게 반발하고 나섰습니다. 김... 연설에 나선 김 위원장은 &apos;선제 타격&apos; 등 <b>윤석열</b> 정부의 정책과 관련해 &quot;그러한 위험한 시도는 즉시 강력한 힘에... \n",
      "********** 5 **********\n",
      "<b>윤석열</b> 대통령이 29일 서울 용산 대통령실 청사에서 열린 주한대사 신임장 제정식에서 에르덴촉트 사랑터거스 주한 몽골 대사로부터 신임장을 받은 뒤 차담하고 있다. (대통령실통신사진기자단) 2022.07.29. yesphoto... \n",
      "********** 6 **********\n",
      "<b>윤석열</b> 대통령과 김건희 여사가 28일 오전 울산시 현대중공업에서 열린 차세대 이지스구축함 정조대왕함 안전항해 기원식을 마친 뒤 장병들을 향해 손을 흔들고 있다. [사진=연합뉴스] ◇<b>윤석열</b> 대통령, 정도대왕함 진수식... \n",
      "********** 7 **********\n",
      "<b>윤석열</b> 대통령의 배우자 김건희 여사 팬클럽인 &apos;건희사랑&apos; 회장을 맡았던 강신업 변호사가 28일 자리에서... 김건희 여사와 <b>윤석열</b> 대통령을 지켜야 하지만 오히려 물러남으로서 더 큰 것을 얻을 수 있다고 생각한다&quot;며... \n",
      "********** 8 **********\n",
      "핵심요약 &quot;우리는 <b>윤석열</b>이 내뱉은 망언들·추태들 정확히 기억한다&quot; &quot;우리 군사력 무력화시킬 수 있다고... 김정은, <b>윤석열</b> 대통령 직책도 빼고 강도높은 실명 비난 전문가 &quot;김정은의 대남불신의 정도를 가늠케 하는 연설... \n",
      "********** 9 **********\n",
      "중국이 <b>윤석열</b> 정부 출범 후 두 달 정도 관망하더니 최근 들어 자국 이해관계가 걸린 사안에 대해 부쩍 요구... 중국이 <b>윤석열</b> 정부 출범 후 사드 3불 유지를 공개적으로 요구한 건 이번이 처음입니다. 사드 3불은 문재인... \n",
      "********** 10 **********\n",
      "<b>윤석열</b> 대통령이 28일 정조대왕함 진수식을 주관했다. 윤 대통령은 이날 오전 울산 현대중공업에서 열린 해군의 차세대 이지스구축함 제1번함인 &apos;정조대왕함&apos; 진수식에 부인 김건희 여사와 함께 참석했다. 윤 대통령은... \n",
      "********** 11 **********\n",
      "<b>윤석열</b> 대통령이 29일 서울 용산 대통령실 청사에서 열린 주한대사 신임장 제정식에서 에르덴촉트 사랑터거스 주한 몽골 대사로부터 신임장을 받은 뒤 차담하고 있다. (대통령실통신사진기자단) 2022.07.29. yesphoto... \n",
      "********** 12 **********\n",
      "<b>윤석열</b> 대통령이 29일 서울 용산 대통령실 청사에서 열린 주한대사 신임장 제정식에서 필립 골드버그 주한 미국 대사로부터 신임장을 받은 뒤 차담하고 있다. (대통령실통신사진기자단) 2022.07.29. yesphoto@newsis.com... \n",
      "********** 13 **********\n",
      "<b>윤석열</b> 대통령이 29일 서울 용산 대통령실 청사에서 열린 주한대사 신임장 제정식에서 필립 골드버그 주한 미국 대사로부터 신임장을 받은 뒤 차담하고 있다. (대통령실통신사진기자단) 2022.07.29. yesphoto@newsis.com... \n",
      "********** 14 **********\n",
      "<b>윤석열</b> 대통령이 29일 서울 용산 대통령실 청사에서 열린 주한대사 신임장 제정식에서 마티아스 프랑케 슈나바흐 주한 칠레 대사로부터 신임장을 받은 뒤 차담하고 있다. (대통령실통신사진기자단) 2022.07.29.... \n",
      "********** 15 **********\n",
      "<b>윤석열</b> 대통령이 29일 서울 용산 대통령실 청사에서 열린 주한대사 신임장 제정식에서 마티아스 프랑케 슈나바흐 주한 칠레 대사로부터 신임장을 받은 뒤 차담하고 있다. (대통령실통신사진기자단) 2022.07.29.... \n",
      "********** 16 **********\n",
      "<b>윤석열</b> 정부의 국정과제인 &apos;국가교육책임제 강화&apos;에 따라 의무교육 시점을 1년 앞당기겠다는 것이다. 영유아(0~5세) 단계의 국가 책임 교육을 위해 유치원과 어린이집을 합치는 &apos;유보통합&apos;도 추진한다. 박순애 사회부총리... \n",
      "********** 17 **********\n",
      "<b>윤석열</b> 대통령이 29일 서울 용산 대통령실 청사에서 열린 주한대사 신임장 제정식에서 데시 달키 주한 에티오피아 대사로부터 신임장을 받은 뒤 차담하고 있다. (대통령실통신사진기자단) 2022.07.29. yesphoto@newsis.... \n",
      "********** 18 **********\n",
      "<b>윤석열</b> 대통령이 29일 서울 용산 대통령실 청사에서 열린 주한대사 신임장 제정식에서 에르덴촉트 사랑터거스 주한 몽골 대사로부터 신임장을 받고 있다. (대통령실통신사진기자단) 2022.07.29. yesphoto@newsis.com... \n",
      "********** 19 **********\n",
      "<b>윤석열</b> 대통령이 29일 서울 용산 대통령실 청사에서 열린 주한대사 신임장 제정식에서 마티아스 프랑케 슈나바흐 주한 칠레 대사로부터 신임장을 받고 있다. (대통령실통신사진기자단) 2022.07.29. yesphoto@newsis.com... \n",
      "********** 20 **********\n",
      "박지원 전 국가정보원장은 <b>윤석열</b> 대통령이 ‘내부 총질’ 문자 파문과 관련해 권성동 국민의힘 대표... 박 전 원장은 “내일 모레 (윤 대통령) 취임 100일인데, <b>윤석열</b> 정부 한 게 뭐냐. 용산으로 청와대 이전하고 개편한 것... \n",
      "********** 21 **********\n",
      "기간임에도 <b>윤석열</b> 정부에 대한 여론은 좋지 않다. 최근의 여론조사를 종합하면 집권 초기라고 믿어지지 않을 정도로 매우 낮은 지지율을 기록하고 있다. 그간 우호적 입장을 보였던 보수 언론들조차 <b>윤석열</b> 정부의... \n",
      "********** 22 **********\n",
      "대법원은 김명수 대법원장이 <b>윤석열</b> 대통령에게 오는 9월 퇴임 예정인 김재형 대법관의 후임으로 오석준(60·사법연수원 19기) 제주지방법원장의 임명을 제청했다고 28일 밝혔다. 오 법원장이 대법관이 되면 <b>윤석열</b>... \n",
      "********** 23 **********\n",
      "<b>윤석열</b> 대통령이 29일 서울 용산 대통령실 청사에서 열린 주한대사 신임장 제정식에서 필립 골드버그 주한 미국 대사로부터 신임장을 받은 뒤 기념촬영을 하고 있다. 오른쪽은 박진 외교부 장관.... \n",
      "********** 24 **********\n",
      "<b>윤석열</b> 대통령이 29일 서울 용산 대통령실 청사에서 열린 주한대사 신임장 제정식에서 필립 골드버그 주한 미국 대사로부터 신임장을 받은 뒤 기념촬영을 하고 있다. 오른쪽은 박진 외교부 장관.... \n",
      "********** 25 **********\n",
      "<b>윤석열</b> 대통령이 29일 서울 용산 대통령실 청사에서 열린 주한대사 신임장 제정식에서 필립 골드버그 주한 미국 대사로부터 신임장을 받은 뒤 박진 외교부 장관, 앤드류 헤럽 공사참사관 등 수행원과 기념촬영을... \n",
      "********** 26 **********\n",
      "<b>윤석열</b> 대통령이 29일 서울 용산 대통령실 청사에서 열린 주한대사 신임장 제정식에서 데시 달키 주한 에티오피아 대사로부터 신임장을 받고 있다. (대통령실통신사진기자단) 2022.07.29. yesphoto@newsis.com 공감언론... \n",
      "********** 27 **********\n",
      "<b>윤석열</b> 대통령이 29일 정부서울청사에서 코로나19 중앙재난안전대책본부 회의를 주재했다. 윤 대통령은 &quot;최근 전파력이 강하고 면역 회피 특성이 있는 변이 바이러스가 확산 중이고, 재유행이 예상보다 빠르게 진행되고... \n",
      "********** 28 **********\n",
      "<b>윤석열</b> 대통령이 29일 서울 용산 대통령실 청사에서 열린 주한대사 신임장 제정식에서 필립 골드버그 주한 미국 대사로부터 신임장을 받은 뒤 기념촬영을 하고 있다. 오른쪽은 박진 외교부 장관.... \n",
      "********** 29 **********\n",
      "보여준 <b>윤석열</b> 정부의 민낯&quot;이라며 이같이 말했다. 이어 &quot;국정지지율 28%&quot;이라며 &quot;묘역에서 만난 한 분이 제게 간곡히 말씀하신다&quot;라고 전했다. 그러면서 &quot;이렇게 힘들게 만든 민주주의가 우리 눈앞에서 무너지는 게 보이는... \n",
      "********** 30 **********\n",
      "&apos;운석열-권성동 내부총질 문자사태&apos; 후폭풍이 걷잡을 수 없이 확산되고 있다. 국민의힘 초선의원 32명은 지난 29일 권성동 당대표 직무대행 겸 원내대표의 사실상 &apos;원톱 체제&apos;로 운영 중인 현 지도체제를 비상대책위원회... \n",
      "********** 31 **********\n",
      "<b>윤석열</b> 대통령이 29일 서울 용산 대통령실 청사에서 열린 주한대사 신임장 제정식에서 마티아스 프랑케 슈나바흐 주한 칠레 대사로부터 신임장을 받은 뒤 기념촬영을 하고 있다. 오른쪽은 박진 외교부 장관.... \n",
      "********** 32 **********\n",
      "<b>윤석열</b> 대통령이 29일 서울 용산 대통령실 청사에서 열린 주한대사 신임장 제정식에서 에르덴촉트 사랑터거스 주한 몽골 대사로부터 신임장을 받은 뒤 기념촬영을 하고 있다. 오른쪽은 박진 외교부 장관.... \n",
      "********** 33 **********\n",
      "중국이 <b>윤석열</b> 정부 출범 후 두 달 정도 관망하더니 최근 들어 자국 이해관계가 걸린 사안에 대해 부쩍 요구... 중국이 <b>윤석열</b> 정부 출범 후 사드 3불 유지를 공개적으로 요구한 건 이번이 처음입니다. 사드 3불은 문재인... \n",
      "********** 34 **********\n",
      "<b>윤석열</b> 대통령이 29일 서울 용산 대통령실 청사에서 열린 주한대사 신임장 제정식에서 데시 달키 주한 에티오피아 대사로부터 신임장을 받은 뒤 차담하고 있다. (대통령실통신사진기자단) 2022.07.29. yesphoto@newsis.... \n",
      "********** 35 **********\n",
      "김정은 북한 국무위원장이 28일 <b>윤석열</b> 정부의 대북 군사정책에 대해 “그러한 위험한 시도는 즉시 강력한 힘에 의해 응징될 것이며 <b>윤석열</b> 정권과 그의 군대는 전멸될 것”이라고 강하게 비난했다. 김 위원장이 <b>윤석열</b>... \n",
      "********** 36 **********\n",
      "박홍근 더불어민주당 원내대표는 28일 “대통령실이 극우 유튜버들의 일자리가 되고 있다”며 “<b>윤석열</b>... 인물이 <b>윤석열</b> 대통령실에서 근무하고 있다는 사실은 너무나 충격적”이라고 말했다. 박 원내대표는 “강씨는... \n",
      "********** 37 **********\n",
      "<b>윤석열</b> 대통령이 29일 서울 세종로 정부서울청사에서 열린 코로나19 중앙재난안전대책본부 회의를 주재하고 있다. [사진=연합뉴스] ◇尹대통령 &quot;일상 회복 기조 아래 코로나19 위중증과 사망 최소화&quot; <b>윤석열</b> 대통령은 29일... \n",
      "********** 38 **********\n",
      "<b>윤석열</b> 대통령이 29일 서울 용산 대통령실 청사에서 열린 주한대사 신임장 제정식에서 데시 달키 주한 에티오피아 대사로부터 신임장을 받은 뒤 기념촬영을 하고 있다. 오른쪽은 박진 외교부 장관.... \n",
      "********** 39 **********\n",
      "김정은 북한 국무위원장이 <b>윤석열</b> 정부의 이른바 &apos;선제타격&apos; 등 대북 군사정책에 대해 &quot;그러한 위험한 시도는 즉시 강력한 힘에 의해 응징될 것이며, <b>윤석열</b> 정권과 군대는 전멸될 것&quot;이라고 강하게 비난했습니다. 또... \n",
      "********** 40 **********\n",
      "북한 김정은 위원장이 &apos;선제 타격&apos; 등 <b>윤석열</b> 정부 대북 정책에 대해 강력하게 반발하고 나섰습니다. 김... 연설에 나선 김 위원장은 &apos;선제 타격&apos; 등 <b>윤석열</b> 정부의 정책과 관련해 &quot;그러한 위험한 시도는 즉시 강력한 힘에... \n",
      "********** 41 **********\n",
      "<b>윤석열</b> 정부가 자율형사립고(자사고)를 유지하기로 했다. 반면, 문재인 정부에서 일반고등학교로 전환하기로... 박순애 사회부총리 겸 교육부 장관은 29일 새 정부 업무계획을 <b>윤석열</b> 대통령에게 보고하기에 앞서 열린... \n",
      "********** 42 **********\n",
      "문재인 정부의 청와대를 출입했던 정치부 기자가 당시의 취재 뒷얘기를 풀어낸 &lt;조국의 시간, <b>윤석열</b>의 시간... △제20대 대통령 선거를 되돌아보며 △바라볼 ‘대통령 <b>윤석열</b>’의 시간 △청와대 출입기자가 본 조국의... \n",
      "********** 43 **********\n",
      "김정은 북한 국무위원장은 <b>윤석열</b> 정부를 향해 &quot;위험한 시도는 즉시 강력한 힘에 의해 응징될 것이며 <b>윤석열</b> 정권과 그의 군대는 전멸될 것&quot;이라고 위협했습니다. 이는 <b>윤석열</b> 정부의 &apos;선제타격&apos; 등 대북 군사 정책을... \n",
      "********** 44 **********\n",
      "<b>윤석열</b> 정부가 임명하는 첫 대법관 후보자 최종 1인에 오석준 제주지방법원장이 낙점됐습니다. 김명수 대법원장은 오늘(28일) <b>윤석열</b> 대통령에게 퇴임 예정인 김재형 대법관의 후임으로 오석준 제주지법원장을... \n",
      "********** 45 **********\n",
      "<b>윤석열</b> 대통령과 김건희 여사가 28일 오전 울산시 현대중공업에서 열린 차세대 이지스구축함 정조대왕함 진수식에서 진수줄을 자른 뒤 박수를 치고 있다. . 2022.7.28\n",
      "********** 46 **********\n",
      "<b>윤석열</b> 정부가 임명할 첫 대법관 후보로 오석준(60·사법연수원 19기) 제주지방법원장이 선정됐다. 대법원은 김명수 대법원장이 <b>윤석열</b> 대통령에게 대법관후보추천위원회 추천 3명의 신임 대법관 후보 가운데 오 법원장의... \n",
      "********** 47 **********\n",
      "북한 김정은 국무위원장이 <b>윤석열</b> 정부의 대북 군사정책에 대해 &quot;위험한 시도는 즉시 강력한 힘에 의해 응징될 것이며 <b>윤석열</b> 정권과 그의 군대는 전멸될 것&quot;이라고 위협했다. 김 위원장이 <b>윤석열</b> 대통령의 실명을... \n",
      "********** 48 **********\n",
      "김정은 북한 노동당 총비서는 남한이 북한에 대한 선제타격을 시도한다면 <b>윤석열</b> 정부는 전멸될 것이라고... 것이며 <b>윤석열</b> 정권과 군대는 전멸될 것이라고 주장했습니다. 김 총비서는 또, 더이상 <b>윤석열</b> 대통령과 남한... \n",
      "********** 49 **********\n",
      "[이앤피] 임은정 &quot;<b>윤석열</b> 보스 스타일, 싫은 소리하면 안 만나&quot; - 검사들 집단행동 경찰보다 더 위험 - 검찰 권한은 절대반지, 반지원정대는 계속될 것 - 징계 선배로서 <b>윤석열</b> 조언, 싫은 소리하면 안 만나 보스 스타일 - 정치... \n",
      "********** 50 **********\n",
      "김정은 북한 국무위원장은 선제 타격 등 <b>윤석열</b> 정부의 대북 정책과 관련해 &quot;위험한 시도를 할 경우 <b>윤석열</b> 정권과 군대는 전멸할 것&quot;이라고 반발했습니다. 김 위원장이 <b>윤석열</b> 정부에 대해 직접 입장을 내놓은 건 이번이... \n",
      "********** 51 **********\n",
      "29일 <b>윤석열</b> 정부가 문재인 정부 시절 임명된 전현희 국민권익위원장과 한상혁 방송통신위원장을 교체하기 위해 감사원의 감사 등 다각적 압력이 동원되고 있다며 &quot;민생에 전념하라&quot;고 비판했다. 또 <b>윤석열</b> 대통령이 이준석... \n",
      "********** 52 **********\n",
      "한국갤럽이 지난 26~28일 <b>윤석열</b> 대통령의 직무 수행 평가를 조사한 결과 긍정 평가는 28%, 부정 평가는 62%로 나타났다. 어느 쪽도 아니다는 3%, 모름/응답거절은 8%였다. (그래픽=안지혜 기자) hokma@newsis.com [사진 영상... \n",
      "********** 53 **********\n",
      "<b>윤석열</b> 대통령이 29일 오전 서울 서대문구 신촌지구대를 방문해 치안을 점검하고 일선 경찰관들을 격려했다. 윤 대통령은 이날 오전 10시 30분께 신촌지구대에 도착해 현장에 근무하는 경찰관들과 인사를 나누고 관내 치안... \n",
      "********** 54 **********\n",
      "북한 김정은 위원장이 <b>윤석열</b> 대통령 이름을 처음으로 직접 거론하며 비난을 퍼부었습니다. <b>윤석열</b> 정권과 군대는 전멸될거라고 협박한건데요. 새정부 출범 이후 한미동맹이 복원되면서 위기감이 커진 김 위원장이 압박... \n",
      "********** 55 **********\n",
      "김정은 북한 국무위원장이 <b>윤석열</b> 정부를 향해 “위험한 시도는 강력한 힘에 의해 응징될 것이며 <b>윤석열</b> 정권과 그의 군대는 전멸될 것”이라며 위협했다. 김 위원장이 윤 대통령 이름을 거론해 비난하고 직접 대남 기조를... \n",
      "********** 56 **********\n",
      "☞한겨레S 뉴스레터 구독하기 https://bit.ly/319DiiE 정부가 중산층과 서민의 부담을 덜어주겠다며 대대적인 감세안을 발표했다. 근로소득세, 법인세, 종합부동산세 모두 깎아주겠다고 나섰다. 근로소득세의 경우 연간 최고... \n",
      "********** 57 **********\n",
      "걷어내겠다는 <b>윤석열</b> 정부의 규제개혁 의지가 그 어느 정부보다 강하다고 합니다. 오늘 첫 번째 결과물을... <b>윤석열</b> 정부 규제 개혁에 의지가 강한 것으로 알려졌는데. 첫 번째 결과물이 나왔습니다. 1차 과제가 발표됐는데... \n",
      "********** 58 **********\n",
      "‘전승절’ 69주년 행사서 연설…대남·대미 강력 비난 美엔 “어떤 군사적 충돌에도 대처할 철저한 준비” 김정은 북한 국무위원장은 27일 <b>윤석열</b> 정부의 대북정책에 대해, ‘선제 타격’에 나설 경우 “<b>윤석열</b> 정권과 그의... \n",
      "********** 59 **********\n",
      "<b>윤석열</b> 대통령이 29일 오후 서울 용산 대통령실 청사에서 열린 주한대사 신임장 제정식에서 에르덴촉트 사랑터거스 주한 몽골대사로부터 신임장을 받고 있다. 2022.7.29\n",
      "********** 60 **********\n",
      "<b>윤석열</b> 대통령이 29일 오후 서울 용산 대통령실 청사에서 열린 주한대사 신임장 제정식에서 마티아스 프랑케 슈나바흐 주한 칠레대사로부터 신임장을 받고 있다. 2022.7.29\n",
      "********** 61 **********\n",
      "= <b>윤석열</b> 대통령과 조코 위도도 인도네시아 대통령, 김건희 여사가 28일 오후 용산 대통령실에서 열린 공식 만찬에서 건배를 하고 있다. 대통령실사진기자단 2022.7.28/뉴스1\n",
      "********** 62 **********\n",
      "특히 김 위원장은 <b>윤석열</b> 대통령을 직함 없이 이름으로만 부르며 “<b>윤석열</b>이 집권 전후 내뱉은 망언과 추태들을 정확히 기억하고 있다”고 말했다. 조선중앙통신에 따르면 김 위원장은 27일 전승절(정전협정 체결일) 69주년... \n",
      "********** 63 **********\n",
      "국무위원장이 <b>윤석열</b>정부가 대북 선제타격 등 강경한 태도로 나설 경우 “전멸될 것”이라고 강하게... 것이며 <b>윤석열</b> 정권과 그의 군대는 전멸될 것”이라고 위협했다 김 위원장이 직접 <b>윤석열</b> 대통령의 호칭을 생략하고... \n",
      "********** 64 **********\n",
      "<b>윤석열</b> 정부의 대북정책을 강하게 비난하고 나섰습니다. 위험한 시도를 할 경우 윤 정권과 군대는 전멸될 것이라고 위협했는데요. 자세한 소식 취재기자 연결해 알아보겠습니다. 홍주예 기자! 김 위원장이 직접 <b>윤석열</b>... \n",
      "********** 65 **********\n",
      "<b>윤석열</b> 대통령이 29일 오전 서울 세종로 정부서울청사에서 열린 코로나19 중앙재난안전대책본부 회의에 입장하며 이상민 행정안전부 장관과 악수하고 있다. (대통령실통신사진기자단) 2022.07.29. yesphoto@newsis.com... \n",
      "********** 66 **********\n",
      "<b>윤석열</b> 대통령이 29일 오전 서울 서대문구 신촌지구대를 방문, 폭염 속 민생치안 활동에 여념이 없는 경찰관들을 격려하고 있다. 2022.7.29.\n",
      "********** 67 **********\n"
     ]
    },
    {
     "name": "stdout",
     "output_type": "stream",
     "text": [
      "<b>윤석열</b> 대통령이 29일 오전 서울 세종로 정부서울청사에서 열린 코로나19 중앙재난안전대책본부 회의에 입장하며 이상민 행정안전부 장관과 악수하고 있다. (대통령실통신사진기자단) 2022.07.29. yesphoto@newsis.com... \n",
      "********** 68 **********\n",
      "<b>윤석열</b> 대통령이 29일 오전 서울 세종로 정부서울청사에서 열린 코로나19 중앙재난안전대책본부 회의에 참석해 이상민 행정안전부 장관과 대화하고 있다. (대통령실통신사진기자단) 2022.07.29. yesphoto@newsis.com... \n",
      "********** 69 **********\n",
      "<b>윤석열</b> 대통령과 김건희 여사가 28일 오전 울산시 현대중공업에서 열린 차세대 이지스구축함 정조대왕함 진수식에 입장하고 있다. 2022.7.28\n",
      "********** 70 **********\n",
      "<b>윤석열</b> 대통령이 29일 오전 서울 서대문구 신촌지구대를 방문, 경찰들과 업무 관련 대화를 하고 있다. 2022.7.29 [대통령실 제공. 재판매 및 DB금지]\n",
      "********** 71 **********\n",
      "<b>윤석열</b> 대통령과 김건희 여사가 28일 오전 울산시 현대중공업에서 열린 차세대 이지스구축함 정조대왕함 안전항해 기원식을 마친 뒤 장병들을 향해 손을 흔들고 있다. 2022.7.28\n",
      "********** 72 **********\n",
      "<b>윤석열</b> 대통령이 29일 오전 서울 세종로 정부서울청사에서 열린 코로나19 중앙재난안전대책본부 회의를 주재하고 있다. 2022.7.29\n",
      "********** 73 **********\n",
      "<b>윤석열</b> 대통령이 29일 오전 서울 서대문구 신촌지구대를 방문, 폭염 속 민생치안 활동에 여념이 없는 경찰관들과 환담에 앞서 인사하고 있다. 2022.7.29.\n",
      "********** 74 **********\n",
      "<b>윤석열</b> 대통령과 김건희 여사가 28일 오전 울산시 현대중공업에서 열린 차세대 이지스구축함 정조대왕함 안전항해 기원식을 마친 뒤 장병들을 향해 손을 흔들고 있다. 2022.7.28\n",
      "********** 75 **********\n",
      "<b>윤석열</b> 대통령이 29일 오전 서울 세종로 정부서울청사에서 열린 코로나19 중앙재난안전대책본부 회의에서 발언을 하고 있다. 2022.7.29\n",
      "********** 76 **********\n",
      "지난 5월에 임명된 신자용 검찰국장은 <b>윤석열</b> 사단의 핵심 인물로 꼽히고 있다는 점만 봐도 그렇다. 또한... <b>윤석열</b> 정부는 공직자 인사검증 기능을 법무부로 이관하면서 정부조직법 대신 시행령 개정으로 우회해 국회의... \n",
      "********** 77 **********\n",
      "<b>윤석열</b> 대통령이 29일 오전 서울 서대문구 신촌지구대를 방문, 폭염 속 민생치안 활동에 여념이 없는 경찰관들과 환담하고 있다. 2022.7.29.\n",
      "********** 78 **********\n",
      "<b>윤석열</b> 대통령이 29일 오전 서울 세종로 정부서울청사에서 열린 코로나19 중앙재난안전대책본부 회의에서 발언을 하고 있다. 2022.7.29\n",
      "********** 79 **********\n",
      "김정은 북한 국무위원장은 28일 <b>윤석열</b> 정부의 ‘선제타격’ 등 대북 군사 정책과 관련, “그러한 위험한 시도는 즉시 강력한 힘에 의해 응징될 것이며 <b>윤석열</b> 정권과 그의 군대는 전멸될 것”이라고 강력히 반발했다. 김... \n",
      "********** 80 **********\n",
      "<b>윤석열</b> 대통령이 29일 오후 서울 용산 대통령실 청사에서 열린 주한대사 신임장 제정식에서 데시 달키 두카모 주한 에티오피아대사로부터 신임장을 받은 뒤 기념촬영을 하고 있다. 오른쪽은 박진 외교부 장관.2022.7.29\n",
      "********** 81 **********\n",
      "<b>윤석열</b> 대통령이 29일 서울 서대문경찰서 신촌지구대를 방문해 업무 현황을 보고 받고 있다. 2022.07.29. yesphoto@newsis.com 공감언론 뉴시스가 독자 여러분의 소중한 제보를 기다립니다. 뉴스 가치나 화제성이... \n",
      "********** 82 **********\n",
      "<b>윤석열</b> 대통령이 29일 오전 서울 세종로 정부서울청사에서 열린 코로나19 중앙재난안전대책본부 회의에서 발언을 하고 있다. 2022.7.29\n",
      "********** 83 **********\n",
      "<b>윤석열</b> 대통령과 김건희 여사가 28일 오전 울산시 현대중공업에서 열린 차세대 이지스 구축함 정조대왕함 진수식이 끝난 뒤 승조원들과 인사하고 있다. 2022.7.28 [대통령실 제공. 재판매 및 DB 금지]\n",
      "********** 84 **********\n",
      "<b>윤석열</b> 대통령은 오늘(29일) 교육부로부터 업무 보고를 받습니다. 윤 대통령은 오늘 오후 용산 대통령실 집무실에서 박순애 사회부총리 겸 교육부 장관으로부터 부처 핵심 정책·국정과제 등 업무 추진계획을 보고받습니다.... \n",
      "********** 85 **********\n",
      "<b>윤석열</b> 대통령과 김건희 여사가 28일 오전 울산시 현대중공업에서 열린 차세대 이지스구축함 정조대왕함 안전항해 기원식을 마친 뒤 장병들을 향해 손을 흔들고 있다. 2022.7.28\n",
      "********** 86 **********\n",
      "<b>윤석열</b> 대통령이 29일 오전 서울 서대문구 신촌지구대를 방문, 경찰들과 업무 관련 대화를 하고 있다. 2022.7.29 [대통령실 제공. 재판매 및 DB금지]\n",
      "********** 87 **********\n",
      "<b>윤석열</b> 대통령과 부인 김건희 여사가 28일 울산 현대중공업에서 열린 정조대왕함 진수식에서 안전항해 기원의식인 샴페인 브레이킹을 마친 뒤 손을 흔들고 있다. 2022.07.28. photo1006@newsis.com 공감언론 뉴시스가... \n",
      "********** 88 **********\n",
      "<b>윤석열</b> 대통령이 29일 오전 서울 세종로 정부서울청사에서 열린 코로나19 중앙재난안전대책본부 회의를 주재하고 있다. 2022.7.29\n",
      "********** 89 **********\n",
      "이는 <b>윤석열</b> 대통령이 이준석 대표를 &apos;내부총질이나 하던 당대표&apos;라고 지칭한 문자 메시지가 공개된 데 대한 발언인 것으로 해석됩니다. 김 전 대변인은 오늘(28일) 자신의 페이스북에 &quot;지난해 난생 처음 정당에 가입했었다... \n",
      "********** 90 **********\n",
      "<b>윤석열</b> 대통령이 29일 오전 서울 세종로 정부서울청사에서 열린 코로나19 중앙재난안전대책본부 회의에서 발언을 한 뒤 자료를 살피고 있다. 2022.7.29\n",
      "********** 91 **********\n",
      "<b>윤석열</b> 대통령과 김건희 여사가 28일 오전 울산시 현대중공업에서 열린 차세대 이지스구축함 정조대왕함 진수식에서 국기에 경례하고 있다. 2022.7.28\n",
      "********** 92 **********\n",
      "<b>윤석열</b> 대통령이 29일 오전 서울 세종로 정부서울청사에서 열린 코로나19 중앙재난안전대책본부 회의에서 발언을 하고 있다. 2022.7.29\n",
      "********** 93 **********\n",
      "김정은 북한 국무위원장이 <b>윤석열</b> 정부가 대북 선제타격 등을 시도할 경우 정권과 군대를 전멸할 것이라고 강도 높게 위협했다. <b>윤석열</b> 정부 출범 이후 김 위원장이 직함 없이 윤 대통령을 직접 비난하고 한국 정부에 대해... \n",
      "********** 94 **********\n",
      "<b>윤석열</b> 대통령이 취임 후 처음으로 임명하게 되는 대법관 후보다. 김 대법원장은 대법관 후보추천위원회가 추천한 3명의 후보자 중 오 원장을 대법관으로 임명해달라고 이날 윤 대통령에게 제청했다. 오 원장은 9월... \n",
      "********** 95 **********\n",
      "김정은, 연설서 “<b>윤석열</b>이 내뱉은 망언과 추태 정확히 기억하고 있다” 국가안보실 “깊은 유감” 김정은... 조선중앙통신에 따르면 김정은은 연설에서 <b>윤석열</b> 정부 출범 이후 처음으로 직접 <b>윤석열</b> 대통령 이름을... \n",
      "********** 96 **********\n",
      "<b>윤석열</b> 대통령의 업무보고 연기는 벌써 세번째다. 지난 20일 여성가족부, 21일 통일부 업무보고를 연기하면서... 앞서 지난 26일 ‘이준석 대표가 내부 총질 한다’는 <b>윤석열</b> 대통령의 불편한 감정이 텔레그램 메시지를... \n",
      "********** 97 **********\n",
      "<b>윤석열</b> 대통령과 김건희 여사가 28일 오전 울산시 현대중공업에서 열린 차세대 이지스구축함 정조대왕함 진수식에서 국기에 경례하고 있다. 2022.7.28\n",
      "********** 98 **********\n",
      "이는 앞서 <b>윤석열</b> 대통령과 권성동 국민의힘 당대표 직무대행 겸 원내대표 사이의 ‘문자 파동’이 발단이 된 것으로 보인다. 김연주 전 국민의힘 상근부대변인, (사진=연합뉴스) 28일 김 전 대변인은 자신의 페이스북을... \n",
      "********** 99 **********\n",
      "배 최고위원은 “<b>윤석열</b> 정부가 5월에 출범한 이후에 국민들께서 저희에게 많은 기대와 희망으로 잘 해보라는 바람을 심어주셨는데 저희가 80여일 되도록 속 시원한 모습으로 국민들께 그 기대감을 충족시켜드리지... \n"
     ]
    }
   ],
   "source": [
    "for i, desc in enumerate(df.description):\n",
    "    print(\"*\"*10, i, \"*\"*10)\n",
    "    for d in desc:\n",
    "        print(d, end=\"\")\n",
    "    print()"
   ]
  },
  {
   "cell_type": "code",
   "execution_count": 199,
   "id": "69cb273b",
   "metadata": {},
   "outputs": [
    {
     "data": {
      "text/plain": [
       "'사회적 논란 속에 사실상 폐기된 정책을 <b>윤석열</b> 정부가 다시 꺼내들었다. 1949년 최초 제정된 교육법... 이른바 ‘<b>윤석열</b> 세대’ ‘박순애 세대’의 탄생이다. 박순애 사회부총리 겸 교육부장관은 29일 초등학교 입학... '"
      ]
     },
     "execution_count": 199,
     "metadata": {},
     "output_type": "execute_result"
    }
   ],
   "source": [
    "df.description[0]"
   ]
  },
  {
   "cell_type": "code",
   "execution_count": 202,
   "id": "bcee90a4",
   "metadata": {},
   "outputs": [
    {
     "name": "stdout",
     "output_type": "stream",
     "text": [
      "https://n.news.naver.com/mnews/article/028/0002600546?sid=102\n"
     ]
    }
   ],
   "source": [
    "print(df.link[0])"
   ]
  },
  {
   "cell_type": "code",
   "execution_count": 206,
   "id": "d04d7c0c",
   "metadata": {},
   "outputs": [],
   "source": [
    "# 본문에서 검색어의 단어가 포함된 문장(+뒷 문장 일부)을 가져온다. 2번째 일치 되는 것까지만.."
   ]
  },
  {
   "cell_type": "raw",
   "id": "a207bba4",
   "metadata": {},
   "source": [
    ">> 사회적 논란 속에 사실상 폐기된 정책을 윤석열 정부가 다시 꺼내들었다. 1949년 최초 제정된 교육법\n",
    "\n",
    "제96조에서부터 지금까지 만 6살이었던 취학 연령을 2025년부터 단계적으로 만 5살로 바꾸겠다는 것이다. 교육계와 학부모 단체는 과도기에 초등학교에 입학하는 아이들이 발달과 적응, 치열한 경쟁의 어려움을 겪게 될 것을 우려한다. \n",
    "\n",
    ">>이른바 ‘윤석열 세대’ ‘박순애 세대’의 탄생이다. 박순애 사회부총리 겸 교육부장관은 29일 초등학교 입학 \n",
    "\n",
    "연령을 한 살 낮추고, 그에 따라 학교 졸업 연령을 한 살 앞당기는 학제 개편 내용을 담은 ‘새 정부 업무보고’를 윤석열 대통령에게 보고했다. 윤 대통령은 업무보고를 받은 뒤 “초중고 12학년제를 유지하되 취학연령을 1년 앞당기는 방향을 신속히 강구하라”고 박 부총리에게 지시했다고 이재명 부대변인이 브리핑에서 전했다."
   ]
  },
  {
   "cell_type": "code",
   "execution_count": null,
   "id": "6c1ec9a7",
   "metadata": {},
   "outputs": [],
   "source": []
  },
  {
   "cell_type": "code",
   "execution_count": null,
   "id": "40a486b4",
   "metadata": {},
   "outputs": [],
   "source": []
  },
  {
   "cell_type": "code",
   "execution_count": null,
   "id": "bb6ea42b",
   "metadata": {},
   "outputs": [],
   "source": []
  },
  {
   "cell_type": "markdown",
   "id": "ffe43f1d",
   "metadata": {},
   "source": [
    "## 전처리"
   ]
  },
  {
   "cell_type": "markdown",
   "id": "d9689cdf",
   "metadata": {},
   "source": [
    "### 1차\n",
    "- 한글이외의 것 삭제\n",
    "- 검색어 삭제 (여기선 윤석열)\n",
    "- title, description으로 중복 거른다."
   ]
  },
  {
   "cell_type": "code",
   "execution_count": 40,
   "id": "c4fa25e8",
   "metadata": {
    "scrolled": true
   },
   "outputs": [
    {
     "name": "stdout",
     "output_type": "stream",
     "text": [
      "<class 'pandas.core.frame.DataFrame'>\n",
      "Int64Index: 79 entries, 0 to 99\n",
      "Data columns (total 5 columns):\n",
      " #   Column        Non-Null Count  Dtype \n",
      "---  ------        --------------  ----- \n",
      " 0   title         79 non-null     object\n",
      " 1   originallink  79 non-null     object\n",
      " 2   link          79 non-null     object\n",
      " 3   description   79 non-null     object\n",
      " 4   pubDate       79 non-null     object\n",
      "dtypes: object(5)\n",
      "memory usage: 3.7+ KB\n"
     ]
    }
   ],
   "source": [
    "df.drop_duplicates(subset=['title']).drop_duplicates(subset=['description']).info()"
   ]
  },
  {
   "cell_type": "code",
   "execution_count": 41,
   "id": "5a8caef0",
   "metadata": {
    "scrolled": true
   },
   "outputs": [
    {
     "name": "stdout",
     "output_type": "stream",
     "text": [
      "<class 'pandas.core.frame.DataFrame'>\n",
      "RangeIndex: 100 entries, 0 to 99\n",
      "Data columns (total 5 columns):\n",
      " #   Column        Non-Null Count  Dtype \n",
      "---  ------        --------------  ----- \n",
      " 0   title         100 non-null    object\n",
      " 1   originallink  100 non-null    object\n",
      " 2   link          100 non-null    object\n",
      " 3   description   100 non-null    object\n",
      " 4   pubDate       100 non-null    object\n",
      "dtypes: object(5)\n",
      "memory usage: 4.0+ KB\n"
     ]
    }
   ],
   "source": [
    "df.info()"
   ]
  },
  {
   "cell_type": "markdown",
   "id": "28e61e74",
   "metadata": {},
   "source": [
    "### 2차\n",
    "- 모든 title description을 하나의 문자열 text로 합친다."
   ]
  },
  {
   "cell_type": "code",
   "execution_count": 218,
   "id": "afe431c4",
   "metadata": {
    "scrolled": false
   },
   "outputs": [
    {
     "name": "stdout",
     "output_type": "stream",
     "text": [
      "<class 'pandas.core.series.Series'>\n",
      "RangeIndex: 100 entries, 0 to 99\n",
      "Series name: None\n",
      "Non-Null Count  Dtype \n",
      "--------------  ----- \n",
      "100 non-null    object\n",
      "dtypes: object(1)\n",
      "memory usage: 928.0+ bytes\n"
     ]
    },
    {
     "data": {
      "text/plain": [
       "(None,\n",
       " '1년 형·언니와 경쟁 등떠밀린 ‘<b>윤석열</b> 세대’ 탄생하나사회적 논란 속에 사실상 폐기된 정책을 <b>윤석열</b> 정부가 다시 꺼내들었다. 1949년 최초 제정된 교육법... 이른바 ‘<b>윤석열</b> 세대’ ‘박순애 세대’의 탄생이다. 박순애 사회부총리 겸 교육부장관은 29일 초등학교 입학... ',\n",
       " pandas.core.series.Series,\n",
       " str)"
      ]
     },
     "execution_count": 218,
     "metadata": {},
     "output_type": "execute_result"
    }
   ],
   "source": [
    "sr = df.title + df.description\n",
    "sr.info(), sr[0], type(sr), type(sr[0])"
   ]
  },
  {
   "cell_type": "code",
   "execution_count": 220,
   "id": "f1c31609",
   "metadata": {},
   "outputs": [
    {
     "data": {
      "text/plain": [
       "0     1년 형·언니와 경쟁 등떠밀린...\n",
       "1     [속보] <b>윤석열</b> ...\n",
       "2     경란(警亂) 고비 넘긴 <b>...\n",
       "3     <b>윤석열</b> 대통령 직...\n",
       "4     김정은 “위험한 시도 시 <b...\n",
       "             ...         \n",
       "95    [전문] 김정은, 尹대통령 실...\n",
       "96    직접 소통하던 <b>윤석열</...\n",
       "97    국기에 경례하는 <b>윤석열<...\n",
       "98    &quot;진작 탈당하길 잘했...\n",
       "99    배현진 &quot;<b>윤석열...\n",
       "Length: 100, dtype: object"
      ]
     },
     "execution_count": 220,
     "metadata": {},
     "output_type": "execute_result"
    }
   ],
   "source": [
    "sr"
   ]
  },
  {
   "cell_type": "code",
   "execution_count": 221,
   "id": "0353988d",
   "metadata": {},
   "outputs": [
    {
     "data": {
      "text/plain": [
       "'1년 형·언니와 경쟁 등떠밀린 ‘<b>윤석열</b> 세대’ 탄생하나사회적 논란 속에 사실상 폐기된 정책을 <b>윤석열</b> 정부가 다시 꺼내들었다. 1949년 최초 제정된 교육법... 이른바 ‘<b>윤석열</b> 세대’ ‘박순애 세대’의 탄생이다. 박순애 사회부총리 겸 교육부장관은 29일 초등학교 입학...  [속보] <b>윤석열</b> 정부 첫 대법관 후보에 오석준 임명 제청<b>윤석열</b> 정부의 첫 대법관 후보로 오석준(60·사법연수원 19기) 제주지방법원장이 선정됐다. 대법원은 김명수 대법원장이 <b>윤석열</b> 대통령에게 오는 9월 퇴임 예정인 김재형 대법관의 후임으로 오 법원장의 임명을...  경란(警亂) 고비 넘긴 <b>윤석열</b> 정부, 다음 수순은 경찰대 개혁?<b>윤석열</b> 정부의 승리, 경찰의 패배라고 말할 수 있을까. 모두가 졌다. 엠브레인퍼블릭, 케이스탯리서치... <b>윤석열</b> 대통령 국정운영에 대한 부정평가는 54%로 집계됐는데, &apos;독단적이고 일방적이어서&apos;가 30%를 차지했다. &quot;행안부...  <b>윤석열</b> 대통령 직무수행 긍정률 28%···30%선 붕괴[한국갤럽]<b>윤석열</b> 대통령의 직무수행 긍정율이 28%를 기록했다는 여론조사결과가 29일 나왔다. 취임 80일 만에 직무수행 긍정률이 30% 밑으로 떨어졌다. 부정평가가 긍정평가를 웃도는 ‘데드크로스’에 이어 30% 지지율마저...  김정은 “위험한 시도 시 <b>윤석열</b> 정권·군대 전멸될 것”북한 김정은 위원장이 &apos;선제 타격&apos; 등 <b>윤석열</b> 정부 대북 정책에 대해 강력하게 반발하고 나섰습니다. 김... 연설에 나선 김 위원장은 &apos;선제 타격&apos; 등 <b>윤석열</b> 정부의 정책과 관련해 &quot;그러한 위험한 시도는 즉시 강력한 힘에...  주한 몽골 대사와 차담하는 <b>윤석열</b> 대통령<b>윤석열</b> 대통령이 29일 서울 용산 대통령실 청사에서 열린 주한대사 신임장 제정식에서 에르덴촉트 사랑터거스 주한 몽골 대사로부터 신임장을 받은 뒤 차담하고 있다. (대통령실통신사진기자단) 2022.07.29. yesphoto...  <b>윤석열</b> 정부 D+79<b>윤석열</b> 대통령과 김건희 여사가 28일 오전 울산시 현대중공업에서 열린 차세대 이지스구축함 정조대왕함 안전항해 기원식을 마친 뒤 장병들을 향해 손을 흔들고 있다. [사진=연합뉴스] ◇<b>윤석열</b> 대통령, 정도대왕함 진수식...  강신업 &quot;&apos;건희사랑&apos; 회장 사퇴…<b>윤석열</b>정부 반드시 지킬 것&quot;<b>윤석열</b> 대통령의 배우자 김건희 여사 팬클럽인 &apos;건희사랑&apos; 회장을 맡았던 강신업 변호사가 28일 자리에서... 김건희 여사와 <b>윤석열</b> 대통령을 지켜야 하지만 오히려 물러남으로서 더 큰 것을 얻을 수 있다고 생각한다&quot;며...  김정은 &quot;<b>윤석열</b> 정권과 군대는 전멸될 것&quot;핵심요약 &quot;우리는 <b>윤석열</b>이 내뱉은 망언들·추태들 정확히 기억한다&quot; &quot;우리 군사력 무력화시킬 수 있다고... 김정은, <b>윤석열</b> 대통령 직책도 빼고 강도높은 실명 비난 전문가 &quot;김정은의 대남불신의 정도를 가늠케 하는 연설...  중국, <b>윤석열</b> 정부와 &apos;허니문&apos; 끝났나…칩4에 이어 사드 3불 공세중국이 <b>윤석열</b> 정부 출범 후 두 달 정도 관망하더니 최근 들어 자국 이해관계가 걸린 사안에 대해 부쩍 요구... 중국이 <b>윤석열</b> 정부 출범 후 사드 3불 유지를 공개적으로 요구한 건 이번이 처음입니다. 사드 3불은 문재인...  <b>윤석열</b> 대통령 내외, 정조대왕함 진수식 [뉴시스Pic]<b>윤석열</b> 대통령이 28일 정조대왕함 진수식을 주관했다. 윤 대통령은 이날 오전 울산 현대중공업에서 열린 해군의 차세대 이지스구축함 제1번함인 &apos;정조대왕함&apos; 진수식에 부인 김건희 여사와 함께 참석했다. 윤 대통령은...  주한 몽골 대사와 차담하는 <b>윤석열</b> 대통령<b>윤석열</b> 대통령이 29일 서울 용산 대통령실 청사에서 열린 주한대사 신임장 제정식에서 에르덴촉트 사랑터거스 주한 몽골 대사로부터 신임장을 받은 뒤 차담하고 있다. (대통령실통신사진기자단) 2022.07.29. yesphoto...  주한 미국 대사와 차담하는 <b>윤석열</b> 대통령<b>윤석열</b> 대통령이 29일 서울 용산 대통령실 청사에서 열린 주한대사 신임장 제정식에서 필립 골드버그 주한 미국 대사로부터 신임장을 받은 뒤 차담하고 있다. (대통령실통신사진기자단) 2022.07.29. yesphoto@newsis.com...  주한 미국 대사와 차담하는 <b>윤석열</b> 대통령<b>윤석열</b> 대통령이 29일 서울 용산 대통령실 청사에서 열린 주한대사 신임장 제정식에서 필립 골드버그 주한 미국 대사로부터 신임장을 받은 뒤 차담하고 있다. (대통령실통신사진기자단) 2022.07.29. yesphoto@newsis.com...  주한 칠레 대사와 차담하는 <b>윤석열</b> 대통령<b>윤석열</b> 대통령이 29일 서울 용산 대통령실 청사에서 열린 주한대사 신임장 제정식에서 마티아스 프랑케 슈나바흐 주한 칠레 대사로부터 신임장을 받은 뒤 차담하고 있다. (대통령실통신사진기자단) 2022.07.29....  주한 칠레 대사와 차담하는 <b>윤석열</b> 대통령<b>윤석열</b> 대통령이 29일 서울 용산 대통령실 청사에서 열린 주한대사 신임장 제정식에서 마티아스 프랑케 슈나바흐 주한 칠레 대사로부터 신임장을 받은 뒤 차담하고 있다. (대통령실통신사진기자단) 2022.07.29....  <b>윤석열</b> 정부, &apos;만 5세&apos; 초교 입학 추진…의무교육 연령 낮춘다<b>윤석열</b> 정부의 국정과제인 &apos;국가교육책임제 강화&apos;에 따라 의무교육 시점을 1년 앞당기겠다는 것이다. 영유아(0~5세) 단계의 국가 책임 교육을 위해 유치원과 어린이집을 합치는 &apos;유보통합&apos;도 추진한다. 박순애 사회부총리...  주한 에티오피아 대사와 차담하는 <b>윤석열</b> 대통령<b>윤석열</b> 대통령이 29일 서울 용산 대통령실 청사에서 열린 주한대사 신임장 제정식에서 데시 달키 주한 에티오피아 대사로부터 신임장을 받은 뒤 차담하고 있다. (대통령실통신사진기자단) 2022.07.29. yesphoto@newsis....  주한 몽골 대사로부터 신임장 받는 <b>윤석열</b> 대통령<b>윤석열</b> 대통령이 29일 서울 용산 대통령실 청사에서 열린 주한대사 신임장 제정식에서 에르덴촉트 사랑터거스 주한 몽골 대사로부터 신임장을 받고 있다. (대통령실통신사진기자단) 2022.07.29. yesphoto@newsis.com...  주한 칠레 대사로부터 신임장 받는 <b>윤석열</b> 대통령<b>윤석열</b> 대통령이 29일 서울 용산 대통령실 청사에서 열린 주한대사 신임장 제정식에서 마티아스 프랑케 슈나바흐 주한 칠레 대사로부터 신임장을 받고 있다. (대통령실통신사진기자단) 2022.07.29. yesphoto@newsis.com...  박지원, <b>윤석열</b> 대통령의 권성동 위로 두고 “국민 얕보는 말씀”박지원 전 국가정보원장은 <b>윤석열</b> 대통령이 ‘내부 총질’ 문자 파문과 관련해 권성동 국민의힘 대표... 박 전 원장은 “내일 모레 (윤 대통령) 취임 100일인데, <b>윤석열</b> 정부 한 게 뭐냐. 용산으로 청와대 이전하고 개편한 것...  [천남수의 視線] <b>윤석열</b> 정부에 대한 합리적 상상기간임에도 <b>윤석열</b> 정부에 대한 여론은 좋지 않다. 최근의 여론조사를 종합하면 집권 초기라고 믿어지지 않을 정도로 매우 낮은 지지율을 기록하고 있다. 그간 우호적 입장을 보였던 보수 언론들조차 <b>윤석열</b> 정부의...  <b>윤석열</b> 정부 첫 대법관 후보에 오석준 임명 제청 [종합]대법원은 김명수 대법원장이 <b>윤석열</b> 대통령에게 오는 9월 퇴임 예정인 김재형 대법관의 후임으로 오석준(60·사법연수원 19기) 제주지방법원장의 임명을 제청했다고 28일 밝혔다. 오 법원장이 대법관이 되면 <b>윤석열</b>...  <b>윤석열</b> 대통령, 주한 미국 대사와 기념촬영<b>윤석열</b> 대통령이 29일 서울 용산 대통령실 청사에서 열린 주한대사 신임장 제정식에서 필립 골드버그 주한 미국 대사로부터 신임장을 받은 뒤 기념촬영을 하고 있다. 오른쪽은 박진 외교부 장관....  <b>윤석열</b> 대통령, 주한 미국 대사와 기념촬영<b>윤석열</b> 대통령이 29일 서울 용산 대통령실 청사에서 열린 주한대사 신임장 제정식에서 필립 골드버그 주한 미국 대사로부터 신임장을 받은 뒤 기념촬영을 하고 있다. 오른쪽은 박진 외교부 장관....  <b>윤석열</b> 대통령, 주한 미국 대사와 기념촬영<b>윤석열</b> 대통령이 29일 서울 용산 대통령실 청사에서 열린 주한대사 신임장 제정식에서 필립 골드버그 주한 미국 대사로부터 신임장을 받은 뒤 박진 외교부 장관, 앤드류 헤럽 공사참사관 등 수행원과 기념촬영을...  주한 에티오피아 대사로부터 신임장 받는 <b>윤석열</b> 대통령<b>윤석열</b> 대통령이 29일 서울 용산 대통령실 청사에서 열린 주한대사 신임장 제정식에서 데시 달키 주한 에티오피아 대사로부터 신임장을 받고 있다. (대통령실통신사진기자단) 2022.07.29. yesphoto@newsis.com 공감언론...  <b>윤석열</b> 대통령, 코로나19 중대본 회의 주재 [뉴시스Pic]<b>윤석열</b> 대통령이 29일 정부서울청사에서 코로나19 중앙재난안전대책본부 회의를 주재했다. 윤 대통령은 &quot;최근 전파력이 강하고 면역 회피 특성이 있는 변이 바이러스가 확산 중이고, 재유행이 예상보다 빠르게 진행되고...  주한 미국 대사와 기념촬영하는 <b>윤석열</b> 대통령<b>윤석열</b> 대통령이 29일 서울 용산 대통령실 청사에서 열린 주한대사 신임장 제정식에서 필립 골드버그 주한 미국 대사로부터 신임장을 받은 뒤 기념촬영을 하고 있다. 오른쪽은 박진 외교부 장관....  고민정 &quot;국정지지율 28%, 단 두달여 만에 보여준 <b>윤석열</b> 정부의 민낯&quot;보여준 <b>윤석열</b> 정부의 민낯&quot;이라며 이같이 말했다. 이어 &quot;국정지지율 28%&quot;이라며 &quot;묘역에서 만난 한 분이 제게 간곡히 말씀하신다&quot;라고 전했다. 그러면서 &quot;이렇게 힘들게 만든 민주주의가 우리 눈앞에서 무너지는 게 보이는...  &apos;<b>윤석열</b>-권성동 문자사태&apos;가 내부총질 되나… 국힘 초선 32명 &apos;비대위 전환 요...&apos;운석열-권성동 내부총질 문자사태&apos; 후폭풍이 걷잡을 수 없이 확산되고 있다. 국민의힘 초선의원 32명은 지난 29일 권성동 당대표 직무대행 겸 원내대표의 사실상 &apos;원톱 체제&apos;로 운영 중인 현 지도체제를 비상대책위원회...  주한 칠레 대사와 기념촬영하는 <b>윤석열</b> 대통령<b>윤석열</b> 대통령이 29일 서울 용산 대통령실 청사에서 열린 주한대사 신임장 제정식에서 마티아스 프랑케 슈나바흐 주한 칠레 대사로부터 신임장을 받은 뒤 기념촬영을 하고 있다. 오른쪽은 박진 외교부 장관....  주한 몽골 대사와 기념촬영하는 <b>윤석열</b> 대통령<b>윤석열</b> 대통령이 29일 서울 용산 대통령실 청사에서 열린 주한대사 신임장 제정식에서 에르덴촉트 사랑터거스 주한 몽골 대사로부터 신임장을 받은 뒤 기념촬영을 하고 있다. 오른쪽은 박진 외교부 장관....  중국, <b>윤석열</b> 정부와 &apos;허니문&apos; 끝났나…칩4에 이어 사드 3불 공세중국이 <b>윤석열</b> 정부 출범 후 두 달 정도 관망하더니 최근 들어 자국 이해관계가 걸린 사안에 대해 부쩍 요구... 중국이 <b>윤석열</b> 정부 출범 후 사드 3불 유지를 공개적으로 요구한 건 이번이 처음입니다. 사드 3불은 문재인...  주한 에티오피아 대사와 차담하는 <b>윤석열</b> 대통령<b>윤석열</b> 대통령이 29일 서울 용산 대통령실 청사에서 열린 주한대사 신임장 제정식에서 데시 달키 주한 에티오피아 대사로부터 신임장을 받은 뒤 차담하고 있다. (대통령실통신사진기자단) 2022.07.29. yesphoto@newsis....  김정은 “위험한 시도시 <b>윤석열</b> 정권과 그의 군대 전멸될 것”김정은 북한 국무위원장이 28일 <b>윤석열</b> 정부의 대북 군사정책에 대해 “그러한 위험한 시도는 즉시 강력한 힘에 의해 응징될 것이며 <b>윤석열</b> 정권과 그의 군대는 전멸될 것”이라고 강하게 비난했다. 김 위원장이 <b>윤석열</b>...  박홍근 “<b>윤석열</b> 정부는 극우 유튜버 정권인가” 문자 속 강기훈 공세박홍근 더불어민주당 원내대표는 28일 “대통령실이 극우 유튜버들의 일자리가 되고 있다”며 “<b>윤석열</b>... 인물이 <b>윤석열</b> 대통령실에서 근무하고 있다는 사실은 너무나 충격적”이라고 말했다. 박 원내대표는 “강씨는...  <b>윤석열</b> 정부 D+80<b>윤석열</b> 대통령이 29일 서울 세종로 정부서울청사에서 열린 코로나19 중앙재난안전대책본부 회의를 주재하고 있다. [사진=연합뉴스] ◇尹대통령 &quot;일상 회복 기조 아래 코로나19 위중증과 사망 최소화&quot; <b>윤석열</b> 대통령은 29일...  주한 에티오피아 대사와 기념촬영하는 <b>윤석열</b> 대통령<b>윤석열</b> 대통령이 29일 서울 용산 대통령실 청사에서 열린 주한대사 신임장 제정식에서 데시 달키 주한 에티오피아 대사로부터 신임장을 받은 뒤 기념촬영을 하고 있다. 오른쪽은 박진 외교부 장관....  김정은 &quot;위험한 시도시 <b>윤석열</b> 정권·군대 전멸될 것&quot; 첫 직접 경고김정은 북한 국무위원장이 <b>윤석열</b> 정부의 이른바 &apos;선제타격&apos; 등 대북 군사정책에 대해 &quot;그러한 위험한 시도는 즉시 강력한 힘에 의해 응징될 것이며, <b>윤석열</b> 정권과 군대는 전멸될 것&quot;이라고 강하게 비난했습니다. 또...  김정은 “위험한 시도 시 <b>윤석열</b> 정권·군대 전멸될 것”북한 김정은 위원장이 &apos;선제 타격&apos; 등 <b>윤석열</b> 정부 대북 정책에 대해 강력하게 반발하고 나섰습니다. 김... 연설에 나선 김 위원장은 &apos;선제 타격&apos; 등 <b>윤석열</b> 정부의 정책과 관련해 &quot;그러한 위험한 시도는 즉시 강력한 힘에...  <b>윤석열</b> 정부 자사고 존치, 외국어고는 폐지<b>윤석열</b> 정부가 자율형사립고(자사고)를 유지하기로 했다. 반면, 문재인 정부에서 일반고등학교로 전환하기로... 박순애 사회부총리 겸 교육부 장관은 29일 새 정부 업무계획을 <b>윤석열</b> 대통령에게 보고하기에 앞서 열린...  &apos;文정부 청와대&apos; 출입기자가 펴낸 &apos;조국의 시간, <b>윤석열</b>의 시간&apos;문재인 정부의 청와대를 출입했던 정치부 기자가 당시의 취재 뒷얘기를 풀어낸 &lt;조국의 시간, <b>윤석열</b>의 시간... △제20대 대통령 선거를 되돌아보며 △바라볼 ‘대통령 <b>윤석열</b>’의 시간 △청와대 출입기자가 본 조국의...  19일 만에 등장한 김정은 &quot;위험한 시도하면 <b>윤석열</b> 정권·군대 전멸&quot;김정은 북한 국무위원장은 <b>윤석열</b> 정부를 향해 &quot;위험한 시도는 즉시 강력한 힘에 의해 응징될 것이며 <b>윤석열</b> 정권과 그의 군대는 전멸될 것&quot;이라고 위협했습니다. 이는 <b>윤석열</b> 정부의 &apos;선제타격&apos; 등 대북 군사 정책을...  &apos;<b>윤석열</b> 첫 임명&apos; 대법관 후보에 오석준 제주지방법원장<b>윤석열</b> 정부가 임명하는 첫 대법관 후보자 최종 1인에 오석준 제주지방법원장이 낙점됐습니다. 김명수 대법원장은 오늘(28일) <b>윤석열</b> 대통령에게 퇴임 예정인 김재형 대법관의 후임으로 오석준 제주지법원장을...  박수치는 <b>윤석열</b> 대통령 내외<b>윤석열</b> 대통령과 김건희 여사가 28일 오전 울산시 현대중공업에서 열린 차세대 이지스구축함 정조대왕함 진수식에서 진수줄을 자른 뒤 박수를 치고 있다. . 2022.7.28 <b>윤석열</b> 정부 첫 대법관 후보로 오석준 제주지법원장<b>윤석열</b> 정부가 임명할 첫 대법관 후보로 오석준(60·사법연수원 19기) 제주지방법원장이 선정됐다. 대법원은 김명수 대법원장이 <b>윤석열</b> 대통령에게 대법관후보추천위원회 추천 3명의 신임 대법관 후보 가운데 오 법원장의...  &quot;<b>윤석열</b>과 군사 깡패들...&quot; 호칭도 빼고 도발한 김정은북한 김정은 국무위원장이 <b>윤석열</b> 정부의 대북 군사정책에 대해 &quot;위험한 시도는 즉시 강력한 힘에 의해 응징될 것이며 <b>윤석열</b> 정권과 그의 군대는 전멸될 것&quot;이라고 위협했다. 김 위원장이 <b>윤석열</b> 대통령의 실명을...  김정은, 대북 선제타격 시도 시 &quot;<b>윤석열</b> 정권 · 군대 전멸될 것&quot;김정은 북한 노동당 총비서는 남한이 북한에 대한 선제타격을 시도한다면 <b>윤석열</b> 정부는 전멸될 것이라고... 것이며 <b>윤석열</b> 정권과 군대는 전멸될 것이라고 주장했습니다. 김 총비서는 또, 더이상 <b>윤석열</b> 대통령과 남한...  [이앤피] 임은정 &quot;<b>윤석열</b> 보스 스타일, 싫은 소리하면 안 만나&quot;[이앤피] 임은정 &quot;<b>윤석열</b> 보스 스타일, 싫은 소리하면 안 만나&quot; - 검사들 집단행동 경찰보다 더 위험 - 검찰 권한은 절대반지, 반지원정대는 계속될 것 - 징계 선배로서 <b>윤석열</b> 조언, 싫은 소리하면 안 만나 보스 스타일 - 정치...  김정은 &quot;위험한 시도할 경우 <b>윤석열</b> 정권·군대 전멸&quot;김정은 북한 국무위원장은 선제 타격 등 <b>윤석열</b> 정부의 대북 정책과 관련해 &quot;위험한 시도를 할 경우 <b>윤석열</b> 정권과 군대는 전멸할 것&quot;이라고 반발했습니다. 김 위원장이 <b>윤석열</b> 정부에 대해 직접 입장을 내놓은 건 이번이...  우상호 &quot;정작 내부 총질한 건 <b>윤석열</b> 아닌가…민생 전념하라&quot;29일 <b>윤석열</b> 정부가 문재인 정부 시절 임명된 전현희 국민권익위원장과 한상혁 방송통신위원장을 교체하기 위해 감사원의 감사 등 다각적 압력이 동원되고 있다며 &quot;민생에 전념하라&quot;고 비판했다. 또 <b>윤석열</b> 대통령이 이준석...  [그래픽] <b>윤석열</b> 대통령 지지율 28%… 취임후 첫 20%대 (갤럽)한국갤럽이 지난 26~28일 <b>윤석열</b> 대통령의 직무 수행 평가를 조사한 결과 긍정 평가는 28%, 부정 평가는 62%로 나타났다. 어느 쪽도 아니다는 3%, 모름/응답거절은 8%였다. (그래픽=안지혜 기자) hokma@newsis.com [사진 영상...  <b>윤석열</b> 대통령, 신촌지구대 방문…일선 경찰관 격려<b>윤석열</b> 대통령이 29일 오전 서울 서대문구 신촌지구대를 방문해 치안을 점검하고 일선 경찰관들을 격려했다. 윤 대통령은 이날 오전 10시 30분께 신촌지구대에 도착해 현장에 근무하는 경찰관들과 인사를 나누고 관내 치안...  김정은, 尹 이름 걸고 첫 비난…&quot;<b>윤석열</b> 정권·軍 전멸될 것&quot;북한 김정은 위원장이 <b>윤석열</b> 대통령 이름을 처음으로 직접 거론하며 비난을 퍼부었습니다. <b>윤석열</b> 정권과 군대는 전멸될거라고 협박한건데요. 새정부 출범 이후 한미동맹이 복원되면서 위기감이 커진 김 위원장이 압박...  김정은 “선제타격 시도땐 <b>윤석열</b>정권 전멸” 협박김정은 북한 국무위원장이 <b>윤석열</b> 정부를 향해 “위험한 시도는 강력한 힘에 의해 응징될 것이며 <b>윤석열</b> 정권과 그의 군대는 전멸될 것”이라며 위협했다. 김 위원장이 윤 대통령 이름을 거론해 비난하고 직접 대남 기조를...  연봉 3천은 혜택 0원…<b>윤석열</b>표 ‘불평등 감세’ 향하는 세상은☞한겨레S 뉴스레터 구독하기 https://bit.ly/319DiiE 정부가 중산층과 서민의 부담을 덜어주겠다며 대대적인 감세안을 발표했다. 근로소득세, 법인세, 종합부동산세 모두 깎아주겠다고 나섰다. 근로소득세의 경우 연간 최고...  [집중진단] TF 첫 결과물 공개…<b>윤석열</b>표 규제개혁 특징은?걷어내겠다는 <b>윤석열</b> 정부의 규제개혁 의지가 그 어느 정부보다 강하다고 합니다. 오늘 첫 번째 결과물을... <b>윤석열</b> 정부 규제 개혁에 의지가 강한 것으로 알려졌는데. 첫 번째 결과물이 나왔습니다. 1차 과제가 발표됐는데...  김정은 ‘<b>윤석열</b> 정권’ 첫 직접 언급…‘선제 타격’에 “전멸될 것”(종합)‘전승절’ 69주년 행사서 연설…대남·대미 강력 비난 美엔 “어떤 군사적 충돌에도 대처할 철저한 준비” 김정은 북한 국무위원장은 27일 <b>윤석열</b> 정부의 대북정책에 대해, ‘선제 타격’에 나설 경우 “<b>윤석열</b> 정권과 그의...  주한 몽골대사 신임장 받는 <b>윤석열</b> 대통령<b>윤석열</b> 대통령이 29일 오후 서울 용산 대통령실 청사에서 열린 주한대사 신임장 제정식에서 에르덴촉트 사랑터거스 주한 몽골대사로부터 신임장을 받고 있다. 2022.7.29 주한 칠레대사 신임장 받는 <b>윤석열</b> 대통령<b>윤석열</b> 대통령이 29일 오후 서울 용산 대통령실 청사에서 열린 주한대사 신임장 제정식에서 마티아스 프랑케 슈나바흐 주한 칠레대사로부터 신임장을 받고 있다. 2022.7.29 건배사 하는 <b>윤석열</b> 대통령= <b>윤석열</b> 대통령과 조코 위도도 인도네시아 대통령, 김건희 여사가 28일 오후 용산 대통령실에서 열린 공식 만찬에서 건배를 하고 있다. 대통령실사진기자단 2022.7.28/뉴스1 김정은 “위험한 시도는 즉시 응징…<b>윤석열</b> 정권과 군대 전멸될 것”특히 김 위원장은 <b>윤석열</b> 대통령을 직함 없이 이름으로만 부르며 “<b>윤석열</b>이 집권 전후 내뱉은 망언과 추태들을 정확히 기억하고 있다”고 말했다. 조선중앙통신에 따르면 김 위원장은 27일 전승절(정전협정 체결일) 69주년...  &quot;<b>윤석열</b> 정권· 군부 깡패들&quot;… 호칭도 생략하고 도발한 김정은국무위원장이 <b>윤석열</b>정부가 대북 선제타격 등 강경한 태도로 나설 경우 “전멸될 것”이라고 강하게... 것이며 <b>윤석열</b> 정권과 그의 군대는 전멸될 것”이라고 위협했다 김 위원장이 직접 <b>윤석열</b> 대통령의 호칭을 생략하고...  北 김정은 &quot;위험한 시도 시 尹정권·군대 전멸될 것&quot;...<b>윤석열</b> 정부 첫 비난<b>윤석열</b> 정부의 대북정책을 강하게 비난하고 나섰습니다. 위험한 시도를 할 경우 윤 정권과 군대는 전멸될 것이라고 위협했는데요. 자세한 소식 취재기자 연결해 알아보겠습니다. 홍주예 기자! 김 위원장이 직접 <b>윤석열</b>...  이상민 장관과 악수하는 <b>윤석열</b> 대통령<b>윤석열</b> 대통령이 29일 오전 서울 세종로 정부서울청사에서 열린 코로나19 중앙재난안전대책본부 회의에 입장하며 이상민 행정안전부 장관과 악수하고 있다. (대통령실통신사진기자단) 2022.07.29. yesphoto@newsis.com...  신촌지구대 방문한 <b>윤석열</b> 대통령<b>윤석열</b> 대통령이 29일 오전 서울 서대문구 신촌지구대를 방문, 폭염 속 민생치안 활동에 여념이 없는 경찰관들을 격려하고 있다. 2022.7.29. 이상민 장관과 악수하는 <b>윤석열</b> 대통령<b>윤석열</b> 대통령이 29일 오전 서울 세종로 정부서울청사에서 열린 코로나19 중앙재난안전대책본부 회의에 입장하며 이상민 행정안전부 장관과 악수하고 있다. (대통령실통신사진기자단) 2022.07.29. yesphoto@newsis.com...  이상민 장관과 대화하는 <b>윤석열</b> 대통령<b>윤석열</b> 대통령이 29일 오전 서울 세종로 정부서울청사에서 열린 코로나19 중앙재난안전대책본부 회의에 참석해 이상민 행정안전부 장관과 대화하고 있다. (대통령실통신사진기자단) 2022.07.29. yesphoto@newsis.com...  정조대왕함 진수식 참석하는 <b>윤석열</b> 대통령 내외<b>윤석열</b> 대통령과 김건희 여사가 28일 오전 울산시 현대중공업에서 열린 차세대 이지스구축함 정조대왕함 진수식에 입장하고 있다. 2022.7.28 신촌지구대 방문한 <b>윤석열</b> 대통령<b>윤석열</b> 대통령이 29일 오전 서울 서대문구 신촌지구대를 방문, 경찰들과 업무 관련 대화를 하고 있다. 2022.7.29 [대통령실 제공. 재판매 및 DB금지] 손 흔드는 <b>윤석열</b> 대통령 내외<b>윤석열</b> 대통령과 김건희 여사가 28일 오전 울산시 현대중공업에서 열린 차세대 이지스구축함 정조대왕함 안전항해 기원식을 마친 뒤 장병들을 향해 손을 흔들고 있다. 2022.7.28 발언하는 <b>윤석열</b> 대통령<b>윤석열</b> 대통령이 29일 오전 서울 세종로 정부서울청사에서 열린 코로나19 중앙재난안전대책본부 회의를 주재하고 있다. 2022.7.29 신촌지구대 경찰관 만난 <b>윤석열</b> 대통령<b>윤석열</b> 대통령이 29일 오전 서울 서대문구 신촌지구대를 방문, 폭염 속 민생치안 활동에 여념이 없는 경찰관들과 환담에 앞서 인사하고 있다. 2022.7.29. 손 흔드는 <b>윤석열</b> 대통령 내외<b>윤석열</b> 대통령과 김건희 여사가 28일 오전 울산시 현대중공업에서 열린 차세대 이지스구축함 정조대왕함 안전항해 기원식을 마친 뒤 장병들을 향해 손을 흔들고 있다. 2022.7.28 발언하는 <b>윤석열</b> 대통령<b>윤석열</b> 대통령이 29일 오전 서울 세종로 정부서울청사에서 열린 코로나19 중앙재난안전대책본부 회의에서 발언을 하고 있다. 2022.7.29 왜 <b>윤석열</b> 정부는 임기 초부터 경찰과 싸우고 있나요?지난 5월에 임명된 신자용 검찰국장은 <b>윤석열</b> 사단의 핵심 인물로 꼽히고 있다는 점만 봐도 그렇다. 또한... <b>윤석열</b> 정부는 공직자 인사검증 기능을 법무부로 이관하면서 정부조직법 대신 시행령 개정으로 우회해 국회의...  신촌지구대 경찰관들과 환담하는 <b>윤석열</b> 대통령<b>윤석열</b> 대통령이 29일 오전 서울 서대문구 신촌지구대를 방문, 폭염 속 민생치안 활동에 여념이 없는 경찰관들과 환담하고 있다. 2022.7.29. 발언하는 <b>윤석열</b> 대통령<b>윤석열</b> 대통령이 29일 오전 서울 세종로 정부서울청사에서 열린 코로나19 중앙재난안전대책본부 회의에서 발언을 하고 있다. 2022.7.29 김정은 &quot;선제타격시 <b>윤석열</b> 정권 전멸될 것&quot;김정은 북한 국무위원장은 28일 <b>윤석열</b> 정부의 ‘선제타격’ 등 대북 군사 정책과 관련, “그러한 위험한 시도는 즉시 강력한 힘에 의해 응징될 것이며 <b>윤석열</b> 정권과 그의 군대는 전멸될 것”이라고 강력히 반발했다. 김...  주한 에티오피아 대사와 기념촬영하는 <b>윤석열</b> 대통령<b>윤석열</b> 대통령이 29일 오후 서울 용산 대통령실 청사에서 열린 주한대사 신임장 제정식에서 데시 달키 두카모 주한 에티오피아대사로부터 신임장을 받은 뒤 기념촬영을 하고 있다. 오른쪽은 박진 외교부 장관.2022.7.29 신촌지구대 찾은 <b>윤석열</b> 대통령<b>윤석열</b> 대통령이 29일 서울 서대문경찰서 신촌지구대를 방문해 업무 현황을 보고 받고 있다. 2022.07.29. yesphoto@newsis.com 공감언론 뉴시스가 독자 여러분의 소중한 제보를 기다립니다. 뉴스 가치나 화제성이...  발언하는 <b>윤석열</b> 대통령<b>윤석열</b> 대통령이 29일 오전 서울 세종로 정부서울청사에서 열린 코로나19 중앙재난안전대책본부 회의에서 발언을 하고 있다. 2022.7.29 정조대왕함 승조원에게 인사하는 <b>윤석열</b> 대통령 내외<b>윤석열</b> 대통령과 김건희 여사가 28일 오전 울산시 현대중공업에서 열린 차세대 이지스 구축함 정조대왕함 진수식이 끝난 뒤 승조원들과 인사하고 있다. 2022.7.28 [대통령실 제공. 재판매 및 DB 금지] <b>윤석열</b> 대통령, 오늘 교육부 업무보고…반도체 등 인재 육성책 논의<b>윤석열</b> 대통령은 오늘(29일) 교육부로부터 업무 보고를 받습니다. 윤 대통령은 오늘 오후 용산 대통령실 집무실에서 박순애 사회부총리 겸 교육부 장관으로부터 부처 핵심 정책·국정과제 등 업무 추진계획을 보고받습니다....  손 흔드는 <b>윤석열</b> 대통령 내외<b>윤석열</b> 대통령과 김건희 여사가 28일 오전 울산시 현대중공업에서 열린 차세대 이지스구축함 정조대왕함 안전항해 기원식을 마친 뒤 장병들을 향해 손을 흔들고 있다. 2022.7.28 신촌지구대 경찰관 만난 <b>윤석열</b> 대통령<b>윤석열</b> 대통령이 29일 오전 서울 서대문구 신촌지구대를 방문, 경찰들과 업무 관련 대화를 하고 있다. 2022.7.29 [대통령실 제공. 재판매 및 DB금지] 안전항해 기원의식 마친 <b>윤석열</b> 대통령 내외<b>윤석열</b> 대통령과 부인 김건희 여사가 28일 울산 현대중공업에서 열린 정조대왕함 진수식에서 안전항해 기원의식인 샴페인 브레이킹을 마친 뒤 손을 흔들고 있다. 2022.07.28. photo1006@newsis.com 공감언론 뉴시스가...  발언하는 <b>윤석열</b> 대통령<b>윤석열</b> 대통령이 29일 오전 서울 세종로 정부서울청사에서 열린 코로나19 중앙재난안전대책본부 회의를 주재하고 있다. 2022.7.29 김연주 전 국힘 대변인 &quot;<b>윤석열</b> 대통령 취임식 후 탈당하길 잘했다&quot;이는 <b>윤석열</b> 대통령이 이준석 대표를 &apos;내부총질이나 하던 당대표&apos;라고 지칭한 문자 메시지가 공개된 데 대한 발언인 것으로 해석됩니다. 김 전 대변인은 오늘(28일) 자신의 페이스북에 &quot;지난해 난생 처음 정당에 가입했었다...  발언 마친 <b>윤석열</b> 대통령<b>윤석열</b> 대통령이 29일 오전 서울 세종로 정부서울청사에서 열린 코로나19 중앙재난안전대책본부 회의에서 발언을 한 뒤 자료를 살피고 있다. 2022.7.29 국기에 경례하는 <b>윤석열</b> 대통령 내외<b>윤석열</b> 대통령과 김건희 여사가 28일 오전 울산시 현대중공업에서 열린 차세대 이지스구축함 정조대왕함 진수식에서 국기에 경례하고 있다. 2022.7.28 발언하는 <b>윤석열</b> 대통령<b>윤석열</b> 대통령이 29일 오전 서울 세종로 정부서울청사에서 열린 코로나19 중앙재난안전대책본부 회의에서 발언을 하고 있다. 2022.7.29 직함없이 ‘<b>윤석열</b>’ 직접 비난한 김정은 “선제무력화 시도땐 전멸될 것”김정은 북한 국무위원장이 <b>윤석열</b> 정부가 대북 선제타격 등을 시도할 경우 정권과 군대를 전멸할 것이라고 강도 높게 위협했다. <b>윤석열</b> 정부 출범 이후 김 위원장이 직함 없이 윤 대통령을 직접 비난하고 한국 정부에 대해...  <b>윤석열</b> 정부 첫 대법관 후보에 오석준 제주지방법원장<b>윤석열</b> 대통령이 취임 후 처음으로 임명하게 되는 대법관 후보다. 김 대법원장은 대법관 후보추천위원회가 추천한 3명의 후보자 중 오 원장을 대법관으로 임명해달라고 이날 윤 대통령에게 제청했다. 오 원장은 9월...  [전문] 김정은, 尹대통령 실명 비난 “<b>윤석열</b>과 그 군사깡패들 추태”김정은, 연설서 “<b>윤석열</b>이 내뱉은 망언과 추태 정확히 기억하고 있다” 국가안보실 “깊은 유감” 김정은... 조선중앙통신에 따르면 김정은은 연설에서 <b>윤석열</b> 정부 출범 이후 처음으로 직접 <b>윤석열</b> 대통령 이름을...  직접 소통하던 <b>윤석열</b> 대통령의 ‘겨울잠’<b>윤석열</b> 대통령의 업무보고 연기는 벌써 세번째다. 지난 20일 여성가족부, 21일 통일부 업무보고를 연기하면서... 앞서 지난 26일 ‘이준석 대표가 내부 총질 한다’는 <b>윤석열</b> 대통령의 불편한 감정이 텔레그램 메시지를...  국기에 경례하는 <b>윤석열</b> 대통령 내외<b>윤석열</b> 대통령과 김건희 여사가 28일 오전 울산시 현대중공업에서 열린 차세대 이지스구축함 정조대왕함 진수식에서 국기에 경례하고 있다. 2022.7.28 &quot;진작 탈당하길 잘했다&quot;…<b>윤석열</b> &apos;문자 유출&apos; 논란 때린 김연주이는 앞서 <b>윤석열</b> 대통령과 권성동 국민의힘 당대표 직무대행 겸 원내대표 사이의 ‘문자 파동’이 발단이 된 것으로 보인다. 김연주 전 국민의힘 상근부대변인, (사진=연합뉴스) 28일 김 전 대변인은 자신의 페이스북을...  배현진 &quot;<b>윤석열</b> 정부 거듭나기 위해 뒤에서 묵묵히 최선을&quot;배 최고위원은 “<b>윤석열</b> 정부가 5월에 출범한 이후에 국민들께서 저희에게 많은 기대와 희망으로 잘 해보라는 바람을 심어주셨는데 저희가 80여일 되도록 속 시원한 모습으로 국민들께 그 기대감을 충족시켜드리지... '"
      ]
     },
     "execution_count": 221,
     "metadata": {},
     "output_type": "execute_result"
    }
   ],
   "source": [
    "\" \".join(sr)"
   ]
  },
  {
   "cell_type": "code",
   "execution_count": null,
   "id": "73ec8fa8",
   "metadata": {},
   "outputs": [],
   "source": []
  },
  {
   "cell_type": "code",
   "execution_count": null,
   "id": "a6f3b6dd",
   "metadata": {},
   "outputs": [],
   "source": []
  },
  {
   "cell_type": "code",
   "execution_count": null,
   "id": "8bbf5b0b",
   "metadata": {},
   "outputs": [],
   "source": []
  },
  {
   "cell_type": "code",
   "execution_count": null,
   "id": "cb11b463",
   "metadata": {},
   "outputs": [],
   "source": []
  },
  {
   "cell_type": "code",
   "execution_count": null,
   "id": "093c6ead",
   "metadata": {},
   "outputs": [],
   "source": []
  },
  {
   "cell_type": "code",
   "execution_count": null,
   "id": "84f6a7cc",
   "metadata": {},
   "outputs": [],
   "source": []
  },
  {
   "cell_type": "code",
   "execution_count": null,
   "id": "4a15cef8",
   "metadata": {},
   "outputs": [],
   "source": []
  },
  {
   "cell_type": "code",
   "execution_count": null,
   "id": "52904b26",
   "metadata": {},
   "outputs": [],
   "source": []
  },
  {
   "cell_type": "code",
   "execution_count": null,
   "id": "5fdf6eab",
   "metadata": {},
   "outputs": [],
   "source": []
  },
  {
   "cell_type": "code",
   "execution_count": null,
   "id": "a4f493af",
   "metadata": {},
   "outputs": [],
   "source": []
  },
  {
   "cell_type": "code",
   "execution_count": null,
   "id": "8d960d0e",
   "metadata": {},
   "outputs": [],
   "source": []
  },
  {
   "cell_type": "code",
   "execution_count": null,
   "id": "20452b14",
   "metadata": {},
   "outputs": [],
   "source": []
  },
  {
   "cell_type": "code",
   "execution_count": null,
   "id": "b0032e40",
   "metadata": {},
   "outputs": [],
   "source": []
  },
  {
   "cell_type": "code",
   "execution_count": null,
   "id": "40161cd9",
   "metadata": {},
   "outputs": [],
   "source": []
  },
  {
   "cell_type": "code",
   "execution_count": null,
   "id": "d03a079c",
   "metadata": {},
   "outputs": [],
   "source": []
  },
  {
   "cell_type": "markdown",
   "id": "52903ed2",
   "metadata": {},
   "source": [
    "# 시간되면 처리"
   ]
  },
  {
   "cell_type": "markdown",
   "id": "035153c7",
   "metadata": {},
   "source": [
    "## 단어로 짜갠다. word의 리스트words가 만들어진다."
   ]
  },
  {
   "cell_type": "markdown",
   "id": "b003edd3",
   "metadata": {},
   "source": [
    "## wordWhere = {word :  list_of_index} 이런 딕셔너리 만든다."
   ]
  },
  {
   "cell_type": "code",
   "execution_count": 42,
   "id": "67d419d1",
   "metadata": {},
   "outputs": [],
   "source": [
    "text = '강아지 으르릉 멍멍 강아지 악 강아지 강아아앙 강아쥐 갱얼쥐 강아지 강쥐'"
   ]
  },
  {
   "cell_type": "code",
   "execution_count": 43,
   "id": "456105ac",
   "metadata": {},
   "outputs": [],
   "source": [
    "words = text.split()"
   ]
  },
  {
   "cell_type": "code",
   "execution_count": 44,
   "id": "36552370",
   "metadata": {
    "scrolled": true
   },
   "outputs": [
    {
     "data": {
      "text/plain": [
       "['강아지', '으르릉', '멍멍', '강아지', '악', '강아지', '강아아앙', '강아쥐', '갱얼쥐', '강아지', '강쥐']"
      ]
     },
     "execution_count": 44,
     "metadata": {},
     "output_type": "execute_result"
    }
   ],
   "source": [
    "words"
   ]
  },
  {
   "cell_type": "code",
   "execution_count": 45,
   "id": "25fbf11f",
   "metadata": {},
   "outputs": [],
   "source": [
    "import numpy as np"
   ]
  },
  {
   "cell_type": "code",
   "execution_count": 46,
   "id": "3e2e2d76",
   "metadata": {},
   "outputs": [
    {
     "data": {
      "text/plain": [
       "array(['강아지', '으르릉', '멍멍', '강아지', '악', '강아지', '강아아앙', '강아쥐', '갱얼쥐', '강아지',\n",
       "       '강쥐'], dtype='<U4')"
      ]
     },
     "execution_count": 46,
     "metadata": {},
     "output_type": "execute_result"
    }
   ],
   "source": [
    "words = np.array(words)\n",
    "words"
   ]
  },
  {
   "cell_type": "code",
   "execution_count": 47,
   "id": "bb6a515e",
   "metadata": {},
   "outputs": [
    {
     "data": {
      "text/plain": [
       "(array([0, 3, 5, 9], dtype=int64),)"
      ]
     },
     "execution_count": 47,
     "metadata": {},
     "output_type": "execute_result"
    }
   ],
   "source": [
    "np.where(words == '강아지')"
   ]
  },
  {
   "cell_type": "code",
   "execution_count": 48,
   "id": "165f2833",
   "metadata": {
    "scrolled": true
   },
   "outputs": [
    {
     "data": {
      "text/plain": [
       "array(['강아지', '으르릉', '멍멍', '강아지', '악', '강아지', '강아아앙', '강아쥐', '갱얼쥐', '강아지',\n",
       "       '강쥐'], dtype='<U4')"
      ]
     },
     "execution_count": 48,
     "metadata": {},
     "output_type": "execute_result"
    }
   ],
   "source": [
    "words"
   ]
  },
  {
   "cell_type": "markdown",
   "id": "a7a97439",
   "metadata": {},
   "source": [
    "- 형태소 분석\n",
    "- 조사 삭제"
   ]
  },
  {
   "cell_type": "code",
   "execution_count": 49,
   "id": "d766ffeb",
   "metadata": {},
   "outputs": [],
   "source": [
    "from konlpy.tag import Okt"
   ]
  },
  {
   "cell_type": "code",
   "execution_count": 50,
   "id": "2ce68462",
   "metadata": {},
   "outputs": [],
   "source": [
    "okt = Okt()\n",
    "morph = okt.pos(text)"
   ]
  },
  {
   "cell_type": "code",
   "execution_count": 51,
   "id": "d86b91ef",
   "metadata": {},
   "outputs": [
    {
     "data": {
      "text/plain": [
       "'강아지 으르릉 멍멍 강아지 악 강아지 강아아앙 강아쥐 갱얼쥐 강아지 강쥐'"
      ]
     },
     "execution_count": 51,
     "metadata": {},
     "output_type": "execute_result"
    }
   ],
   "source": [
    "text"
   ]
  },
  {
   "cell_type": "code",
   "execution_count": 52,
   "id": "a334aa11",
   "metadata": {
    "scrolled": true
   },
   "outputs": [
    {
     "data": {
      "text/plain": [
       "[('강아지', 'Noun'),\n",
       " ('으르릉', 'Noun'),\n",
       " ('멍멍', 'Adverb'),\n",
       " ('강아지', 'Noun'),\n",
       " ('악', 'Noun'),\n",
       " ('강아지', 'Noun'),\n",
       " ('강', 'Noun'),\n",
       " ('아', 'Josa'),\n",
       " ('아앙', 'Noun'),\n",
       " ('강', 'Noun'),\n",
       " ('아', 'Josa'),\n",
       " ('쥐', 'Noun'),\n",
       " ('갱얼쥐', 'Noun'),\n",
       " ('강아지', 'Noun'),\n",
       " ('강쥐', 'Noun')]"
      ]
     },
     "execution_count": 52,
     "metadata": {},
     "output_type": "execute_result"
    }
   ],
   "source": [
    "morph"
   ]
  },
  {
   "cell_type": "code",
   "execution_count": 62,
   "id": "ec5da636",
   "metadata": {},
   "outputs": [],
   "source": [
    "# 의미를 모르고 쪼개는 것 같다.\n",
    "# 한국어는 같은 단어에 전혀 다른 뜻이 쓰이는 경우가 많다.\n",
    "# ex) 강 river strong/ 말 hourse words/ 눈 snow, eyes\n",
    "# 의미 분석을 하려면 영어로 번역후 하는게 좋지 않을까?\n",
    "# 네이버 파파고 api 활용 가능할지도"
   ]
  },
  {
   "cell_type": "markdown",
   "id": "55a19183",
   "metadata": {},
   "source": [
    "- Okt의 attr, method??\n",
    "- jki morphs nomalize nouns phrases pos tagset"
   ]
  },
  {
   "cell_type": "code",
   "execution_count": 60,
   "id": "5884e401",
   "metadata": {},
   "outputs": [
    {
     "data": {
      "text/plain": [
       "<java object 'kr.lucypark.okt.OktInterface'>"
      ]
     },
     "execution_count": 60,
     "metadata": {},
     "output_type": "execute_result"
    }
   ],
   "source": [
    "okt.jki"
   ]
  },
  {
   "cell_type": "code",
   "execution_count": 53,
   "id": "0dc203d1",
   "metadata": {
    "scrolled": true
   },
   "outputs": [
    {
     "data": {
      "text/plain": [
       "['강아지',\n",
       " '으르릉',\n",
       " '멍멍',\n",
       " '강아지',\n",
       " '악',\n",
       " '강아지',\n",
       " '강',\n",
       " '아',\n",
       " '아앙',\n",
       " '강',\n",
       " '아',\n",
       " '쥐',\n",
       " '갱얼쥐',\n",
       " '강아지',\n",
       " '강쥐']"
      ]
     },
     "execution_count": 53,
     "metadata": {},
     "output_type": "execute_result"
    }
   ],
   "source": [
    "okt.morphs(text)"
   ]
  },
  {
   "cell_type": "code",
   "execution_count": 54,
   "id": "c366c6a1",
   "metadata": {
    "scrolled": true
   },
   "outputs": [
    {
     "data": {
      "text/plain": [
       "{'Adjective': '형용사',\n",
       " 'Adverb': '부사',\n",
       " 'Alpha': '알파벳',\n",
       " 'Conjunction': '접속사',\n",
       " 'Determiner': '관형사',\n",
       " 'Eomi': '어미',\n",
       " 'Exclamation': '감탄사',\n",
       " 'Foreign': '외국어, 한자 및 기타기호',\n",
       " 'Hashtag': '트위터 해쉬태그',\n",
       " 'Josa': '조사',\n",
       " 'KoreanParticle': '(ex: ㅋㅋ)',\n",
       " 'Noun': '명사',\n",
       " 'Number': '숫자',\n",
       " 'PreEomi': '선어말어미',\n",
       " 'Punctuation': '구두점',\n",
       " 'ScreenName': '트위터 아이디',\n",
       " 'Suffix': '접미사',\n",
       " 'Unknown': '미등록어',\n",
       " 'Verb': '동사'}"
      ]
     },
     "execution_count": 54,
     "metadata": {},
     "output_type": "execute_result"
    }
   ],
   "source": [
    "okt.tagset"
   ]
  },
  {
   "cell_type": "code",
   "execution_count": 55,
   "id": "107e9e54",
   "metadata": {},
   "outputs": [
    {
     "data": {
      "text/plain": [
       "[('코로나', 'Noun'), ('19', 'Number')]"
      ]
     },
     "execution_count": 55,
     "metadata": {},
     "output_type": "execute_result"
    }
   ],
   "source": [
    "okt.pos('코로나19')"
   ]
  },
  {
   "cell_type": "code",
   "execution_count": 56,
   "id": "3ec03bc6",
   "metadata": {
    "scrolled": true
   },
   "outputs": [
    {
     "data": {
      "text/plain": [
       "[('시발', 'Noun'), ('아', 'Josa')]"
      ]
     },
     "execution_count": 56,
     "metadata": {},
     "output_type": "execute_result"
    }
   ],
   "source": [
    "okt.pos('시발아')"
   ]
  },
  {
   "cell_type": "code",
   "execution_count": 57,
   "id": "2da8159a",
   "metadata": {},
   "outputs": [
    {
     "data": {
      "text/plain": [
       "[('완전', 'Noun'),\n",
       " ('짜증', 'Noun'),\n",
       " ('났잖아', 'Verb'),\n",
       " ('~~', 'Punctuation'),\n",
       " ('아오', 'Exclamation')]"
      ]
     },
     "execution_count": 57,
     "metadata": {},
     "output_type": "execute_result"
    }
   ],
   "source": [
    "okt.pos('완전 짜증 났잖아~~ 아오')"
   ]
  },
  {
   "cell_type": "code",
   "execution_count": 58,
   "id": "445aac22",
   "metadata": {},
   "outputs": [
    {
     "data": {
      "text/plain": [
       "'강아지 으르릉 멍멍 강아지 악 강아지 강아아앙 강아쥐 갱얼쥐 강아지 강쥐'"
      ]
     },
     "execution_count": 58,
     "metadata": {},
     "output_type": "execute_result"
    }
   ],
   "source": [
    "text"
   ]
  },
  {
   "cell_type": "code",
   "execution_count": 59,
   "id": "3015bda4",
   "metadata": {},
   "outputs": [
    {
     "data": {
      "text/plain": [
       "['강아지',\n",
       " '강아지 으르릉',\n",
       " '강아지 악',\n",
       " '강아지 악 강아지',\n",
       " '강아지 악 강아지 강',\n",
       " '아앙',\n",
       " '아앙 강',\n",
       " '쥐 갱얼쥐',\n",
       " '쥐 갱얼쥐 강아지',\n",
       " '쥐 갱얼쥐 강아지 강쥐',\n",
       " '으르릉',\n",
       " '갱얼쥐',\n",
       " '강쥐']"
      ]
     },
     "execution_count": 59,
     "metadata": {},
     "output_type": "execute_result"
    }
   ],
   "source": [
    "okt.phrases(text)"
   ]
  },
  {
   "cell_type": "code",
   "execution_count": null,
   "id": "ecb8ee4b",
   "metadata": {},
   "outputs": [],
   "source": []
  },
  {
   "cell_type": "code",
   "execution_count": null,
   "id": "95d7adff",
   "metadata": {},
   "outputs": [],
   "source": []
  },
  {
   "cell_type": "code",
   "execution_count": null,
   "id": "4ee32f66",
   "metadata": {},
   "outputs": [],
   "source": []
  },
  {
   "cell_type": "markdown",
   "id": "854b0971",
   "metadata": {},
   "source": [
    "- 이건 안해도 될 것 같지만 하면 좋겠다.\n",
    "    - 빈도 확인\n",
    "    - 막대그래프랑 워드클라우드 살짝 뽑아보기"
   ]
  },
  {
   "cell_type": "code",
   "execution_count": null,
   "id": "2fbd299e",
   "metadata": {},
   "outputs": [],
   "source": []
  },
  {
   "cell_type": "code",
   "execution_count": null,
   "id": "64d65f3a",
   "metadata": {},
   "outputs": [],
   "source": []
  }
 ],
 "metadata": {
  "kernelspec": {
   "display_name": "Python 3 (ipykernel)",
   "language": "python",
   "name": "python3"
  },
  "language_info": {
   "codemirror_mode": {
    "name": "ipython",
    "version": 3
   },
   "file_extension": ".py",
   "mimetype": "text/x-python",
   "name": "python",
   "nbconvert_exporter": "python",
   "pygments_lexer": "ipython3",
   "version": "3.10.4"
  },
  "toc": {
   "base_numbering": 1,
   "nav_menu": {},
   "number_sections": true,
   "sideBar": true,
   "skip_h1_title": false,
   "title_cell": "Table of Contents",
   "title_sidebar": "Contents",
   "toc_cell": false,
   "toc_position": {
    "height": "calc(100% - 180px)",
    "left": "10px",
    "top": "150px",
    "width": "292.812px"
   },
   "toc_section_display": true,
   "toc_window_display": true
  }
 },
 "nbformat": 4,
 "nbformat_minor": 5
}
