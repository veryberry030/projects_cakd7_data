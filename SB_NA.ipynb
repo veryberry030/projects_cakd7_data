{
 "cells": [
  {
   "cell_type": "markdown",
   "id": "246ef777",
   "metadata": {},
   "source": [
    "# 계획"
   ]
  },
  {
   "cell_type": "markdown",
   "id": "0c161f88",
   "metadata": {},
   "source": [
    "- 크롤링 준비\n",
    "    - 국회의원이름리스트MPnames 만들기\n",
    "        - 중복이 없는지 확인, 있다면 그 국회의원에 한해 신뢰도가 떨어지겠거니 일단 생각만 해둔다.\n",
    "    - getNewsAbout(MPname)이름 넣으면 크롤링 데이터 반환하는 함수 만들기\n",
    "        - return df_org (컬럼 구성 : ['title', 'originallink', 'link', 'description', 'pubDate'])\n",
    "    - reduction1(df) 데이터 프레임을 넣으면 1차 전처리를 해서 데이터 프레임 반환하는 함수 만들기\n",
    "        - return df_r1 (위와 같음)\n",
    "    - reduction2(df) 데이터 프레임을 넣으면 2차 전처리를 해서 문자열 반환하는 함수 만들기\n",
    "        - return text\n",
    "\n",
    "- 크롤링\n",
    "    - 만든거 for 문으로 휘리릭\n",
    "    - 과정과 결과를 딕셔너리  에 저장 {MPname: [df_org, df_r1, text]}\n",
    "\n",
    "- 1차 전처리\n",
    "    - 한글이외의 것 삭제\n",
    "    - 검색어 삭제\n",
    "    - (title, description)으로 중복 거른다.\n",
    "\n",
    "- 2차 전처리\n",
    "    - 모든 title description을 하나의 문자열 text로 합친다."
   ]
  },
  {
   "cell_type": "markdown",
   "id": "1f718de5",
   "metadata": {},
   "source": [
    "# 준비"
   ]
  },
  {
   "cell_type": "markdown",
   "id": "923ee01f",
   "metadata": {},
   "source": [
    "## import"
   ]
  },
  {
   "cell_type": "code",
   "execution_count": 59,
   "id": "478c5dc0",
   "metadata": {},
   "outputs": [],
   "source": [
    "import re\n",
    "import pickle\n",
    "from datetime import datetime\n",
    "import urllib\n",
    "import pandas as pd\n",
    "import json"
   ]
  },
  {
   "cell_type": "raw",
   "id": "af10a309",
   "metadata": {},
   "source": [
    "import os\n",
    "import sys\n",
    "import urllib.request\n",
    "from bs4 import BeautifulSoup"
   ]
  },
  {
   "cell_type": "code",
   "execution_count": null,
   "id": "64ba4dbc",
   "metadata": {},
   "outputs": [],
   "source": []
  },
  {
   "cell_type": "markdown",
   "id": "e0da0d19",
   "metadata": {},
   "source": [
    "## MPnames : 국회의원 이름리스트\n",
    "- MP.pkl에서 의원명 수집\n",
    "- 중복이 없는지 확인, 있다면 그 국회의원에 한해 신뢰도가 떨어지겠거니 일단 생각만 해둔다."
   ]
  },
  {
   "cell_type": "code",
   "execution_count": 60,
   "id": "f48d21c7",
   "metadata": {},
   "outputs": [],
   "source": [
    "MP = pd.read_pickle('MP.pkl')"
   ]
  },
  {
   "cell_type": "code",
   "execution_count": 61,
   "id": "533df558",
   "metadata": {
    "scrolled": true
   },
   "outputs": [
    {
     "name": "stdout",
     "output_type": "stream",
     "text": [
      "<class 'pandas.core.frame.DataFrame'>\n",
      "RangeIndex: 299 entries, 0 to 298\n",
      "Data columns (total 7 columns):\n",
      " #   Column  Non-Null Count  Dtype \n",
      "---  ------  --------------  ----- \n",
      " 0   의원명     299 non-null    object\n",
      " 1   정당      299 non-null    object\n",
      " 2   소속위원회   298 non-null    object\n",
      " 3   지역      299 non-null    object\n",
      " 4   성별      299 non-null    object\n",
      " 5   당선횟수    299 non-null    object\n",
      " 6   당선방법    299 non-null    object\n",
      "dtypes: object(7)\n",
      "memory usage: 16.5+ KB\n"
     ]
    }
   ],
   "source": [
    "MP.info()"
   ]
  },
  {
   "cell_type": "code",
   "execution_count": 62,
   "id": "9f5ae677",
   "metadata": {},
   "outputs": [],
   "source": [
    "MPnames = MP['의원명']"
   ]
  },
  {
   "cell_type": "code",
   "execution_count": 63,
   "id": "30ecdfd1",
   "metadata": {},
   "outputs": [
    {
     "data": {
      "text/plain": [
       "(299, 297)"
      ]
     },
     "execution_count": 63,
     "metadata": {},
     "output_type": "execute_result"
    }
   ],
   "source": [
    "MPnames.count(), len(MPnames.unique())"
   ]
  },
  {
   "cell_type": "markdown",
   "id": "cfa88b17",
   "metadata": {},
   "source": [
    "### 동명이인확인\n",
    "- 김병욱(33, 34), 이수진(191, 192)"
   ]
  },
  {
   "cell_type": "code",
   "execution_count": 64,
   "id": "354c42b3",
   "metadata": {
    "scrolled": false
   },
   "outputs": [
    {
     "data": {
      "text/html": [
       "<div>\n",
       "<style scoped>\n",
       "    .dataframe tbody tr th:only-of-type {\n",
       "        vertical-align: middle;\n",
       "    }\n",
       "\n",
       "    .dataframe tbody tr th {\n",
       "        vertical-align: top;\n",
       "    }\n",
       "\n",
       "    .dataframe thead th {\n",
       "        text-align: right;\n",
       "    }\n",
       "</style>\n",
       "<table border=\"1\" class=\"dataframe\">\n",
       "  <thead>\n",
       "    <tr style=\"text-align: right;\">\n",
       "      <th></th>\n",
       "      <th>의원명</th>\n",
       "      <th>정당</th>\n",
       "      <th>소속위원회</th>\n",
       "      <th>지역</th>\n",
       "      <th>성별</th>\n",
       "      <th>당선횟수</th>\n",
       "      <th>당선방법</th>\n",
       "    </tr>\n",
       "  </thead>\n",
       "  <tbody>\n",
       "    <tr>\n",
       "      <th>33</th>\n",
       "      <td>김병욱</td>\n",
       "      <td>더불어민주당</td>\n",
       "      <td>[국토교통위원회]</td>\n",
       "      <td>경기 성남시분당구을</td>\n",
       "      <td>남</td>\n",
       "      <td>재선</td>\n",
       "      <td>지역구</td>\n",
       "    </tr>\n",
       "    <tr>\n",
       "      <th>191</th>\n",
       "      <td>이수진</td>\n",
       "      <td>더불어민주당</td>\n",
       "      <td>[기획재정위원회,  예산결산특별위원회]</td>\n",
       "      <td>서울 동작구을</td>\n",
       "      <td>여</td>\n",
       "      <td>초선</td>\n",
       "      <td>지역구</td>\n",
       "    </tr>\n",
       "  </tbody>\n",
       "</table>\n",
       "</div>"
      ],
      "text/plain": [
       "     의원명      정당                  소속위원회          지역 성별 당선횟수 당선방법\n",
       "33   김병욱  더불어민주당              [국토교통위원회]  경기 성남시분당구을  남   재선  지역구\n",
       "191  이수진  더불어민주당  [기획재정위원회,  예산결산특별위원회]     서울 동작구을  여   초선  지역구"
      ]
     },
     "execution_count": 64,
     "metadata": {},
     "output_type": "execute_result"
    }
   ],
   "source": [
    "MP[MP.duplicated(subset=['의원명'], keep='last')]"
   ]
  },
  {
   "cell_type": "code",
   "execution_count": 65,
   "id": "19c5fdc6",
   "metadata": {
    "scrolled": true
   },
   "outputs": [
    {
     "data": {
      "text/html": [
       "<div>\n",
       "<style scoped>\n",
       "    .dataframe tbody tr th:only-of-type {\n",
       "        vertical-align: middle;\n",
       "    }\n",
       "\n",
       "    .dataframe tbody tr th {\n",
       "        vertical-align: top;\n",
       "    }\n",
       "\n",
       "    .dataframe thead th {\n",
       "        text-align: right;\n",
       "    }\n",
       "</style>\n",
       "<table border=\"1\" class=\"dataframe\">\n",
       "  <thead>\n",
       "    <tr style=\"text-align: right;\">\n",
       "      <th></th>\n",
       "      <th>의원명</th>\n",
       "      <th>정당</th>\n",
       "      <th>소속위원회</th>\n",
       "      <th>지역</th>\n",
       "      <th>성별</th>\n",
       "      <th>당선횟수</th>\n",
       "      <th>당선방법</th>\n",
       "    </tr>\n",
       "  </thead>\n",
       "  <tbody>\n",
       "    <tr>\n",
       "      <th>34</th>\n",
       "      <td>김병욱</td>\n",
       "      <td>국민의힘</td>\n",
       "      <td>[교육위원회,  예산결산특별위원회]</td>\n",
       "      <td>경북 포항시남구울릉군</td>\n",
       "      <td>남</td>\n",
       "      <td>초선</td>\n",
       "      <td>지역구</td>\n",
       "    </tr>\n",
       "    <tr>\n",
       "      <th>192</th>\n",
       "      <td>이수진</td>\n",
       "      <td>더불어민주당</td>\n",
       "      <td>[민생경제안정특별위원회,  국회운영위원회,  환경노동위원회]</td>\n",
       "      <td>비례대표</td>\n",
       "      <td>여</td>\n",
       "      <td>초선</td>\n",
       "      <td>비례대표</td>\n",
       "    </tr>\n",
       "  </tbody>\n",
       "</table>\n",
       "</div>"
      ],
      "text/plain": [
       "     의원명      정당                              소속위원회           지역 성별 당선횟수  당선방법\n",
       "34   김병욱    국민의힘                [교육위원회,  예산결산특별위원회]  경북 포항시남구울릉군  남   초선   지역구\n",
       "192  이수진  더불어민주당  [민생경제안정특별위원회,  국회운영위원회,  환경노동위원회]         비례대표  여   초선  비례대표"
      ]
     },
     "execution_count": 65,
     "metadata": {},
     "output_type": "execute_result"
    }
   ],
   "source": [
    "MP[MP.duplicated(subset=['의원명'], keep='first')]"
   ]
  },
  {
   "cell_type": "code",
   "execution_count": 66,
   "id": "dae4d36e",
   "metadata": {},
   "outputs": [
    {
     "name": "stdout",
     "output_type": "stream",
     "text": [
      "강기윤 강대식 강득구 강민국 강민정 강병원 강선우 강은미 강준현 강훈식 고민정 고영인 고용진 구자근 권명호 권성동 권영세 권은희 권인숙 권칠승 기동민 김경만 김경협 김교흥 김기현 김남국 김도읍 김두관 김미애 김민기 김민석 김민철 김병기 김병욱 김병욱 김병주 김상훈 김상희 김석기 김선교 김성원 김성주 김성환 김수흥 김승남 김승수 김승원 김영배 김영선 김영식 김영주 김영진 김영호 김예지 김용민 김용판 김웅 김원이 김윤덕 김의겸 김정재 김정호 김종민 김주영 김진표 김철민 김태년 김태호 김학용 김한규 김한정 김형동 김홍걸 김회재 김희곤 김희국 남인순 노용호 노웅래 도종환 류성걸 류호정 맹성규 문정복 문진석 민병덕 민형배 민홍철 박광온 박대수 박대출 박덕흠 박범계 박병석 박상혁 박성민 박성준 박성중 박수영 박영순 박완주 박용진 박재호 박정 박정하 박주민 박진 박찬대 박형수 박홍근 배준영 배진교 배현진 백종헌 백혜련 변재일 서동용 서범수 서병수 서삼석 서영교 서영석 서일준 서정숙 설훈 성일종 소병철 소병훈 송갑석 송기헌 송석준 송언석 송옥주 송재호 신동근 신영대 신원식 신정훈 신현영 심상정 안규백 안민석 안병길 안철수 안호영 양경숙 양금희 양기대 양이원영 양정숙 양향자 어기구 엄태영 오기형 오영환 용혜인 우상호 우원식 위성곤 유경준 유기홍 유동수 유상범 유의동 유정주 윤건영 윤관석 윤두현 윤미향 윤상현 윤영덕 윤영석 윤영찬 윤재갑 윤재옥 윤주경 윤준병 윤창현 윤한홍 윤호중 윤후덕 이개호 이달곤 이동주 이만희 이명수 이병훈 이상민 이상헌 이성만 이소영 이수진 이수진 이양수 이용 이용빈 이용선 이용우 이용호 이원욱 이원택 이은주 이인선 이인영 이장섭 이재명 이재정 이정문 이종배 이종성 이주환 이채익 이철규 이탄희 이태규 이학영 이해식 이헌승 이형석 인재근 임병헌 임오경 임이자 임종성 임호선 장경태 장동혁 장제원 장철민 장혜영 전봉민 전용기 전재수 전주혜 전해철 전혜숙 정경희 정동만 정성호 정우택 정운천 정일영 정점식 정진석 정찬민 정청래 정춘숙 정태호 정필모 정희용 조경태 조명희 조수진 조승래 조오섭 조은희 조응천 조정식 조정훈 조해진 주철현 주호영 지성호 진선미 진성준 천준호 최강욱 최기상 최승재 최연숙 최영희 최인호 최재형 최종윤 최춘식 최형두 최혜영 추경호 태영호 하영제 하태경 한기호 한무경 한병도 한정애 한준호 허영 허은아 허종식 홍기원 홍문표 홍석준 홍성국 홍영표 홍익표 홍정민 황보승희 황운하 황희 "
     ]
    }
   ],
   "source": [
    "for name in MPnames:\n",
    "    print(name, end=\" \")"
   ]
  },
  {
   "cell_type": "markdown",
   "id": "884c77e2",
   "metadata": {},
   "source": [
    "## getNewsAbout(name) : 크롤링 함수\n",
    "- 이름 넣으면 크롤링 데이터 반환하는 함수 만들기\n",
    "- return df_org (컬럼 구성 : ['title', 'originallink', 'link', 'description', 'pubDate']) "
   ]
  },
  {
   "cell_type": "markdown",
   "id": "80ff66eb",
   "metadata": {},
   "source": [
    "- https://developers.naver.com/docs/serviceapi/search/news/news.md#%EB%89%B4%EC%8A%A4"
   ]
  },
  {
   "cell_type": "code",
   "execution_count": 67,
   "id": "dda13284",
   "metadata": {},
   "outputs": [],
   "source": [
    "client_id = \"ISdXTGuV8Tdqx9fNxPgz\"\n",
    "client_secret = \"e2kcexi37t\"\n",
    "display = 100 # 출력건수 (최대)\n",
    "sort = 'sim' # 유사도\n",
    "\n",
    "def getNewsAbout(name):    \n",
    "    encText = urllib.parse.quote(name)\n",
    "    url = f'https://openapi.naver.com/v1/search/news?query={encText}&display={display}&sort={sort}'\n",
    "\n",
    "    request = urllib.request.Request(url)\n",
    "    request.add_header(\"X-Naver-Client-Id\",client_id)\n",
    "    request.add_header(\"X-Naver-Client-Secret\",client_secret)\n",
    "\n",
    "    response = urllib.request.urlopen(request)\n",
    "    rescode = response.getcode()\n",
    "    \n",
    "    df = pd.DataFrame() \n",
    "    if(rescode==200):\n",
    "        response_body = response.read()\n",
    "    else:\n",
    "        print('getNewsAbout : crawling about ', name, 'failed.')\n",
    "        print(\"Error Code:\" + rescode)\n",
    "        return df # 실패시 빈 DataFrame을 return\n",
    "        \n",
    "    df = response_body.decode('utf-8')\n",
    "    df = json.loads(df)\n",
    "    df = pd.DataFrame(df['items'])\n",
    "    \n",
    "    return df"
   ]
  },
  {
   "cell_type": "markdown",
   "id": "0922234e",
   "metadata": {},
   "source": [
    "- 함수 기능 체크"
   ]
  },
  {
   "cell_type": "code",
   "execution_count": 68,
   "id": "c2c97994",
   "metadata": {},
   "outputs": [],
   "source": [
    "name = MPnames[0]\n",
    "df = getNewsAbout(name)"
   ]
  },
  {
   "cell_type": "code",
   "execution_count": 69,
   "id": "6771bec2",
   "metadata": {},
   "outputs": [
    {
     "name": "stdout",
     "output_type": "stream",
     "text": [
      "<class 'pandas.core.frame.DataFrame'>\n",
      "RangeIndex: 100 entries, 0 to 99\n",
      "Data columns (total 5 columns):\n",
      " #   Column        Non-Null Count  Dtype \n",
      "---  ------        --------------  ----- \n",
      " 0   title         100 non-null    object\n",
      " 1   originallink  100 non-null    object\n",
      " 2   link          100 non-null    object\n",
      " 3   description   100 non-null    object\n",
      " 4   pubDate       100 non-null    object\n",
      "dtypes: object(5)\n",
      "memory usage: 4.0+ KB\n"
     ]
    }
   ],
   "source": [
    "df.info()"
   ]
  },
  {
   "cell_type": "code",
   "execution_count": 70,
   "id": "5ed977f7",
   "metadata": {},
   "outputs": [
    {
     "data": {
      "text/html": [
       "<div>\n",
       "<style scoped>\n",
       "    .dataframe tbody tr th:only-of-type {\n",
       "        vertical-align: middle;\n",
       "    }\n",
       "\n",
       "    .dataframe tbody tr th {\n",
       "        vertical-align: top;\n",
       "    }\n",
       "\n",
       "    .dataframe thead th {\n",
       "        text-align: right;\n",
       "    }\n",
       "</style>\n",
       "<table border=\"1\" class=\"dataframe\">\n",
       "  <thead>\n",
       "    <tr style=\"text-align: right;\">\n",
       "      <th></th>\n",
       "      <th>title</th>\n",
       "      <th>originallink</th>\n",
       "      <th>link</th>\n",
       "      <th>description</th>\n",
       "      <th>pubDate</th>\n",
       "    </tr>\n",
       "  </thead>\n",
       "  <tbody>\n",
       "    <tr>\n",
       "      <th>0</th>\n",
       "      <td>&lt;b&gt;강기윤&lt;/b&gt; &amp;quot;확진자 접촉 무증상자도 신속항원 검사 무료화&amp;quot;</td>\n",
       "      <td>http://www.edaily.co.kr/news/newspath.asp?news...</td>\n",
       "      <td>https://n.news.naver.com/mnews/article/018/000...</td>\n",
       "      <td>&lt;b&gt;강기윤&lt;/b&gt; 국민의힘 의원(사진)은 “이르면 다음주부터 코로나19 확진자와 ...</td>\n",
       "      <td>Fri, 29 Jul 2022 14:43:00 +0900</td>\n",
       "    </tr>\n",
       "    <tr>\n",
       "      <th>1</th>\n",
       "      <td>&lt;b&gt;강기윤&lt;/b&gt; 의원 “코로나 무증상자도 신속항원검사 무료로 받을 수 있어”</td>\n",
       "      <td>https://mdtoday.co.kr/news/view/1065600496226340</td>\n",
       "      <td>https://mdtoday.co.kr/news/view/1065600496226340</td>\n",
       "      <td>▲ 국민의힘 &lt;b&gt;강기윤&lt;/b&gt; 의원 (사진=&lt;b&gt;강기윤&lt;/b&gt;의원실 제공) 이르면...</td>\n",
       "      <td>Fri, 29 Jul 2022 17:46:00 +0900</td>\n",
       "    </tr>\n",
       "    <tr>\n",
       "      <th>2</th>\n",
       "      <td>보건복지위원장 정춘숙…간사 &lt;b&gt;강기윤&lt;/b&gt;‧강훈식 의원</td>\n",
       "      <td>https://www.dailymedi.com/news/news_view.php?w...</td>\n",
       "      <td>https://www.dailymedi.com/news/news_view.php?w...</td>\n",
       "      <td>﻿﻿﻿사진설명 = 좌측부터 보건복지위원장 정춘숙 의원 국민의힘 &lt;b&gt;강기윤&lt;/b&gt; ...</td>\n",
       "      <td>Fri, 22 Jul 2022 13:02:00 +0900</td>\n",
       "    </tr>\n",
       "    <tr>\n",
       "      <th>3</th>\n",
       "      <td>후반기 국회 복지위원장에 정춘숙 의원…양당 간사는 &lt;b&gt;강기윤&lt;/b&gt;·강훈식</td>\n",
       "      <td>http://www.medigatenews.com/news/2294375390</td>\n",
       "      <td>http://www.medigatenews.com/news/2294375390</td>\n",
       "      <td>여당 간사는 국민의힘 &lt;b&gt;강기윤&lt;/b&gt; 의원이, 야당 간사는 더불어민주당 강훈식 ...</td>\n",
       "      <td>Fri, 22 Jul 2022 14:50:00 +0900</td>\n",
       "    </tr>\n",
       "    <tr>\n",
       "      <th>4</th>\n",
       "      <td>&amp;quot;팬데믹 시대 과학 방역의 핵심, 관료 아닌 전문가에 맡길 것&amp;quot; ...</td>\n",
       "      <td>http://www.sisaon.co.kr/news/articleView.html?...</td>\n",
       "      <td>http://www.sisaon.co.kr/news/articleView.html?...</td>\n",
       "      <td>토론자: &lt;b&gt;강기윤&lt;/b&gt;-박향-정재훈-조동찬 국민의힘 안철수 의원이 26일 오전...</td>\n",
       "      <td>Tue, 26 Jul 2022 22:42:00 +0900</td>\n",
       "    </tr>\n",
       "  </tbody>\n",
       "</table>\n",
       "</div>"
      ],
      "text/plain": [
       "                                               title  \\\n",
       "0    <b>강기윤</b> &quot;확진자 접촉 무증상자도 신속항원 검사 무료화&quot;   \n",
       "1       <b>강기윤</b> 의원 “코로나 무증상자도 신속항원검사 무료로 받을 수 있어”   \n",
       "2                   보건복지위원장 정춘숙…간사 <b>강기윤</b>‧강훈식 의원   \n",
       "3         후반기 국회 복지위원장에 정춘숙 의원…양당 간사는 <b>강기윤</b>·강훈식   \n",
       "4  &quot;팬데믹 시대 과학 방역의 핵심, 관료 아닌 전문가에 맡길 것&quot; ...   \n",
       "\n",
       "                                        originallink  \\\n",
       "0  http://www.edaily.co.kr/news/newspath.asp?news...   \n",
       "1   https://mdtoday.co.kr/news/view/1065600496226340   \n",
       "2  https://www.dailymedi.com/news/news_view.php?w...   \n",
       "3        http://www.medigatenews.com/news/2294375390   \n",
       "4  http://www.sisaon.co.kr/news/articleView.html?...   \n",
       "\n",
       "                                                link  \\\n",
       "0  https://n.news.naver.com/mnews/article/018/000...   \n",
       "1   https://mdtoday.co.kr/news/view/1065600496226340   \n",
       "2  https://www.dailymedi.com/news/news_view.php?w...   \n",
       "3        http://www.medigatenews.com/news/2294375390   \n",
       "4  http://www.sisaon.co.kr/news/articleView.html?...   \n",
       "\n",
       "                                         description  \\\n",
       "0  <b>강기윤</b> 국민의힘 의원(사진)은 “이르면 다음주부터 코로나19 확진자와 ...   \n",
       "1  ▲ 국민의힘 <b>강기윤</b> 의원 (사진=<b>강기윤</b>의원실 제공) 이르면...   \n",
       "2  ﻿﻿﻿사진설명 = 좌측부터 보건복지위원장 정춘숙 의원 국민의힘 <b>강기윤</b> ...   \n",
       "3  여당 간사는 국민의힘 <b>강기윤</b> 의원이, 야당 간사는 더불어민주당 강훈식 ...   \n",
       "4  토론자: <b>강기윤</b>-박향-정재훈-조동찬 국민의힘 안철수 의원이 26일 오전...   \n",
       "\n",
       "                           pubDate  \n",
       "0  Fri, 29 Jul 2022 14:43:00 +0900  \n",
       "1  Fri, 29 Jul 2022 17:46:00 +0900  \n",
       "2  Fri, 22 Jul 2022 13:02:00 +0900  \n",
       "3  Fri, 22 Jul 2022 14:50:00 +0900  \n",
       "4  Tue, 26 Jul 2022 22:42:00 +0900  "
      ]
     },
     "execution_count": 70,
     "metadata": {},
     "output_type": "execute_result"
    }
   ],
   "source": [
    "df.head()"
   ]
  },
  {
   "cell_type": "markdown",
   "id": "90d4e178",
   "metadata": {},
   "source": [
    "## reduction1(df, name) : 1차 전처리 함수\n",
    "- 데이터 프레임을 넣으면 1차 전처리를 해서 데이터 프레임 반환하는 함수 만들기\n",
    "- return df_r1 (들어온 df와 같은 컬럼구성)"
   ]
  },
  {
   "cell_type": "markdown",
   "id": "beb78a7a",
   "metadata": {},
   "source": [
    "- 1차 전처리\n",
    "    - (title, description)에 대하여\n",
    "        - 한글이외의 것 삭제\n",
    "        - 검색어 삭제\n",
    "    - (title, description)을 기준으로 중복 거른다."
   ]
  },
  {
   "cell_type": "code",
   "execution_count": 71,
   "id": "713ebe4b",
   "metadata": {},
   "outputs": [],
   "source": [
    "def reduction1(df, name):\n",
    "    \n",
    "    if df.empty:\n",
    "        print(\"reduction1 : empty data.\")\n",
    "        return df\n",
    "    \n",
    "    df.title = df.title.apply(lambda x : re.sub('[^가-힣]+', ' ', x))\n",
    "    df.description = df.description.apply(lambda x : re.sub('[^가-힣]+', ' ', x))\n",
    "    \n",
    "    df.title = df.title.apply(lambda x : re.sub('\\s+', ' ', x))\n",
    "    df.description = df.description.apply(lambda x : re.sub('\\s', ' ', x))\n",
    "    \n",
    "    df.title = df.title.apply(lambda x : x.replace(name, ''))\n",
    "    df.description = df.description.apply(lambda x : x.replace(name, ''))\n",
    "    \n",
    "    df.drop_duplicates(subset=['title'], inplace=True)\n",
    "    df.drop_duplicates(subset=['description'], inplace=True)\n",
    "    \n",
    "    return df"
   ]
  },
  {
   "cell_type": "markdown",
   "id": "d9770e51",
   "metadata": {},
   "source": [
    "- 함수 기능 체크"
   ]
  },
  {
   "cell_type": "code",
   "execution_count": 72,
   "id": "ff283727",
   "metadata": {},
   "outputs": [
    {
     "name": "stdout",
     "output_type": "stream",
     "text": [
      "<class 'pandas.core.frame.DataFrame'>\n",
      "RangeIndex: 100 entries, 0 to 99\n",
      "Data columns (total 5 columns):\n",
      " #   Column        Non-Null Count  Dtype \n",
      "---  ------        --------------  ----- \n",
      " 0   title         100 non-null    object\n",
      " 1   originallink  100 non-null    object\n",
      " 2   link          100 non-null    object\n",
      " 3   description   100 non-null    object\n",
      " 4   pubDate       100 non-null    object\n",
      "dtypes: object(5)\n",
      "memory usage: 4.0+ KB\n",
      "<class 'pandas.core.frame.DataFrame'>\n",
      "Int64Index: 89 entries, 0 to 99\n",
      "Data columns (total 5 columns):\n",
      " #   Column        Non-Null Count  Dtype \n",
      "---  ------        --------------  ----- \n",
      " 0   title         89 non-null     object\n",
      " 1   originallink  89 non-null     object\n",
      " 2   link          89 non-null     object\n",
      " 3   description   89 non-null     object\n",
      " 4   pubDate       89 non-null     object\n",
      "dtypes: object(5)\n",
      "memory usage: 4.2+ KB\n"
     ]
    }
   ],
   "source": [
    "df1 = df.copy()\n",
    "df1.info()\n",
    "df_r1 = reduction1(df1, name)\n",
    "df_r1.info()"
   ]
  },
  {
   "cell_type": "code",
   "execution_count": 73,
   "id": "1053368c",
   "metadata": {},
   "outputs": [
    {
     "data": {
      "text/html": [
       "<div>\n",
       "<style scoped>\n",
       "    .dataframe tbody tr th:only-of-type {\n",
       "        vertical-align: middle;\n",
       "    }\n",
       "\n",
       "    .dataframe tbody tr th {\n",
       "        vertical-align: top;\n",
       "    }\n",
       "\n",
       "    .dataframe thead th {\n",
       "        text-align: right;\n",
       "    }\n",
       "</style>\n",
       "<table border=\"1\" class=\"dataframe\">\n",
       "  <thead>\n",
       "    <tr style=\"text-align: right;\">\n",
       "      <th></th>\n",
       "      <th>title</th>\n",
       "      <th>originallink</th>\n",
       "      <th>link</th>\n",
       "      <th>description</th>\n",
       "      <th>pubDate</th>\n",
       "    </tr>\n",
       "  </thead>\n",
       "  <tbody>\n",
       "    <tr>\n",
       "      <th>0</th>\n",
       "      <td>확진자 접촉 무증상자도 신속항원 검사 무료화</td>\n",
       "      <td>http://www.edaily.co.kr/news/newspath.asp?news...</td>\n",
       "      <td>https://n.news.naver.com/mnews/article/018/000...</td>\n",
       "      <td>국민의힘 의원 사진 은 이르면 다음주부터 코로나 확진자와 접촉한 무증상자 또한 ...</td>\n",
       "      <td>Fri, 29 Jul 2022 14:43:00 +0900</td>\n",
       "    </tr>\n",
       "    <tr>\n",
       "      <th>1</th>\n",
       "      <td>의원 코로나 무증상자도 신속항원검사 무료로 받을 수 있어</td>\n",
       "      <td>https://mdtoday.co.kr/news/view/1065600496226340</td>\n",
       "      <td>https://mdtoday.co.kr/news/view/1065600496226340</td>\n",
       "      <td>국민의힘  의원 사진  의원실 제공 이르면 다음주부터 코로나 확진자와 접촉한 무증...</td>\n",
       "      <td>Fri, 29 Jul 2022 17:46:00 +0900</td>\n",
       "    </tr>\n",
       "    <tr>\n",
       "      <th>2</th>\n",
       "      <td>보건복지위원장 정춘숙 간사  강훈식 의원</td>\n",
       "      <td>https://www.dailymedi.com/news/news_view.php?w...</td>\n",
       "      <td>https://www.dailymedi.com/news/news_view.php?w...</td>\n",
       "      <td>사진설명 좌측부터 보건복지위원장 정춘숙 의원 국민의힘  의원 더민주당 강훈식 의원...</td>\n",
       "      <td>Fri, 22 Jul 2022 13:02:00 +0900</td>\n",
       "    </tr>\n",
       "    <tr>\n",
       "      <th>3</th>\n",
       "      <td>후반기 국회 복지위원장에 정춘숙 의원 양당 간사는  강훈식</td>\n",
       "      <td>http://www.medigatenews.com/news/2294375390</td>\n",
       "      <td>http://www.medigatenews.com/news/2294375390</td>\n",
       "      <td>여당 간사는 국민의힘  의원이 야당 간사는 더불어민주당 강훈식 의원이 맡게됐다  의...</td>\n",
       "      <td>Fri, 22 Jul 2022 14:50:00 +0900</td>\n",
       "    </tr>\n",
       "    <tr>\n",
       "      <th>4</th>\n",
       "      <td>팬데믹 시대 과학 방역의 핵심 관료 아닌 전문가에 맡길 것 안철수 민 당</td>\n",
       "      <td>http://www.sisaon.co.kr/news/articleView.html?...</td>\n",
       "      <td>http://www.sisaon.co.kr/news/articleView.html?...</td>\n",
       "      <td>토론자  박향 정재훈 조동찬 국민의힘 안철수 의원이 일 오전 국회 의원회관에서 열린...</td>\n",
       "      <td>Tue, 26 Jul 2022 22:42:00 +0900</td>\n",
       "    </tr>\n",
       "  </tbody>\n",
       "</table>\n",
       "</div>"
      ],
      "text/plain": [
       "                                        title  \\\n",
       "0                   확진자 접촉 무증상자도 신속항원 검사 무료화    \n",
       "1            의원 코로나 무증상자도 신속항원검사 무료로 받을 수 있어    \n",
       "2                      보건복지위원장 정춘숙 간사  강훈식 의원   \n",
       "3            후반기 국회 복지위원장에 정춘숙 의원 양당 간사는  강훈식   \n",
       "4   팬데믹 시대 과학 방역의 핵심 관료 아닌 전문가에 맡길 것 안철수 민 당    \n",
       "\n",
       "                                        originallink  \\\n",
       "0  http://www.edaily.co.kr/news/newspath.asp?news...   \n",
       "1   https://mdtoday.co.kr/news/view/1065600496226340   \n",
       "2  https://www.dailymedi.com/news/news_view.php?w...   \n",
       "3        http://www.medigatenews.com/news/2294375390   \n",
       "4  http://www.sisaon.co.kr/news/articleView.html?...   \n",
       "\n",
       "                                                link  \\\n",
       "0  https://n.news.naver.com/mnews/article/018/000...   \n",
       "1   https://mdtoday.co.kr/news/view/1065600496226340   \n",
       "2  https://www.dailymedi.com/news/news_view.php?w...   \n",
       "3        http://www.medigatenews.com/news/2294375390   \n",
       "4  http://www.sisaon.co.kr/news/articleView.html?...   \n",
       "\n",
       "                                         description  \\\n",
       "0    국민의힘 의원 사진 은 이르면 다음주부터 코로나 확진자와 접촉한 무증상자 또한 ...   \n",
       "1   국민의힘  의원 사진  의원실 제공 이르면 다음주부터 코로나 확진자와 접촉한 무증...   \n",
       "2   사진설명 좌측부터 보건복지위원장 정춘숙 의원 국민의힘  의원 더민주당 강훈식 의원...   \n",
       "3  여당 간사는 국민의힘  의원이 야당 간사는 더불어민주당 강훈식 의원이 맡게됐다  의...   \n",
       "4  토론자  박향 정재훈 조동찬 국민의힘 안철수 의원이 일 오전 국회 의원회관에서 열린...   \n",
       "\n",
       "                           pubDate  \n",
       "0  Fri, 29 Jul 2022 14:43:00 +0900  \n",
       "1  Fri, 29 Jul 2022 17:46:00 +0900  \n",
       "2  Fri, 22 Jul 2022 13:02:00 +0900  \n",
       "3  Fri, 22 Jul 2022 14:50:00 +0900  \n",
       "4  Tue, 26 Jul 2022 22:42:00 +0900  "
      ]
     },
     "execution_count": 73,
     "metadata": {},
     "output_type": "execute_result"
    }
   ],
   "source": [
    "df_r1.head()"
   ]
  },
  {
   "cell_type": "markdown",
   "id": "2c1aeb99",
   "metadata": {},
   "source": [
    "## reduction2(df) : 2차 전처리\n",
    "- 데이터 프레임을 넣으면 2차 전처리를 해서 문자열 반환하는 함수 만들기\n",
    "- return text"
   ]
  },
  {
   "cell_type": "markdown",
   "id": "a2e281e1",
   "metadata": {},
   "source": [
    "- 모든 title description을 하나의 문자열 text로 합친다."
   ]
  },
  {
   "cell_type": "code",
   "execution_count": 74,
   "id": "34441d3b",
   "metadata": {},
   "outputs": [],
   "source": [
    "def reduction2(df):\n",
    "    if df.empty:\n",
    "        print(\"reduction2 : empty data.\")\n",
    "        return \"\"\n",
    "    text = \"\"\n",
    "    sr = df.title + df.description\n",
    "    text = \" \".join(sr)\n",
    "    text = re.sub('\\s+', ' ', text)\n",
    "    text = text.strip()\n",
    "    \n",
    "    return text"
   ]
  },
  {
   "cell_type": "code",
   "execution_count": 76,
   "id": "90475ebf",
   "metadata": {
    "scrolled": true
   },
   "outputs": [
    {
     "name": "stdout",
     "output_type": "stream",
     "text": [
      "10624 <class 'str'>\n",
      "확진자 접촉 무증상자도 신속항원 검사 무료화 국민의힘 의원 사진 은 이르면 다음주부터 코로나 확진자와 접촉한 무증상자 또한 의료기관 의원은 코로나 확진자와 접촉한 무증상자에 대해서도 의사의 판단 하에 신속항원검사비를 무료로 의원 코로나 무증상자도 신속항원검사 무료로 받을 수 있어 국민의힘 의원 사진 의원실 제공 이르면 다음주부터 코로나 확진자와 접촉한 무증상자 또한 의료기관 등에서 의사의 판단 하에 신속항원검사 를 무료로 받게 된다 국회 보건복지위원회 소속 보건복지위원장 정춘숙 간사 강훈식 의원 사진설명 좌측부터 보건복지위원장 정춘숙 의원 국민의힘 의원 더민주당 강훈식 의원 보건복지위 위원장은 보건복지위원장 정춘숙 의원이 맡았으며 간사는 여당에서 의원 국민의힘 후반기 국회 복지위원장에 정춘숙 의원 양당 간사는 강훈식여당 간사는 국민의힘 의원이 야당 간사는 더불어민주당 강훈식 의원이 맡게됐다 의원은 전반기에 이어 후반기에도 간사 직책을 이어가게 됐으며 강훈식 의원은 전반기 팬데믹 시대 과학 방역의 핵심 관료 아닌 전문가에 맡길 것 안철수 민 당 토론자 박향 정재훈 조동찬 국민의힘 안철수 의원이 일 오전 국회 의원회관에서 열린 위기를 연합뉴스 제언 전문가 의사 결정 따른 과학방역 이뤄야 국가 책임 중요 국민의힘 의원은 코로나 재유행대비 의료체계 점검 긴급 간담회 연다 의원 국회 국민의힘 의원 경남 창원시 성산구 보건복지위원회 간사 이 오는 일 목 오후 국회의원회관 제 간담회의실에서 코로나 재유행 의료체계 점검 긴급간담회 를 개최할 예정이다 이번 간담회는 코로나 재유행대비 의료체계 점검 위한 긴급 간담회 개최국민의힘 보건복지위원회 간사인 의원 경남 창원성산구 사진 국제뉴스 국회 국민의힘 보건복지위원회 간사인 의원 창원시 성산구 에 따르면 오는 일 오후 국회의원회관 제 간담회의실에서 코로나 후반기 국회 보건복지위 정춘숙 한정애 의원 이끈다보건복지위 간사로는 국민의힘 의원과 더불어민주당 강훈식 의원이 각각 내정됐다 의원은 전반기에서도 보건복지위원회 국민의힘 간사로 활동했다 지난 월 일 일찍이 보건복지위 국민의힘 간사로 보건복지위원장 정춘숙 한정애 의원 년씩 맡기로아울러 여당인 국민의힘에서는 기확정 발표된 재선의원이 간사를 제 야당 민주당은 강훈식 여당인 국민의힘에서는 의원이 간사를 맡는다 복지위원으로는 김미애 백종헌 서정숙 이종성 임병헌 의원 코로나 재유행 대비 긴급 간담회 의원은 일 오후 시 국회의원회관 제 간담회의실에서 코로나 재유행 이번 간담회는 국민의힘 보건복지위원회 간사인 의원을 비롯 국민의힘 코로나 재유행대비 의료체계 점검 간담회 가져국민의힘 의원 창원시 성산구 보건복지위원회 간사 는 일 오후 시 국회의원회관 이번 긴급 간담회는 국민의힘 보건복지위원회 간사로 재선임된 의원을 비롯한 국민의힘 보건복지위원회 위원들 잠정 과 코로나 재유행대비 의료체계 점검 위한 긴급 간담회 개최 예정 국회 국민의힘 의원은 오는 일 오후 국회의원회관 제 간담회의실에서 코로나 재유행 강 의원은 일 보도자료를 통해 이번 간담회는 국민의힘 보건복지위원회 간사로 재선임된 의원을 비롯한 의원 공공 사업에 상용 의무화 법안 발의 국민의힘 의원실은 중앙행정기관장이 공공기관에 상용 구매를 요청하는 내용의 소프트웨어 진흥법 일부개정안 을 발의했다고 일 밝혔다 공공기관에 민간 상용 구매를 의무화해 관련 산업을 육성하고 의원 코로나 재유행 대비 긴급 간담회 개최국회 국민의힘 의원 경남 창원시 성산구 보건복지위원회 간사 은 오는 월 일 시 국회의원회관 동 간담회는 국민의힘 보건복지위원회 간사로 재선임된 의원을 비롯한 국민의힘 보건복지위원회 잠정 창원 신성장동력 키울 수 있게 내년 국비 확보 힘 모으자 의창 창원 성산 최형두 창원 마산합포 윤한홍 창원 마산회원 이달곤 창원 진해 국회의원이 이달곤 왼쪽 네 번째부터 국회의원 홍남표 창원시장 김영선 윤한홍 최형두 국회의원 등이 일 서울 여야 원구성 타결 복지위원장에 민주당 정춘숙 한정애 의원복지위 여당 간사는 앞서 발표된 의원이 민주당은 강훈식 의원이 간사를 맡는다 여당 복지위원은 간사를 포함해 김미애 백종헌 서정숙 이종성 추경호 최영희 최재형 최연숙 의원 등 명이다 확진자 접촉하면 증상 없어도 무료 로 신속항원검사 가능 일 국민의힘 의원 경남 창원시 성산구 에 따르면 코로나 확진자와 접촉한 무증상자도 이에 의원은 코로나 일일 확진자가 다시금 만명이 넘어가면서 코로나 재유행이 현실로 다가왔다 코로나 의원 발언 듣는 권성동 원내대표국민의힘 권성동 원내대표가 일 서울 여의도 국회에서 열린 원내대책회의에서 의원의 발언을 듣고 있다 국회사진기자단 창원시 국비 확보 극대화 원팀 전략 신선 의원 지역 내 정부출연기관과 국회의원 창원시가 원팀 이 돼 국비확보를 극대화하자는 전략은 정말 신선하다 국민의힘 창원 성산구 의원이 지난 일 민선 기 공식 임기를 시작한 홍남표 창원시장을 포토 의원 발언 듣는 권성동 원내대표권성동 국민의힘 원내대표가 일 국회에서 열린 원내대책회의에서 의원의 발언을 듣고 있다 이병화 다가오는 코로나 재유행 여당 정부 대응 체계 논의국민의힘 의원은 월 일 보건복지부와 질병관리청과 함께 국회 의원회관에서 코로나 재유행 국민의힘 의원 보건복지위원회 간사 은 월 일 보건복지부와 질병관리청과 함께 국회 의원회관에서 안철수 토론회서 과학방역 강조 방역전문가가 정책 결정권 가져야 이어 국회 보건복지위원회 여당 간사인 의원 제롬 김 국제백신연구소 사무총장 박향 보건복지부 이날은 김미애 김성원 김영식 박대출 박성중 백종헌 서일준 송언석 안병길 엄태영 윤주경 임병헌 이명수 안철수 방역 사령관에 전문가 지명해야 이것이 과학방역 국회 보건복지위원회 여당 간사인 의원 박향 보건복지부 공공보건정책관 정재훈 가천의대 이날 토론회에는 김미애 김상훈 김성원 김영식 박대출 박성중 백종헌 서일준 송언석 안병길 엄태영 윤주경 의원 후반기 복지위 여당 간사 재선임 코로나 로드맵 실행이 후반 국회 후반기 보건복지위원회 간사에 재선임된 의원 전반기 국회 보건복지위원회 국민의힘 간사를 맡았던 의원이 대 국회 후반기에도 복지위 간사로 재선임됐다 국민의힘은 일 국회 상임위원회 곳 중 국힘 상임위 간사에 윤한홍 정점식 의원윤한홍 창원 마산회원구 정점식 통영 고성 창원 성산구 의원 등 경남 출신 국민의힘 의원 명이 윤한홍 의원 정점식 의원 의원 국민의힘 원내지도부는 이날 오후 국회에서 회의를 열어 개 상임위원회 여당 전국민 백신예산 반영 이끌어 야당 김정호 홈네트워크 해킹 방지 국민의힘 창원성산 강민국 진주을 더불어민주당 김정호 김해을 의원이 대 국회 전반기 입법이나 상임위 활동에서 돋보였던 것으로 분석됐다 의원은 보건복지위 소속으로 코로나 팬데믹 초반부터 백신 후반기 국회 복지위 국민의힘 간사 의원 재선임국민의힘 의원 국민의힘 의원이 대 후반기 국회 보건복지위원회 간사로 재선임됐다 국민의힘은 일 개 상임위 중 교육 여가 정보위를 제외한 개 상임위 간사 명단을 발표했다 국민의힘 복지위 복지위 간사에 재선임 민주당과 협치할 것 국민의힘 의원 사진 의원실 국민의힘 의원이 대 후반기 국회 보건복지위원회 간사로 재선임됐다 간사직은 국회 상임위원회에서 소속 정당을 대표해 법안 상정 안건과 의사일정 결정 등 의원 대 후반기 국회 복지위 여당 간사 재선임 국민의힘 의원 사진 의원실 제공 국민의힘 의원은 이번 대 후반기 국회 보건복지위원회 국민의힘 간사로 재선임됐다고 일 밝혔다 간사직은 국회 상임위원회에서 소속 정당을 대표해 법안 등 복지위 여당간사에 의원 재선임 의원이 대 후반기 국회 보건복지위원회 국민의힘 간사로 재선임된 것으로 나타났다 일 강 의원은 보건복지위는 포스트 코로나 시대를 대비해 윤석열 정부 인수위에서 발표한 코로나 일 의원 여당 복지위 간사 재선임국회 보건복지위원회 후반기 국민의힘 간사에 의원이 연임한다 국민의힘은 일 복지위 등 대 후반기 국회 상임위 간사 명단을 발표했다 국힘에 따르면 복지위 의원 경남 창원시 성산구 을 비롯해 의원 대 후반기 보건복지위 간사 재선임 국민의힘 의원 창원시 성산구 은 이번 대 후반기 국회 보건복지위원회 국민의힘 간사로 의원은 보건복지위는 포스트 코로나 시대를 대비해 윤석열 정부 인수위에서 발표한 코로나 일 의원 후반기 국회 복지위 간사 재선임 대 후반기 국회 보건복지위원회 국민의힘 간사에 의원 경남 창원시 성산구 보건복지위원회 간사 의원은 지난 년여 동안 코로나 백신 예산 확보에 결정적인 역할을 한 것과 당내에서도 대 전반기에 의원 후반기 국회서도 복지위 여당간사 활동국민의힘 의원 보건복지위원회 간사 사진 은 이번 대 후반기 국회 보건복지위원회 국민의힘 의원은 보건복지위는 포스트 코로나 시대를 대비해 윤석열 정부 인수위에서 발표한 코로나 일 로드맵 국회서 만난 여당 백경란 청장 백신 다각화 백신 피해보상 등 공감대국민의힘 의원 집권여당과 방역당국이 코로나 재유행 대비를 위해 머리를 맞댔다 특히 당정 비공개로 진행된 이날 간담회는 국민의힘 보건복지위원회 간사로 재선임된 의원을 비롯해 보건복지부 창원시 용남 용호초 어린이보행 개선 등 특교 억 결정 국회의원 창원시 성산구 천지일보 국회 국민의힘 의원 창원시 성산구 보건복지위원회 간사 이 창원시 용남 용호초 어린이 보행환경구역개선 억원 중앙오거리 일원도로정비 억 등 총 억원의 국민의힘 상임위 간사 발표 복지위 간사 재선임국회 보건복지위원회 간사에는 의원이 재선임된 가운데 여당인 국민의힘의 압박에 향후 국회 원구성에도 탄력을 받을 것으로 보인다 일 국민의힘 소언석 원내수석부대표가 국민의힘 상임위원회 간사 명단을 어린이보행 환경개선 등 특교 억 결정 국회 국민의힘 창원시 성산구 의원은 창원시 용남 용호초 어린이 보행환경구역개선 억 원 이에 대해 의원은 이번 특별교부세를 통해 용호초 주변 어린이들을 포함해 중앙동 내동 주민들의 주행환경이 간호법안 처리 강력 반발 의원 국회 보건복지위 최대 쟁점법안으로 부상한 간호법안 처리를 둘러싸고 국민의힘 보건복지위 간사인 창원성산구 의원이 일 민주당이 절차를 무시하고 일정 합의 없이 단독으로 복지위 법안소위를 의원 회의 시간전 통보 간호법 통과시키겠다는 다수당 횡포 국회 보건복지위원회 야당 간사인 의원 국민의힘 국회 보건복지위원회 야당 간사인 의원 국민의힘 이 더불어민주당 측이 상의없이 제 법안심사소위원회 개회 요구를 한 것에 대해 불만을 토로했다 이날 의원 환경구역개선 특교 억 확보 국회의원은 일 창원시 용남 용호초 어린이 보행환경구역개선 억 원 의원은 이번 특별교부세를 통해 용호초 주변 어린이들을 포함해 중앙동 내동 의원 더 큰 역할 위해 공관위 결정 수용 국회의원은 일 공천관리위원회의 결정을 수용해 제 회 지방선거 당에서 이 아니면 성산구를 지키기 어렵다는 간곡한 뜻에 따라 윤석열 새 정부의 인수위 코로나비상대응 특위 차회의 마쳐 의원 경남 창원성산구 보건복지위원회 간사 은 지난 일 대통령직 인수위 코로나비상대응 차 회의를 마쳤다고 밝혔다 일 의원사무실에 따르면 이번 보건의료분과 차회의에서는 사회적 국힘 출정식서 교육감 보수후보에게 박수를 발언 도마이 자리에는 국회의원 창원 성산 도 지지 호소차 함께 참여했다 제일 먼저 단상에 오른 강 의원은 마이크를 잡고 국힘 경남지역 출마 후보들에 대해 지지를 호소했다 그러던 강 의원은 연설 마지막 즈음 국민의힘 경남 지방선거 공동선대위원장의 응원제 회 전국동시지방선거 공식 선거운동이 시작된 일 국민의힘 경남 지방선거 공동선대위원장이 창원시청 광장의 최윤덕 동상 앞에서 출정식을 열고 각 후보들을 응원하고 있다 뉴스 의원 간호법 날치기 통과는 다수당 횡포 국민들에게 사과하라 국민의힘 의원이 국회 보건복지위원회 소속 더불어민주당 의원들이 일 간호법을 일방적으로 통과시킨 데 대해 강력 비판하고 나섰다 국회 보건복지위 여당 간사인 강 의원은 이날 간호법이 복지위 전체회의에서 김상규 예비후보와 원 팀 국회의원 후보와 만나김상규 예비후보 국회의원 창원 성산구 이 일 오전 창원시장 후보 경선과 관련 김상규 국힘 김상규 예비후보는 창원시장 선거에 출마했다가 당을 위해 뜻을 접고 원 팀 이 돼 준 국회의원에게 하영제 윤석열 당선자 인수위 합류하영제 의원 지역균형발전특별위원회 위원 선임 의원 코로나비상대응특위 위원으로 인선 국민의힘 하영제 의원과 의원이 윤석열 대통령 당선자의 대통력직인수위원회에 합류한다 먼저 하영제 의원은 의원 대통령직 인수위원회 합류 국회의원 국민의힘 경남 창원성산구 국회 보건복지위원회 간사인 국회의원 국민의힘 경남 창원성산구 은 지난 일 윤석열 정부 새로운 인수위 조직 중 코로나비상대응특위 위원으로 인선됐다고 의원 대통령직 인수위원회 합류 코로나비상대응특위 위원으로 의원 경남 창원성산구 보건복지위원회 간사 은 지난 일 윤석열 정부 새로운 인수위 조직 중 현역의원인 의원도 인수위원회에 합류하게 되었다 사진 출처 의원 트위터 강 의원실 의원 정부 코로나비상대응특위 위원으로 인선 의원 사진 의원실 제공 국민의힘 의원이 윤석열 정부의 코로나 비생대응 특별위원회의 위원으로 선정됐다 국회 보건복지위원회 간사 국민의힘 의원은 윤석열 정부 새로운 인수위 이준석에 읍소하는 국민의힘 지방선거 창원시장 후보 공천 컷오프에 반발해 재심을 신청한 창원 성산 가운데 국민의힘 지방선거 창원시장 후보 공천 컷오프에 반발해 재심을 신청한 창원 성산 가운데 방역 붕괴 속 다양한 치료제 준비 미흡 질타 의원 경남 창원성산구 보건복지위원회 간사 이 방역 붕괴 속에도 정부가 소트로비맙 몰누피라비르 등 다양한 치료제 준비가 미흡하고 구체적인 검토조차 하지 않았다 고 지적했다 의원은 일 정부가 인수위 코로나비상대응특위 방역현장 의견청취해 의원 의원 경남 창원성산구 보건복지위원회 간사 은 지난 일 대통령직 인수위 코로나비상대응 차 회의 보건의료 차 를 마쳤다고 전했다 보건의료분과 차 회의에서는 코로나 관련 의료 및 공천 재심 결과에 여영국 행보 달려국민의힘 창원 성산구 국회의원이 당 창원시장 후보 공천 경쟁에서 탈락해 그 배경에 관심이 지난 월 일 창원역 앞에서 열린 윤석열 대통령 후보 지지 연설회에서 왼쪽부터 국회의원 이준석 대표 의원 인수위 코로나비상대응 특위 차회의 마쳐 의원은 지난 일 대통령직 인수위 코로나비상대응 차 회의 를 의원은 코로나 발생 이후 보건복지부를 비롯해 질병청 등 공직자들 또한 인수위 코로나비상대응특위 위원 합류 소상공인 지원 논의국회 보건복지위원회 소속 의원 국민의힘 사진 이 지난 일 윤석열 인수위 내 코로나비상대응특위 의원은 하루 확진자가 만명을 넘어가면서 이제 국민들은 자기 순서를 기다리는 것일 뿐 결국엔 의원 부동산 의혹제기 대부분 무혐의 의원 국회 국민의힘 의원은 그동안 부동산 관련 무리하게 제기된 의혹이 경찰수사를 통해 대부분 무혐의로 결론이 났다고 일 밝혔다 강 의원에 따르면 지난 월 일 경찰은 년 넘게 이어진 각종 의혹에 방역 붕괴 속 다양한 치료제 준비 미흡 질타 의원이 방역 붕괴 속에도 정부가 소트로비맙 몰누피라비르 등 다양한 치료제 준비가 미흡하고 구체적인 검토조차 하지 않았다 고 지적했다 토지보상법 위반 혐의 의원 검찰 송치토지보상법위반 등의 혐의로 경찰에 고발된 국회의원 국민의힘 창원성산 이 검찰에 송치됐다 참자유청년연대 민생경제연구소 민주시민기독연대 개혁국민운동본부 등 시민사회단체는 일 경남경찰청이 의원 토지보상법 위반 검찰 송치경찰이 국민의힘 의원 창원성산구 을 토지보상법 위반 등으로 검찰에 송치한 것과 관련 강 의원 측이 국민의힘 의원 뉴스프리존 앞서 경남경찰청은 강 의원을 토지보상법 위반 등으로 검찰에 송치한 경찰 국힘 의원 토지보상법 위반 혐의 검찰 송치강 의원 사실 아니다 부인 국회의원 공동취재사진 경찰이 토지보상법 위반 등 혐의로 고발된 국민의힘 국회의원 창원성산 을 검찰에 송치했다 경상남도경찰청 반부패경제범죄수사대는 강 의원 부고 국회의원 씨 장모상 국회의원 씨 장모상 김연석씨 별세 국회의원 씨 장모상 일 빈소 창원경상대병원 장례식장 호실 발인 일 연락처 부고 국회의원 장모상 국회의원 장모상 김연석 씨 별세 사상열 명선 명옥 귀선 윤정 승은씨 모친상 도은수 김춘길 국민의힘 국회의원 창원시 성산구 이범오씨 장모상 일 오전 창원시 성산구 의원 코로나 하루 만명 확진 방역 붕괴 국민의힘 의원 보건복지위원회 간사 의협신문 국민의힘 의원 보건복지위원회 간사 이 코로나 확진자가 하루 만명 이상 발생한 것과 관련 정부와 방역당국이 자랑하는 방역 이 붕괴했다고 의원 인수위 코로나비상대응특위 차회의 마쳐 의원 창원성산구 보건복지위원회 간사 은 지난 일 대통령직 인수위 코로나비상대응 차 회의 이날 회의에 대해 의원은 현재 오미크론으로 인한 방역체계와 의료현장의 문제점 등 현장의 이야기를 의원 재산 억여원 도내 의원 중 최고 부자국민의힘 의원 창원 성산 이 년 연속 경남 국회의원 명 중 가장 많은 재산을 보유한 것으로 국회 관보 등에 따르면 의원은 지난해보다 재산이 억이 늘어난 억 만원을 신고했다 강 의원 재산 년 새 억 늘어 국민의힘 창원 성산 국회의원이 총액 억 만 원으로 지난해에 이어 올해도 경남 국회의원 의원의 재산이 가장 많이 증가했다 지난해 억 만 원이던 강 의원 재산은 년 새 억 만 원 국힘 재산 억 년새 억 땅 부자 도 상위권핵심요약경남 국회의원 명 중 민주당 김두관 김정호 제외 모두 억 원 이상 국힘 의원 억 만 원 신고 국회의원 재산 경남 위 전국 위 경남 지역 국회의원 중 국민의힘 의원 창원성산 의 약 자판기 원점에서 다시 논의해야 한다 이날 행사에는 국민의힘 김영선 의원 창원의창구 과 의원 창원성산구 더불어민주당 김정호 의원 경남 김해 이 참석했다 약사학술제를 찾은 국민의힘 김영선 의원 의원 더불어민주당 김정호 의원 의원 경찰 수사결과 대부분 무혐의 국회의원은 일 그동안 부동산과 관련해 무리하게 제기된 의혹이 의원 측 권영준 변호사는 감나무 보상에 대한 의혹 제기는 사실관계 자체가 의원 인수위 코로나비상대응 특위 차회의 참석 백신 부작용 의원 경남 창원성산구 보건복지위원회 간사 은 지난 일 서울 종로구 통의동 인수위 대회의실에서 의원은 코로나 경구용 치료제인 화이자의 팍스로비드에 이어 조금은 늦었지만 머크사의 코로나비상대응 차 회의 참석 치료제 확보 집중 국민의힘 보건복지위 간사 연합뉴스 코로나바이러스감염증 코로나 오미크론 변이 때문에 국민의힘 보건복지위 간사는 일 보건의료분과 차 회의에 참석해 백신 부작용에 따른 인과관계와 코로나비상대응 특위 차 회의 백신 부작용 다양한 치료제 확보방안 민의힘 보건복지위원회 간사인 의원 경남 창원성산구 사진 국제뉴스 국민의힘 보건복지위원회 간사인 의원 경남 창원성산구 이 지난 일 민생경제분과 차회의에 이어 열린 일 대통령직 인수위 정의당 경남도당 의원 보강 수사 촉구경찰이 국민의힘 창원 성산 국회의원을 자신의 과수원 지장물 보상금을 과다하게 받은 혐의로 정의당 도당은 일 입장문을 내고 부동산 투기 의혹 당사자인 국회의원 수사가 년 개월 가까이 진행된 무리한 의혹제기 경찰 수사결과 대부분 무혐의 국민의힘 의원 강 의원 페이스북 국민의힘 의원이 일 부동산과 관련해 무리하게 제기된 의혹이 경찰 수사를 통해 대부분 무혐의로 결론났다 고 밝혔다 앞서 강 의원은 부동산 논란에 시달리며 월 일 부고 국회의원 씨 빙모상 김연석씨 별세 국회의원 씨 빙모상 창원경상대병원 장례식장 호실 발인 일 김성태씨 별세 김영승 중앙 대표이사 김영남 김영진 중앙 전무 김온숙 김영례 국회의원 과다지급 과수원 보상금 반납창원시장 출마를 공식 선언한 국민의힘 국회의원이 과다 지급된 과수원 보상금 억여원 전액을 창원시에 최근 반납한 것으로 확인됐다 강 의원은 일 본지와의 통화에서 지난 년 가음정근린공원 조성사업 부음 국회의원 씨 장모상 김연석씨 별세 국회의원 씨 장모상 일 창원경상대병원 장례식장 호실 발인 일 부고종합 국회의원 씨 장모상 외 김연석씨 별세 국회의원 씨 장모상 일 창원경상대병원 장례식장 호실 발인 일 김성태씨 별세 김영승 중앙 대표이사 영남 영진 중앙 전무 온숙 영례 영신씨 부음 김연석씨 별세 씨 국회의원 빙모상 김연석씨 별세 씨 국회의원 빙모상 일 창원 경상대병원 발인 일 이경순씨 별세 배종진씨 해운대블루라인 대표이사 모친상 일 울산전문장례식장 발인 일 오전 시 부고 국회의원 씨 장모상 외 김연석씨 별세 국회의원 씨 장모상 일 오전 시 분 창원경상대병원 발인 일 오전 시 강광 인천문화재단 대 대표 씨 별세 일 오전 시 인천의료원 발인 일 오전 시 분 부음 이승헌 장모 세명대 석좌교수 박창순 박창순 내과의원 원장 장인상 일 대구의료원 국화원 발인 일 김연석씨 별세 국회의원 장모상 일 창원경상대병원 장례식장 호실 발인 일 부고 씨 국회의원 빙모상 김연석씨 별세 씨 국회의원 빙모상 일 창원경상대병원 발인 일 부고 씨 국회의원 장모상 김연석씨 별세 씨 국회의원 장모상 일 오전 창원경상대병원 장례식장 호실 발인 일 오전 시 장지 창원공원묘원 의원과 인사하는 안철수 인수위원장안철수 대통령직 인수위원장 오른쪽 이 일 오후 서울 종로구 삼청동 제 대 대통령직 인수위원회 대회의실에서 열린 제 차 코로나비상대응특위 회의에 참석해 특별위원회 위원을 맡은 국민의힘 의원과 의원과 인사하는 안철수 위원장맡은 국민의힘 의원과 인사하고 있다 공감언론 뉴시스가 독자 여러분의 소중한 제보를 기다립니다 뉴스 가치나 화제성이 있다고 판단되는 사진 또는 영상을 뉴시스 사진영상부 로 포토 인사 나누는 안철수 위원장 의원안철수 대통령직 인수위원장이 일 오후 서울 종로구 삼청동에 마련된 제 대 대통령직 인수위원회 대회의실에서 열린 제 차 코로나비상대응특위 회의에 참석해 코로나비상대응 특별위원회 위원을 맡은 의원 국토위에 최다 명 위원장은 명 늘어 총 명국민의힘 창원 성산 의원은 전반기에 이어 후반기 보건복지위원회 간사로 재선임됐다 여야의 차기 보건위 간사 백종헌 김미애 환노위 이주환 국토위 최인호 간사 김두관 민홍철 서범수 서일준 정동만\n"
     ]
    }
   ],
   "source": [
    "df_r1_ = df_r1.copy()\n",
    "text = reduction2(df_r1_)\n",
    "print(len(text), type(text))\n",
    "print(text)"
   ]
  },
  {
   "cell_type": "markdown",
   "id": "0184279c",
   "metadata": {},
   "source": [
    "## MPdata : 데이터 저장용 클래스"
   ]
  },
  {
   "cell_type": "code",
   "execution_count": 77,
   "id": "1447b0b1",
   "metadata": {},
   "outputs": [],
   "source": [
    "class MPdata:\n",
    "    def __init__(self, name):\n",
    "        self.name = name\n",
    "    def save_org(self, df_org):\n",
    "        self.df_org = df_org\n",
    "    def save_r1(self, df_r1):\n",
    "        self.df_r1 = df_r1\n",
    "        self.len = df_r1.count().max()\n",
    "    def save_text(self, text):\n",
    "        self.text = text"
   ]
  },
  {
   "cell_type": "markdown",
   "id": "bcd021f8",
   "metadata": {},
   "source": [
    "# ★★★실행★★★"
   ]
  },
  {
   "cell_type": "markdown",
   "id": "cd4fa05b",
   "metadata": {},
   "source": [
    "## 모든 의원에 대한 뉴스 데이터 수집"
   ]
  },
  {
   "cell_type": "code",
   "execution_count": 78,
   "id": "e667b646",
   "metadata": {
    "scrolled": false
   },
   "outputs": [
    {
     "name": "stdout",
     "output_type": "stream",
     "text": [
      "299 298 297 296 295 294 293 292 291 290 289 288 287 286 285 284 283 282 281 280 279 278 277 276 275 274 273 272 271 270 269 268 267 266 265 264 263 262 261 260 259 258 257 256 255 254 253 252 251 250 249 248 247 246 245 244 243 242 241 240 239 238 237 236 235 234 233 232 231 230 229 228 227 226 225 224 223 222 221 220 219 218 217 216 215 214 213 212 211 210 209 208 207 206 205 204 203 202 201 200 199 198 197 196 195 194 193 192 191 190 189 188 187 186 185 184 183 182 181 180 179 178 177 176 175 174 173 172 171 170 169 168 167 166 165 164 163 162 161 160 159 158 157 156 155 154 153 152 151 150 149 148 147 146 145 144 143 142 141 140 139 138 137 136 135 134 133 132 131 130 129 128 127 126 125 124 123 122 121 120 119 118 117 116 115 114 113 112 111 110 109 108 107 106 105 104 103 102 101 100 99 98 97 96 95 94 93 92 91 90 89 88 87 86 85 84 83 82 81 80 79 78 77 76 75 74 73 72 71 70 69 68 67 66 65 64 63 62 61 60 59 58 57 56 55 54 53 52 51 50 49 48 47 46 45 44 43 42 41 40 39 38 37 36 35 34 33 32 31 30 29 28 27 26 25 24 23 22 21 20 19 18 17 16 15 14 13 12 11 10 9 8 7 6 5 4 3 2 1 "
     ]
    }
   ],
   "source": [
    "MPdict = {}\n",
    "nMP = len(MPnames)\n",
    "for i, name in enumerate(MPnames):\n",
    "    print(nMP - i, end=\" \")\n",
    "\n",
    "    mp = MPdata(name)\n",
    "    \n",
    "    df = getNewsAbout(name)\n",
    "    mp.save_org(df)\n",
    "    \n",
    "    df_r1 = reduction1(df, name)\n",
    "    mp.save_r1(df_r1)\n",
    "    \n",
    "    text = reduction2(df_r1)\n",
    "    mp.save_text(text)\n",
    "    \n",
    "    MPdict[name] = mp"
   ]
  },
  {
   "cell_type": "code",
   "execution_count": 79,
   "id": "9f468ba2",
   "metadata": {},
   "outputs": [
    {
     "data": {
      "text/plain": [
       "{'강기윤': <__main__.MPdata at 0x22936177520>,\n",
       " '강대식': <__main__.MPdata at 0x2293631b5b0>,\n",
       " '강득구': <__main__.MPdata at 0x2293631ba60>,\n",
       " '강민국': <__main__.MPdata at 0x2293631be50>,\n",
       " '강민정': <__main__.MPdata at 0x2293631abf0>,\n",
       " '강병원': <__main__.MPdata at 0x229361cc190>,\n",
       " '강선우': <__main__.MPdata at 0x229361ccaf0>,\n",
       " '강은미': <__main__.MPdata at 0x2290ee0a8f0>,\n",
       " '강준현': <__main__.MPdata at 0x22936318730>,\n",
       " '강훈식': <__main__.MPdata at 0x22936318250>,\n",
       " '고민정': <__main__.MPdata at 0x2293631a350>,\n",
       " '고영인': <__main__.MPdata at 0x22936318430>,\n",
       " '고용진': <__main__.MPdata at 0x22936318a00>,\n",
       " '구자근': <__main__.MPdata at 0x229361cc730>,\n",
       " '권명호': <__main__.MPdata at 0x229361cc220>,\n",
       " '권성동': <__main__.MPdata at 0x229361ceb90>,\n",
       " '권영세': <__main__.MPdata at 0x2293635b430>,\n",
       " '권은희': <__main__.MPdata at 0x2293635a7a0>,\n",
       " '권인숙': <__main__.MPdata at 0x2293635a710>,\n",
       " '권칠승': <__main__.MPdata at 0x2293635a020>,\n",
       " '기동민': <__main__.MPdata at 0x229363591e0>,\n",
       " '김경만': <__main__.MPdata at 0x229363590c0>,\n",
       " '김경협': <__main__.MPdata at 0x2293635af50>,\n",
       " '김교흥': <__main__.MPdata at 0x229363581f0>,\n",
       " '김기현': <__main__.MPdata at 0x2293635b880>,\n",
       " '김남국': <__main__.MPdata at 0x2293635bdf0>,\n",
       " '김도읍': <__main__.MPdata at 0x2293635bd90>,\n",
       " '김두관': <__main__.MPdata at 0x2293635be20>,\n",
       " '김미애': <__main__.MPdata at 0x2293657c610>,\n",
       " '김민기': <__main__.MPdata at 0x2293657d300>,\n",
       " '김민석': <__main__.MPdata at 0x2293657dc90>,\n",
       " '김민철': <__main__.MPdata at 0x2293657d7b0>,\n",
       " '김병기': <__main__.MPdata at 0x2293657dc00>,\n",
       " '김병욱': <__main__.MPdata at 0x2293657eef0>,\n",
       " '김병주': <__main__.MPdata at 0x2293657ebc0>,\n",
       " '김상훈': <__main__.MPdata at 0x2293657f5b0>,\n",
       " '김상희': <__main__.MPdata at 0x2293657fe80>,\n",
       " '김석기': <__main__.MPdata at 0x229366805e0>,\n",
       " '김선교': <__main__.MPdata at 0x22936680b20>,\n",
       " '김성원': <__main__.MPdata at 0x22936680370>,\n",
       " '김성주': <__main__.MPdata at 0x22936681090>,\n",
       " '김성환': <__main__.MPdata at 0x22936681540>,\n",
       " '김수흥': <__main__.MPdata at 0x229366824a0>,\n",
       " '김승남': <__main__.MPdata at 0x229366823b0>,\n",
       " '김승수': <__main__.MPdata at 0x22936683100>,\n",
       " '김승원': <__main__.MPdata at 0x22936683130>,\n",
       " '김영배': <__main__.MPdata at 0x22936682dd0>,\n",
       " '김영선': <__main__.MPdata at 0x22936683670>,\n",
       " '김영식': <__main__.MPdata at 0x22936778100>,\n",
       " '김영주': <__main__.MPdata at 0x229367788b0>,\n",
       " '김영진': <__main__.MPdata at 0x22936779000>,\n",
       " '김영호': <__main__.MPdata at 0x22936779a50>,\n",
       " '김예지': <__main__.MPdata at 0x2293677a1d0>,\n",
       " '김용민': <__main__.MPdata at 0x22936779c30>,\n",
       " '김용판': <__main__.MPdata at 0x2293677a020>,\n",
       " '김웅': <__main__.MPdata at 0x2293677ada0>,\n",
       " '김원이': <__main__.MPdata at 0x2293677ac80>,\n",
       " '김윤덕': <__main__.MPdata at 0x2293677bd30>,\n",
       " '김의겸': <__main__.MPdata at 0x2293677b8b0>,\n",
       " '김정재': <__main__.MPdata at 0x22936884790>,\n",
       " '김정호': <__main__.MPdata at 0x22936884bb0>,\n",
       " '김종민': <__main__.MPdata at 0x22936884850>,\n",
       " '김주영': <__main__.MPdata at 0x22936885960>,\n",
       " '김진표': <__main__.MPdata at 0x22936884c10>,\n",
       " '김철민': <__main__.MPdata at 0x22936886170>,\n",
       " '김태년': <__main__.MPdata at 0x229368858d0>,\n",
       " '김태호': <__main__.MPdata at 0x22936886950>,\n",
       " '김학용': <__main__.MPdata at 0x229368874c0>,\n",
       " '김한규': <__main__.MPdata at 0x22936887400>,\n",
       " '김한정': <__main__.MPdata at 0x22936887dc0>,\n",
       " '김형동': <__main__.MPdata at 0x22936887d30>,\n",
       " '김홍걸': <__main__.MPdata at 0x229369884f0>,\n",
       " '김회재': <__main__.MPdata at 0x22936989180>,\n",
       " '김희곤': <__main__.MPdata at 0x22936989000>,\n",
       " '김희국': <__main__.MPdata at 0x229369896f0>,\n",
       " '남인순': <__main__.MPdata at 0x2293698a2c0>,\n",
       " '노용호': <__main__.MPdata at 0x2293698a1a0>,\n",
       " '노웅래': <__main__.MPdata at 0x2293698a770>,\n",
       " '도종환': <__main__.MPdata at 0x2293698b3d0>,\n",
       " '류성걸': <__main__.MPdata at 0x2293698b610>,\n",
       " '류호정': <__main__.MPdata at 0x2293698bfa0>,\n",
       " '맹성규': <__main__.MPdata at 0x22936a8c310>,\n",
       " '문정복': <__main__.MPdata at 0x22936a8cd60>,\n",
       " '문진석': <__main__.MPdata at 0x22936a8c580>,\n",
       " '민병덕': <__main__.MPdata at 0x22936a8d720>,\n",
       " '민형배': <__main__.MPdata at 0x22936a8cc10>,\n",
       " '민홍철': <__main__.MPdata at 0x22936a8dbd0>,\n",
       " '박광온': <__main__.MPdata at 0x22936a8e950>,\n",
       " '박대수': <__main__.MPdata at 0x22936a8e830>,\n",
       " '박대출': <__main__.MPdata at 0x22936a8e770>,\n",
       " '박덕흠': <__main__.MPdata at 0x22936a8f8b0>,\n",
       " '박범계': <__main__.MPdata at 0x22936a8ebc0>,\n",
       " '박병석': <__main__.MPdata at 0x22936a8ffd0>,\n",
       " '박상혁': <__main__.MPdata at 0x22936ba45e0>,\n",
       " '박성민': <__main__.MPdata at 0x22936ba4fa0>,\n",
       " '박성준': <__main__.MPdata at 0x22936ba50f0>,\n",
       " '박성중': <__main__.MPdata at 0x22936ba55d0>,\n",
       " '박수영': <__main__.MPdata at 0x22936ba61d0>,\n",
       " '박영순': <__main__.MPdata at 0x22936ba5a80>,\n",
       " '박완주': <__main__.MPdata at 0x22936ba5660>,\n",
       " '박용진': <__main__.MPdata at 0x22936ba6ce0>,\n",
       " '박재호': <__main__.MPdata at 0x22936ba7190>,\n",
       " '박정': <__main__.MPdata at 0x22936ba7850>,\n",
       " '박정하': <__main__.MPdata at 0x22936ba7f40>,\n",
       " '박주민': <__main__.MPdata at 0x22936cd46d0>,\n",
       " '박진': <__main__.MPdata at 0x22936cd48e0>,\n",
       " '박찬대': <__main__.MPdata at 0x22936cd4a90>,\n",
       " '박형수': <__main__.MPdata at 0x22936cd5870>,\n",
       " '박홍근': <__main__.MPdata at 0x22936cd51b0>,\n",
       " '배준영': <__main__.MPdata at 0x22936cd69e0>,\n",
       " '배진교': <__main__.MPdata at 0x22936cd6800>,\n",
       " '배현진': <__main__.MPdata at 0x22936cd74c0>,\n",
       " '백종헌': <__main__.MPdata at 0x22936cd7310>,\n",
       " '백혜련': <__main__.MPdata at 0x22936cd7e80>,\n",
       " '변재일': <__main__.MPdata at 0x22936cd6fb0>,\n",
       " '서동용': <__main__.MPdata at 0x22936df46d0>,\n",
       " '서범수': <__main__.MPdata at 0x22936df49d0>,\n",
       " '서병수': <__main__.MPdata at 0x22936df5750>,\n",
       " '서삼석': <__main__.MPdata at 0x22936df4a30>,\n",
       " '서영교': <__main__.MPdata at 0x22936df6350>,\n",
       " '서영석': <__main__.MPdata at 0x22936df6410>,\n",
       " '서일준': <__main__.MPdata at 0x22936df5cf0>,\n",
       " '서정숙': <__main__.MPdata at 0x22936df6dd0>,\n",
       " '설훈': <__main__.MPdata at 0x22936df7a60>,\n",
       " '성일종': <__main__.MPdata at 0x22936df79d0>,\n",
       " '소병철': <__main__.MPdata at 0x22936df7f40>,\n",
       " '소병훈': <__main__.MPdata at 0x22936f00610>,\n",
       " '송갑석': <__main__.MPdata at 0x22936f00b50>,\n",
       " '송기헌': <__main__.MPdata at 0x22936f01690>,\n",
       " '송석준': <__main__.MPdata at 0x22936f01870>,\n",
       " '송언석': <__main__.MPdata at 0x22936f02380>,\n",
       " '송옥주': <__main__.MPdata at 0x22936f025f0>,\n",
       " '송재호': <__main__.MPdata at 0x22936f029e0>,\n",
       " '신동근': <__main__.MPdata at 0x22936f03490>,\n",
       " '신영대': <__main__.MPdata at 0x22936f02a10>,\n",
       " '신원식': <__main__.MPdata at 0x22936f03910>,\n",
       " '신정훈': <__main__.MPdata at 0x22936f03ee0>,\n",
       " '신현영': <__main__.MPdata at 0x22937008670>,\n",
       " '심상정': <__main__.MPdata at 0x229370090f0>,\n",
       " '안규백': <__main__.MPdata at 0x22937009150>,\n",
       " '안민석': <__main__.MPdata at 0x22937009cf0>,\n",
       " '안병길': <__main__.MPdata at 0x22937009990>,\n",
       " '안철수': <__main__.MPdata at 0x2293700a0b0>,\n",
       " '안호영': <__main__.MPdata at 0x22937009ae0>,\n",
       " '양경숙': <__main__.MPdata at 0x2293700ac20>,\n",
       " '양금희': <__main__.MPdata at 0x2293700b370>,\n",
       " '양기대': <__main__.MPdata at 0x2293700b850>,\n",
       " '양이원영': <__main__.MPdata at 0x2293700bf40>,\n",
       " '양정숙': <__main__.MPdata at 0x22937134580>,\n",
       " '양향자': <__main__.MPdata at 0x22937134970>,\n",
       " '어기구': <__main__.MPdata at 0x229371345e0>,\n",
       " '엄태영': <__main__.MPdata at 0x22937135690>,\n",
       " '오기형': <__main__.MPdata at 0x22937135f90>,\n",
       " '오영환': <__main__.MPdata at 0x22937135f60>,\n",
       " '용혜인': <__main__.MPdata at 0x22937136890>,\n",
       " '우상호': <__main__.MPdata at 0x22937136e30>,\n",
       " '우원식': <__main__.MPdata at 0x229371374f0>,\n",
       " '위성곤': <__main__.MPdata at 0x22937137a90>,\n",
       " '유경준': <__main__.MPdata at 0x229371379a0>,\n",
       " '유기홍': <__main__.MPdata at 0x229372341c0>,\n",
       " '유동수': <__main__.MPdata at 0x22937234e80>,\n",
       " '유상범': <__main__.MPdata at 0x22937234970>,\n",
       " '유의동': <__main__.MPdata at 0x229372354b0>,\n",
       " '유정주': <__main__.MPdata at 0x22937236080>,\n",
       " '윤건영': <__main__.MPdata at 0x22937235d20>,\n",
       " '윤관석': <__main__.MPdata at 0x22937235db0>,\n",
       " '윤두현': <__main__.MPdata at 0x229372368c0>,\n",
       " '윤미향': <__main__.MPdata at 0x229372370d0>,\n",
       " '윤상현': <__main__.MPdata at 0x229372351e0>,\n",
       " '윤영덕': <__main__.MPdata at 0x22937237cd0>,\n",
       " '윤영석': <__main__.MPdata at 0x22937348850>,\n",
       " '윤영찬': <__main__.MPdata at 0x229373486d0>,\n",
       " '윤재갑': <__main__.MPdata at 0x22937348dc0>,\n",
       " '윤재옥': <__main__.MPdata at 0x22937349450>,\n",
       " '윤주경': <__main__.MPdata at 0x22937349c60>,\n",
       " '윤준병': <__main__.MPdata at 0x22937349f60>,\n",
       " '윤창현': <__main__.MPdata at 0x2293734acb0>,\n",
       " '윤한홍': <__main__.MPdata at 0x2293734ac20>,\n",
       " '윤호중': <__main__.MPdata at 0x2293734b040>,\n",
       " '윤후덕': <__main__.MPdata at 0x2293734ba30>,\n",
       " '이개호': <__main__.MPdata at 0x2293734bee0>,\n",
       " '이달곤': <__main__.MPdata at 0x22937458520>,\n",
       " '이동주': <__main__.MPdata at 0x22937458df0>,\n",
       " '이만희': <__main__.MPdata at 0x22937459690>,\n",
       " '이명수': <__main__.MPdata at 0x229374593c0>,\n",
       " '이병훈': <__main__.MPdata at 0x22937459930>,\n",
       " '이상민': <__main__.MPdata at 0x2293745a7a0>,\n",
       " '이상헌': <__main__.MPdata at 0x2293745b100>,\n",
       " '이성만': <__main__.MPdata at 0x2293745add0>,\n",
       " '이소영': <__main__.MPdata at 0x2293745b9a0>,\n",
       " '이수진': <__main__.MPdata at 0x2293745bc70>,\n",
       " '이양수': <__main__.MPdata at 0x2293745bc10>,\n",
       " '이용': <__main__.MPdata at 0x22937540340>,\n",
       " '이용빈': <__main__.MPdata at 0x22937540f70>,\n",
       " '이용선': <__main__.MPdata at 0x22937541060>,\n",
       " '이용우': <__main__.MPdata at 0x229375414e0>,\n",
       " '이용호': <__main__.MPdata at 0x22937541960>,\n",
       " '이원욱': <__main__.MPdata at 0x22937541450>,\n",
       " '이원택': <__main__.MPdata at 0x22937542b00>,\n",
       " '이은주': <__main__.MPdata at 0x229375428f0>,\n",
       " '이인선': <__main__.MPdata at 0x22937543910>,\n",
       " '이인영': <__main__.MPdata at 0x22937543a60>,\n",
       " '이장섭': <__main__.MPdata at 0x22937543d90>,\n",
       " '이재명': <__main__.MPdata at 0x22937674730>,\n",
       " '이재정': <__main__.MPdata at 0x22937674cd0>,\n",
       " '이정문': <__main__.MPdata at 0x229376745e0>,\n",
       " '이종배': <__main__.MPdata at 0x22937675930>,\n",
       " '이종성': <__main__.MPdata at 0x22937675840>,\n",
       " '이주환': <__main__.MPdata at 0x22937675e40>,\n",
       " '이채익': <__main__.MPdata at 0x22937675f00>,\n",
       " '이철규': <__main__.MPdata at 0x22937676d40>,\n",
       " '이탄희': <__main__.MPdata at 0x22937677610>,\n",
       " '이태규': <__main__.MPdata at 0x22937677d00>,\n",
       " '이학영': <__main__.MPdata at 0x22937677130>,\n",
       " '이해식': <__main__.MPdata at 0x2293779c430>,\n",
       " '이헌승': <__main__.MPdata at 0x2293779c6d0>,\n",
       " '이형석': <__main__.MPdata at 0x2293779d6c0>,\n",
       " '인재근': <__main__.MPdata at 0x2293779d4b0>,\n",
       " '임병헌': <__main__.MPdata at 0x2293779d960>,\n",
       " '임오경': <__main__.MPdata at 0x2293779e110>,\n",
       " '임이자': <__main__.MPdata at 0x2293779eaa0>,\n",
       " '임종성': <__main__.MPdata at 0x2293779f460>,\n",
       " '임호선': <__main__.MPdata at 0x2293779ea40>,\n",
       " '장경태': <__main__.MPdata at 0x2293779f820>,\n",
       " '장동혁': <__main__.MPdata at 0x2293779fc70>,\n",
       " '장제원': <__main__.MPdata at 0x229378a06d0>,\n",
       " '장철민': <__main__.MPdata at 0x229378a0dc0>,\n",
       " '장혜영': <__main__.MPdata at 0x229378a05e0>,\n",
       " '전봉민': <__main__.MPdata at 0x229378a1b70>,\n",
       " '전용기': <__main__.MPdata at 0x229378a1990>,\n",
       " '전재수': <__main__.MPdata at 0x229378a11b0>,\n",
       " '전주혜': <__main__.MPdata at 0x229378a3070>,\n",
       " '전해철': <__main__.MPdata at 0x229378a34c0>,\n",
       " '전혜숙': <__main__.MPdata at 0x229378a3820>,\n",
       " '정경희': <__main__.MPdata at 0x229378a3dc0>,\n",
       " '정동만': <__main__.MPdata at 0x229379b0040>,\n",
       " '정성호': <__main__.MPdata at 0x229379b0550>,\n",
       " '정우택': <__main__.MPdata at 0x229379b01c0>,\n",
       " '정운천': <__main__.MPdata at 0x229379b1420>,\n",
       " '정일영': <__main__.MPdata at 0x229379b1c00>,\n",
       " '정점식': <__main__.MPdata at 0x229379b1780>,\n",
       " '정진석': <__main__.MPdata at 0x229379b27a0>,\n",
       " '정찬민': <__main__.MPdata at 0x229379b28f0>,\n",
       " '정청래': <__main__.MPdata at 0x229379b35b0>,\n",
       " '정춘숙': <__main__.MPdata at 0x229379b2e30>,\n",
       " '정태호': <__main__.MPdata at 0x229379b3a30>,\n",
       " '정필모': <__main__.MPdata at 0x229379b3c70>,\n",
       " '정희용': <__main__.MPdata at 0x22937ac02b0>,\n",
       " '조경태': <__main__.MPdata at 0x22937ac1060>,\n",
       " '조명희': <__main__.MPdata at 0x22937ac0e50>,\n",
       " '조수진': <__main__.MPdata at 0x22937ac1ab0>,\n",
       " '조승래': <__main__.MPdata at 0x22937ac10c0>,\n",
       " '조오섭': <__main__.MPdata at 0x22937ac1fc0>,\n",
       " '조은희': <__main__.MPdata at 0x22937ac2770>,\n",
       " '조응천': <__main__.MPdata at 0x22937ac28f0>,\n",
       " '조정식': <__main__.MPdata at 0x22937ac1ba0>,\n",
       " '조정훈': <__main__.MPdata at 0x22937ac3400>,\n",
       " '조해진': <__main__.MPdata at 0x22937ac3e80>,\n",
       " '주철현': <__main__.MPdata at 0x22937ac3970>,\n",
       " '주호영': <__main__.MPdata at 0x22937c0c400>,\n",
       " '지성호': <__main__.MPdata at 0x22937c0cd00>,\n",
       " '진선미': <__main__.MPdata at 0x22937c0c7c0>,\n",
       " '진성준': <__main__.MPdata at 0x22937c0d8a0>,\n",
       " '천준호': <__main__.MPdata at 0x22937c0dfc0>,\n",
       " '최강욱': <__main__.MPdata at 0x22937c0e920>,\n",
       " '최기상': <__main__.MPdata at 0x22937c0d450>,\n",
       " '최승재': <__main__.MPdata at 0x22937c0f430>,\n",
       " '최연숙': <__main__.MPdata at 0x22937c0f220>,\n",
       " '최영희': <__main__.MPdata at 0x22937c0f700>,\n",
       " '최인호': <__main__.MPdata at 0x22937c0e7d0>,\n",
       " '최재형': <__main__.MPdata at 0x22937d0c130>,\n",
       " '최종윤': <__main__.MPdata at 0x22937d0cf10>,\n",
       " '최춘식': <__main__.MPdata at 0x22937d0c8e0>,\n",
       " '최형두': <__main__.MPdata at 0x22937d0cf70>,\n",
       " '최혜영': <__main__.MPdata at 0x22937d0d990>,\n",
       " '추경호': <__main__.MPdata at 0x22937d0e1a0>,\n",
       " '태영호': <__main__.MPdata at 0x22937d0e7a0>,\n",
       " '하영제': <__main__.MPdata at 0x22937d0e650>,\n",
       " '하태경': <__main__.MPdata at 0x22937d0f730>,\n",
       " '한기호': <__main__.MPdata at 0x22937d0c610>,\n",
       " '한무경': <__main__.MPdata at 0x22937d0f700>,\n",
       " '한병도': <__main__.MPdata at 0x22937d0fe50>,\n",
       " '한정애': <__main__.MPdata at 0x22937e1c430>,\n",
       " '한준호': <__main__.MPdata at 0x22937e1cd90>,\n",
       " '허영': <__main__.MPdata at 0x22937e1d360>,\n",
       " '허은아': <__main__.MPdata at 0x22937e1d7e0>,\n",
       " '허종식': <__main__.MPdata at 0x22937e1d8d0>,\n",
       " '홍기원': <__main__.MPdata at 0x22937e1e7d0>,\n",
       " '홍문표': <__main__.MPdata at 0x22937e1e3e0>,\n",
       " '홍석준': <__main__.MPdata at 0x22937e1ea10>,\n",
       " '홍성국': <__main__.MPdata at 0x22937e1e350>,\n",
       " '홍영표': <__main__.MPdata at 0x22937e1f490>,\n",
       " '홍익표': <__main__.MPdata at 0x22937e1fbb0>,\n",
       " '홍정민': <__main__.MPdata at 0x22937f5c610>,\n",
       " '황보승희': <__main__.MPdata at 0x22937f5c3a0>,\n",
       " '황운하': <__main__.MPdata at 0x22937f5c880>,\n",
       " '황희': <__main__.MPdata at 0x22937f5d780>}"
      ]
     },
     "execution_count": 79,
     "metadata": {},
     "output_type": "execute_result"
    }
   ],
   "source": [
    "MPdict"
   ]
  },
  {
   "cell_type": "markdown",
   "id": "fe8fdd74",
   "metadata": {},
   "source": [
    "## 파일로 저장"
   ]
  },
  {
   "cell_type": "code",
   "execution_count": 80,
   "id": "eada119f",
   "metadata": {},
   "outputs": [],
   "source": [
    "dt = datetime.now()\n",
    "dt = dt.strftime('_%Y%m%d_%H%M%S')\n",
    "with open(f'MP_news_data_{dt}.pkl', 'wb') as f:\n",
    "    pickle.dump(MPdict, f)"
   ]
  },
  {
   "cell_type": "markdown",
   "id": "2e51b4ef",
   "metadata": {},
   "source": [
    "## 저장된 파일 열어서 확인"
   ]
  },
  {
   "cell_type": "code",
   "execution_count": 82,
   "id": "103bfa30",
   "metadata": {},
   "outputs": [],
   "source": [
    "filename = 'MP_news_data__20220731_185830.pkl'"
   ]
  },
  {
   "cell_type": "code",
   "execution_count": 83,
   "id": "b2933c37",
   "metadata": {},
   "outputs": [],
   "source": [
    "with open(filename, 'rb') as fr: \n",
    "    MPdict_r = pickle.load(fr)"
   ]
  },
  {
   "cell_type": "code",
   "execution_count": 84,
   "id": "e220f254",
   "metadata": {},
   "outputs": [
    {
     "data": {
      "text/plain": [
       "'강기윤'"
      ]
     },
     "execution_count": 84,
     "metadata": {},
     "output_type": "execute_result"
    }
   ],
   "source": [
    "MPdict_r['강기윤'].name"
   ]
  },
  {
   "cell_type": "code",
   "execution_count": 85,
   "id": "dad4a814",
   "metadata": {},
   "outputs": [
    {
     "name": "stdout",
     "output_type": "stream",
     "text": [
      "<class 'pandas.core.frame.DataFrame'>\n",
      "Int64Index: 89 entries, 0 to 99\n",
      "Data columns (total 5 columns):\n",
      " #   Column        Non-Null Count  Dtype \n",
      "---  ------        --------------  ----- \n",
      " 0   title         89 non-null     object\n",
      " 1   originallink  89 non-null     object\n",
      " 2   link          89 non-null     object\n",
      " 3   description   89 non-null     object\n",
      " 4   pubDate       89 non-null     object\n",
      "dtypes: object(5)\n",
      "memory usage: 4.2+ KB\n"
     ]
    },
    {
     "data": {
      "text/html": [
       "<div>\n",
       "<style scoped>\n",
       "    .dataframe tbody tr th:only-of-type {\n",
       "        vertical-align: middle;\n",
       "    }\n",
       "\n",
       "    .dataframe tbody tr th {\n",
       "        vertical-align: top;\n",
       "    }\n",
       "\n",
       "    .dataframe thead th {\n",
       "        text-align: right;\n",
       "    }\n",
       "</style>\n",
       "<table border=\"1\" class=\"dataframe\">\n",
       "  <thead>\n",
       "    <tr style=\"text-align: right;\">\n",
       "      <th></th>\n",
       "      <th>title</th>\n",
       "      <th>originallink</th>\n",
       "      <th>link</th>\n",
       "      <th>description</th>\n",
       "      <th>pubDate</th>\n",
       "    </tr>\n",
       "  </thead>\n",
       "  <tbody>\n",
       "    <tr>\n",
       "      <th>0</th>\n",
       "      <td>확진자 접촉 무증상자도 신속항원 검사 무료화</td>\n",
       "      <td>http://www.edaily.co.kr/news/newspath.asp?news...</td>\n",
       "      <td>https://n.news.naver.com/mnews/article/018/000...</td>\n",
       "      <td>국민의힘 의원 사진 은 이르면 다음주부터 코로나 확진자와 접촉한 무증상자 또한 ...</td>\n",
       "      <td>Fri, 29 Jul 2022 14:43:00 +0900</td>\n",
       "    </tr>\n",
       "    <tr>\n",
       "      <th>1</th>\n",
       "      <td>의원 코로나 무증상자도 신속항원검사 무료로 받을 수 있어</td>\n",
       "      <td>https://mdtoday.co.kr/news/view/1065600496226340</td>\n",
       "      <td>https://mdtoday.co.kr/news/view/1065600496226340</td>\n",
       "      <td>국민의힘  의원 사진  의원실 제공 이르면 다음주부터 코로나 확진자와 접촉한 무증...</td>\n",
       "      <td>Fri, 29 Jul 2022 17:46:00 +0900</td>\n",
       "    </tr>\n",
       "    <tr>\n",
       "      <th>2</th>\n",
       "      <td>보건복지위원장 정춘숙 간사  강훈식 의원</td>\n",
       "      <td>https://www.dailymedi.com/news/news_view.php?w...</td>\n",
       "      <td>https://www.dailymedi.com/news/news_view.php?w...</td>\n",
       "      <td>사진설명 좌측부터 보건복지위원장 정춘숙 의원 국민의힘  의원 더민주당 강훈식 의원...</td>\n",
       "      <td>Fri, 22 Jul 2022 13:02:00 +0900</td>\n",
       "    </tr>\n",
       "    <tr>\n",
       "      <th>3</th>\n",
       "      <td>후반기 국회 복지위원장에 정춘숙 의원 양당 간사는  강훈식</td>\n",
       "      <td>http://www.medigatenews.com/news/2294375390</td>\n",
       "      <td>http://www.medigatenews.com/news/2294375390</td>\n",
       "      <td>여당 간사는 국민의힘  의원이 야당 간사는 더불어민주당 강훈식 의원이 맡게됐다  의...</td>\n",
       "      <td>Fri, 22 Jul 2022 14:50:00 +0900</td>\n",
       "    </tr>\n",
       "    <tr>\n",
       "      <th>4</th>\n",
       "      <td>팬데믹 시대 과학 방역의 핵심 관료 아닌 전문가에 맡길 것 안철수 민 당</td>\n",
       "      <td>http://www.sisaon.co.kr/news/articleView.html?...</td>\n",
       "      <td>http://www.sisaon.co.kr/news/articleView.html?...</td>\n",
       "      <td>토론자  박향 정재훈 조동찬 국민의힘 안철수 의원이 일 오전 국회 의원회관에서 열린...</td>\n",
       "      <td>Tue, 26 Jul 2022 22:42:00 +0900</td>\n",
       "    </tr>\n",
       "  </tbody>\n",
       "</table>\n",
       "</div>"
      ],
      "text/plain": [
       "                                        title  \\\n",
       "0                   확진자 접촉 무증상자도 신속항원 검사 무료화    \n",
       "1            의원 코로나 무증상자도 신속항원검사 무료로 받을 수 있어    \n",
       "2                      보건복지위원장 정춘숙 간사  강훈식 의원   \n",
       "3            후반기 국회 복지위원장에 정춘숙 의원 양당 간사는  강훈식   \n",
       "4   팬데믹 시대 과학 방역의 핵심 관료 아닌 전문가에 맡길 것 안철수 민 당    \n",
       "\n",
       "                                        originallink  \\\n",
       "0  http://www.edaily.co.kr/news/newspath.asp?news...   \n",
       "1   https://mdtoday.co.kr/news/view/1065600496226340   \n",
       "2  https://www.dailymedi.com/news/news_view.php?w...   \n",
       "3        http://www.medigatenews.com/news/2294375390   \n",
       "4  http://www.sisaon.co.kr/news/articleView.html?...   \n",
       "\n",
       "                                                link  \\\n",
       "0  https://n.news.naver.com/mnews/article/018/000...   \n",
       "1   https://mdtoday.co.kr/news/view/1065600496226340   \n",
       "2  https://www.dailymedi.com/news/news_view.php?w...   \n",
       "3        http://www.medigatenews.com/news/2294375390   \n",
       "4  http://www.sisaon.co.kr/news/articleView.html?...   \n",
       "\n",
       "                                         description  \\\n",
       "0    국민의힘 의원 사진 은 이르면 다음주부터 코로나 확진자와 접촉한 무증상자 또한 ...   \n",
       "1   국민의힘  의원 사진  의원실 제공 이르면 다음주부터 코로나 확진자와 접촉한 무증...   \n",
       "2   사진설명 좌측부터 보건복지위원장 정춘숙 의원 국민의힘  의원 더민주당 강훈식 의원...   \n",
       "3  여당 간사는 국민의힘  의원이 야당 간사는 더불어민주당 강훈식 의원이 맡게됐다  의...   \n",
       "4  토론자  박향 정재훈 조동찬 국민의힘 안철수 의원이 일 오전 국회 의원회관에서 열린...   \n",
       "\n",
       "                           pubDate  \n",
       "0  Fri, 29 Jul 2022 14:43:00 +0900  \n",
       "1  Fri, 29 Jul 2022 17:46:00 +0900  \n",
       "2  Fri, 22 Jul 2022 13:02:00 +0900  \n",
       "3  Fri, 22 Jul 2022 14:50:00 +0900  \n",
       "4  Tue, 26 Jul 2022 22:42:00 +0900  "
      ]
     },
     "execution_count": 85,
     "metadata": {},
     "output_type": "execute_result"
    }
   ],
   "source": [
    "MPdict_r['강기윤'].df_org.info()\n",
    "MPdict_r['강기윤'].df_org.head()"
   ]
  },
  {
   "cell_type": "code",
   "execution_count": 86,
   "id": "44b85346",
   "metadata": {},
   "outputs": [
    {
     "name": "stdout",
     "output_type": "stream",
     "text": [
      "<class 'pandas.core.frame.DataFrame'>\n",
      "Int64Index: 89 entries, 0 to 99\n",
      "Data columns (total 5 columns):\n",
      " #   Column        Non-Null Count  Dtype \n",
      "---  ------        --------------  ----- \n",
      " 0   title         89 non-null     object\n",
      " 1   originallink  89 non-null     object\n",
      " 2   link          89 non-null     object\n",
      " 3   description   89 non-null     object\n",
      " 4   pubDate       89 non-null     object\n",
      "dtypes: object(5)\n",
      "memory usage: 4.2+ KB\n"
     ]
    },
    {
     "data": {
      "text/html": [
       "<div>\n",
       "<style scoped>\n",
       "    .dataframe tbody tr th:only-of-type {\n",
       "        vertical-align: middle;\n",
       "    }\n",
       "\n",
       "    .dataframe tbody tr th {\n",
       "        vertical-align: top;\n",
       "    }\n",
       "\n",
       "    .dataframe thead th {\n",
       "        text-align: right;\n",
       "    }\n",
       "</style>\n",
       "<table border=\"1\" class=\"dataframe\">\n",
       "  <thead>\n",
       "    <tr style=\"text-align: right;\">\n",
       "      <th></th>\n",
       "      <th>title</th>\n",
       "      <th>originallink</th>\n",
       "      <th>link</th>\n",
       "      <th>description</th>\n",
       "      <th>pubDate</th>\n",
       "    </tr>\n",
       "  </thead>\n",
       "  <tbody>\n",
       "    <tr>\n",
       "      <th>0</th>\n",
       "      <td>확진자 접촉 무증상자도 신속항원 검사 무료화</td>\n",
       "      <td>http://www.edaily.co.kr/news/newspath.asp?news...</td>\n",
       "      <td>https://n.news.naver.com/mnews/article/018/000...</td>\n",
       "      <td>국민의힘 의원 사진 은 이르면 다음주부터 코로나 확진자와 접촉한 무증상자 또한 ...</td>\n",
       "      <td>Fri, 29 Jul 2022 14:43:00 +0900</td>\n",
       "    </tr>\n",
       "    <tr>\n",
       "      <th>1</th>\n",
       "      <td>의원 코로나 무증상자도 신속항원검사 무료로 받을 수 있어</td>\n",
       "      <td>https://mdtoday.co.kr/news/view/1065600496226340</td>\n",
       "      <td>https://mdtoday.co.kr/news/view/1065600496226340</td>\n",
       "      <td>국민의힘  의원 사진  의원실 제공 이르면 다음주부터 코로나 확진자와 접촉한 무증...</td>\n",
       "      <td>Fri, 29 Jul 2022 17:46:00 +0900</td>\n",
       "    </tr>\n",
       "    <tr>\n",
       "      <th>2</th>\n",
       "      <td>보건복지위원장 정춘숙 간사  강훈식 의원</td>\n",
       "      <td>https://www.dailymedi.com/news/news_view.php?w...</td>\n",
       "      <td>https://www.dailymedi.com/news/news_view.php?w...</td>\n",
       "      <td>사진설명 좌측부터 보건복지위원장 정춘숙 의원 국민의힘  의원 더민주당 강훈식 의원...</td>\n",
       "      <td>Fri, 22 Jul 2022 13:02:00 +0900</td>\n",
       "    </tr>\n",
       "    <tr>\n",
       "      <th>3</th>\n",
       "      <td>후반기 국회 복지위원장에 정춘숙 의원 양당 간사는  강훈식</td>\n",
       "      <td>http://www.medigatenews.com/news/2294375390</td>\n",
       "      <td>http://www.medigatenews.com/news/2294375390</td>\n",
       "      <td>여당 간사는 국민의힘  의원이 야당 간사는 더불어민주당 강훈식 의원이 맡게됐다  의...</td>\n",
       "      <td>Fri, 22 Jul 2022 14:50:00 +0900</td>\n",
       "    </tr>\n",
       "    <tr>\n",
       "      <th>4</th>\n",
       "      <td>팬데믹 시대 과학 방역의 핵심 관료 아닌 전문가에 맡길 것 안철수 민 당</td>\n",
       "      <td>http://www.sisaon.co.kr/news/articleView.html?...</td>\n",
       "      <td>http://www.sisaon.co.kr/news/articleView.html?...</td>\n",
       "      <td>토론자  박향 정재훈 조동찬 국민의힘 안철수 의원이 일 오전 국회 의원회관에서 열린...</td>\n",
       "      <td>Tue, 26 Jul 2022 22:42:00 +0900</td>\n",
       "    </tr>\n",
       "  </tbody>\n",
       "</table>\n",
       "</div>"
      ],
      "text/plain": [
       "                                        title  \\\n",
       "0                   확진자 접촉 무증상자도 신속항원 검사 무료화    \n",
       "1            의원 코로나 무증상자도 신속항원검사 무료로 받을 수 있어    \n",
       "2                      보건복지위원장 정춘숙 간사  강훈식 의원   \n",
       "3            후반기 국회 복지위원장에 정춘숙 의원 양당 간사는  강훈식   \n",
       "4   팬데믹 시대 과학 방역의 핵심 관료 아닌 전문가에 맡길 것 안철수 민 당    \n",
       "\n",
       "                                        originallink  \\\n",
       "0  http://www.edaily.co.kr/news/newspath.asp?news...   \n",
       "1   https://mdtoday.co.kr/news/view/1065600496226340   \n",
       "2  https://www.dailymedi.com/news/news_view.php?w...   \n",
       "3        http://www.medigatenews.com/news/2294375390   \n",
       "4  http://www.sisaon.co.kr/news/articleView.html?...   \n",
       "\n",
       "                                                link  \\\n",
       "0  https://n.news.naver.com/mnews/article/018/000...   \n",
       "1   https://mdtoday.co.kr/news/view/1065600496226340   \n",
       "2  https://www.dailymedi.com/news/news_view.php?w...   \n",
       "3        http://www.medigatenews.com/news/2294375390   \n",
       "4  http://www.sisaon.co.kr/news/articleView.html?...   \n",
       "\n",
       "                                         description  \\\n",
       "0    국민의힘 의원 사진 은 이르면 다음주부터 코로나 확진자와 접촉한 무증상자 또한 ...   \n",
       "1   국민의힘  의원 사진  의원실 제공 이르면 다음주부터 코로나 확진자와 접촉한 무증...   \n",
       "2   사진설명 좌측부터 보건복지위원장 정춘숙 의원 국민의힘  의원 더민주당 강훈식 의원...   \n",
       "3  여당 간사는 국민의힘  의원이 야당 간사는 더불어민주당 강훈식 의원이 맡게됐다  의...   \n",
       "4  토론자  박향 정재훈 조동찬 국민의힘 안철수 의원이 일 오전 국회 의원회관에서 열린...   \n",
       "\n",
       "                           pubDate  \n",
       "0  Fri, 29 Jul 2022 14:43:00 +0900  \n",
       "1  Fri, 29 Jul 2022 17:46:00 +0900  \n",
       "2  Fri, 22 Jul 2022 13:02:00 +0900  \n",
       "3  Fri, 22 Jul 2022 14:50:00 +0900  \n",
       "4  Tue, 26 Jul 2022 22:42:00 +0900  "
      ]
     },
     "execution_count": 86,
     "metadata": {},
     "output_type": "execute_result"
    }
   ],
   "source": [
    "MPdict_r['강기윤'].df_r1.info()\n",
    "MPdict_r['강기윤'].df_r1.head()"
   ]
  },
  {
   "cell_type": "code",
   "execution_count": 87,
   "id": "a918189a",
   "metadata": {},
   "outputs": [
    {
     "data": {
      "text/plain": [
       "(numpy.int64, 89)"
      ]
     },
     "execution_count": 87,
     "metadata": {},
     "output_type": "execute_result"
    }
   ],
   "source": [
    "type(MPdict_r['강기윤'].len), MPdict_r['강기윤'].len"
   ]
  },
  {
   "cell_type": "code",
   "execution_count": 88,
   "id": "5efcdc6b",
   "metadata": {},
   "outputs": [
    {
     "data": {
      "text/plain": [
       "(str,\n",
       " '확진자 접촉 무증상자도 신속항원 검사 무료화 국민의힘 의원 사진 은 이르면 다음주부터 코로나 확진자와 접촉한 무증상자 또한 의료기관 의원은 코로나 확진자와 접촉한 무증상자에 대해서도 의사의 판단 하에 신속항원검사비를 무료로 의원 코로나 무증상자도 신속항원검사 무료로 받을 수 있어 국민의힘 의원 사진 의원실 제공 이르면 다음주부터 코로나 확진자와 접촉한 무증상자 또한 의료기관 등에서 의사의 판단 하에 신속항원검사 를 무료로 받게 된다 국회 보건복지위원회 소속 보건복지위원장 정춘숙 간사 강훈식 의원 사진설명 좌측부터 보건복지위원장 정춘숙 의원 국민의힘 의원 더민주당 강훈식 의원 보건복지위 위원장은 보건복지위원장 정춘숙 의원이 맡았으며 간사는 여당에서 의원 국민의힘 후반기 국회 복지위원장에 정춘숙 의원 양당 간사는 강훈식여당 간사는 국민의힘 의원이 야당 간사는 더불어민주당 강훈식 의원이 맡게됐다 의원은 전반기에 이어 후반기에도 간사 직책을 이어가게 됐으며 강훈식 의원은 전반기 팬데믹 시대 과학 방역의 핵심 관료 아닌 전문가에 맡길 것 안철수 민 당 토론자 박향 정재훈 조동찬 국민의힘 안철수 의원이 일 오전 국회 의원회관에서 열린 위기를 연합뉴스 제언 전문가 의사 결정 따른 과학방역 이뤄야 국가 책임 중요 국민의힘 의원은 코로나 재유행대비 의료체계 점검 긴급 간담회 연다 의원 국회 국민의힘 의원 경남 창원시 성산구 보건복지위원회 간사 이 오는 일 목 오후 국회의원회관 제 간담회의실에서 코로나 재유행 의료체계 점검 긴급간담회 를 개최할 예정이다 이번 간담회는 코로나 재유행대비 의료체계 점검 위한 긴급 간담회 개최국민의힘 보건복지위원회 간사인 의원 경남 창원성산구 사진 국제뉴스 국회 국민의힘 보건복지위원회 간사인 의원 창원시 성산구 에 따르면 오는 일 오후 국회의원회관 제 간담회의실에서 코로나 후반기 국회 보건복지위 정춘숙 한정애 의원 이끈다보건복지위 간사로는 국민의힘 의원과 더불어민주당 강훈식 의원이 각각 내정됐다 의원은 전반기에서도 보건복지위원회 국민의힘 간사로 활동했다 지난 월 일 일찍이 보건복지위 국민의힘 간사로 보건복지위원장 정춘숙 한정애 의원 년씩 맡기로아울러 여당인 국민의힘에서는 기확정 발표된 재선의원이 간사를 제 야당 민주당은 강훈식 여당인 국민의힘에서는 의원이 간사를 맡는다 복지위원으로는 김미애 백종헌 서정숙 이종성 임병헌 의원 코로나 재유행 대비 긴급 간담회 의원은 일 오후 시 국회의원회관 제 간담회의실에서 코로나 재유행 이번 간담회는 국민의힘 보건복지위원회 간사인 의원을 비롯 국민의힘 코로나 재유행대비 의료체계 점검 간담회 가져국민의힘 의원 창원시 성산구 보건복지위원회 간사 는 일 오후 시 국회의원회관 이번 긴급 간담회는 국민의힘 보건복지위원회 간사로 재선임된 의원을 비롯한 국민의힘 보건복지위원회 위원들 잠정 과 코로나 재유행대비 의료체계 점검 위한 긴급 간담회 개최 예정 국회 국민의힘 의원은 오는 일 오후 국회의원회관 제 간담회의실에서 코로나 재유행 강 의원은 일 보도자료를 통해 이번 간담회는 국민의힘 보건복지위원회 간사로 재선임된 의원을 비롯한 의원 공공 사업에 상용 의무화 법안 발의 국민의힘 의원실은 중앙행정기관장이 공공기관에 상용 구매를 요청하는 내용의 소프트웨어 진흥법 일부개정안 을 발의했다고 일 밝혔다 공공기관에 민간 상용 구매를 의무화해 관련 산업을 육성하고 의원 코로나 재유행 대비 긴급 간담회 개최국회 국민의힘 의원 경남 창원시 성산구 보건복지위원회 간사 은 오는 월 일 시 국회의원회관 동 간담회는 국민의힘 보건복지위원회 간사로 재선임된 의원을 비롯한 국민의힘 보건복지위원회 잠정 창원 신성장동력 키울 수 있게 내년 국비 확보 힘 모으자 의창 창원 성산 최형두 창원 마산합포 윤한홍 창원 마산회원 이달곤 창원 진해 국회의원이 이달곤 왼쪽 네 번째부터 국회의원 홍남표 창원시장 김영선 윤한홍 최형두 국회의원 등이 일 서울 여야 원구성 타결 복지위원장에 민주당 정춘숙 한정애 의원복지위 여당 간사는 앞서 발표된 의원이 민주당은 강훈식 의원이 간사를 맡는다 여당 복지위원은 간사를 포함해 김미애 백종헌 서정숙 이종성 추경호 최영희 최재형 최연숙 의원 등 명이다 확진자 접촉하면 증상 없어도 무료 로 신속항원검사 가능 일 국민의힘 의원 경남 창원시 성산구 에 따르면 코로나 확진자와 접촉한 무증상자도 이에 의원은 코로나 일일 확진자가 다시금 만명이 넘어가면서 코로나 재유행이 현실로 다가왔다 코로나 의원 발언 듣는 권성동 원내대표국민의힘 권성동 원내대표가 일 서울 여의도 국회에서 열린 원내대책회의에서 의원의 발언을 듣고 있다 국회사진기자단 창원시 국비 확보 극대화 원팀 전략 신선 의원 지역 내 정부출연기관과 국회의원 창원시가 원팀 이 돼 국비확보를 극대화하자는 전략은 정말 신선하다 국민의힘 창원 성산구 의원이 지난 일 민선 기 공식 임기를 시작한 홍남표 창원시장을 포토 의원 발언 듣는 권성동 원내대표권성동 국민의힘 원내대표가 일 국회에서 열린 원내대책회의에서 의원의 발언을 듣고 있다 이병화 다가오는 코로나 재유행 여당 정부 대응 체계 논의국민의힘 의원은 월 일 보건복지부와 질병관리청과 함께 국회 의원회관에서 코로나 재유행 국민의힘 의원 보건복지위원회 간사 은 월 일 보건복지부와 질병관리청과 함께 국회 의원회관에서 안철수 토론회서 과학방역 강조 방역전문가가 정책 결정권 가져야 이어 국회 보건복지위원회 여당 간사인 의원 제롬 김 국제백신연구소 사무총장 박향 보건복지부 이날은 김미애 김성원 김영식 박대출 박성중 백종헌 서일준 송언석 안병길 엄태영 윤주경 임병헌 이명수 안철수 방역 사령관에 전문가 지명해야 이것이 과학방역 국회 보건복지위원회 여당 간사인 의원 박향 보건복지부 공공보건정책관 정재훈 가천의대 이날 토론회에는 김미애 김상훈 김성원 김영식 박대출 박성중 백종헌 서일준 송언석 안병길 엄태영 윤주경 의원 후반기 복지위 여당 간사 재선임 코로나 로드맵 실행이 후반 국회 후반기 보건복지위원회 간사에 재선임된 의원 전반기 국회 보건복지위원회 국민의힘 간사를 맡았던 의원이 대 국회 후반기에도 복지위 간사로 재선임됐다 국민의힘은 일 국회 상임위원회 곳 중 국힘 상임위 간사에 윤한홍 정점식 의원윤한홍 창원 마산회원구 정점식 통영 고성 창원 성산구 의원 등 경남 출신 국민의힘 의원 명이 윤한홍 의원 정점식 의원 의원 국민의힘 원내지도부는 이날 오후 국회에서 회의를 열어 개 상임위원회 여당 전국민 백신예산 반영 이끌어 야당 김정호 홈네트워크 해킹 방지 국민의힘 창원성산 강민국 진주을 더불어민주당 김정호 김해을 의원이 대 국회 전반기 입법이나 상임위 활동에서 돋보였던 것으로 분석됐다 의원은 보건복지위 소속으로 코로나 팬데믹 초반부터 백신 후반기 국회 복지위 국민의힘 간사 의원 재선임국민의힘 의원 국민의힘 의원이 대 후반기 국회 보건복지위원회 간사로 재선임됐다 국민의힘은 일 개 상임위 중 교육 여가 정보위를 제외한 개 상임위 간사 명단을 발표했다 국민의힘 복지위 복지위 간사에 재선임 민주당과 협치할 것 국민의힘 의원 사진 의원실 국민의힘 의원이 대 후반기 국회 보건복지위원회 간사로 재선임됐다 간사직은 국회 상임위원회에서 소속 정당을 대표해 법안 상정 안건과 의사일정 결정 등 의원 대 후반기 국회 복지위 여당 간사 재선임 국민의힘 의원 사진 의원실 제공 국민의힘 의원은 이번 대 후반기 국회 보건복지위원회 국민의힘 간사로 재선임됐다고 일 밝혔다 간사직은 국회 상임위원회에서 소속 정당을 대표해 법안 등 복지위 여당간사에 의원 재선임 의원이 대 후반기 국회 보건복지위원회 국민의힘 간사로 재선임된 것으로 나타났다 일 강 의원은 보건복지위는 포스트 코로나 시대를 대비해 윤석열 정부 인수위에서 발표한 코로나 일 의원 여당 복지위 간사 재선임국회 보건복지위원회 후반기 국민의힘 간사에 의원이 연임한다 국민의힘은 일 복지위 등 대 후반기 국회 상임위 간사 명단을 발표했다 국힘에 따르면 복지위 의원 경남 창원시 성산구 을 비롯해 의원 대 후반기 보건복지위 간사 재선임 국민의힘 의원 창원시 성산구 은 이번 대 후반기 국회 보건복지위원회 국민의힘 간사로 의원은 보건복지위는 포스트 코로나 시대를 대비해 윤석열 정부 인수위에서 발표한 코로나 일 의원 후반기 국회 복지위 간사 재선임 대 후반기 국회 보건복지위원회 국민의힘 간사에 의원 경남 창원시 성산구 보건복지위원회 간사 의원은 지난 년여 동안 코로나 백신 예산 확보에 결정적인 역할을 한 것과 당내에서도 대 전반기에 의원 후반기 국회서도 복지위 여당간사 활동국민의힘 의원 보건복지위원회 간사 사진 은 이번 대 후반기 국회 보건복지위원회 국민의힘 의원은 보건복지위는 포스트 코로나 시대를 대비해 윤석열 정부 인수위에서 발표한 코로나 일 로드맵 국회서 만난 여당 백경란 청장 백신 다각화 백신 피해보상 등 공감대국민의힘 의원 집권여당과 방역당국이 코로나 재유행 대비를 위해 머리를 맞댔다 특히 당정 비공개로 진행된 이날 간담회는 국민의힘 보건복지위원회 간사로 재선임된 의원을 비롯해 보건복지부 창원시 용남 용호초 어린이보행 개선 등 특교 억 결정 국회의원 창원시 성산구 천지일보 국회 국민의힘 의원 창원시 성산구 보건복지위원회 간사 이 창원시 용남 용호초 어린이 보행환경구역개선 억원 중앙오거리 일원도로정비 억 등 총 억원의 국민의힘 상임위 간사 발표 복지위 간사 재선임국회 보건복지위원회 간사에는 의원이 재선임된 가운데 여당인 국민의힘의 압박에 향후 국회 원구성에도 탄력을 받을 것으로 보인다 일 국민의힘 소언석 원내수석부대표가 국민의힘 상임위원회 간사 명단을 어린이보행 환경개선 등 특교 억 결정 국회 국민의힘 창원시 성산구 의원은 창원시 용남 용호초 어린이 보행환경구역개선 억 원 이에 대해 의원은 이번 특별교부세를 통해 용호초 주변 어린이들을 포함해 중앙동 내동 주민들의 주행환경이 간호법안 처리 강력 반발 의원 국회 보건복지위 최대 쟁점법안으로 부상한 간호법안 처리를 둘러싸고 국민의힘 보건복지위 간사인 창원성산구 의원이 일 민주당이 절차를 무시하고 일정 합의 없이 단독으로 복지위 법안소위를 의원 회의 시간전 통보 간호법 통과시키겠다는 다수당 횡포 국회 보건복지위원회 야당 간사인 의원 국민의힘 국회 보건복지위원회 야당 간사인 의원 국민의힘 이 더불어민주당 측이 상의없이 제 법안심사소위원회 개회 요구를 한 것에 대해 불만을 토로했다 이날 의원 환경구역개선 특교 억 확보 국회의원은 일 창원시 용남 용호초 어린이 보행환경구역개선 억 원 의원은 이번 특별교부세를 통해 용호초 주변 어린이들을 포함해 중앙동 내동 의원 더 큰 역할 위해 공관위 결정 수용 국회의원은 일 공천관리위원회의 결정을 수용해 제 회 지방선거 당에서 이 아니면 성산구를 지키기 어렵다는 간곡한 뜻에 따라 윤석열 새 정부의 인수위 코로나비상대응 특위 차회의 마쳐 의원 경남 창원성산구 보건복지위원회 간사 은 지난 일 대통령직 인수위 코로나비상대응 차 회의를 마쳤다고 밝혔다 일 의원사무실에 따르면 이번 보건의료분과 차회의에서는 사회적 국힘 출정식서 교육감 보수후보에게 박수를 발언 도마이 자리에는 국회의원 창원 성산 도 지지 호소차 함께 참여했다 제일 먼저 단상에 오른 강 의원은 마이크를 잡고 국힘 경남지역 출마 후보들에 대해 지지를 호소했다 그러던 강 의원은 연설 마지막 즈음 국민의힘 경남 지방선거 공동선대위원장의 응원제 회 전국동시지방선거 공식 선거운동이 시작된 일 국민의힘 경남 지방선거 공동선대위원장이 창원시청 광장의 최윤덕 동상 앞에서 출정식을 열고 각 후보들을 응원하고 있다 뉴스 의원 간호법 날치기 통과는 다수당 횡포 국민들에게 사과하라 국민의힘 의원이 국회 보건복지위원회 소속 더불어민주당 의원들이 일 간호법을 일방적으로 통과시킨 데 대해 강력 비판하고 나섰다 국회 보건복지위 여당 간사인 강 의원은 이날 간호법이 복지위 전체회의에서 김상규 예비후보와 원 팀 국회의원 후보와 만나김상규 예비후보 국회의원 창원 성산구 이 일 오전 창원시장 후보 경선과 관련 김상규 국힘 김상규 예비후보는 창원시장 선거에 출마했다가 당을 위해 뜻을 접고 원 팀 이 돼 준 국회의원에게 하영제 윤석열 당선자 인수위 합류하영제 의원 지역균형발전특별위원회 위원 선임 의원 코로나비상대응특위 위원으로 인선 국민의힘 하영제 의원과 의원이 윤석열 대통령 당선자의 대통력직인수위원회에 합류한다 먼저 하영제 의원은 의원 대통령직 인수위원회 합류 국회의원 국민의힘 경남 창원성산구 국회 보건복지위원회 간사인 국회의원 국민의힘 경남 창원성산구 은 지난 일 윤석열 정부 새로운 인수위 조직 중 코로나비상대응특위 위원으로 인선됐다고 의원 대통령직 인수위원회 합류 코로나비상대응특위 위원으로 의원 경남 창원성산구 보건복지위원회 간사 은 지난 일 윤석열 정부 새로운 인수위 조직 중 현역의원인 의원도 인수위원회에 합류하게 되었다 사진 출처 의원 트위터 강 의원실 의원 정부 코로나비상대응특위 위원으로 인선 의원 사진 의원실 제공 국민의힘 의원이 윤석열 정부의 코로나 비생대응 특별위원회의 위원으로 선정됐다 국회 보건복지위원회 간사 국민의힘 의원은 윤석열 정부 새로운 인수위 이준석에 읍소하는 국민의힘 지방선거 창원시장 후보 공천 컷오프에 반발해 재심을 신청한 창원 성산 가운데 국민의힘 지방선거 창원시장 후보 공천 컷오프에 반발해 재심을 신청한 창원 성산 가운데 방역 붕괴 속 다양한 치료제 준비 미흡 질타 의원 경남 창원성산구 보건복지위원회 간사 이 방역 붕괴 속에도 정부가 소트로비맙 몰누피라비르 등 다양한 치료제 준비가 미흡하고 구체적인 검토조차 하지 않았다 고 지적했다 의원은 일 정부가 인수위 코로나비상대응특위 방역현장 의견청취해 의원 의원 경남 창원성산구 보건복지위원회 간사 은 지난 일 대통령직 인수위 코로나비상대응 차 회의 보건의료 차 를 마쳤다고 전했다 보건의료분과 차 회의에서는 코로나 관련 의료 및 공천 재심 결과에 여영국 행보 달려국민의힘 창원 성산구 국회의원이 당 창원시장 후보 공천 경쟁에서 탈락해 그 배경에 관심이 지난 월 일 창원역 앞에서 열린 윤석열 대통령 후보 지지 연설회에서 왼쪽부터 국회의원 이준석 대표 의원 인수위 코로나비상대응 특위 차회의 마쳐 의원은 지난 일 대통령직 인수위 코로나비상대응 차 회의 를 의원은 코로나 발생 이후 보건복지부를 비롯해 질병청 등 공직자들 또한 인수위 코로나비상대응특위 위원 합류 소상공인 지원 논의국회 보건복지위원회 소속 의원 국민의힘 사진 이 지난 일 윤석열 인수위 내 코로나비상대응특위 의원은 하루 확진자가 만명을 넘어가면서 이제 국민들은 자기 순서를 기다리는 것일 뿐 결국엔 의원 부동산 의혹제기 대부분 무혐의 의원 국회 국민의힘 의원은 그동안 부동산 관련 무리하게 제기된 의혹이 경찰수사를 통해 대부분 무혐의로 결론이 났다고 일 밝혔다 강 의원에 따르면 지난 월 일 경찰은 년 넘게 이어진 각종 의혹에 방역 붕괴 속 다양한 치료제 준비 미흡 질타 의원이 방역 붕괴 속에도 정부가 소트로비맙 몰누피라비르 등 다양한 치료제 준비가 미흡하고 구체적인 검토조차 하지 않았다 고 지적했다 토지보상법 위반 혐의 의원 검찰 송치토지보상법위반 등의 혐의로 경찰에 고발된 국회의원 국민의힘 창원성산 이 검찰에 송치됐다 참자유청년연대 민생경제연구소 민주시민기독연대 개혁국민운동본부 등 시민사회단체는 일 경남경찰청이 의원 토지보상법 위반 검찰 송치경찰이 국민의힘 의원 창원성산구 을 토지보상법 위반 등으로 검찰에 송치한 것과 관련 강 의원 측이 국민의힘 의원 뉴스프리존 앞서 경남경찰청은 강 의원을 토지보상법 위반 등으로 검찰에 송치한 경찰 국힘 의원 토지보상법 위반 혐의 검찰 송치강 의원 사실 아니다 부인 국회의원 공동취재사진 경찰이 토지보상법 위반 등 혐의로 고발된 국민의힘 국회의원 창원성산 을 검찰에 송치했다 경상남도경찰청 반부패경제범죄수사대는 강 의원 부고 국회의원 씨 장모상 국회의원 씨 장모상 김연석씨 별세 국회의원 씨 장모상 일 빈소 창원경상대병원 장례식장 호실 발인 일 연락처 부고 국회의원 장모상 국회의원 장모상 김연석 씨 별세 사상열 명선 명옥 귀선 윤정 승은씨 모친상 도은수 김춘길 국민의힘 국회의원 창원시 성산구 이범오씨 장모상 일 오전 창원시 성산구 의원 코로나 하루 만명 확진 방역 붕괴 국민의힘 의원 보건복지위원회 간사 의협신문 국민의힘 의원 보건복지위원회 간사 이 코로나 확진자가 하루 만명 이상 발생한 것과 관련 정부와 방역당국이 자랑하는 방역 이 붕괴했다고 의원 인수위 코로나비상대응특위 차회의 마쳐 의원 창원성산구 보건복지위원회 간사 은 지난 일 대통령직 인수위 코로나비상대응 차 회의 이날 회의에 대해 의원은 현재 오미크론으로 인한 방역체계와 의료현장의 문제점 등 현장의 이야기를 의원 재산 억여원 도내 의원 중 최고 부자국민의힘 의원 창원 성산 이 년 연속 경남 국회의원 명 중 가장 많은 재산을 보유한 것으로 국회 관보 등에 따르면 의원은 지난해보다 재산이 억이 늘어난 억 만원을 신고했다 강 의원 재산 년 새 억 늘어 국민의힘 창원 성산 국회의원이 총액 억 만 원으로 지난해에 이어 올해도 경남 국회의원 의원의 재산이 가장 많이 증가했다 지난해 억 만 원이던 강 의원 재산은 년 새 억 만 원 국힘 재산 억 년새 억 땅 부자 도 상위권핵심요약경남 국회의원 명 중 민주당 김두관 김정호 제외 모두 억 원 이상 국힘 의원 억 만 원 신고 국회의원 재산 경남 위 전국 위 경남 지역 국회의원 중 국민의힘 의원 창원성산 의 약 자판기 원점에서 다시 논의해야 한다 이날 행사에는 국민의힘 김영선 의원 창원의창구 과 의원 창원성산구 더불어민주당 김정호 의원 경남 김해 이 참석했다 약사학술제를 찾은 국민의힘 김영선 의원 의원 더불어민주당 김정호 의원 의원 경찰 수사결과 대부분 무혐의 국회의원은 일 그동안 부동산과 관련해 무리하게 제기된 의혹이 의원 측 권영준 변호사는 감나무 보상에 대한 의혹 제기는 사실관계 자체가 의원 인수위 코로나비상대응 특위 차회의 참석 백신 부작용 의원 경남 창원성산구 보건복지위원회 간사 은 지난 일 서울 종로구 통의동 인수위 대회의실에서 의원은 코로나 경구용 치료제인 화이자의 팍스로비드에 이어 조금은 늦었지만 머크사의 코로나비상대응 차 회의 참석 치료제 확보 집중 국민의힘 보건복지위 간사 연합뉴스 코로나바이러스감염증 코로나 오미크론 변이 때문에 국민의힘 보건복지위 간사는 일 보건의료분과 차 회의에 참석해 백신 부작용에 따른 인과관계와 코로나비상대응 특위 차 회의 백신 부작용 다양한 치료제 확보방안 민의힘 보건복지위원회 간사인 의원 경남 창원성산구 사진 국제뉴스 국민의힘 보건복지위원회 간사인 의원 경남 창원성산구 이 지난 일 민생경제분과 차회의에 이어 열린 일 대통령직 인수위 정의당 경남도당 의원 보강 수사 촉구경찰이 국민의힘 창원 성산 국회의원을 자신의 과수원 지장물 보상금을 과다하게 받은 혐의로 정의당 도당은 일 입장문을 내고 부동산 투기 의혹 당사자인 국회의원 수사가 년 개월 가까이 진행된 무리한 의혹제기 경찰 수사결과 대부분 무혐의 국민의힘 의원 강 의원 페이스북 국민의힘 의원이 일 부동산과 관련해 무리하게 제기된 의혹이 경찰 수사를 통해 대부분 무혐의로 결론났다 고 밝혔다 앞서 강 의원은 부동산 논란에 시달리며 월 일 부고 국회의원 씨 빙모상 김연석씨 별세 국회의원 씨 빙모상 창원경상대병원 장례식장 호실 발인 일 김성태씨 별세 김영승 중앙 대표이사 김영남 김영진 중앙 전무 김온숙 김영례 국회의원 과다지급 과수원 보상금 반납창원시장 출마를 공식 선언한 국민의힘 국회의원이 과다 지급된 과수원 보상금 억여원 전액을 창원시에 최근 반납한 것으로 확인됐다 강 의원은 일 본지와의 통화에서 지난 년 가음정근린공원 조성사업 부음 국회의원 씨 장모상 김연석씨 별세 국회의원 씨 장모상 일 창원경상대병원 장례식장 호실 발인 일 부고종합 국회의원 씨 장모상 외 김연석씨 별세 국회의원 씨 장모상 일 창원경상대병원 장례식장 호실 발인 일 김성태씨 별세 김영승 중앙 대표이사 영남 영진 중앙 전무 온숙 영례 영신씨 부음 김연석씨 별세 씨 국회의원 빙모상 김연석씨 별세 씨 국회의원 빙모상 일 창원 경상대병원 발인 일 이경순씨 별세 배종진씨 해운대블루라인 대표이사 모친상 일 울산전문장례식장 발인 일 오전 시 부고 국회의원 씨 장모상 외 김연석씨 별세 국회의원 씨 장모상 일 오전 시 분 창원경상대병원 발인 일 오전 시 강광 인천문화재단 대 대표 씨 별세 일 오전 시 인천의료원 발인 일 오전 시 분 부음 이승헌 장모 세명대 석좌교수 박창순 박창순 내과의원 원장 장인상 일 대구의료원 국화원 발인 일 김연석씨 별세 국회의원 장모상 일 창원경상대병원 장례식장 호실 발인 일 부고 씨 국회의원 빙모상 김연석씨 별세 씨 국회의원 빙모상 일 창원경상대병원 발인 일 부고 씨 국회의원 장모상 김연석씨 별세 씨 국회의원 장모상 일 오전 창원경상대병원 장례식장 호실 발인 일 오전 시 장지 창원공원묘원 의원과 인사하는 안철수 인수위원장안철수 대통령직 인수위원장 오른쪽 이 일 오후 서울 종로구 삼청동 제 대 대통령직 인수위원회 대회의실에서 열린 제 차 코로나비상대응특위 회의에 참석해 특별위원회 위원을 맡은 국민의힘 의원과 의원과 인사하는 안철수 위원장맡은 국민의힘 의원과 인사하고 있다 공감언론 뉴시스가 독자 여러분의 소중한 제보를 기다립니다 뉴스 가치나 화제성이 있다고 판단되는 사진 또는 영상을 뉴시스 사진영상부 로 포토 인사 나누는 안철수 위원장 의원안철수 대통령직 인수위원장이 일 오후 서울 종로구 삼청동에 마련된 제 대 대통령직 인수위원회 대회의실에서 열린 제 차 코로나비상대응특위 회의에 참석해 코로나비상대응 특별위원회 위원을 맡은 의원 국토위에 최다 명 위원장은 명 늘어 총 명국민의힘 창원 성산 의원은 전반기에 이어 후반기 보건복지위원회 간사로 재선임됐다 여야의 차기 보건위 간사 백종헌 김미애 환노위 이주환 국토위 최인호 간사 김두관 민홍철 서범수 서일준 정동만')"
      ]
     },
     "execution_count": 88,
     "metadata": {},
     "output_type": "execute_result"
    }
   ],
   "source": [
    "type(MPdict_r['강기윤'].text), MPdict_r['강기윤'].text"
   ]
  },
  {
   "cell_type": "markdown",
   "id": "30a90930",
   "metadata": {},
   "source": [
    "# 테스트"
   ]
  },
  {
   "cell_type": "markdown",
   "id": "51513311",
   "metadata": {},
   "source": [
    "## 네이버 API"
   ]
  },
  {
   "cell_type": "markdown",
   "id": "61c0ae28",
   "metadata": {},
   "source": [
    "- https://developers.naver.com/docs/serviceapi/search/news/news.md#%EB%89%B4%EC%8A%A4"
   ]
  },
  {
   "cell_type": "code",
   "execution_count": 89,
   "id": "54219d6e",
   "metadata": {},
   "outputs": [],
   "source": [
    "client_id = \"ISdXTGuV8Tdqx9fNxPgz\"\n",
    "client_secret = \"e2kcexi37t\"\n",
    "\n",
    "encText = urllib.parse.quote(\"윤석열\")\n",
    "display = 100 # 출력건수 (최대)\n",
    "sort = 'sim' # 유사도"
   ]
  },
  {
   "cell_type": "code",
   "execution_count": 90,
   "id": "e820e033",
   "metadata": {},
   "outputs": [],
   "source": [
    "def getDFabout(cat):\n",
    "    url = f'https://openapi.naver.com/v1/search/{cat}?query={encText}&display={display}&sort={sort}'\n",
    "\n",
    "    request = urllib.request.Request(url)\n",
    "    request.add_header(\"X-Naver-Client-Id\",client_id)\n",
    "    request.add_header(\"X-Naver-Client-Secret\",client_secret)\n",
    "\n",
    "    response = urllib.request.urlopen(request)\n",
    "    rescode = response.getcode()\n",
    "\n",
    "    if(rescode==200):\n",
    "        response_body = response.read()\n",
    "        print('Success')\n",
    "    else:\n",
    "        print(\"Error Code:\" + rescode)\n",
    "    data = response_body.decode('utf-8')\n",
    "    data=json.loads(data)\n",
    "    data1 = pd.DataFrame(data['items'])\n",
    "    return data1"
   ]
  },
  {
   "cell_type": "code",
   "execution_count": 91,
   "id": "0771107e",
   "metadata": {
    "scrolled": true
   },
   "outputs": [
    {
     "name": "stdout",
     "output_type": "stream",
     "text": [
      "Success\n"
     ]
    }
   ],
   "source": [
    "df = getDFabout('news')"
   ]
  },
  {
   "cell_type": "code",
   "execution_count": 92,
   "id": "5cbecb37",
   "metadata": {},
   "outputs": [],
   "source": [
    "pd.options.display.max_colwidth = 20"
   ]
  },
  {
   "cell_type": "code",
   "execution_count": 93,
   "id": "a8d57336",
   "metadata": {},
   "outputs": [
    {
     "data": {
      "text/plain": [
       "Index(['title', 'originallink', 'link', 'description', 'pubDate'], dtype='object')"
      ]
     },
     "execution_count": 93,
     "metadata": {},
     "output_type": "execute_result"
    }
   ],
   "source": [
    "df.columns"
   ]
  },
  {
   "cell_type": "code",
   "execution_count": 94,
   "id": "dcbbe409",
   "metadata": {},
   "outputs": [
    {
     "name": "stdout",
     "output_type": "stream",
     "text": [
      "<class 'pandas.core.frame.DataFrame'>\n",
      "RangeIndex: 100 entries, 0 to 99\n",
      "Data columns (total 5 columns):\n",
      " #   Column        Non-Null Count  Dtype \n",
      "---  ------        --------------  ----- \n",
      " 0   title         100 non-null    object\n",
      " 1   originallink  100 non-null    object\n",
      " 2   link          100 non-null    object\n",
      " 3   description   100 non-null    object\n",
      " 4   pubDate       100 non-null    object\n",
      "dtypes: object(5)\n",
      "memory usage: 4.0+ KB\n"
     ]
    }
   ],
   "source": [
    "df.info()"
   ]
  },
  {
   "cell_type": "code",
   "execution_count": 95,
   "id": "7632d373",
   "metadata": {},
   "outputs": [
    {
     "data": {
      "text/html": [
       "<div>\n",
       "<style scoped>\n",
       "    .dataframe tbody tr th:only-of-type {\n",
       "        vertical-align: middle;\n",
       "    }\n",
       "\n",
       "    .dataframe tbody tr th {\n",
       "        vertical-align: top;\n",
       "    }\n",
       "\n",
       "    .dataframe thead th {\n",
       "        text-align: right;\n",
       "    }\n",
       "</style>\n",
       "<table border=\"1\" class=\"dataframe\">\n",
       "  <thead>\n",
       "    <tr style=\"text-align: right;\">\n",
       "      <th></th>\n",
       "      <th>title</th>\n",
       "      <th>originallink</th>\n",
       "      <th>link</th>\n",
       "      <th>description</th>\n",
       "      <th>pubDate</th>\n",
       "    </tr>\n",
       "  </thead>\n",
       "  <tbody>\n",
       "    <tr>\n",
       "      <th>0</th>\n",
       "      <td>이재명 &amp;quot;&lt;b&gt;윤석열...</td>\n",
       "      <td>https://www.yna....</td>\n",
       "      <td>https://n.news.n...</td>\n",
       "      <td>뒤 &lt;b&gt;윤석열&lt;/b&gt; 정부를...</td>\n",
       "      <td>Sun, 31 Jul 2022...</td>\n",
       "    </tr>\n",
       "    <tr>\n",
       "      <th>1</th>\n",
       "      <td>[취재후 Talk] &amp;apos...</td>\n",
       "      <td>http://news.tvch...</td>\n",
       "      <td>https://n.news.n...</td>\n",
       "      <td>지난주에 완성된 책으로 나온 ...</td>\n",
       "      <td>Sun, 31 Jul 2022...</td>\n",
       "    </tr>\n",
       "    <tr>\n",
       "      <th>2</th>\n",
       "      <td>권성동 대표 직무대행 전격 사...</td>\n",
       "      <td>https://www.khan...</td>\n",
       "      <td>https://n.news.n...</td>\n",
       "      <td>&lt;b&gt;윤석열&lt;/b&gt; 정부가 출...</td>\n",
       "      <td>Sun, 31 Jul 2022...</td>\n",
       "    </tr>\n",
       "    <tr>\n",
       "      <th>3</th>\n",
       "      <td>이재명 &amp;quot;&lt;b&gt;윤석열...</td>\n",
       "      <td>http://www.edail...</td>\n",
       "      <td>https://n.news.n...</td>\n",
       "      <td>더불어민주당 유력 당권 주자인...</td>\n",
       "      <td>Sun, 31 Jul 2022...</td>\n",
       "    </tr>\n",
       "    <tr>\n",
       "      <th>4</th>\n",
       "      <td>대구 찾은 이재명 &amp;quot;...</td>\n",
       "      <td>https://www.seda...</td>\n",
       "      <td>https://n.news.n...</td>\n",
       "      <td>더불어민주당 유력 당권주자인 ...</td>\n",
       "      <td>Sun, 31 Jul 2022...</td>\n",
       "    </tr>\n",
       "    <tr>\n",
       "      <th>...</th>\n",
       "      <td>...</td>\n",
       "      <td>...</td>\n",
       "      <td>...</td>\n",
       "      <td>...</td>\n",
       "      <td>...</td>\n",
       "    </tr>\n",
       "    <tr>\n",
       "      <th>95</th>\n",
       "      <td>주한 몽골대사 신임장 받는 &lt;...</td>\n",
       "      <td>https://www.yna....</td>\n",
       "      <td>https://n.news.n...</td>\n",
       "      <td>&lt;b&gt;윤석열&lt;/b&gt; 대통령이 ...</td>\n",
       "      <td>Fri, 29 Jul 2022...</td>\n",
       "    </tr>\n",
       "    <tr>\n",
       "      <th>96</th>\n",
       "      <td>김정은 “선제타격 시도땐 &lt;b...</td>\n",
       "      <td>https://www.dong...</td>\n",
       "      <td>https://n.news.n...</td>\n",
       "      <td>김정은 북한 국무위원장이 &lt;b...</td>\n",
       "      <td>Fri, 29 Jul 2022...</td>\n",
       "    </tr>\n",
       "    <tr>\n",
       "      <th>97</th>\n",
       "      <td>주한 칠레대사 신임장 받는 &lt;...</td>\n",
       "      <td>https://www.yna....</td>\n",
       "      <td>https://n.news.n...</td>\n",
       "      <td>&lt;b&gt;윤석열&lt;/b&gt; 대통령이 ...</td>\n",
       "      <td>Fri, 29 Jul 2022...</td>\n",
       "    </tr>\n",
       "    <tr>\n",
       "      <th>98</th>\n",
       "      <td>中, &lt;b&gt;윤석열&lt;/b&gt; 정부...</td>\n",
       "      <td>https://biz.chos...</td>\n",
       "      <td>https://n.news.n...</td>\n",
       "      <td>중국 정부가 27일 &lt;b&gt;윤석...</td>\n",
       "      <td>Wed, 27 Jul 2022...</td>\n",
       "    </tr>\n",
       "    <tr>\n",
       "      <th>99</th>\n",
       "      <td>건배사 하는 &lt;b&gt;윤석열&lt;/b...</td>\n",
       "      <td>https://www.news...</td>\n",
       "      <td>https://n.news.n...</td>\n",
       "      <td>= &lt;b&gt;윤석열&lt;/b&gt; 대통령...</td>\n",
       "      <td>Thu, 28 Jul 2022...</td>\n",
       "    </tr>\n",
       "  </tbody>\n",
       "</table>\n",
       "<p>100 rows × 5 columns</p>\n",
       "</div>"
      ],
      "text/plain": [
       "                  title         originallink                 link  \\\n",
       "0   이재명 &quot;<b>윤석열...  https://www.yna....  https://n.news.n...   \n",
       "1   [취재후 Talk] &apos...  http://news.tvch...  https://n.news.n...   \n",
       "2   권성동 대표 직무대행 전격 사...  https://www.khan...  https://n.news.n...   \n",
       "3   이재명 &quot;<b>윤석열...  http://www.edail...  https://n.news.n...   \n",
       "4   대구 찾은 이재명 &quot;...  https://www.seda...  https://n.news.n...   \n",
       "..                  ...                  ...                  ...   \n",
       "95  주한 몽골대사 신임장 받는 <...  https://www.yna....  https://n.news.n...   \n",
       "96  김정은 “선제타격 시도땐 <b...  https://www.dong...  https://n.news.n...   \n",
       "97  주한 칠레대사 신임장 받는 <...  https://www.yna....  https://n.news.n...   \n",
       "98  中, <b>윤석열</b> 정부...  https://biz.chos...  https://n.news.n...   \n",
       "99  건배사 하는 <b>윤석열</b...  https://www.news...  https://n.news.n...   \n",
       "\n",
       "            description              pubDate  \n",
       "0   뒤 <b>윤석열</b> 정부를...  Sun, 31 Jul 2022...  \n",
       "1   지난주에 완성된 책으로 나온 ...  Sun, 31 Jul 2022...  \n",
       "2   <b>윤석열</b> 정부가 출...  Sun, 31 Jul 2022...  \n",
       "3   더불어민주당 유력 당권 주자인...  Sun, 31 Jul 2022...  \n",
       "4   더불어민주당 유력 당권주자인 ...  Sun, 31 Jul 2022...  \n",
       "..                  ...                  ...  \n",
       "95  <b>윤석열</b> 대통령이 ...  Fri, 29 Jul 2022...  \n",
       "96  김정은 북한 국무위원장이 <b...  Fri, 29 Jul 2022...  \n",
       "97  <b>윤석열</b> 대통령이 ...  Fri, 29 Jul 2022...  \n",
       "98  중국 정부가 27일 <b>윤석...  Wed, 27 Jul 2022...  \n",
       "99  = <b>윤석열</b> 대통령...  Thu, 28 Jul 2022...  \n",
       "\n",
       "[100 rows x 5 columns]"
      ]
     },
     "execution_count": 95,
     "metadata": {},
     "output_type": "execute_result"
    }
   ],
   "source": [
    "df"
   ]
  },
  {
   "cell_type": "markdown",
   "id": "a246976c",
   "metadata": {},
   "source": [
    "### description 내용 확인\n",
    "- 요약이라는데 뭘 어떻게 요약한 것인가"
   ]
  },
  {
   "cell_type": "code",
   "execution_count": 96,
   "id": "4e789bfc",
   "metadata": {
    "scrolled": true
   },
   "outputs": [
    {
     "data": {
      "text/plain": [
       "0     뒤 <b>윤석열</b> 정부를...\n",
       "1     지난주에 완성된 책으로 나온 ...\n",
       "2     <b>윤석열</b> 정부가 출...\n",
       "3     더불어민주당 유력 당권 주자인...\n",
       "4     더불어민주당 유력 당권주자인 ...\n",
       "             ...         \n",
       "95    <b>윤석열</b> 대통령이 ...\n",
       "96    김정은 북한 국무위원장이 <b...\n",
       "97    <b>윤석열</b> 대통령이 ...\n",
       "98    중국 정부가 27일 <b>윤석...\n",
       "99    = <b>윤석열</b> 대통령...\n",
       "Name: description, Length: 100, dtype: object"
      ]
     },
     "execution_count": 96,
     "metadata": {},
     "output_type": "execute_result"
    }
   ],
   "source": [
    "df.description"
   ]
  },
  {
   "cell_type": "code",
   "execution_count": 97,
   "id": "6a34d025",
   "metadata": {},
   "outputs": [],
   "source": [
    "description_len = df.description.apply(len)"
   ]
  },
  {
   "cell_type": "code",
   "execution_count": 98,
   "id": "32380caa",
   "metadata": {
    "scrolled": false
   },
   "outputs": [
    {
     "data": {
      "text/plain": [
       "count    100.000000\n",
       "mean     137.550000\n",
       "std       18.752172\n",
       "min       83.000000\n",
       "25%      131.000000\n",
       "50%      139.000000\n",
       "75%      149.250000\n",
       "max      171.000000\n",
       "Name: description, dtype: float64"
      ]
     },
     "execution_count": 98,
     "metadata": {},
     "output_type": "execute_result"
    }
   ],
   "source": [
    "description_len.describe() # 길이도.. 제각각..."
   ]
  },
  {
   "cell_type": "code",
   "execution_count": 99,
   "id": "701007e3",
   "metadata": {},
   "outputs": [
    {
     "data": {
      "text/plain": [
       "0     170\n",
       "1     150\n",
       "2     131\n",
       "3     137\n",
       "4     146\n",
       "     ... \n",
       "95    101\n",
       "96    136\n",
       "97    103\n",
       "98    139\n",
       "99    106\n",
       "Name: description, Length: 100, dtype: int64"
      ]
     },
     "execution_count": 99,
     "metadata": {},
     "output_type": "execute_result"
    }
   ],
   "source": [
    "description_len"
   ]
  },
  {
   "cell_type": "code",
   "execution_count": 100,
   "id": "7031fabf",
   "metadata": {},
   "outputs": [],
   "source": [
    "desc = df.description[95]"
   ]
  },
  {
   "cell_type": "code",
   "execution_count": 101,
   "id": "78e5c562",
   "metadata": {},
   "outputs": [
    {
     "name": "stdout",
     "output_type": "stream",
     "text": [
      "<b>윤석열</b> 대통령이 29일 오후 서울 용산 대통령실 청사에서 열린 주한대사 신임장 제정식에서 에르덴촉트 사랑터거스 주한 몽골대사로부터 신임장을 받고 있다. 2022.7.29"
     ]
    }
   ],
   "source": [
    "for d in desc:\n",
    "    print(d, end=\"\")"
   ]
  },
  {
   "cell_type": "code",
   "execution_count": 102,
   "id": "da281822",
   "metadata": {},
   "outputs": [
    {
     "data": {
      "text/plain": [
       "'.7.29'"
      ]
     },
     "execution_count": 102,
     "metadata": {},
     "output_type": "execute_result"
    }
   ],
   "source": [
    "desc[len(desc)-5:] # ...은 출력이 생략된게 아니라 ...자체가 문자였다."
   ]
  },
  {
   "cell_type": "code",
   "execution_count": 103,
   "id": "2bfbd756",
   "metadata": {},
   "outputs": [
    {
     "name": "stdout",
     "output_type": "stream",
     "text": [
      "********** 0 **********\n",
      "뒤 <b>윤석열</b> 정부를 향해 &quot;성공을 바란다&quot;고 말했다. 이 후보는 이날 대구 엑스코에서 열린 시민 토크쇼 &apos;만남... 이어 &quot;나라와 국민을 위해 <b>윤석열</b> 대통령이 성공하길 바란다&quot;며 &quot;노인 일자리를 줄인다든지, 코로나 감염자... \n",
      "********** 1 **********\n",
      "지난주에 완성된 책으로 나온 저의 첫 저서, &apos;청와대 출입기자가 본 조국의 시간, <b>윤석열</b>의 시간&apos; 관련... 당시 민주당 이재명 후보는 국민의힘 <b>윤석열</b> 후보에 비해 상황적으로 더 쫓기는 분위기 속에서 도리어 손발이 묶인... \n",
      "********** 2 **********\n",
      "<b>윤석열</b> 정부가 출범한지 83일 만에 집권여당에서 비대위가 출범하는 초유의 사태가 발생했다. 비대위원장 임명 주체, 비대위 성격과 기간, 비대위원장 인선을 놓고 당은 더욱 격랑에 휩싸일 것으로 보인다. 권 대행은 이날... \n",
      "********** 3 **********\n",
      "더불어민주당 유력 당권 주자인 이재명 당 대표 후보는 31일 대구를 찾아 <b>윤석열</b> 정부를 향해 “성공하길... 안 될 일을 한다면 싸우고 견제할 것”이라면서도 “나라와 국민을 위해 <b>윤석열</b> 대통령이 성공하길 바란다”고... \n",
      "********** 4 **********\n",
      "더불어민주당 유력 당권주자인 이재명 의원이 31일 “나라와 국민을 위해 <b>윤석열</b> 대통령이 성공하길 바란다”고 말했다. 이 의원은 이날 대구 엑스코에서 열린 시민 토크쇼 &apos;만남, 그리고 희망&apos;에서 &quot;상대 공격보다 국민을... \n",
      "********** 5 **********\n",
      "박용현 | 논설위원 도이치모터스 주가조작 혐의로 기소된 권오수 전 회장의 아들이 <b>윤석열</b> 대통령 취임식에... <b>윤석열</b> 대통령도 마찬가지다. 지난 26일 법무부 업무보고를 받고 “부정부패와 서민 다중 피해 범죄에 대한... \n",
      "********** 6 **********\n",
      "더불어민주당 당 대표 후보인 이재명 의원은 31일 “나라와 국민을 위해 <b>윤석열</b> 대통령이 성공하길 바란다”고 말했다. 이 의원은 이날 대구 엑스코에서 열린 시민 토크쇼 ‘만남, 그리고 희망’에서 “야당이 됐으니... \n",
      "********** 7 **********\n",
      "장관이 &quot;<b>윤석열</b> 검찰 정부는 추천과 검증의 단계를 상명하복밖에 모르는 친위 검찰 식구들로 채워 넣었다... 이어 &quot;<b>윤석열</b> 정부의 인사 절차는 대통령실 인사비서관, 인사기획관을 거쳐 추천된 인사를 공직 기강비서관이... \n",
      "********** 8 **********\n",
      "이어 “민주당 비대위원장께서 아무 당직도 없는 저를 직접 언급하는 걸 보니 가장 신경이 쓰이는 것처럼 보인다”면서 “단일화로 정권교체를 이룬 사람으로서 <b>윤석열</b> 정부에 무한 책임을 느끼고 있다”고 말했습니다.... \n",
      "********** 9 **********\n",
      "<b>윤석열</b> 대통령의 지지율이 처음 20%대로 추락했다. 취임 후 80여일 만이다. 조선일보를 제외한 대부분의 30일... 한겨레는 1면 &apos;취임 두달새 28%…그래도 &quot;일희일비 안 한다&quot;는 대통령실&apos; 기사에서 &quot;<b>윤석열</b> 대통령의 지지율이... \n",
      "********** 10 **********\n",
      "뒤 <b>윤석열</b> 정부를 향해 &quot;성공을 바란다&quot;고 말했다. 이 후보는 이날 대구 엑스코에서 열린 시민 토크쇼 &apos;만남... 이어 &quot;나라와 국민을 위해 <b>윤석열</b> 대통령이 성공하길 바란다&quot;며 &quot;노인 일자리를 줄인다든지, 코로나 감염자... \n",
      "********** 11 **********\n",
      "더불어민주당 당권주자인 이재명 후보가 31일 대구를 찾아 당의 변화를 강조한 뒤 <b>윤석열</b> 정부를 향해... 이어 &quot;나라와 국민을 위해 <b>윤석열</b> 대통령이 성공하길 바란다&quot;며 &quot;노인 일자리를 줄인다든지, 코로나 감염자 지원을... \n",
      "********** 12 **********\n",
      "이어 &quot;<b>윤석열</b> 정부의 인사 절차는 대통령실 인사비서관, 인사기획관을 거쳐 추천된 인사를 공직 기강비서관이... 그러면서 &quot;모 인사기획관은 <b>윤석열</b> 검찰총장 당시 대검 사무국장으로 수십억 특활비를 <b>윤석열</b>을 위해 집행한... \n",
      "********** 13 **********\n",
      "이 후보는 이날 대구 엑스코에서 열린 &apos;이재명 국회의원 초청 - 대구시민토크쇼&apos; 행사에서 &quot;현재의 집권여당과 <b>윤석열</b> 대통령께서 성공하길 바란다&quot;고 했다. 그러면서 그는 &quot;(윤 대통령의 성공은) 누군가를 위해서가 아니라... \n",
      "********** 14 **********\n",
      "뒤 <b>윤석열</b> 정부를 향해 &quot;성공을 바란다&quot;고 말했다. 연합뉴스에 따르면 이 후보는 이날 대구 엑스코에서 열린... 이어 &quot;나라와 국민을 위해 <b>윤석열</b> 대통령이 성공하길 바란다&quot;며 &quot;노인 일자리를 줄인다든지, 코로나 감염자... \n",
      "********** 15 **********\n",
      "닫아버린 <b>윤석열</b> 대통령&quot;이라고 쓴소리를 냈다. 고 의원은 30일 오전 광주 국립 5·18 민주묘지를 참배한 뒤 페이스북을 통해 &quot;단 두 달여 만에 보여준 <b>윤석열</b> 정부의 민낯&quot;이라며 &quot;검찰에 이어 경찰 장악, 전 정권에 대한... \n",
      "********** 16 **********\n",
      "사회적 논란 속에 사실상 폐기된 정책을 <b>윤석열</b> 정부가 다시 꺼내들었다. 1949년 최초 제정된 교육법... 이른바 ‘<b>윤석열</b> 세대’ ‘박순애 세대’의 탄생이다. 박순애 사회부총리 겸 교육부장관은 29일 초등학교 입학... \n",
      "********** 17 **********\n",
      "<b>윤석열</b> 정부의 이유 있는 추락 윤 대통령의 오랜 지인으로 알려진 강원도의 통신설비업체 대표의 아들이 대통령실에 채용된 사실이 알려지며 논란이 됐다. 아버지는 지역 선관위원이고, 아들은 <b>윤석열</b> 캠프에 1천만 원을... \n",
      "********** 18 **********\n",
      "보여준 <b>윤석열</b> 정부의 민낯&quot;이라며 이같이 말했다. 이어 &quot;국정지지율 28%&quot;이라며 &quot;묘역에서 만난 한 분이 제게 간곡히 말씀하신다&quot;라고 전했다. 그러면서 &quot;이렇게 힘들게 만든 민주주의가 우리 눈앞에서 무너지는 게 보이는... \n",
      "********** 19 **********\n",
      "더불어민주당 당권 주자인 박용진 후보는 30일 <b>윤석열</b> 정부의 새 교육부가 2025년부터 초등학교 취학연령을... 그러면서 &quot;아동의 학령에 따른 발달, 성취도의 차이를 전혀 고려하지 않았기 때문&quot;라며 &quot;다시 한 번,&apos;<b>윤석열</b>... \n",
      "********** 20 **********\n",
      "<b>윤석열</b> 대통령의 지지율이 취임 80여일 만에 20%대로 떨어지자 미국 언론매체도 윤 대통령의 지지율 추락을 주목하고 있는 것으로 나타났다. 미국 안보전문매체 내셔널인터레스트는 ‘코리아 와치’(Korea Watch)면에... \n",
      "********** 21 **********\n",
      "<b>윤석열</b> 대통령의 지지율이 20% 대로 추락했어요 . 계속되는 ‘ 사적채용 ’ 논란에서부터 ‘ 경찰국 설치 ’... 과연 <b>윤석열</b> 정부와 여당의 미래는 어떻게 될까요 ? 〈 공덕포차 시즌 3 〉 에서 짚어드립니다 . 지금 바로... \n",
      "********** 22 **********\n",
      "<b>윤석열</b> 정부의 첫 대법관 후보로 오석준(60·사법연수원 19기) 제주지방법원장이 선정됐다. 대법원은 김명수 대법원장이 <b>윤석열</b> 대통령에게 오는 9월 퇴임 예정인 김재형 대법관의 후임으로 오 법원장의 임명을... \n",
      "********** 23 **********\n",
      "<b>윤석열</b> 대통령이 이준석 당대표를 “내부 총질이나 하던 당대표”라며 ‘파문’한 데 이어 ‘윤핵관’(<b>윤석열</b> 핵심 관계자)이던 권성동 당대표 직무대행 겸 원내대표도 조기에 내치며 당무에 노골적으로 개입한다는... \n",
      "********** 24 **********\n",
      "촛불승리 전환행동 등 시민단체 회원들이 30일 서울 청계광장에서 <b>윤석열</b> 대통령 규탄 집회를 하고 있다. 2022.07.30. photocdj@newsis.com 공감언론 뉴시스가 독자 여러분의 소중한 제보를 기다립니다. 뉴스 가치나... \n",
      "********** 25 **********\n",
      "더불어민주당 최고위원 경선을 통과한 고민정 의원이 <b>윤석열</b> 대통령을 겨냥해 &quot;수많은 국민이 경고음을... 단 두 달여 만에 보여준 <b>윤석열</b> 정부의 민낯&quot;이라고 지적했습니다. 이어 고 의원은 &quot;묘역에서 만난 한 분이 제게... \n",
      "********** 26 **********\n",
      "촛불승리 전환행동 등 시민단체 회원들이 30일 서울 청계광장에서 <b>윤석열</b> 대통령 규탄 집회를 하고 있다. 2022.07.30. photocdj@newsis.com 공감언론 뉴시스가 독자 여러분의 소중한 제보를 기다립니다. 뉴스 가치나... \n",
      "********** 27 **********\n",
      "<b>윤석열</b> 정부의 승리, 경찰의 패배라고 말할 수 있을까. 모두가 졌다. 엠브레인퍼블릭, 케이스탯리서치... <b>윤석열</b> 대통령 국정운영에 대한 부정평가는 54%로 집계됐는데, &apos;독단적이고 일방적이어서&apos;가 30%를 차지했다. &quot;행안부... \n",
      "********** 28 **********\n",
      "촛불승리 전환행동 등 시민단체 회원들이 30일 서울 청계광장에서 <b>윤석열</b> 대통령 규탄 집회를 하고 있다. 2022.07.30. photocdj@newsis.com 공감언론 뉴시스가 독자 여러분의 소중한 제보를 기다립니다. 뉴스 가치나... \n",
      "********** 29 **********\n",
      "<b>윤석열</b> 대통령의 직무수행 긍정율이 28%를 기록했다는 여론조사결과가 29일 나왔다. 취임 80일 만에 직무수행 긍정률이 30% 밑으로 떨어졌다. 부정평가가 긍정평가를 웃도는 ‘데드크로스’에 이어 30% 지지율마저... \n",
      "********** 30 **********\n",
      "촛불승리 전환행동 등 시민단체 회원들이 30일 서울 청계광장에서 <b>윤석열</b> 대통령 규탄 집회를 하고 있다. 2022.07.30. photocdj@newsis.com 공감언론 뉴시스가 독자 여러분의 소중한 제보를 기다립니다. 뉴스 가치나... \n",
      "********** 31 **********\n",
      "<b>윤석열</b> 대통령이 29일 서울 용산 대통령실 청사에서 열린 주한대사 신임장 제정식에서 에르덴촉트 사랑터거스 주한 몽골 대사로부터 신임장을 받은 뒤 차담하고 있다. (대통령실통신사진기자단) 2022.07.29. yesphoto... \n",
      "********** 32 **********\n",
      "북한 김정은 위원장이 &apos;선제 타격&apos; 등 <b>윤석열</b> 정부 대북 정책에 대해 강력하게 반발하고 나섰습니다. 김... 연설에 나선 김 위원장은 &apos;선제 타격&apos; 등 <b>윤석열</b> 정부의 정책과 관련해 &quot;그러한 위험한 시도는 즉시 강력한 힘에... \n",
      "********** 33 **********\n",
      "추미애 전 법무부 장관이 <b>윤석열</b> 정부의 국정 운영에 대해 민주주의 위기라고 규정하며, 더불어민주당이 더욱... 추 전 장관은 특히 <b>윤석열</b> 정부의 공직자 인사 라인에 대해 강하게 비판했다. 그는 <b>윤석열</b> 정부의 인사... \n",
      "********** 34 **********\n",
      "<b>윤석열</b> 대통령이 29일 서울 용산 대통령실 청사에서 열린 주한대사 신임장 제정식에서 에르덴촉트 사랑터거스 주한 몽골 대사로부터 신임장을 받은 뒤 차담하고 있다. (대통령실통신사진기자단) 2022.07.29. yesphoto... \n",
      "********** 35 **********\n",
      "<b>윤석열</b> 대통령이 28일 정조대왕함 진수식을 주관했다. 윤 대통령은 이날 오전 울산 현대중공업에서 열린 해군의 차세대 이지스구축함 제1번함인 &apos;정조대왕함&apos; 진수식에 부인 김건희 여사와 함께 참석했다. 윤 대통령은... \n",
      "********** 36 **********\n",
      "<b>윤석열</b> 대통령이 29일 서울 용산 대통령실 청사에서 열린 주한대사 신임장 제정식에서 필립 골드버그 주한 미국 대사로부터 신임장을 받은 뒤 차담하고 있다. (대통령실통신사진기자단) 2022.07.29. yesphoto@newsis.com... \n",
      "********** 37 **********\n",
      "<b>윤석열</b> 대통령이 29일 서울 용산 대통령실 청사에서 열린 주한대사 신임장 제정식에서 필립 골드버그 주한 미국 대사로부터 신임장을 받은 뒤 차담하고 있다. (대통령실통신사진기자단) 2022.07.29. yesphoto@newsis.com... \n",
      "********** 38 **********\n",
      "<b>윤석열</b> 대통령이 29일 서울 용산 대통령실 청사에서 열린 주한대사 신임장 제정식에서 마티아스 프랑케 슈나바흐 주한 칠레 대사로부터 신임장을 받은 뒤 차담하고 있다. (대통령실통신사진기자단) 2022.07.29.... \n",
      "********** 39 **********\n",
      "<b>윤석열</b> 대통령이 29일 서울 용산 대통령실 청사에서 열린 주한대사 신임장 제정식에서 마티아스 프랑케 슈나바흐 주한 칠레 대사로부터 신임장을 받은 뒤 차담하고 있다. (대통령실통신사진기자단) 2022.07.29.... \n",
      "********** 40 **********\n",
      "<b>윤석열</b> 정부의 국정과제인 &apos;국가교육책임제 강화&apos;에 따라 의무교육 시점을 1년 앞당기겠다는 것이다. 영유아(0~5세) 단계의 국가 책임 교육을 위해 유치원과 어린이집을 합치는 &apos;유보통합&apos;도 추진한다. 박순애 사회부총리... \n",
      "********** 41 **********\n",
      "<b>윤석열</b> 대통령이 29일 서울 용산 대통령실 청사에서 열린 주한대사 신임장 제정식에서 데시 달키 주한 에티오피아 대사로부터 신임장을 받은 뒤 차담하고 있다. (대통령실통신사진기자단) 2022.07.29. yesphoto@newsis.... \n",
      "********** 42 **********\n",
      "기간임에도 <b>윤석열</b> 정부에 대한 여론은 좋지 않다. 최근의 여론조사를 종합하면 집권 초기라고 믿어지지 않을 정도로 매우 낮은 지지율을 기록하고 있다. 그간 우호적 입장을 보였던 보수 언론들조차 <b>윤석열</b> 정부의... \n",
      "********** 43 **********\n",
      "<b>윤석열</b> 대통령이 29일 서울 용산 대통령실 청사에서 열린 주한대사 신임장 제정식에서 에르덴촉트 사랑터거스 주한 몽골 대사로부터 신임장을 받고 있다. (대통령실통신사진기자단) 2022.07.29. yesphoto@newsis.com... \n",
      "********** 44 **********\n",
      "<b>윤석열</b> 대통령이 29일 서울 용산 대통령실 청사에서 열린 주한대사 신임장 제정식에서 마티아스 프랑케 슈나바흐 주한 칠레 대사로부터 신임장을 받고 있다. (대통령실통신사진기자단) 2022.07.29. yesphoto@newsis.com... \n",
      "********** 45 **********\n",
      "박지원 전 국가정보원장은 <b>윤석열</b> 대통령이 ‘내부 총질’ 문자 파문과 관련해 권성동 국민의힘 대표... 박 전 원장은 “내일 모레 (윤 대통령) 취임 100일인데, <b>윤석열</b> 정부 한 게 뭐냐. 용산으로 청와대 이전하고 개편한 것... \n",
      "********** 46 **********\n",
      "<b>윤석열</b> 대통령이 29일 서울 용산 대통령실 청사에서 열린 주한대사 신임장 제정식에서 필립 골드버그 주한 미국 대사로부터 신임장을 받은 뒤 기념촬영을 하고 있다. 오른쪽은 박진 외교부 장관.... \n",
      "********** 47 **********\n",
      "<b>윤석열</b> 대통령이 29일 서울 용산 대통령실 청사에서 열린 주한대사 신임장 제정식에서 필립 골드버그 주한 미국 대사로부터 신임장을 받은 뒤 박진 외교부 장관, 앤드류 헤럽 공사참사관 등 수행원과 기념촬영을... \n",
      "********** 48 **********\n",
      "<b>윤석열</b> 대통령이 29일 서울 용산 대통령실 청사에서 열린 주한대사 신임장 제정식에서 필립 골드버그 주한 미국 대사로부터 신임장을 받은 뒤 기념촬영을 하고 있다. 오른쪽은 박진 외교부 장관.... \n",
      "********** 49 **********\n",
      "&apos;운석열-권성동 내부총질 문자사태&apos; 후폭풍이 걷잡을 수 없이 확산되고 있다. 국민의힘 초선의원 32명은 지난 29일 권성동 당대표 직무대행 겸 원내대표의 사실상 &apos;원톱 체제&apos;로 운영 중인 현 지도체제를 비상대책위원회... \n",
      "********** 50 **********\n"
     ]
    },
    {
     "name": "stdout",
     "output_type": "stream",
     "text": [
      "대법원은 김명수 대법원장이 <b>윤석열</b> 대통령에게 오는 9월 퇴임 예정인 김재형 대법관의 후임으로 오석준(60·사법연수원 19기) 제주지방법원장의 임명을 제청했다고 28일 밝혔다. 오 법원장이 대법관이 되면 <b>윤석열</b>... \n",
      "********** 51 **********\n",
      "<b>윤석열</b> 대통령이 29일 서울 용산 대통령실 청사에서 열린 주한대사 신임장 제정식에서 데시 달키 주한 에티오피아 대사로부터 신임장을 받고 있다. (대통령실통신사진기자단) 2022.07.29. yesphoto@newsis.com 공감언론... \n",
      "********** 52 **********\n",
      "<b>윤석열</b> 대통령과 김건희 여사가 28일 오전 울산시 현대중공업에서 열린 차세대 이지스구축함 정조대왕함 안전항해 기원식을 마친 뒤 장병들을 향해 손을 흔들고 있다. [사진=연합뉴스] ◇<b>윤석열</b> 대통령, 정도대왕함 진수식... \n",
      "********** 53 **********\n",
      "<b>윤석열</b> 대통령이 29일 정부서울청사에서 코로나19 중앙재난안전대책본부 회의를 주재했다. 윤 대통령은 &quot;최근 전파력이 강하고 면역 회피 특성이 있는 변이 바이러스가 확산 중이고, 재유행이 예상보다 빠르게 진행되고... \n",
      "********** 54 **********\n",
      "<b>윤석열</b> 대통령이 29일 서울 용산 대통령실 청사에서 열린 주한대사 신임장 제정식에서 필립 골드버그 주한 미국 대사로부터 신임장을 받은 뒤 기념촬영을 하고 있다. 오른쪽은 박진 외교부 장관.... \n",
      "********** 55 **********\n",
      "<b>윤석열</b> 대통령의 지지율이 취임 두 달여 만에 처음으로 20%대로 곤두박질 친 가운데, 미국 언론도 윤... 이어 “<b>윤석열</b> 대통령이 (이러한 촉구에) 귀를 기울이지 않는다면, 바이든 대통령은 한국 정부가 한국 국민에... \n",
      "********** 56 **********\n",
      "<b>윤석열</b> 대통령이 29일 서울 용산 대통령실 청사에서 열린 주한대사 신임장 제정식에서 마티아스 프랑케 슈나바흐 주한 칠레 대사로부터 신임장을 받은 뒤 기념촬영을 하고 있다. 오른쪽은 박진 외교부 장관.... \n",
      "********** 57 **********\n",
      "<b>윤석열</b> 대통령이 29일 서울 용산 대통령실 청사에서 열린 주한대사 신임장 제정식에서 에르덴촉트 사랑터거스 주한 몽골 대사로부터 신임장을 받은 뒤 기념촬영을 하고 있다. 오른쪽은 박진 외교부 장관.... \n",
      "********** 58 **********\n",
      "중국이 <b>윤석열</b> 정부 출범 후 두 달 정도 관망하더니 최근 들어 자국 이해관계가 걸린 사안에 대해 부쩍 요구... 중국이 <b>윤석열</b> 정부 출범 후 사드 3불 유지를 공개적으로 요구한 건 이번이 처음입니다. 사드 3불은 문재인... \n",
      "********** 59 **********\n",
      "그런데 <b>윤석열</b> 대통령이 취임, <b>윤석열</b> 정부가 들어선 지 100일도 안된 시점에서 진보계 시민 단체들이 주도하는 반정부 시위가 시작됐다. 진보계 시민단체들이... \n",
      "********** 60 **********\n",
      "<b>윤석열</b> 대통령이 29일 서울 용산 대통령실 청사에서 열린 주한대사 신임장 제정식에서 데시 달키 주한 에티오피아 대사로부터 신임장을 받은 뒤 차담하고 있다. (대통령실통신사진기자단) 2022.07.29. yesphoto@newsis.... \n",
      "********** 61 **********\n",
      "<b>윤석열</b> 대통령에 대한 지지율이 20%대로 곤두박질친 가운데 국내에서 서서히 우려의 목소리가 나오고... [리포트] 새 정부 출범 두달만에 <b>윤석열</b> 대통령 지지율이 연일 하락세를 보이는 가운데 국내 언론에서 우려의... \n",
      "********** 62 **********\n",
      "7월26일 권성동 국민의힘 당대표 직무대행 겸 원내대표와 <b>윤석열</b> 대통령 간 텔레그램 메시지가 포착됐습니다.... 저는 <b>윤석열</b> 대통령도 사람인데 얼마든지 이준석 대표에 대한 감정을 사적으로 대화하는 게 뭐가 문제냐.... \n",
      "********** 63 **********\n",
      "<b>윤석열</b> 대통령의 배우자 김건희 여사 팬클럽인 &apos;건희사랑&apos; 회장을 맡았던 강신업 변호사가 28일 자리에서... 김건희 여사와 <b>윤석열</b> 대통령을 지켜야 하지만 오히려 물러남으로서 더 큰 것을 얻을 수 있다고 생각한다&quot;며... \n",
      "********** 64 **********\n",
      "원내대표와 <b>윤석열</b> 대통령 간 텔레그램 메시지가 포착됐습니다. 윤 대통령이 &quot;우리당도 잘하네요 계속... ▲  채널A &lt;뉴스TOP10&gt;(7월 27일) 대담 일부 ⓒ 민주언론시민연합 ▲  <b>윤석열</b> 대통령 ‘내부 총질’ 표현을 정조... \n",
      "********** 65 **********\n",
      "김정은 북한 국무위원장이 28일 <b>윤석열</b> 정부의 대북 군사정책에 대해 “그러한 위험한 시도는 즉시 강력한 힘에 의해 응징될 것이며 <b>윤석열</b> 정권과 그의 군대는 전멸될 것”이라고 강하게 비난했다. 김 위원장이 <b>윤석열</b>... \n",
      "********** 66 **********\n",
      "박홍근 더불어민주당 원내대표는 28일 “대통령실이 극우 유튜버들의 일자리가 되고 있다”며 “<b>윤석열</b>... 인물이 <b>윤석열</b> 대통령실에서 근무하고 있다는 사실은 너무나 충격적”이라고 말했다. 박 원내대표는 “강씨는... \n",
      "********** 67 **********\n",
      "= 촛불승리 전환행동 등 시민단체 회원들이 30일 서울 중구 청계광장에서 <b>윤석열</b> 대통령 규탄 집회를 갖고 있다. 2022.7.30/뉴스1\n",
      "********** 68 **********\n",
      "= 촛불승리 전환행동 등 시민단체 회원들이 30일 서울 중구 청계광장에서 <b>윤석열</b> 대통령 규탄 집회를 갖고 있다. 2022.7.30/뉴스1\n",
      "********** 69 **********\n",
      "<b>윤석열</b> 대통령이 29일 서울 세종로 정부서울청사에서 열린 코로나19 중앙재난안전대책본부 회의를 주재하고 있다. [사진=연합뉴스] ◇尹대통령 &quot;일상 회복 기조 아래 코로나19 위중증과 사망 최소화&quot; <b>윤석열</b> 대통령은 29일... \n",
      "********** 70 **********\n",
      "= 촛불승리 전환행동 등 시민단체 회원들이 30일 서울 중구 청계광장에서 <b>윤석열</b> 대통령 규탄 집회를 갖고 있다. 2022.7.30/뉴스1\n",
      "********** 71 **********\n",
      "<b>윤석열</b> 대통령이 29일 서울 용산 대통령실 청사에서 열린 주한대사 신임장 제정식에서 데시 달키 주한 에티오피아 대사로부터 신임장을 받은 뒤 기념촬영을 하고 있다. 오른쪽은 박진 외교부 장관.... \n",
      "********** 72 **********\n",
      "핵심요약 &quot;우리는 <b>윤석열</b>이 내뱉은 망언들·추태들 정확히 기억한다&quot; &quot;우리 군사력 무력화시킬 수 있다고... 김정은, <b>윤석열</b> 대통령 직책도 빼고 강도높은 실명 비난 전문가 &quot;김정은의 대남불신의 정도를 가늠케 하는 연설... \n",
      "********** 73 **********\n",
      "하태경 국민의힘 국회의원은 30일 김정은 북한 국무위원장이 <b>윤석열</b> 대통령의 실명을 거론하며 강도 높게... 것&quot;이라며 &quot;<b>윤석열</b> 정부는 북한이 비핵화에 나서고 대남도발을 중단한다면 과감한 대북지원과 협력에... \n",
      "********** 74 **********\n",
      "김정은 북한 국무위원장이 <b>윤석열</b> 정부의 이른바 &apos;선제타격&apos; 등 대북 군사정책에 대해 &quot;그러한 위험한 시도는 즉시 강력한 힘에 의해 응징될 것이며, <b>윤석열</b> 정권과 군대는 전멸될 것&quot;이라고 강하게 비난했습니다. 또... \n",
      "********** 75 **********\n",
      "<b>윤석열</b> 정부가 자율형사립고(자사고)를 유지하기로 했다. 반면, 문재인 정부에서 일반고등학교로 전환하기로... 박순애 사회부총리 겸 교육부 장관은 29일 새 정부 업무계획을 <b>윤석열</b> 대통령에게 보고하기에 앞서 열린... \n",
      "********** 76 **********\n",
      "중국이 <b>윤석열</b> 정부 출범 후 두 달 정도 관망하더니 최근 들어 자국 이해관계가 걸린 사안에 대해 부쩍 요구... 중국이 <b>윤석열</b> 정부 출범 후 사드 3불 유지를 공개적으로 요구한 건 이번이 처음입니다. 사드 3불은 문재인... \n",
      "********** 77 **********\n",
      "문재인 정부의 청와대를 출입했던 정치부 기자가 당시의 취재 뒷얘기를 풀어낸 &lt;조국의 시간, <b>윤석열</b>의 시간... △제20대 대통령 선거를 되돌아보며 △바라볼 ‘대통령 <b>윤석열</b>’의 시간 △청와대 출입기자가 본 조국의... \n",
      "********** 78 **********\n",
      "= 촛불승리 전환행동 등 시민단체 회원들이 30일 서울 중구 청계광장에서 <b>윤석열</b> 대통령 규탄 집회를 갖고 있다. 2022.7.30/뉴스1\n",
      "********** 79 **********\n",
      "<b>윤석열</b> 대통령과 김건희 여사가 28일 오전 울산시 현대중공업에서 열린 차세대 이지스구축함 정조대왕함 진수식에서 진수줄을 자른 뒤 박수를 치고 있다. . 2022.7.28\n",
      "********** 80 **********\n",
      "<b>윤석열</b> 정부가 임명하는 첫 대법관 후보자 최종 1인에 오석준 제주지방법원장이 낙점됐습니다. 김명수 대법원장은 오늘(28일) <b>윤석열</b> 대통령에게 퇴임 예정인 김재형 대법관의 후임으로 오석준 제주지법원장을... \n",
      "********** 81 **********\n",
      "북한 김정은 위원장이 &apos;선제 타격&apos; 등 <b>윤석열</b> 정부 대북 정책에 대해 강력하게 반발하고 나섰습니다. 김... 연설에 나선 김 위원장은 &apos;선제 타격&apos; 등 <b>윤석열</b> 정부의 정책과 관련해 &quot;그러한 위험한 시도는 즉시 강력한 힘에... \n",
      "********** 82 **********\n",
      "김정은 북한 국무위원장은 <b>윤석열</b> 정부를 향해 &quot;위험한 시도는 즉시 강력한 힘에 의해 응징될 것이며 <b>윤석열</b> 정권과 그의 군대는 전멸될 것&quot;이라고 위협했습니다. 이는 <b>윤석열</b> 정부의 &apos;선제타격&apos; 등 대북 군사 정책을... \n",
      "********** 83 **********\n",
      "[이앤피] 임은정 &quot;<b>윤석열</b> 보스 스타일, 싫은 소리하면 안 만나&quot; - 검사들 집단행동 경찰보다 더 위험 - 검찰 권한은 절대반지, 반지원정대는 계속될 것 - 징계 선배로서 <b>윤석열</b> 조언, 싫은 소리하면 안 만나 보스 스타일 - 정치... \n",
      "********** 84 **********\n",
      "북한 김정은 국무위원장이 <b>윤석열</b> 정부의 대북 군사정책에 대해 &quot;위험한 시도는 즉시 강력한 힘에 의해 응징될 것이며 <b>윤석열</b> 정권과 그의 군대는 전멸될 것&quot;이라고 위협했다. 김 위원장이 <b>윤석열</b> 대통령의 실명을... \n",
      "********** 85 **********\n",
      "김정은 북한 노동당 총비서는 남한이 북한에 대한 선제타격을 시도한다면 <b>윤석열</b> 정부는 전멸될 것이라고... 것이며 <b>윤석열</b> 정권과 군대는 전멸될 것이라고 주장했습니다. 김 총비서는 또, 더이상 <b>윤석열</b> 대통령과 남한... \n",
      "********** 86 **********\n",
      "29일 <b>윤석열</b> 정부가 문재인 정부 시절 임명된 전현희 국민권익위원장과 한상혁 방송통신위원장을 교체하기 위해 감사원의 감사 등 다각적 압력이 동원되고 있다며 &quot;민생에 전념하라&quot;고 비판했다. 또 <b>윤석열</b> 대통령이 이준석... \n",
      "********** 87 **********\n",
      "김정은 북한 국무위원장은 선제 타격 등 <b>윤석열</b> 정부의 대북 정책과 관련해 &quot;위험한 시도를 할 경우 <b>윤석열</b> 정권과 군대는 전멸할 것&quot;이라고 반발했습니다. 김 위원장이 <b>윤석열</b> 정부에 대해 직접 입장을 내놓은 건 이번이... \n",
      "********** 88 **********\n",
      "<b>윤석열</b> 정부가 임명할 첫 대법관 후보로 오석준(60·사법연수원 19기) 제주지방법원장이 선정됐다. 대법원은 김명수 대법원장이 <b>윤석열</b> 대통령에게 대법관후보추천위원회 추천 3명의 신임 대법관 후보 가운데 오 법원장의... \n",
      "********** 89 **********\n",
      "한국갤럽이 지난 26~28일 <b>윤석열</b> 대통령의 직무 수행 평가를 조사한 결과 긍정 평가는 28%, 부정 평가는 62%로 나타났다. 어느 쪽도 아니다는 3%, 모름/응답거절은 8%였다. (그래픽=안지혜 기자) hokma@newsis.com [사진 영상... \n",
      "********** 90 **********\n",
      "경찰이 <b>윤석열</b> 대통령 부인 김건희 여사의 &apos;성상납&apos; 의혹을 제기한 팟캐스트 &apos;나는 꼼수다&apos; 출신 김용민... 김 이사장은 지난 3월 2일 자신의 페이스북에 &quot;이재명의 경쟁자 <b>윤석열</b>은 검사로 있으면서 정육을 포함해 이런저런... \n",
      "********** 91 **********\n",
      "이 아이러니에 <b>윤석열</b> 정부 혁신의 현주소가 있고 전 정부들과 차별화할 점이 있다. 2017년부터 지금까지... <b>윤석열</b> 정부가 증권형과 비증권형을 구분하고 증권형에 대해서는 자본시장법을 적용할 것으로 보인다. 늦었지만... \n",
      "********** 92 **********\n",
      "<b>윤석열</b> 대통령이 29일 오전 서울 서대문구 신촌지구대를 방문해 치안을 점검하고 일선 경찰관들을 격려했다. 윤 대통령은 이날 오전 10시 30분께 신촌지구대에 도착해 현장에 근무하는 경찰관들과 인사를 나누고 관내 치안... \n",
      "********** 93 **********\n",
      "☞한겨레S 뉴스레터 구독하기 https://bit.ly/319DiiE 정부가 중산층과 서민의 부담을 덜어주겠다며 대대적인 감세안을 발표했다. 근로소득세, 법인세, 종합부동산세 모두 깎아주겠다고 나섰다. 근로소득세의 경우 연간 최고... \n",
      "********** 94 **********\n",
      "북한 김정은 위원장이 <b>윤석열</b> 대통령 이름을 처음으로 직접 거론하며 비난을 퍼부었습니다. <b>윤석열</b> 정권과 군대는 전멸될거라고 협박한건데요. 새정부 출범 이후 한미동맹이 복원되면서 위기감이 커진 김 위원장이 압박... \n",
      "********** 95 **********\n",
      "<b>윤석열</b> 대통령이 29일 오후 서울 용산 대통령실 청사에서 열린 주한대사 신임장 제정식에서 에르덴촉트 사랑터거스 주한 몽골대사로부터 신임장을 받고 있다. 2022.7.29\n",
      "********** 96 **********\n",
      "김정은 북한 국무위원장이 <b>윤석열</b> 정부를 향해 “위험한 시도는 강력한 힘에 의해 응징될 것이며 <b>윤석열</b> 정권과 그의 군대는 전멸될 것”이라며 위협했다. 김 위원장이 윤 대통령 이름을 거론해 비난하고 직접 대남 기조를... \n",
      "********** 97 **********\n",
      "<b>윤석열</b> 대통령이 29일 오후 서울 용산 대통령실 청사에서 열린 주한대사 신임장 제정식에서 마티아스 프랑케 슈나바흐 주한 칠레대사로부터 신임장을 받고 있다. 2022.7.29\n",
      "********** 98 **********\n",
      "중국 정부가 27일 <b>윤석열</b> 정부에 문재인 정부의 ‘사드(THAAD·고고도 미사일 방어체계) 3불 정책’을 지키라고 요구했다. 정권이 바뀌었다고 해서 과거 빚을 무시하지 말라고 <b>윤석열</b> 정부를 향해 경고성 메시지를 냈다.... \n",
      "********** 99 **********\n",
      "= <b>윤석열</b> 대통령과 조코 위도도 인도네시아 대통령, 김건희 여사가 28일 오후 용산 대통령실에서 열린 공식 만찬에서 건배를 하고 있다. 대통령실사진기자단 2022.7.28/뉴스1\n"
     ]
    }
   ],
   "source": [
    "for i, desc in enumerate(df.description):\n",
    "    print(\"*\"*10, i, \"*\"*10)\n",
    "    for d in desc:\n",
    "        print(d, end=\"\")\n",
    "    print()"
   ]
  },
  {
   "cell_type": "code",
   "execution_count": 104,
   "id": "3a5f8c95",
   "metadata": {},
   "outputs": [
    {
     "data": {
      "text/plain": [
       "'뒤 <b>윤석열</b> 정부를 향해 &quot;성공을 바란다&quot;고 말했다. 이 후보는 이날 대구 엑스코에서 열린 시민 토크쇼 &apos;만남... 이어 &quot;나라와 국민을 위해 <b>윤석열</b> 대통령이 성공하길 바란다&quot;며 &quot;노인 일자리를 줄인다든지, 코로나 감염자... '"
      ]
     },
     "execution_count": 104,
     "metadata": {},
     "output_type": "execute_result"
    }
   ],
   "source": [
    "df.description[0]"
   ]
  },
  {
   "cell_type": "code",
   "execution_count": 105,
   "id": "1372605a",
   "metadata": {},
   "outputs": [
    {
     "name": "stdout",
     "output_type": "stream",
     "text": [
      "https://n.news.naver.com/mnews/article/001/0013345947?sid=100\n"
     ]
    }
   ],
   "source": [
    "print(df.link[0])"
   ]
  },
  {
   "cell_type": "code",
   "execution_count": 106,
   "id": "7a739e2b",
   "metadata": {},
   "outputs": [],
   "source": [
    "# 본문에서 검색어의 단어가 포함된 문장(+뒷 문장 일부)을 가져온다. 2번째 일치 되는 것까지만.."
   ]
  },
  {
   "cell_type": "raw",
   "id": "a41cae23",
   "metadata": {},
   "source": [
    ">> 사회적 논란 속에 사실상 폐기된 정책을 윤석열 정부가 다시 꺼내들었다. 1949년 최초 제정된 교육법\n",
    "\n",
    "제96조에서부터 지금까지 만 6살이었던 취학 연령을 2025년부터 단계적으로 만 5살로 바꾸겠다는 것이다. 교육계와 학부모 단체는 과도기에 초등학교에 입학하는 아이들이 발달과 적응, 치열한 경쟁의 어려움을 겪게 될 것을 우려한다. \n",
    "\n",
    ">>이른바 ‘윤석열 세대’ ‘박순애 세대’의 탄생이다. 박순애 사회부총리 겸 교육부장관은 29일 초등학교 입학 \n",
    "\n",
    "연령을 한 살 낮추고, 그에 따라 학교 졸업 연령을 한 살 앞당기는 학제 개편 내용을 담은 ‘새 정부 업무보고’를 윤석열 대통령에게 보고했다. 윤 대통령은 업무보고를 받은 뒤 “초중고 12학년제를 유지하되 취학연령을 1년 앞당기는 방향을 신속히 강구하라”고 박 부총리에게 지시했다고 이재명 부대변인이 브리핑에서 전했다."
   ]
  },
  {
   "cell_type": "code",
   "execution_count": null,
   "id": "a1db35e2",
   "metadata": {},
   "outputs": [],
   "source": []
  },
  {
   "cell_type": "code",
   "execution_count": null,
   "id": "01047e7b",
   "metadata": {},
   "outputs": [],
   "source": []
  },
  {
   "cell_type": "code",
   "execution_count": null,
   "id": "b82dc512",
   "metadata": {},
   "outputs": [],
   "source": []
  },
  {
   "cell_type": "markdown",
   "id": "ffe43f1d",
   "metadata": {},
   "source": [
    "## 전처리"
   ]
  },
  {
   "cell_type": "markdown",
   "id": "d9689cdf",
   "metadata": {},
   "source": [
    "- 1차\n",
    "    - 한글이외의 것 삭제\n",
    "    - 검색어 삭제 (여기선 윤석열)\n",
    "    - title, description으로 중복 거른다."
   ]
  },
  {
   "cell_type": "markdown",
   "id": "d9a8b3f7",
   "metadata": {},
   "source": [
    "- 2차\n",
    "    - 모든 title description을 하나의 문자열 text로 합친다."
   ]
  },
  {
   "cell_type": "code",
   "execution_count": 107,
   "id": "c4fa25e8",
   "metadata": {
    "scrolled": true
   },
   "outputs": [
    {
     "name": "stdout",
     "output_type": "stream",
     "text": [
      "<class 'pandas.core.frame.DataFrame'>\n",
      "Int64Index: 84 entries, 0 to 99\n",
      "Data columns (total 5 columns):\n",
      " #   Column        Non-Null Count  Dtype \n",
      "---  ------        --------------  ----- \n",
      " 0   title         84 non-null     object\n",
      " 1   originallink  84 non-null     object\n",
      " 2   link          84 non-null     object\n",
      " 3   description   84 non-null     object\n",
      " 4   pubDate       84 non-null     object\n",
      "dtypes: object(5)\n",
      "memory usage: 3.9+ KB\n"
     ]
    }
   ],
   "source": [
    "df.drop_duplicates(subset=['title']).drop_duplicates(subset=['description']).info()"
   ]
  },
  {
   "cell_type": "code",
   "execution_count": 108,
   "id": "5a8caef0",
   "metadata": {
    "scrolled": true
   },
   "outputs": [
    {
     "name": "stdout",
     "output_type": "stream",
     "text": [
      "<class 'pandas.core.frame.DataFrame'>\n",
      "RangeIndex: 100 entries, 0 to 99\n",
      "Data columns (total 5 columns):\n",
      " #   Column        Non-Null Count  Dtype \n",
      "---  ------        --------------  ----- \n",
      " 0   title         100 non-null    object\n",
      " 1   originallink  100 non-null    object\n",
      " 2   link          100 non-null    object\n",
      " 3   description   100 non-null    object\n",
      " 4   pubDate       100 non-null    object\n",
      "dtypes: object(5)\n",
      "memory usage: 4.0+ KB\n"
     ]
    }
   ],
   "source": [
    "df.info()"
   ]
  },
  {
   "cell_type": "code",
   "execution_count": 109,
   "id": "8bf9d205",
   "metadata": {
    "scrolled": false
   },
   "outputs": [
    {
     "name": "stdout",
     "output_type": "stream",
     "text": [
      "<class 'pandas.core.series.Series'>\n",
      "RangeIndex: 100 entries, 0 to 99\n",
      "Series name: None\n",
      "Non-Null Count  Dtype \n",
      "--------------  ----- \n",
      "100 non-null    object\n",
      "dtypes: object(1)\n",
      "memory usage: 928.0+ bytes\n"
     ]
    },
    {
     "data": {
      "text/plain": [
       "(None,\n",
       " '이재명 &quot;<b>윤석열</b> 대통령 성공하길…민주당은 바뀌어야&quot;뒤 <b>윤석열</b> 정부를 향해 &quot;성공을 바란다&quot;고 말했다. 이 후보는 이날 대구 엑스코에서 열린 시민 토크쇼 &apos;만남... 이어 &quot;나라와 국민을 위해 <b>윤석열</b> 대통령이 성공하길 바란다&quot;며 &quot;노인 일자리를 줄인다든지, 코로나 감염자... ',\n",
       " pandas.core.series.Series,\n",
       " str)"
      ]
     },
     "execution_count": 109,
     "metadata": {},
     "output_type": "execute_result"
    }
   ],
   "source": [
    "sr = df.title + df.description\n",
    "sr.info(), sr[0], type(sr), type(sr[0])"
   ]
  },
  {
   "cell_type": "code",
   "execution_count": 110,
   "id": "d9ad36f3",
   "metadata": {},
   "outputs": [
    {
     "data": {
      "text/plain": [
       "0     이재명 &quot;<b>윤석열...\n",
       "1     [취재후 Talk] &apos...\n",
       "2     권성동 대표 직무대행 전격 사...\n",
       "3     이재명 &quot;<b>윤석열...\n",
       "4     대구 찾은 이재명 &quot;...\n",
       "             ...         \n",
       "95    주한 몽골대사 신임장 받는 <...\n",
       "96    김정은 “선제타격 시도땐 <b...\n",
       "97    주한 칠레대사 신임장 받는 <...\n",
       "98    中, <b>윤석열</b> 정부...\n",
       "99    건배사 하는 <b>윤석열</b...\n",
       "Length: 100, dtype: object"
      ]
     },
     "execution_count": 110,
     "metadata": {},
     "output_type": "execute_result"
    }
   ],
   "source": [
    "sr"
   ]
  },
  {
   "cell_type": "code",
   "execution_count": 111,
   "id": "0353988d",
   "metadata": {},
   "outputs": [
    {
     "data": {
      "text/plain": [
       "'이재명 &quot;<b>윤석열</b> 대통령 성공하길…민주당은 바뀌어야&quot;뒤 <b>윤석열</b> 정부를 향해 &quot;성공을 바란다&quot;고 말했다. 이 후보는 이날 대구 엑스코에서 열린 시민 토크쇼 &apos;만남... 이어 &quot;나라와 국민을 위해 <b>윤석열</b> 대통령이 성공하길 바란다&quot;며 &quot;노인 일자리를 줄인다든지, 코로나 감염자...  [취재후 Talk] &apos;청와대 출입기자가 본 조국의 시간, <b>윤석열</b>의 시간&apos;지난주에 완성된 책으로 나온 저의 첫 저서, &apos;청와대 출입기자가 본 조국의 시간, <b>윤석열</b>의 시간&apos; 관련... 당시 민주당 이재명 후보는 국민의힘 <b>윤석열</b> 후보에 비해 상황적으로 더 쫓기는 분위기 속에서 도리어 손발이 묶인...  권성동 대표 직무대행 전격 사퇴···<b>윤석열</b> 정부 출범 83일만에 비대위 전환...<b>윤석열</b> 정부가 출범한지 83일 만에 집권여당에서 비대위가 출범하는 초유의 사태가 발생했다. 비대위원장 임명 주체, 비대위 성격과 기간, 비대위원장 인선을 놓고 당은 더욱 격랑에 휩싸일 것으로 보인다. 권 대행은 이날...  이재명 &quot;<b>윤석열</b>, 성공하기 바라…안 될 일 하며 싸울 것&quot;더불어민주당 유력 당권 주자인 이재명 당 대표 후보는 31일 대구를 찾아 <b>윤석열</b> 정부를 향해 “성공하길... 안 될 일을 한다면 싸우고 견제할 것”이라면서도 “나라와 국민을 위해 <b>윤석열</b> 대통령이 성공하길 바란다”고...  대구 찾은 이재명 &quot;<b>윤석열</b> 성공하길…민주당은 바뀌어야&quot;더불어민주당 유력 당권주자인 이재명 의원이 31일 “나라와 국민을 위해 <b>윤석열</b> 대통령이 성공하길 바란다”고 말했다. 이 의원은 이날 대구 엑스코에서 열린 시민 토크쇼 &apos;만남, 그리고 희망&apos;에서 &quot;상대 공격보다 국민을...  ‘양두구육’ <b>윤석열</b> 정권: 도이치 주가조작과 취임식 VIP박용현 | 논설위원 도이치모터스 주가조작 혐의로 기소된 권오수 전 회장의 아들이 <b>윤석열</b> 대통령 취임식에... <b>윤석열</b> 대통령도 마찬가지다. 지난 26일 법무부 업무보고를 받고 “부정부패와 서민 다중 피해 범죄에 대한...  이재명 “나라와 국민 위해 <b>윤석열</b> 대통령 성공하길”더불어민주당 당 대표 후보인 이재명 의원은 31일 “나라와 국민을 위해 <b>윤석열</b> 대통령이 성공하길 바란다”고 말했다. 이 의원은 이날 대구 엑스코에서 열린 시민 토크쇼 ‘만남, 그리고 희망’에서 “야당이 됐으니...  추미애 직격 “<b>윤석열</b> 검찰 정부, 입사 업무에 ‘친위 검찰 식구들’ 채워 넣...장관이 &quot;<b>윤석열</b> 검찰 정부는 추천과 검증의 단계를 상명하복밖에 모르는 친위 검찰 식구들로 채워 넣었다... 이어 &quot;<b>윤석열</b> 정부의 인사 절차는 대통령실 인사비서관, 인사기획관을 거쳐 추천된 인사를 공직 기강비서관이...  안철수 “한 달 전 세운 휴가 계획…<b>윤석열</b> 정부에 무한 책임 느껴”이어 “민주당 비대위원장께서 아무 당직도 없는 저를 직접 언급하는 걸 보니 가장 신경이 쓰이는 것처럼 보인다”면서 “단일화로 정권교체를 이룬 사람으로서 <b>윤석열</b> 정부에 무한 책임을 느끼고 있다”고 말했습니다....  <b>윤석열</b> 지지율 20%대 추락에 조선일보 &quot;희한한 일&quot;<b>윤석열</b> 대통령의 지지율이 처음 20%대로 추락했다. 취임 후 80여일 만이다. 조선일보를 제외한 대부분의 30일... 한겨레는 1면 &apos;취임 두달새 28%…그래도 &quot;일희일비 안 한다&quot;는 대통령실&apos; 기사에서 &quot;<b>윤석열</b> 대통령의 지지율이...  이재명 &quot;<b>윤석열</b> 대통령 성공하길…민주당은 바뀌어야&quot;(종합)뒤 <b>윤석열</b> 정부를 향해 &quot;성공을 바란다&quot;고 말했다. 이 후보는 이날 대구 엑스코에서 열린 시민 토크쇼 &apos;만남... 이어 &quot;나라와 국민을 위해 <b>윤석열</b> 대통령이 성공하길 바란다&quot;며 &quot;노인 일자리를 줄인다든지, 코로나 감염자...  이재명 “<b>윤석열</b> 대통령 성공하길…민주당은 바뀌어야”더불어민주당 당권주자인 이재명 후보가 31일 대구를 찾아 당의 변화를 강조한 뒤 <b>윤석열</b> 정부를 향해... 이어 &quot;나라와 국민을 위해 <b>윤석열</b> 대통령이 성공하길 바란다&quot;며 &quot;노인 일자리를 줄인다든지, 코로나 감염자 지원을...  추미애 &quot;<b>윤석열</b> 검찰 정부, 인사 추천· 검증 단계 친위 검찰 식구들로 채워 ...이어 &quot;<b>윤석열</b> 정부의 인사 절차는 대통령실 인사비서관, 인사기획관을 거쳐 추천된 인사를 공직 기강비서관이... 그러면서 &quot;모 인사기획관은 <b>윤석열</b> 검찰총장 당시 대검 사무국장으로 수십억 특활비를 <b>윤석열</b>을 위해 집행한...  &apos;보수 심장&apos;에 선 이재명 &quot;<b>윤석열</b> 성공 바라&quot; 발언 왜?이 후보는 이날 대구 엑스코에서 열린 &apos;이재명 국회의원 초청 - 대구시민토크쇼&apos; 행사에서 &quot;현재의 집권여당과 <b>윤석열</b> 대통령께서 성공하길 바란다&quot;고 했다. 그러면서 그는 &quot;(윤 대통령의 성공은) 누군가를 위해서가 아니라...  &apos;보수의 심장&apos; 대구 방문한 이재명 &quot;<b>윤석열</b> 정부 성공 바란다&quot;뒤 <b>윤석열</b> 정부를 향해 &quot;성공을 바란다&quot;고 말했다. 연합뉴스에 따르면 이 후보는 이날 대구 엑스코에서 열린... 이어 &quot;나라와 국민을 위해 <b>윤석열</b> 대통령이 성공하길 바란다&quot;며 &quot;노인 일자리를 줄인다든지, 코로나 감염자...  고민정 &quot;지지율 28%…눈도 귀도 닫은 <b>윤석열</b> 대통령&quot;닫아버린 <b>윤석열</b> 대통령&quot;이라고 쓴소리를 냈다. 고 의원은 30일 오전 광주 국립 5·18 민주묘지를 참배한 뒤 페이스북을 통해 &quot;단 두 달여 만에 보여준 <b>윤석열</b> 정부의 민낯&quot;이라며 &quot;검찰에 이어 경찰 장악, 전 정권에 대한...  1년 형·언니와 경쟁 등떠밀린 ‘<b>윤석열</b> 세대’ 탄생하나사회적 논란 속에 사실상 폐기된 정책을 <b>윤석열</b> 정부가 다시 꺼내들었다. 1949년 최초 제정된 교육법... 이른바 ‘<b>윤석열</b> 세대’ ‘박순애 세대’의 탄생이다. 박순애 사회부총리 겸 교육부장관은 29일 초등학교 입학...  [스트레이트 예고] 교육부총리의 &apos;거짓말&apos;‥<b>윤석열</b> 정부의 이유 있는 추락<b>윤석열</b> 정부의 이유 있는 추락 윤 대통령의 오랜 지인으로 알려진 강원도의 통신설비업체 대표의 아들이 대통령실에 채용된 사실이 알려지며 논란이 됐다. 아버지는 지역 선관위원이고, 아들은 <b>윤석열</b> 캠프에 1천만 원을...  고민정 &quot;국정지지율 28%, 단 두달여 만에 보여준 <b>윤석열</b> 정부의 민낯&quot;보여준 <b>윤석열</b> 정부의 민낯&quot;이라며 이같이 말했다. 이어 &quot;국정지지율 28%&quot;이라며 &quot;묘역에서 만난 한 분이 제게 간곡히 말씀하신다&quot;라고 전했다. 그러면서 &quot;이렇게 힘들게 만든 민주주의가 우리 눈앞에서 무너지는 게 보이는...  박용진, &apos;학제개편&apos; &quot;백년대계를 번갯불 콩궈먹듯 하는 <b>윤석열</b> 정부&quot;더불어민주당 당권 주자인 박용진 후보는 30일 <b>윤석열</b> 정부의 새 교육부가 2025년부터 초등학교 취학연령을... 그러면서 &quot;아동의 학령에 따른 발달, 성취도의 차이를 전혀 고려하지 않았기 때문&quot;라며 &quot;다시 한 번,&apos;<b>윤석열</b>...  美 언론 &quot;<b>윤석열</b>, 미국의 짐이 됐다...낮은 지지율에 민감히 반응하라&quot;<b>윤석열</b> 대통령의 지지율이 취임 80여일 만에 20%대로 떨어지자 미국 언론매체도 윤 대통령의 지지율 추락을 주목하고 있는 것으로 나타났다. 미국 안보전문매체 내셔널인터레스트는 ‘코리아 와치’(Korea Watch)면에...  [공덕포차] 지지율 20%대 추락...“<b>윤석열</b> 정부, 박근혜 정권 생각나”<b>윤석열</b> 대통령의 지지율이 20% 대로 추락했어요 . 계속되는 ‘ 사적채용 ’ 논란에서부터 ‘ 경찰국 설치 ’... 과연 <b>윤석열</b> 정부와 여당의 미래는 어떻게 될까요 ? 〈 공덕포차 시즌 3 〉 에서 짚어드립니다 . 지금 바로...  [속보] <b>윤석열</b> 정부 첫 대법관 후보에 오석준 임명 제청<b>윤석열</b> 정부의 첫 대법관 후보로 오석준(60·사법연수원 19기) 제주지방법원장이 선정됐다. 대법원은 김명수 대법원장이 <b>윤석열</b> 대통령에게 오는 9월 퇴임 예정인 김재형 대법관의 후임으로 오 법원장의 임명을...  권성동 내치고 비대위…국민의힘 뒤흔드는 <b>윤석열</b>의 ‘보이는 손’<b>윤석열</b> 대통령이 이준석 당대표를 “내부 총질이나 하던 당대표”라며 ‘파문’한 데 이어 ‘윤핵관’(<b>윤석열</b> 핵심 관계자)이던 권성동 당대표 직무대행 겸 원내대표도 조기에 내치며 당무에 노골적으로 개입한다는...  <b>윤석열</b> 대통령 규탄 집회촛불승리 전환행동 등 시민단체 회원들이 30일 서울 청계광장에서 <b>윤석열</b> 대통령 규탄 집회를 하고 있다. 2022.07.30. photocdj@newsis.com 공감언론 뉴시스가 독자 여러분의 소중한 제보를 기다립니다. 뉴스 가치나...  고민정 &quot;<b>윤석열</b> 지지율 28%, 경고음에도 눈·귀 닫아&quot;더불어민주당 최고위원 경선을 통과한 고민정 의원이 <b>윤석열</b> 대통령을 겨냥해 &quot;수많은 국민이 경고음을... 단 두 달여 만에 보여준 <b>윤석열</b> 정부의 민낯&quot;이라고 지적했습니다. 이어 고 의원은 &quot;묘역에서 만난 한 분이 제게...  <b>윤석열</b> 대통령 규탄 집회촛불승리 전환행동 등 시민단체 회원들이 30일 서울 청계광장에서 <b>윤석열</b> 대통령 규탄 집회를 하고 있다. 2022.07.30. photocdj@newsis.com 공감언론 뉴시스가 독자 여러분의 소중한 제보를 기다립니다. 뉴스 가치나...  경란(警亂) 고비 넘긴 <b>윤석열</b> 정부, 다음 수순은 경찰대 개혁?<b>윤석열</b> 정부의 승리, 경찰의 패배라고 말할 수 있을까. 모두가 졌다. 엠브레인퍼블릭, 케이스탯리서치... <b>윤석열</b> 대통령 국정운영에 대한 부정평가는 54%로 집계됐는데, &apos;독단적이고 일방적이어서&apos;가 30%를 차지했다. &quot;행안부...  <b>윤석열</b> 대통령 규탄 집회촛불승리 전환행동 등 시민단체 회원들이 30일 서울 청계광장에서 <b>윤석열</b> 대통령 규탄 집회를 하고 있다. 2022.07.30. photocdj@newsis.com 공감언론 뉴시스가 독자 여러분의 소중한 제보를 기다립니다. 뉴스 가치나...  <b>윤석열</b> 대통령 직무수행 긍정률 28%···30%선 붕괴[한국갤럽]<b>윤석열</b> 대통령의 직무수행 긍정율이 28%를 기록했다는 여론조사결과가 29일 나왔다. 취임 80일 만에 직무수행 긍정률이 30% 밑으로 떨어졌다. 부정평가가 긍정평가를 웃도는 ‘데드크로스’에 이어 30% 지지율마저...  &apos;<b>윤석열</b> 대통령 규탄 집회&apos;촛불승리 전환행동 등 시민단체 회원들이 30일 서울 청계광장에서 <b>윤석열</b> 대통령 규탄 집회를 하고 있다. 2022.07.30. photocdj@newsis.com 공감언론 뉴시스가 독자 여러분의 소중한 제보를 기다립니다. 뉴스 가치나...  주한 몽골 대사와 차담하는 <b>윤석열</b> 대통령<b>윤석열</b> 대통령이 29일 서울 용산 대통령실 청사에서 열린 주한대사 신임장 제정식에서 에르덴촉트 사랑터거스 주한 몽골 대사로부터 신임장을 받은 뒤 차담하고 있다. (대통령실통신사진기자단) 2022.07.29. yesphoto...  김정은 “위험한 시도 시 <b>윤석열</b> 정권·군대 전멸될 것”북한 김정은 위원장이 &apos;선제 타격&apos; 등 <b>윤석열</b> 정부 대북 정책에 대해 강력하게 반발하고 나섰습니다. 김... 연설에 나선 김 위원장은 &apos;선제 타격&apos; 등 <b>윤석열</b> 정부의 정책과 관련해 &quot;그러한 위험한 시도는 즉시 강력한 힘에...  추미애 “<b>윤석열</b> 정권 인사라인, 친위 검찰 식구들로 채워져”추미애 전 법무부 장관이 <b>윤석열</b> 정부의 국정 운영에 대해 민주주의 위기라고 규정하며, 더불어민주당이 더욱... 추 전 장관은 특히 <b>윤석열</b> 정부의 공직자 인사 라인에 대해 강하게 비판했다. 그는 <b>윤석열</b> 정부의 인사...  주한 몽골 대사와 차담하는 <b>윤석열</b> 대통령<b>윤석열</b> 대통령이 29일 서울 용산 대통령실 청사에서 열린 주한대사 신임장 제정식에서 에르덴촉트 사랑터거스 주한 몽골 대사로부터 신임장을 받은 뒤 차담하고 있다. (대통령실통신사진기자단) 2022.07.29. yesphoto...  <b>윤석열</b> 대통령 내외, 정조대왕함 진수식 [뉴시스Pic]<b>윤석열</b> 대통령이 28일 정조대왕함 진수식을 주관했다. 윤 대통령은 이날 오전 울산 현대중공업에서 열린 해군의 차세대 이지스구축함 제1번함인 &apos;정조대왕함&apos; 진수식에 부인 김건희 여사와 함께 참석했다. 윤 대통령은...  주한 미국 대사와 차담하는 <b>윤석열</b> 대통령<b>윤석열</b> 대통령이 29일 서울 용산 대통령실 청사에서 열린 주한대사 신임장 제정식에서 필립 골드버그 주한 미국 대사로부터 신임장을 받은 뒤 차담하고 있다. (대통령실통신사진기자단) 2022.07.29. yesphoto@newsis.com...  주한 미국 대사와 차담하는 <b>윤석열</b> 대통령<b>윤석열</b> 대통령이 29일 서울 용산 대통령실 청사에서 열린 주한대사 신임장 제정식에서 필립 골드버그 주한 미국 대사로부터 신임장을 받은 뒤 차담하고 있다. (대통령실통신사진기자단) 2022.07.29. yesphoto@newsis.com...  주한 칠레 대사와 차담하는 <b>윤석열</b> 대통령<b>윤석열</b> 대통령이 29일 서울 용산 대통령실 청사에서 열린 주한대사 신임장 제정식에서 마티아스 프랑케 슈나바흐 주한 칠레 대사로부터 신임장을 받은 뒤 차담하고 있다. (대통령실통신사진기자단) 2022.07.29....  주한 칠레 대사와 차담하는 <b>윤석열</b> 대통령<b>윤석열</b> 대통령이 29일 서울 용산 대통령실 청사에서 열린 주한대사 신임장 제정식에서 마티아스 프랑케 슈나바흐 주한 칠레 대사로부터 신임장을 받은 뒤 차담하고 있다. (대통령실통신사진기자단) 2022.07.29....  <b>윤석열</b> 정부, &apos;만 5세&apos; 초교 입학 추진…의무교육 연령 낮춘다<b>윤석열</b> 정부의 국정과제인 &apos;국가교육책임제 강화&apos;에 따라 의무교육 시점을 1년 앞당기겠다는 것이다. 영유아(0~5세) 단계의 국가 책임 교육을 위해 유치원과 어린이집을 합치는 &apos;유보통합&apos;도 추진한다. 박순애 사회부총리...  주한 에티오피아 대사와 차담하는 <b>윤석열</b> 대통령<b>윤석열</b> 대통령이 29일 서울 용산 대통령실 청사에서 열린 주한대사 신임장 제정식에서 데시 달키 주한 에티오피아 대사로부터 신임장을 받은 뒤 차담하고 있다. (대통령실통신사진기자단) 2022.07.29. yesphoto@newsis....  [천남수의 視線] <b>윤석열</b> 정부에 대한 합리적 상상기간임에도 <b>윤석열</b> 정부에 대한 여론은 좋지 않다. 최근의 여론조사를 종합하면 집권 초기라고 믿어지지 않을 정도로 매우 낮은 지지율을 기록하고 있다. 그간 우호적 입장을 보였던 보수 언론들조차 <b>윤석열</b> 정부의...  주한 몽골 대사로부터 신임장 받는 <b>윤석열</b> 대통령<b>윤석열</b> 대통령이 29일 서울 용산 대통령실 청사에서 열린 주한대사 신임장 제정식에서 에르덴촉트 사랑터거스 주한 몽골 대사로부터 신임장을 받고 있다. (대통령실통신사진기자단) 2022.07.29. yesphoto@newsis.com...  주한 칠레 대사로부터 신임장 받는 <b>윤석열</b> 대통령<b>윤석열</b> 대통령이 29일 서울 용산 대통령실 청사에서 열린 주한대사 신임장 제정식에서 마티아스 프랑케 슈나바흐 주한 칠레 대사로부터 신임장을 받고 있다. (대통령실통신사진기자단) 2022.07.29. yesphoto@newsis.com...  박지원, <b>윤석열</b> 대통령의 권성동 위로 두고 “국민 얕보는 말씀”박지원 전 국가정보원장은 <b>윤석열</b> 대통령이 ‘내부 총질’ 문자 파문과 관련해 권성동 국민의힘 대표... 박 전 원장은 “내일 모레 (윤 대통령) 취임 100일인데, <b>윤석열</b> 정부 한 게 뭐냐. 용산으로 청와대 이전하고 개편한 것...  <b>윤석열</b> 대통령, 주한 미국 대사와 기념촬영<b>윤석열</b> 대통령이 29일 서울 용산 대통령실 청사에서 열린 주한대사 신임장 제정식에서 필립 골드버그 주한 미국 대사로부터 신임장을 받은 뒤 기념촬영을 하고 있다. 오른쪽은 박진 외교부 장관....  <b>윤석열</b> 대통령, 주한 미국 대사와 기념촬영<b>윤석열</b> 대통령이 29일 서울 용산 대통령실 청사에서 열린 주한대사 신임장 제정식에서 필립 골드버그 주한 미국 대사로부터 신임장을 받은 뒤 박진 외교부 장관, 앤드류 헤럽 공사참사관 등 수행원과 기념촬영을...  <b>윤석열</b> 대통령, 주한 미국 대사와 기념촬영<b>윤석열</b> 대통령이 29일 서울 용산 대통령실 청사에서 열린 주한대사 신임장 제정식에서 필립 골드버그 주한 미국 대사로부터 신임장을 받은 뒤 기념촬영을 하고 있다. 오른쪽은 박진 외교부 장관....  &apos;<b>윤석열</b>-권성동 문자사태&apos;가 내부총질 되나… 국힘 초선 32명 &apos;비대위 전환 요...&apos;운석열-권성동 내부총질 문자사태&apos; 후폭풍이 걷잡을 수 없이 확산되고 있다. 국민의힘 초선의원 32명은 지난 29일 권성동 당대표 직무대행 겸 원내대표의 사실상 &apos;원톱 체제&apos;로 운영 중인 현 지도체제를 비상대책위원회...  <b>윤석열</b> 정부 첫 대법관 후보에 오석준 임명 제청 [종합]대법원은 김명수 대법원장이 <b>윤석열</b> 대통령에게 오는 9월 퇴임 예정인 김재형 대법관의 후임으로 오석준(60·사법연수원 19기) 제주지방법원장의 임명을 제청했다고 28일 밝혔다. 오 법원장이 대법관이 되면 <b>윤석열</b>...  주한 에티오피아 대사로부터 신임장 받는 <b>윤석열</b> 대통령<b>윤석열</b> 대통령이 29일 서울 용산 대통령실 청사에서 열린 주한대사 신임장 제정식에서 데시 달키 주한 에티오피아 대사로부터 신임장을 받고 있다. (대통령실통신사진기자단) 2022.07.29. yesphoto@newsis.com 공감언론...  <b>윤석열</b> 정부 D+79<b>윤석열</b> 대통령과 김건희 여사가 28일 오전 울산시 현대중공업에서 열린 차세대 이지스구축함 정조대왕함 안전항해 기원식을 마친 뒤 장병들을 향해 손을 흔들고 있다. [사진=연합뉴스] ◇<b>윤석열</b> 대통령, 정도대왕함 진수식...  <b>윤석열</b> 대통령, 코로나19 중대본 회의 주재 [뉴시스Pic]<b>윤석열</b> 대통령이 29일 정부서울청사에서 코로나19 중앙재난안전대책본부 회의를 주재했다. 윤 대통령은 &quot;최근 전파력이 강하고 면역 회피 특성이 있는 변이 바이러스가 확산 중이고, 재유행이 예상보다 빠르게 진행되고...  주한 미국 대사와 기념촬영하는 <b>윤석열</b> 대통령<b>윤석열</b> 대통령이 29일 서울 용산 대통령실 청사에서 열린 주한대사 신임장 제정식에서 필립 골드버그 주한 미국 대사로부터 신임장을 받은 뒤 기념촬영을 하고 있다. 오른쪽은 박진 외교부 장관....  “<b>윤석열</b>, 미국의 짐이 됐다”…윤 대통령 지지율 하락 분석한 美전문가들<b>윤석열</b> 대통령의 지지율이 취임 두 달여 만에 처음으로 20%대로 곤두박질 친 가운데, 미국 언론도 윤... 이어 “<b>윤석열</b> 대통령이 (이러한 촉구에) 귀를 기울이지 않는다면, 바이든 대통령은 한국 정부가 한국 국민에...  주한 칠레 대사와 기념촬영하는 <b>윤석열</b> 대통령<b>윤석열</b> 대통령이 29일 서울 용산 대통령실 청사에서 열린 주한대사 신임장 제정식에서 마티아스 프랑케 슈나바흐 주한 칠레 대사로부터 신임장을 받은 뒤 기념촬영을 하고 있다. 오른쪽은 박진 외교부 장관....  주한 몽골 대사와 기념촬영하는 <b>윤석열</b> 대통령<b>윤석열</b> 대통령이 29일 서울 용산 대통령실 청사에서 열린 주한대사 신임장 제정식에서 에르덴촉트 사랑터거스 주한 몽골 대사로부터 신임장을 받은 뒤 기념촬영을 하고 있다. 오른쪽은 박진 외교부 장관....  중국, <b>윤석열</b> 정부와 &apos;허니문&apos; 끝났나…칩4에 이어 사드 3불 공세중국이 <b>윤석열</b> 정부 출범 후 두 달 정도 관망하더니 최근 들어 자국 이해관계가 걸린 사안에 대해 부쩍 요구... 중국이 <b>윤석열</b> 정부 출범 후 사드 3불 유지를 공개적으로 요구한 건 이번이 처음입니다. 사드 3불은 문재인...  진보계 시민단체들 ‘<b>윤석열</b> 대통령 퇴장 요구’ 반정부 시위 시작그런데 <b>윤석열</b> 대통령이 취임, <b>윤석열</b> 정부가 들어선 지 100일도 안된 시점에서 진보계 시민 단체들이 주도하는 반정부 시위가 시작됐다. 진보계 시민단체들이...  주한 에티오피아 대사와 차담하는 <b>윤석열</b> 대통령<b>윤석열</b> 대통령이 29일 서울 용산 대통령실 청사에서 열린 주한대사 신임장 제정식에서 데시 달키 주한 에티오피아 대사로부터 신임장을 받은 뒤 차담하고 있다. (대통령실통신사진기자단) 2022.07.29. yesphoto@newsis....  <b>윤석열</b> 대통령 지지율 추락 분석.. “미국에 짐 됐다”<b>윤석열</b> 대통령에 대한 지지율이 20%대로 곤두박질친 가운데 국내에서 서서히 우려의 목소리가 나오고... [리포트] 새 정부 출범 두달만에 <b>윤석열</b> 대통령 지지율이 연일 하락세를 보이는 가운데 국내 언론에서 우려의...  &apos;내부 총질&apos; 뭐가 문제냐? <b>윤석열</b>-권성동 문자파문 감싸는 종편 출연자들7월26일 권성동 국민의힘 당대표 직무대행 겸 원내대표와 <b>윤석열</b> 대통령 간 텔레그램 메시지가 포착됐습니다.... 저는 <b>윤석열</b> 대통령도 사람인데 얼마든지 이준석 대표에 대한 감정을 사적으로 대화하는 게 뭐가 문제냐....  강신업 &quot;&apos;건희사랑&apos; 회장 사퇴…<b>윤석열</b>정부 반드시 지킬 것&quot;<b>윤석열</b> 대통령의 배우자 김건희 여사 팬클럽인 &apos;건희사랑&apos; 회장을 맡았던 강신업 변호사가 28일 자리에서... 김건희 여사와 <b>윤석열</b> 대통령을 지켜야 하지만 오히려 물러남으로서 더 큰 것을 얻을 수 있다고 생각한다&quot;며...  <b>윤석열</b>-권성동 &quot;내부총질&quot; 문자파동 감싼 종편 출연자들 [&quot;내부 총질&quot; 문자 파...원내대표와 <b>윤석열</b> 대통령 간 텔레그램 메시지가 포착됐습니다. 윤 대통령이 &quot;우리당도 잘하네요 계속... ▲ \\xa0채널A &lt;뉴스TOP10&gt;(7월 27일) 대담 일부 ⓒ 민주언론시민연합 ▲ \\xa0<b>윤석열</b> 대통령 ‘내부 총질’ 표현을 정조...  김정은 “위험한 시도시 <b>윤석열</b> 정권과 그의 군대 전멸될 것”김정은 북한 국무위원장이 28일 <b>윤석열</b> 정부의 대북 군사정책에 대해 “그러한 위험한 시도는 즉시 강력한 힘에 의해 응징될 것이며 <b>윤석열</b> 정권과 그의 군대는 전멸될 것”이라고 강하게 비난했다. 김 위원장이 <b>윤석열</b>...  박홍근 “<b>윤석열</b> 정부는 극우 유튜버 정권인가” 문자 속 강기훈 공세박홍근 더불어민주당 원내대표는 28일 “대통령실이 극우 유튜버들의 일자리가 되고 있다”며 “<b>윤석열</b>... 인물이 <b>윤석열</b> 대통령실에서 근무하고 있다는 사실은 너무나 충격적”이라고 말했다. 박 원내대표는 “강씨는...  촛불승리 전환행동 &apos;<b>윤석열</b> 대통령 규탄 집회&apos;= 촛불승리 전환행동 등 시민단체 회원들이 30일 서울 중구 청계광장에서 <b>윤석열</b> 대통령 규탄 집회를 갖고 있다. 2022.7.30/뉴스1 촛불승리 전환행동 &apos;<b>윤석열</b> 대통령 규탄&apos;= 촛불승리 전환행동 등 시민단체 회원들이 30일 서울 중구 청계광장에서 <b>윤석열</b> 대통령 규탄 집회를 갖고 있다. 2022.7.30/뉴스1 <b>윤석열</b> 정부 D+80<b>윤석열</b> 대통령이 29일 서울 세종로 정부서울청사에서 열린 코로나19 중앙재난안전대책본부 회의를 주재하고 있다. [사진=연합뉴스] ◇尹대통령 &quot;일상 회복 기조 아래 코로나19 위중증과 사망 최소화&quot; <b>윤석열</b> 대통령은 29일...  <b>윤석열</b> 대통령 규탄하는 시민단체 회원들= 촛불승리 전환행동 등 시민단체 회원들이 30일 서울 중구 청계광장에서 <b>윤석열</b> 대통령 규탄 집회를 갖고 있다. 2022.7.30/뉴스1 주한 에티오피아 대사와 기념촬영하는 <b>윤석열</b> 대통령<b>윤석열</b> 대통령이 29일 서울 용산 대통령실 청사에서 열린 주한대사 신임장 제정식에서 데시 달키 주한 에티오피아 대사로부터 신임장을 받은 뒤 기념촬영을 하고 있다. 오른쪽은 박진 외교부 장관....  김정은 &quot;<b>윤석열</b> 정권과 군대는 전멸될 것&quot;핵심요약 &quot;우리는 <b>윤석열</b>이 내뱉은 망언들·추태들 정확히 기억한다&quot; &quot;우리 군사력 무력화시킬 수 있다고... 김정은, <b>윤석열</b> 대통령 직책도 빼고 강도높은 실명 비난 전문가 &quot;김정은의 대남불신의 정도를 가늠케 하는 연설...  하태경 &quot;<b>윤석열</b> 대통령 비난과 대남도발은 북한의 체제위기만 더 부추길 것&quot;하태경 국민의힘 국회의원은 30일 김정은 북한 국무위원장이 <b>윤석열</b> 대통령의 실명을 거론하며 강도 높게... 것&quot;이라며 &quot;<b>윤석열</b> 정부는 북한이 비핵화에 나서고 대남도발을 중단한다면 과감한 대북지원과 협력에...  김정은 &quot;위험한 시도시 <b>윤석열</b> 정권·군대 전멸될 것&quot; 첫 직접 경고김정은 북한 국무위원장이 <b>윤석열</b> 정부의 이른바 &apos;선제타격&apos; 등 대북 군사정책에 대해 &quot;그러한 위험한 시도는 즉시 강력한 힘에 의해 응징될 것이며, <b>윤석열</b> 정권과 군대는 전멸될 것&quot;이라고 강하게 비난했습니다. 또...  <b>윤석열</b> 정부 자사고 존치, 외국어고는 폐지<b>윤석열</b> 정부가 자율형사립고(자사고)를 유지하기로 했다. 반면, 문재인 정부에서 일반고등학교로 전환하기로... 박순애 사회부총리 겸 교육부 장관은 29일 새 정부 업무계획을 <b>윤석열</b> 대통령에게 보고하기에 앞서 열린...  중국, <b>윤석열</b> 정부와 &apos;허니문&apos; 끝났나…칩4에 이어 사드 3불 공세중국이 <b>윤석열</b> 정부 출범 후 두 달 정도 관망하더니 최근 들어 자국 이해관계가 걸린 사안에 대해 부쩍 요구... 중국이 <b>윤석열</b> 정부 출범 후 사드 3불 유지를 공개적으로 요구한 건 이번이 처음입니다. 사드 3불은 문재인...  &apos;文정부 청와대&apos; 출입기자가 펴낸 &apos;조국의 시간, <b>윤석열</b>의 시간&apos;문재인 정부의 청와대를 출입했던 정치부 기자가 당시의 취재 뒷얘기를 풀어낸 &lt;조국의 시간, <b>윤석열</b>의 시간... △제20대 대통령 선거를 되돌아보며 △바라볼 ‘대통령 <b>윤석열</b>’의 시간 △청와대 출입기자가 본 조국의...  <b>윤석열</b> 대통령 규탄 집회 갖는 촛불승리 전환행동= 촛불승리 전환행동 등 시민단체 회원들이 30일 서울 중구 청계광장에서 <b>윤석열</b> 대통령 규탄 집회를 갖고 있다. 2022.7.30/뉴스1 박수치는 <b>윤석열</b> 대통령 내외<b>윤석열</b> 대통령과 김건희 여사가 28일 오전 울산시 현대중공업에서 열린 차세대 이지스구축함 정조대왕함 진수식에서 진수줄을 자른 뒤 박수를 치고 있다. . 2022.7.28 &apos;<b>윤석열</b> 첫 임명&apos; 대법관 후보에 오석준 제주지방법원장<b>윤석열</b> 정부가 임명하는 첫 대법관 후보자 최종 1인에 오석준 제주지방법원장이 낙점됐습니다. 김명수 대법원장은 오늘(28일) <b>윤석열</b> 대통령에게 퇴임 예정인 김재형 대법관의 후임으로 오석준 제주지법원장을...  김정은 “위험한 시도 시 <b>윤석열</b> 정권·군대 전멸될 것”북한 김정은 위원장이 &apos;선제 타격&apos; 등 <b>윤석열</b> 정부 대북 정책에 대해 강력하게 반발하고 나섰습니다. 김... 연설에 나선 김 위원장은 &apos;선제 타격&apos; 등 <b>윤석열</b> 정부의 정책과 관련해 &quot;그러한 위험한 시도는 즉시 강력한 힘에...  19일 만에 등장한 김정은 &quot;위험한 시도하면 <b>윤석열</b> 정권·군대 전멸&quot;김정은 북한 국무위원장은 <b>윤석열</b> 정부를 향해 &quot;위험한 시도는 즉시 강력한 힘에 의해 응징될 것이며 <b>윤석열</b> 정권과 그의 군대는 전멸될 것&quot;이라고 위협했습니다. 이는 <b>윤석열</b> 정부의 &apos;선제타격&apos; 등 대북 군사 정책을...  [이앤피] 임은정 &quot;<b>윤석열</b> 보스 스타일, 싫은 소리하면 안 만나&quot;[이앤피] 임은정 &quot;<b>윤석열</b> 보스 스타일, 싫은 소리하면 안 만나&quot; - 검사들 집단행동 경찰보다 더 위험 - 검찰 권한은 절대반지, 반지원정대는 계속될 것 - 징계 선배로서 <b>윤석열</b> 조언, 싫은 소리하면 안 만나 보스 스타일 - 정치...  &quot;<b>윤석열</b>과 군사 깡패들...&quot; 호칭도 빼고 도발한 김정은북한 김정은 국무위원장이 <b>윤석열</b> 정부의 대북 군사정책에 대해 &quot;위험한 시도는 즉시 강력한 힘에 의해 응징될 것이며 <b>윤석열</b> 정권과 그의 군대는 전멸될 것&quot;이라고 위협했다. 김 위원장이 <b>윤석열</b> 대통령의 실명을...  김정은, 대북 선제타격 시도 시 &quot;<b>윤석열</b> 정권 · 군대 전멸될 것&quot;김정은 북한 노동당 총비서는 남한이 북한에 대한 선제타격을 시도한다면 <b>윤석열</b> 정부는 전멸될 것이라고... 것이며 <b>윤석열</b> 정권과 군대는 전멸될 것이라고 주장했습니다. 김 총비서는 또, 더이상 <b>윤석열</b> 대통령과 남한...  우상호 &quot;정작 내부 총질한 건 <b>윤석열</b> 아닌가…민생 전념하라&quot;29일 <b>윤석열</b> 정부가 문재인 정부 시절 임명된 전현희 국민권익위원장과 한상혁 방송통신위원장을 교체하기 위해 감사원의 감사 등 다각적 압력이 동원되고 있다며 &quot;민생에 전념하라&quot;고 비판했다. 또 <b>윤석열</b> 대통령이 이준석...  김정은 &quot;위험한 시도할 경우 <b>윤석열</b> 정권·군대 전멸&quot;김정은 북한 국무위원장은 선제 타격 등 <b>윤석열</b> 정부의 대북 정책과 관련해 &quot;위험한 시도를 할 경우 <b>윤석열</b> 정권과 군대는 전멸할 것&quot;이라고 반발했습니다. 김 위원장이 <b>윤석열</b> 정부에 대해 직접 입장을 내놓은 건 이번이...  <b>윤석열</b> 정부 첫 대법관 후보로 오석준 제주지법원장<b>윤석열</b> 정부가 임명할 첫 대법관 후보로 오석준(60·사법연수원 19기) 제주지방법원장이 선정됐다. 대법원은 김명수 대법원장이 <b>윤석열</b> 대통령에게 대법관후보추천위원회 추천 3명의 신임 대법관 후보 가운데 오 법원장의...  [그래픽] <b>윤석열</b> 대통령 지지율 28%… 취임후 첫 20%대 (갤럽)한국갤럽이 지난 26~28일 <b>윤석열</b> 대통령의 직무 수행 평가를 조사한 결과 긍정 평가는 28%, 부정 평가는 62%로 나타났다. 어느 쪽도 아니다는 3%, 모름/응답거절은 8%였다. (그래픽=안지혜 기자) hokma@newsis.com [사진 영상...  &quot;김건희 성상납&quot; 꺼냈다 檢 송치…김용민 &quot;<b>윤석열</b> 전쟁이다&quot;경찰이 <b>윤석열</b> 대통령 부인 김건희 여사의 &apos;성상납&apos; 의혹을 제기한 팟캐스트 &apos;나는 꼼수다&apos; 출신 김용민... 김 이사장은 지난 3월 2일 자신의 페이스북에 &quot;이재명의 경쟁자 <b>윤석열</b>은 검사로 있으면서 정육을 포함해 이런저런...  [전문가 기고] <b>윤석열</b> 정부의 혁신 생태계이 아이러니에 <b>윤석열</b> 정부 혁신의 현주소가 있고 전 정부들과 차별화할 점이 있다. 2017년부터 지금까지... <b>윤석열</b> 정부가 증권형과 비증권형을 구분하고 증권형에 대해서는 자본시장법을 적용할 것으로 보인다. 늦었지만...  <b>윤석열</b> 대통령, 신촌지구대 방문…일선 경찰관 격려<b>윤석열</b> 대통령이 29일 오전 서울 서대문구 신촌지구대를 방문해 치안을 점검하고 일선 경찰관들을 격려했다. 윤 대통령은 이날 오전 10시 30분께 신촌지구대에 도착해 현장에 근무하는 경찰관들과 인사를 나누고 관내 치안...  연봉 3천은 혜택 0원…<b>윤석열</b>표 ‘불평등 감세’ 향하는 세상은☞한겨레S 뉴스레터 구독하기 https://bit.ly/319DiiE 정부가 중산층과 서민의 부담을 덜어주겠다며 대대적인 감세안을 발표했다. 근로소득세, 법인세, 종합부동산세 모두 깎아주겠다고 나섰다. 근로소득세의 경우 연간 최고...  김정은, 尹 이름 걸고 첫 비난…&quot;<b>윤석열</b> 정권·軍 전멸될 것&quot;북한 김정은 위원장이 <b>윤석열</b> 대통령 이름을 처음으로 직접 거론하며 비난을 퍼부었습니다. <b>윤석열</b> 정권과 군대는 전멸될거라고 협박한건데요. 새정부 출범 이후 한미동맹이 복원되면서 위기감이 커진 김 위원장이 압박...  주한 몽골대사 신임장 받는 <b>윤석열</b> 대통령<b>윤석열</b> 대통령이 29일 오후 서울 용산 대통령실 청사에서 열린 주한대사 신임장 제정식에서 에르덴촉트 사랑터거스 주한 몽골대사로부터 신임장을 받고 있다. 2022.7.29 김정은 “선제타격 시도땐 <b>윤석열</b>정권 전멸” 협박김정은 북한 국무위원장이 <b>윤석열</b> 정부를 향해 “위험한 시도는 강력한 힘에 의해 응징될 것이며 <b>윤석열</b> 정권과 그의 군대는 전멸될 것”이라며 위협했다. 김 위원장이 윤 대통령 이름을 거론해 비난하고 직접 대남 기조를...  주한 칠레대사 신임장 받는 <b>윤석열</b> 대통령<b>윤석열</b> 대통령이 29일 오후 서울 용산 대통령실 청사에서 열린 주한대사 신임장 제정식에서 마티아스 프랑케 슈나바흐 주한 칠레대사로부터 신임장을 받고 있다. 2022.7.29 中, <b>윤석열</b> 정부에 ‘사드 3불’ 이행 요구…연일 ‘경고’ 메시지중국 정부가 27일 <b>윤석열</b> 정부에 문재인 정부의 ‘사드(THAAD·고고도 미사일 방어체계) 3불 정책’을 지키라고 요구했다. 정권이 바뀌었다고 해서 과거 빚을 무시하지 말라고 <b>윤석열</b> 정부를 향해 경고성 메시지를 냈다....  건배사 하는 <b>윤석열</b> 대통령= <b>윤석열</b> 대통령과 조코 위도도 인도네시아 대통령, 김건희 여사가 28일 오후 용산 대통령실에서 열린 공식 만찬에서 건배를 하고 있다. 대통령실사진기자단 2022.7.28/뉴스1'"
      ]
     },
     "execution_count": 111,
     "metadata": {},
     "output_type": "execute_result"
    }
   ],
   "source": [
    "\" \".join(sr)"
   ]
  },
  {
   "cell_type": "code",
   "execution_count": null,
   "id": "cc1f3fa8",
   "metadata": {},
   "outputs": [],
   "source": []
  },
  {
   "cell_type": "code",
   "execution_count": null,
   "id": "8c484e80",
   "metadata": {},
   "outputs": [],
   "source": []
  },
  {
   "cell_type": "code",
   "execution_count": null,
   "id": "221ea83b",
   "metadata": {},
   "outputs": [],
   "source": []
  },
  {
   "cell_type": "code",
   "execution_count": null,
   "id": "903be38f",
   "metadata": {},
   "outputs": [],
   "source": []
  },
  {
   "cell_type": "code",
   "execution_count": null,
   "id": "d84f0f46",
   "metadata": {},
   "outputs": [],
   "source": []
  },
  {
   "cell_type": "code",
   "execution_count": null,
   "id": "434ab71c",
   "metadata": {},
   "outputs": [],
   "source": []
  },
  {
   "cell_type": "code",
   "execution_count": null,
   "id": "89c7bbd1",
   "metadata": {},
   "outputs": [],
   "source": []
  },
  {
   "cell_type": "code",
   "execution_count": null,
   "id": "4c6cbcc5",
   "metadata": {},
   "outputs": [],
   "source": []
  },
  {
   "cell_type": "code",
   "execution_count": null,
   "id": "26ff93f5",
   "metadata": {},
   "outputs": [],
   "source": []
  },
  {
   "cell_type": "code",
   "execution_count": null,
   "id": "18381390",
   "metadata": {},
   "outputs": [],
   "source": []
  },
  {
   "cell_type": "code",
   "execution_count": null,
   "id": "43c2eb9d",
   "metadata": {},
   "outputs": [],
   "source": []
  },
  {
   "cell_type": "code",
   "execution_count": null,
   "id": "15f787a1",
   "metadata": {},
   "outputs": [],
   "source": []
  },
  {
   "cell_type": "code",
   "execution_count": null,
   "id": "61e614e4",
   "metadata": {},
   "outputs": [],
   "source": []
  },
  {
   "cell_type": "code",
   "execution_count": null,
   "id": "8cc4a3b4",
   "metadata": {},
   "outputs": [],
   "source": []
  },
  {
   "cell_type": "code",
   "execution_count": null,
   "id": "29d55219",
   "metadata": {},
   "outputs": [],
   "source": []
  },
  {
   "cell_type": "markdown",
   "id": "52903ed2",
   "metadata": {},
   "source": [
    "# (시간되면)"
   ]
  },
  {
   "cell_type": "markdown",
   "id": "035153c7",
   "metadata": {},
   "source": [
    "## text로 단어의 리스트 만들기\n",
    "- split하면 됨"
   ]
  },
  {
   "cell_type": "markdown",
   "id": "b003edd3",
   "metadata": {},
   "source": [
    "## wordWhere = {word :  list_of_index} 이런 딕셔너리 만들기"
   ]
  },
  {
   "cell_type": "code",
   "execution_count": 112,
   "id": "67d419d1",
   "metadata": {},
   "outputs": [],
   "source": [
    "text = '강아지 으르릉 멍멍 강아지 악 강아지 강아아앙 강아쥐 갱얼쥐 강아지 강쥐'"
   ]
  },
  {
   "cell_type": "code",
   "execution_count": 113,
   "id": "456105ac",
   "metadata": {},
   "outputs": [],
   "source": [
    "words = text.split()"
   ]
  },
  {
   "cell_type": "code",
   "execution_count": 114,
   "id": "36552370",
   "metadata": {
    "scrolled": true
   },
   "outputs": [
    {
     "data": {
      "text/plain": [
       "['강아지', '으르릉', '멍멍', '강아지', '악', '강아지', '강아아앙', '강아쥐', '갱얼쥐', '강아지', '강쥐']"
      ]
     },
     "execution_count": 114,
     "metadata": {},
     "output_type": "execute_result"
    }
   ],
   "source": [
    "words"
   ]
  },
  {
   "cell_type": "code",
   "execution_count": 115,
   "id": "25fbf11f",
   "metadata": {},
   "outputs": [],
   "source": [
    "import numpy as np"
   ]
  },
  {
   "cell_type": "code",
   "execution_count": 116,
   "id": "3e2e2d76",
   "metadata": {
    "scrolled": true
   },
   "outputs": [
    {
     "data": {
      "text/plain": [
       "array(['강아지', '으르릉', '멍멍', '강아지', '악', '강아지', '강아아앙', '강아쥐', '갱얼쥐', '강아지',\n",
       "       '강쥐'], dtype='<U4')"
      ]
     },
     "execution_count": 116,
     "metadata": {},
     "output_type": "execute_result"
    }
   ],
   "source": [
    "words = np.array(words)\n",
    "words"
   ]
  },
  {
   "cell_type": "code",
   "execution_count": 117,
   "id": "bb6a515e",
   "metadata": {},
   "outputs": [
    {
     "data": {
      "text/plain": [
       "(array([0, 3, 5, 9], dtype=int64),)"
      ]
     },
     "execution_count": 117,
     "metadata": {},
     "output_type": "execute_result"
    }
   ],
   "source": [
    "np.where(words == '강아지')"
   ]
  },
  {
   "cell_type": "code",
   "execution_count": 118,
   "id": "165f2833",
   "metadata": {
    "scrolled": true
   },
   "outputs": [
    {
     "data": {
      "text/plain": [
       "array(['강아지', '으르릉', '멍멍', '강아지', '악', '강아지', '강아아앙', '강아쥐', '갱얼쥐', '강아지',\n",
       "       '강쥐'], dtype='<U4')"
      ]
     },
     "execution_count": 118,
     "metadata": {},
     "output_type": "execute_result"
    }
   ],
   "source": [
    "words"
   ]
  },
  {
   "cell_type": "markdown",
   "id": "a7a97439",
   "metadata": {},
   "source": [
    "## 형태소 분석과 조사 삭제"
   ]
  },
  {
   "cell_type": "code",
   "execution_count": 119,
   "id": "d766ffeb",
   "metadata": {},
   "outputs": [],
   "source": [
    "from konlpy.tag import Okt"
   ]
  },
  {
   "cell_type": "code",
   "execution_count": 120,
   "id": "d86b91ef",
   "metadata": {},
   "outputs": [
    {
     "data": {
      "text/plain": [
       "'강아지 으르릉 멍멍 강아지 악 강아지 강아아앙 강아쥐 갱얼쥐 강아지 강쥐'"
      ]
     },
     "execution_count": 120,
     "metadata": {},
     "output_type": "execute_result"
    }
   ],
   "source": [
    "text = '강아지 으르릉 멍멍 강아지 악 강아지 강아아앙 강아쥐 갱얼쥐 강아지 강쥐'\n",
    "text"
   ]
  },
  {
   "cell_type": "code",
   "execution_count": 121,
   "id": "6d6b5b0e",
   "metadata": {},
   "outputs": [],
   "source": [
    "okt = Okt()\n",
    "morph = okt.pos(text)"
   ]
  },
  {
   "cell_type": "code",
   "execution_count": 122,
   "id": "a334aa11",
   "metadata": {
    "scrolled": false
   },
   "outputs": [
    {
     "data": {
      "text/plain": [
       "[('강아지', 'Noun'),\n",
       " ('으르릉', 'Noun'),\n",
       " ('멍멍', 'Adverb'),\n",
       " ('강아지', 'Noun'),\n",
       " ('악', 'Noun'),\n",
       " ('강아지', 'Noun'),\n",
       " ('강', 'Noun'),\n",
       " ('아', 'Josa'),\n",
       " ('아앙', 'Noun'),\n",
       " ('강', 'Noun'),\n",
       " ('아', 'Josa'),\n",
       " ('쥐', 'Noun'),\n",
       " ('갱얼쥐', 'Noun'),\n",
       " ('강아지', 'Noun'),\n",
       " ('강쥐', 'Noun')]"
      ]
     },
     "execution_count": 122,
     "metadata": {},
     "output_type": "execute_result"
    }
   ],
   "source": [
    "morph"
   ]
  },
  {
   "cell_type": "markdown",
   "id": "1eefa881",
   "metadata": {},
   "source": [
    "- NOTE\n",
    "    - 의미를 모르고 쪼개는 것 같다. 무슨 뜻의 단어로 보고 분류했는지 알기 어렵다.\n",
    "    - 한국어는 같은 단어에 전혀 다른 뜻이 쓰이는 경우가 많아서 어려울듯.\n",
    "        - ex) 강 river strong/ 말 hourse words/ 눈 snow, eyes\n",
    "    - 의미 분석을 하려면 영어로 번역해서 하는 것도 방법일듯\n",
    "    - 네이버 파파고도 API 있다."
   ]
  },
  {
   "cell_type": "markdown",
   "id": "55a19183",
   "metadata": {},
   "source": [
    "- Okt.\n",
    "    - jki morphs nomalize nouns phrases pos tagset"
   ]
  },
  {
   "cell_type": "code",
   "execution_count": 123,
   "id": "f5895121",
   "metadata": {},
   "outputs": [
    {
     "data": {
      "text/plain": [
       "<java object 'kr.lucypark.okt.OktInterface'>"
      ]
     },
     "execution_count": 123,
     "metadata": {},
     "output_type": "execute_result"
    }
   ],
   "source": [
    "okt.jki"
   ]
  },
  {
   "cell_type": "code",
   "execution_count": 124,
   "id": "0dc203d1",
   "metadata": {
    "scrolled": true
   },
   "outputs": [
    {
     "data": {
      "text/plain": [
       "['강아지',\n",
       " '으르릉',\n",
       " '멍멍',\n",
       " '강아지',\n",
       " '악',\n",
       " '강아지',\n",
       " '강',\n",
       " '아',\n",
       " '아앙',\n",
       " '강',\n",
       " '아',\n",
       " '쥐',\n",
       " '갱얼쥐',\n",
       " '강아지',\n",
       " '강쥐']"
      ]
     },
     "execution_count": 124,
     "metadata": {},
     "output_type": "execute_result"
    }
   ],
   "source": [
    "okt.morphs(text)"
   ]
  },
  {
   "cell_type": "code",
   "execution_count": 125,
   "id": "c366c6a1",
   "metadata": {
    "scrolled": true
   },
   "outputs": [
    {
     "data": {
      "text/plain": [
       "{'Adjective': '형용사',\n",
       " 'Adverb': '부사',\n",
       " 'Alpha': '알파벳',\n",
       " 'Conjunction': '접속사',\n",
       " 'Determiner': '관형사',\n",
       " 'Eomi': '어미',\n",
       " 'Exclamation': '감탄사',\n",
       " 'Foreign': '외국어, 한자 및 기타기호',\n",
       " 'Hashtag': '트위터 해쉬태그',\n",
       " 'Josa': '조사',\n",
       " 'KoreanParticle': '(ex: ㅋㅋ)',\n",
       " 'Noun': '명사',\n",
       " 'Number': '숫자',\n",
       " 'PreEomi': '선어말어미',\n",
       " 'Punctuation': '구두점',\n",
       " 'ScreenName': '트위터 아이디',\n",
       " 'Suffix': '접미사',\n",
       " 'Unknown': '미등록어',\n",
       " 'Verb': '동사'}"
      ]
     },
     "execution_count": 125,
     "metadata": {},
     "output_type": "execute_result"
    }
   ],
   "source": [
    "okt.tagset"
   ]
  },
  {
   "cell_type": "code",
   "execution_count": 126,
   "id": "107e9e54",
   "metadata": {},
   "outputs": [
    {
     "data": {
      "text/plain": [
       "[('코로나', 'Noun'), ('19', 'Number')]"
      ]
     },
     "execution_count": 126,
     "metadata": {},
     "output_type": "execute_result"
    }
   ],
   "source": [
    "okt.pos('코로나19')"
   ]
  },
  {
   "cell_type": "code",
   "execution_count": 127,
   "id": "3ec03bc6",
   "metadata": {
    "scrolled": true
   },
   "outputs": [
    {
     "data": {
      "text/plain": [
       "[('이', 'Determiner'), ('놈', 'Noun'), ('아', 'Josa')]"
      ]
     },
     "execution_count": 127,
     "metadata": {},
     "output_type": "execute_result"
    }
   ],
   "source": [
    "okt.pos('이놈아')"
   ]
  },
  {
   "cell_type": "code",
   "execution_count": 128,
   "id": "2da8159a",
   "metadata": {},
   "outputs": [
    {
     "data": {
      "text/plain": [
       "[('완전', 'Noun'),\n",
       " ('짜증', 'Noun'),\n",
       " ('났잖아', 'Verb'),\n",
       " ('~~', 'Punctuation'),\n",
       " ('아오', 'Exclamation'),\n",
       " ('진짜', 'Noun'),\n",
       " ('내', 'Determiner'),\n",
       " ('말', 'Noun'),\n",
       " ('이', 'Josa'),\n",
       " ('그', 'Determiner'),\n",
       " ('말임', 'Noun')]"
      ]
     },
     "execution_count": 128,
     "metadata": {},
     "output_type": "execute_result"
    }
   ],
   "source": [
    "okt.pos('완전 짜증 났잖아~~ 아오 진짜 내말이 그말임')"
   ]
  },
  {
   "cell_type": "code",
   "execution_count": 129,
   "id": "95572631",
   "metadata": {},
   "outputs": [
    {
     "data": {
      "text/plain": [
       "'정부 새로운 인수위 조직 중 코로나비상대응특위 위원으로 인선됐다고 이준석에 읍소하는 국민의힘 지방선거 창원시장 후보 공천 컷오프에 반발해 재심을 신청한 창원 성산 가운데 국민의힘 지방선거 창원시장 후보 공천 컷오프에 반발해 재심을 신청한 창원 성산 가운데 의원 대통령직 인수위원회 합류 코로나비상대응특위 위원으로 의원 경남 창원성산구 보건복지위원회 간사 은 지난 일 윤석열 정부 새로운 인수위 조직 중 현역의원인 의원도 인수위원회에 합류하게 되었다 사진 출처 의원 트위터 강 의원실 의원 정부 코로나비상대응특위 위원으로 인선 의원 사진 의원실 제공 국민의힘 의원이 윤석열 정부의 코로나 비생대응 특별위원회의 위원으로 선정됐다 국회 보건복지위원회 간사 국민의힘 의원은 윤석열 정부 새로운 인수위 방역 붕괴 속 다양한 치료제 준비 미흡 질타 의원 경남 창원성산구 보건복지위원회 간사 이 방역 붕괴 속에도 정부가 소트로비맙 몰누피라비르 등 다양한 치료제 준비가 미흡하고 구체적인 검토조차 하지 않았다 고 지적했다 의원은 일 정부가 인수위 코로나비상대응특위 방역현장 의견청취해'"
      ]
     },
     "execution_count": 129,
     "metadata": {},
     "output_type": "execute_result"
    }
   ],
   "source": [
    "sample_text = \"정부 새로운 인수위 조직 중 코로나비상대응특위 위원으로 인선됐다고 이준석에 읍소하는 국민의힘 지방선거 창원시장 후보 공천 컷오프에 반발해 재심을 신청한 창원 성산 가운데 국민의힘 지방선거 창원시장 후보 공천 컷오프에 반발해 재심을 신청한 창원 성산 가운데 의원 대통령직 인수위원회 합류 코로나비상대응특위 위원으로 의원 경남 창원성산구 보건복지위원회 간사 은 지난 일 윤석열 정부 새로운 인수위 조직 중 현역의원인 의원도 인수위원회에 합류하게 되었다 사진 출처 의원 트위터 강 의원실 의원 정부 코로나비상대응특위 위원으로 인선 의원 사진 의원실 제공 국민의힘 의원이 윤석열 정부의 코로나 비생대응 특별위원회의 위원으로 선정됐다 국회 보건복지위원회 간사 국민의힘 의원은 윤석열 정부 새로운 인수위 방역 붕괴 속 다양한 치료제 준비 미흡 질타 의원 경남 창원성산구 보건복지위원회 간사 이 방역 붕괴 속에도 정부가 소트로비맙 몰누피라비르 등 다양한 치료제 준비가 미흡하고 구체적인 검토조차 하지 않았다 고 지적했다 의원은 일 정부가 인수위 코로나비상대응특위 방역현장 의견청취해\"\n",
    "sample_text"
   ]
  },
  {
   "cell_type": "code",
   "execution_count": 130,
   "id": "e1763763",
   "metadata": {
    "scrolled": true
   },
   "outputs": [
    {
     "data": {
      "text/plain": [
       "[('정부', 'Noun'),\n",
       " ('새로운', 'Adjective'),\n",
       " ('인수위', 'Noun'),\n",
       " ('조직', 'Noun'),\n",
       " ('중', 'Noun'),\n",
       " ('코로나비', 'Noun'),\n",
       " ('상', 'Suffix'),\n",
       " ('대응', 'Noun'),\n",
       " ('특위', 'Noun'),\n",
       " ('위원', 'Noun'),\n",
       " ('으로', 'Josa'),\n",
       " ('인선', 'Noun'),\n",
       " ('됐다고', 'Verb'),\n",
       " ('이준석', 'Noun'),\n",
       " ('에', 'Josa'),\n",
       " ('읍', 'Noun'),\n",
       " ('소하', 'Noun'),\n",
       " ('는', 'Josa'),\n",
       " ('국민', 'Noun'),\n",
       " ('의', 'Josa'),\n",
       " ('힘', 'Noun'),\n",
       " ('지방선거', 'Noun'),\n",
       " ('창원시', 'Noun'),\n",
       " ('장', 'Suffix'),\n",
       " ('후보', 'Noun'),\n",
       " ('공천', 'Noun'),\n",
       " ('컷오프', 'Noun'),\n",
       " ('에', 'Josa'),\n",
       " ('반발', 'Noun'),\n",
       " ('해', 'Verb'),\n",
       " ('재심', 'Noun'),\n",
       " ('을', 'Josa'),\n",
       " ('신청', 'Noun'),\n",
       " ('한', 'Josa'),\n",
       " ('창원', 'Noun'),\n",
       " ('성산', 'Noun'),\n",
       " ('가운데', 'Noun'),\n",
       " ('국민', 'Noun'),\n",
       " ('의', 'Josa'),\n",
       " ('힘', 'Noun'),\n",
       " ('지방선거', 'Noun'),\n",
       " ('창원시', 'Noun'),\n",
       " ('장', 'Suffix'),\n",
       " ('후보', 'Noun'),\n",
       " ('공천', 'Noun'),\n",
       " ('컷오프', 'Noun'),\n",
       " ('에', 'Josa'),\n",
       " ('반발', 'Noun'),\n",
       " ('해', 'Verb'),\n",
       " ('재심', 'Noun'),\n",
       " ('을', 'Josa'),\n",
       " ('신청', 'Noun'),\n",
       " ('한', 'Josa'),\n",
       " ('창원', 'Noun'),\n",
       " ('성산', 'Noun'),\n",
       " ('가운데', 'Noun'),\n",
       " ('의원', 'Noun'),\n",
       " ('대통령직', 'Noun'),\n",
       " ('인수', 'Noun'),\n",
       " ('위원회', 'Noun'),\n",
       " ('합류', 'Noun'),\n",
       " ('코로나비', 'Noun'),\n",
       " ('상', 'Suffix'),\n",
       " ('대응', 'Noun'),\n",
       " ('특위', 'Noun'),\n",
       " ('위원', 'Noun'),\n",
       " ('으로', 'Josa'),\n",
       " ('의원', 'Noun'),\n",
       " ('경남', 'Noun'),\n",
       " ('창원', 'Noun'),\n",
       " ('성산구', 'Noun'),\n",
       " ('보건', 'Noun'),\n",
       " ('복지', 'Noun'),\n",
       " ('위원회', 'Noun'),\n",
       " ('간사', 'Noun'),\n",
       " ('은', 'Noun'),\n",
       " ('지난', 'Noun'),\n",
       " ('일', 'Noun'),\n",
       " ('윤석열', 'Noun'),\n",
       " ('정부', 'Noun'),\n",
       " ('새로운', 'Adjective'),\n",
       " ('인수위', 'Noun'),\n",
       " ('조직', 'Noun'),\n",
       " ('중', 'Noun'),\n",
       " ('현역', 'Noun'),\n",
       " ('의원', 'Noun'),\n",
       " ('인', 'Josa'),\n",
       " ('의원', 'Noun'),\n",
       " ('도', 'Josa'),\n",
       " ('인수', 'Noun'),\n",
       " ('위원회', 'Noun'),\n",
       " ('에', 'Josa'),\n",
       " ('합류', 'Noun'),\n",
       " ('하게', 'Verb'),\n",
       " ('되었다', 'Verb'),\n",
       " ('사진', 'Noun'),\n",
       " ('출처', 'Noun'),\n",
       " ('의원', 'Noun'),\n",
       " ('트위터', 'Noun'),\n",
       " ('강', 'Noun'),\n",
       " ('의원', 'Noun'),\n",
       " ('실', 'Noun'),\n",
       " ('의원', 'Noun'),\n",
       " ('정부', 'Noun'),\n",
       " ('코로나비', 'Noun'),\n",
       " ('상', 'Suffix'),\n",
       " ('대응', 'Noun'),\n",
       " ('특위', 'Noun'),\n",
       " ('위원', 'Noun'),\n",
       " ('으로', 'Josa'),\n",
       " ('인선', 'Noun'),\n",
       " ('의원', 'Noun'),\n",
       " ('사진', 'Noun'),\n",
       " ('의원', 'Noun'),\n",
       " ('실', 'Noun'),\n",
       " ('제공', 'Noun'),\n",
       " ('국민', 'Noun'),\n",
       " ('의', 'Josa'),\n",
       " ('힘', 'Noun'),\n",
       " ('의원', 'Noun'),\n",
       " ('이', 'Josa'),\n",
       " ('윤석열', 'Noun'),\n",
       " ('정부', 'Noun'),\n",
       " ('의', 'Josa'),\n",
       " ('코로나', 'Noun'),\n",
       " ('비생', 'Noun'),\n",
       " ('대응', 'Noun'),\n",
       " ('특별', 'Noun'),\n",
       " ('위원회', 'Noun'),\n",
       " ('의', 'Josa'),\n",
       " ('위원', 'Noun'),\n",
       " ('으로', 'Josa'),\n",
       " ('선정', 'Noun'),\n",
       " ('됐다', 'Verb'),\n",
       " ('국회', 'Noun'),\n",
       " ('보건', 'Noun'),\n",
       " ('복지', 'Noun'),\n",
       " ('위원회', 'Noun'),\n",
       " ('간사', 'Noun'),\n",
       " ('국민', 'Noun'),\n",
       " ('의', 'Josa'),\n",
       " ('힘', 'Noun'),\n",
       " ('의원', 'Noun'),\n",
       " ('은', 'Josa'),\n",
       " ('윤석열', 'Noun'),\n",
       " ('정부', 'Noun'),\n",
       " ('새로운', 'Adjective'),\n",
       " ('인수위', 'Noun'),\n",
       " ('방역', 'Noun'),\n",
       " ('붕괴', 'Noun'),\n",
       " ('속', 'Noun'),\n",
       " ('다양한', 'Adjective'),\n",
       " ('치료', 'Noun'),\n",
       " ('제', 'Noun'),\n",
       " ('준비', 'Noun'),\n",
       " ('미흡', 'Noun'),\n",
       " ('질타', 'Noun'),\n",
       " ('의원', 'Noun'),\n",
       " ('경남', 'Noun'),\n",
       " ('창원', 'Noun'),\n",
       " ('성산구', 'Noun'),\n",
       " ('보건', 'Noun'),\n",
       " ('복지', 'Noun'),\n",
       " ('위원회', 'Noun'),\n",
       " ('간사', 'Noun'),\n",
       " ('이', 'Noun'),\n",
       " ('방역', 'Noun'),\n",
       " ('붕괴', 'Noun'),\n",
       " ('속', 'Noun'),\n",
       " ('에도', 'Josa'),\n",
       " ('정부', 'Noun'),\n",
       " ('가', 'Josa'),\n",
       " ('소트', 'Noun'),\n",
       " ('로비', 'Noun'),\n",
       " ('맙', 'Noun'),\n",
       " ('몰', 'Verb'),\n",
       " ('누피', 'Noun'),\n",
       " ('라', 'Josa'),\n",
       " ('비르', 'Noun'),\n",
       " ('등', 'Noun'),\n",
       " ('다양한', 'Adjective'),\n",
       " ('치료', 'Noun'),\n",
       " ('제', 'Noun'),\n",
       " ('준비', 'Noun'),\n",
       " ('가', 'Josa'),\n",
       " ('미흡하고', 'Adjective'),\n",
       " ('구체', 'Noun'),\n",
       " ('적', 'Suffix'),\n",
       " ('인', 'Josa'),\n",
       " ('검토', 'Noun'),\n",
       " ('조차', 'Josa'),\n",
       " ('하지', 'Verb'),\n",
       " ('않았다', 'Verb'),\n",
       " ('고', 'Noun'),\n",
       " ('지적', 'Noun'),\n",
       " ('했다', 'Verb'),\n",
       " ('의원', 'Noun'),\n",
       " ('은', 'Josa'),\n",
       " ('일', 'Noun'),\n",
       " ('정부', 'Noun'),\n",
       " ('가', 'Josa'),\n",
       " ('인수위', 'Noun'),\n",
       " ('코로나비', 'Noun'),\n",
       " ('상', 'Suffix'),\n",
       " ('대응', 'Noun'),\n",
       " ('특위', 'Noun'),\n",
       " ('방역', 'Noun'),\n",
       " ('현장', 'Noun'),\n",
       " ('의견청취', 'Noun'),\n",
       " ('해', 'Verb')]"
      ]
     },
     "execution_count": 130,
     "metadata": {},
     "output_type": "execute_result"
    }
   ],
   "source": [
    "okt.pos(sample_text)"
   ]
  },
  {
   "cell_type": "markdown",
   "id": "854b0971",
   "metadata": {},
   "source": [
    "## 빈도 확인\n",
    "## 불용어 리스트 만들기\n",
    "## 막대그래프랑 워드클라우드 살짝 뽑아보기"
   ]
  }
 ],
 "metadata": {
  "kernelspec": {
   "display_name": "Python 3 (ipykernel)",
   "language": "python",
   "name": "python3"
  },
  "language_info": {
   "codemirror_mode": {
    "name": "ipython",
    "version": 3
   },
   "file_extension": ".py",
   "mimetype": "text/x-python",
   "name": "python",
   "nbconvert_exporter": "python",
   "pygments_lexer": "ipython3",
   "version": "3.10.4"
  },
  "toc": {
   "base_numbering": 1,
   "nav_menu": {},
   "number_sections": true,
   "sideBar": true,
   "skip_h1_title": false,
   "title_cell": "Table of Contents",
   "title_sidebar": "Contents",
   "toc_cell": false,
   "toc_position": {
    "height": "calc(100% - 180px)",
    "left": "10px",
    "top": "150px",
    "width": "292.797px"
   },
   "toc_section_display": true,
   "toc_window_display": true
  }
 },
 "nbformat": 4,
 "nbformat_minor": 5
}
