{
 "cells": [
  {
   "cell_type": "markdown",
   "id": "23d803c9",
   "metadata": {},
   "source": [
    "# 데이터프레임 전처리"
   ]
  },
  {
   "cell_type": "code",
   "execution_count": 19,
   "id": "c9a92ebc",
   "metadata": {},
   "outputs": [],
   "source": [
    "import json\n",
    "import numpy as np\n",
    "import pandas as pd\n",
    "import re\n",
    "import warnings\n",
    "warnings.filterwarnings('ignore')"
   ]
  },
  {
   "cell_type": "code",
   "execution_count": 185,
   "id": "3120939a",
   "metadata": {},
   "outputs": [],
   "source": [
    "# 데이터 불러오기\n",
    "MP = pd.read_json('MP.json', orient = 'table')\n",
    "PB = pd.read_json(\"PB.json\", orient = 'table')"
   ]
  },
  {
   "cell_type": "code",
   "execution_count": 215,
   "id": "abaaf2e7",
   "metadata": {},
   "outputs": [
    {
     "name": "stdout",
     "output_type": "stream",
     "text": [
      "<class 'pandas.core.frame.DataFrame'>\n",
      "Int64Index: 299 entries, 0 to 298\n",
      "Data columns (total 7 columns):\n",
      " #   Column  Non-Null Count  Dtype \n",
      "---  ------  --------------  ----- \n",
      " 0   의원명     299 non-null    object\n",
      " 1   정당      299 non-null    object\n",
      " 2   소속위원회   298 non-null    object\n",
      " 3   지역      299 non-null    object\n",
      " 4   성별      299 non-null    object\n",
      " 5   당선횟수    299 non-null    object\n",
      " 6   당선방법    299 non-null    object\n",
      "dtypes: object(7)\n",
      "memory usage: 18.7+ KB\n"
     ]
    }
   ],
   "source": [
    "# 국회의원 별 df\n",
    "MP.info()"
   ]
  },
  {
   "cell_type": "code",
   "execution_count": 216,
   "id": "30652da2",
   "metadata": {
    "scrolled": false
   },
   "outputs": [
    {
     "name": "stdout",
     "output_type": "stream",
     "text": [
      "<class 'pandas.core.frame.DataFrame'>\n",
      "Int64Index: 1766 entries, 0 to 1765\n",
      "Data columns (total 7 columns):\n",
      " #   Column  Non-Null Count  Dtype         \n",
      "---  ------  --------------  -----         \n",
      " 0   법률안명    1766 non-null   object        \n",
      " 1   대표발의자   1766 non-null   object        \n",
      " 2   공동발의자   1758 non-null   object        \n",
      " 3   소관위원회   1766 non-null   object        \n",
      " 4   제안일     1766 non-null   datetime64[ns]\n",
      " 5   처리상태    71 non-null     object        \n",
      " 6   상세페이지   1766 non-null   object        \n",
      "dtypes: datetime64[ns](1), object(6)\n",
      "memory usage: 174.9+ KB\n"
     ]
    }
   ],
   "source": [
    "# 법률안 별 df\n",
    "PB.info()"
   ]
  },
  {
   "cell_type": "code",
   "execution_count": 217,
   "id": "579743f0",
   "metadata": {
    "scrolled": false
   },
   "outputs": [
    {
     "data": {
      "text/html": [
       "<div>\n",
       "<style scoped>\n",
       "    .dataframe tbody tr th:only-of-type {\n",
       "        vertical-align: middle;\n",
       "    }\n",
       "\n",
       "    .dataframe tbody tr th {\n",
       "        vertical-align: top;\n",
       "    }\n",
       "\n",
       "    .dataframe thead th {\n",
       "        text-align: right;\n",
       "    }\n",
       "</style>\n",
       "<table border=\"1\" class=\"dataframe\">\n",
       "  <thead>\n",
       "    <tr style=\"text-align: right;\">\n",
       "      <th></th>\n",
       "      <th>의원명</th>\n",
       "    </tr>\n",
       "  </thead>\n",
       "  <tbody>\n",
       "    <tr>\n",
       "      <th>0</th>\n",
       "      <td>강기윤</td>\n",
       "    </tr>\n",
       "    <tr>\n",
       "      <th>1</th>\n",
       "      <td>강기윤</td>\n",
       "    </tr>\n",
       "    <tr>\n",
       "      <th>2</th>\n",
       "      <td>강대식</td>\n",
       "    </tr>\n",
       "    <tr>\n",
       "      <th>3</th>\n",
       "      <td>강대식</td>\n",
       "    </tr>\n",
       "    <tr>\n",
       "      <th>4</th>\n",
       "      <td>강득구</td>\n",
       "    </tr>\n",
       "    <tr>\n",
       "      <th>...</th>\n",
       "      <td>...</td>\n",
       "    </tr>\n",
       "    <tr>\n",
       "      <th>593</th>\n",
       "      <td>황보승희</td>\n",
       "    </tr>\n",
       "    <tr>\n",
       "      <th>594</th>\n",
       "      <td>황운하</td>\n",
       "    </tr>\n",
       "    <tr>\n",
       "      <th>595</th>\n",
       "      <td>황운하</td>\n",
       "    </tr>\n",
       "    <tr>\n",
       "      <th>596</th>\n",
       "      <td>황희</td>\n",
       "    </tr>\n",
       "    <tr>\n",
       "      <th>597</th>\n",
       "      <td>황희</td>\n",
       "    </tr>\n",
       "  </tbody>\n",
       "</table>\n",
       "<p>598 rows × 1 columns</p>\n",
       "</div>"
      ],
      "text/plain": [
       "      의원명\n",
       "0     강기윤\n",
       "1     강기윤\n",
       "2     강대식\n",
       "3     강대식\n",
       "4     강득구\n",
       "..    ...\n",
       "593  황보승희\n",
       "594   황운하\n",
       "595   황운하\n",
       "596    황희\n",
       "597    황희\n",
       "\n",
       "[598 rows x 1 columns]"
      ]
     },
     "execution_count": 217,
     "metadata": {},
     "output_type": "execute_result"
    }
   ],
   "source": [
    "# 의원별로 새로운 df 생성\n",
    "person_li = MP['의원명'].tolist() + MP['의원명'].tolist()\n",
    "person_se = pd.Series(person_li)\n",
    "\n",
    "name_pb = pd.DataFrame(person_se, columns = ['의원명'])\n",
    "\n",
    "#이름 오름차순 정렬\n",
    "name_pb = name_pb.sort_values(['의원명'])\n",
    "\n",
    "#인덱스 다시 설정\n",
    "name_pb.reset_index(inplace=True, drop=True)\n",
    "\n",
    "name_pb"
   ]
  },
  {
   "cell_type": "code",
   "execution_count": 189,
   "id": "cb9ed602",
   "metadata": {},
   "outputs": [
    {
     "data": {
      "text/plain": [
       "pandas.core.frame.DataFrame"
      ]
     },
     "execution_count": 189,
     "metadata": {},
     "output_type": "execute_result"
    }
   ],
   "source": [
    "type(name_pb)"
   ]
  },
  {
   "cell_type": "code",
   "execution_count": 218,
   "id": "dfd4ff01",
   "metadata": {},
   "outputs": [],
   "source": [
    "# 발의자 설정(대표/ 공동)\n",
    "name_pb['발의자'] = '대표'"
   ]
  },
  {
   "cell_type": "code",
   "execution_count": 219,
   "id": "c078ee09",
   "metadata": {
    "collapsed": true
   },
   "outputs": [
    {
     "data": {
      "text/html": [
       "<div>\n",
       "<style scoped>\n",
       "    .dataframe tbody tr th:only-of-type {\n",
       "        vertical-align: middle;\n",
       "    }\n",
       "\n",
       "    .dataframe tbody tr th {\n",
       "        vertical-align: top;\n",
       "    }\n",
       "\n",
       "    .dataframe thead th {\n",
       "        text-align: right;\n",
       "    }\n",
       "</style>\n",
       "<table border=\"1\" class=\"dataframe\">\n",
       "  <thead>\n",
       "    <tr style=\"text-align: right;\">\n",
       "      <th></th>\n",
       "      <th>의원명</th>\n",
       "      <th>발의자</th>\n",
       "    </tr>\n",
       "  </thead>\n",
       "  <tbody>\n",
       "    <tr>\n",
       "      <th>0</th>\n",
       "      <td>강기윤</td>\n",
       "      <td>대표</td>\n",
       "    </tr>\n",
       "    <tr>\n",
       "      <th>1</th>\n",
       "      <td>강기윤</td>\n",
       "      <td>대표</td>\n",
       "    </tr>\n",
       "    <tr>\n",
       "      <th>2</th>\n",
       "      <td>강대식</td>\n",
       "      <td>대표</td>\n",
       "    </tr>\n",
       "    <tr>\n",
       "      <th>3</th>\n",
       "      <td>강대식</td>\n",
       "      <td>대표</td>\n",
       "    </tr>\n",
       "    <tr>\n",
       "      <th>4</th>\n",
       "      <td>강득구</td>\n",
       "      <td>대표</td>\n",
       "    </tr>\n",
       "    <tr>\n",
       "      <th>...</th>\n",
       "      <td>...</td>\n",
       "      <td>...</td>\n",
       "    </tr>\n",
       "    <tr>\n",
       "      <th>593</th>\n",
       "      <td>황보승희</td>\n",
       "      <td>대표</td>\n",
       "    </tr>\n",
       "    <tr>\n",
       "      <th>594</th>\n",
       "      <td>황운하</td>\n",
       "      <td>대표</td>\n",
       "    </tr>\n",
       "    <tr>\n",
       "      <th>595</th>\n",
       "      <td>황운하</td>\n",
       "      <td>대표</td>\n",
       "    </tr>\n",
       "    <tr>\n",
       "      <th>596</th>\n",
       "      <td>황희</td>\n",
       "      <td>대표</td>\n",
       "    </tr>\n",
       "    <tr>\n",
       "      <th>597</th>\n",
       "      <td>황희</td>\n",
       "      <td>대표</td>\n",
       "    </tr>\n",
       "  </tbody>\n",
       "</table>\n",
       "<p>598 rows × 2 columns</p>\n",
       "</div>"
      ],
      "text/plain": [
       "      의원명 발의자\n",
       "0     강기윤  대표\n",
       "1     강기윤  대표\n",
       "2     강대식  대표\n",
       "3     강대식  대표\n",
       "4     강득구  대표\n",
       "..    ...  ..\n",
       "593  황보승희  대표\n",
       "594   황운하  대표\n",
       "595   황운하  대표\n",
       "596    황희  대표\n",
       "597    황희  대표\n",
       "\n",
       "[598 rows x 2 columns]"
      ]
     },
     "execution_count": 219,
     "metadata": {},
     "output_type": "execute_result"
    }
   ],
   "source": [
    "name_pb"
   ]
  },
  {
   "cell_type": "code",
   "execution_count": 221,
   "id": "c1b9e426",
   "metadata": {},
   "outputs": [],
   "source": [
    "name_pb.iloc[1::2,1] = '공동'"
   ]
  },
  {
   "cell_type": "code",
   "execution_count": 222,
   "id": "e5f31b09",
   "metadata": {
    "collapsed": true
   },
   "outputs": [
    {
     "data": {
      "text/html": [
       "<div>\n",
       "<style scoped>\n",
       "    .dataframe tbody tr th:only-of-type {\n",
       "        vertical-align: middle;\n",
       "    }\n",
       "\n",
       "    .dataframe tbody tr th {\n",
       "        vertical-align: top;\n",
       "    }\n",
       "\n",
       "    .dataframe thead th {\n",
       "        text-align: right;\n",
       "    }\n",
       "</style>\n",
       "<table border=\"1\" class=\"dataframe\">\n",
       "  <thead>\n",
       "    <tr style=\"text-align: right;\">\n",
       "      <th></th>\n",
       "      <th>의원명</th>\n",
       "      <th>발의자</th>\n",
       "    </tr>\n",
       "  </thead>\n",
       "  <tbody>\n",
       "    <tr>\n",
       "      <th>0</th>\n",
       "      <td>강기윤</td>\n",
       "      <td>대표</td>\n",
       "    </tr>\n",
       "    <tr>\n",
       "      <th>1</th>\n",
       "      <td>강기윤</td>\n",
       "      <td>공동</td>\n",
       "    </tr>\n",
       "    <tr>\n",
       "      <th>2</th>\n",
       "      <td>강대식</td>\n",
       "      <td>대표</td>\n",
       "    </tr>\n",
       "    <tr>\n",
       "      <th>3</th>\n",
       "      <td>강대식</td>\n",
       "      <td>공동</td>\n",
       "    </tr>\n",
       "    <tr>\n",
       "      <th>4</th>\n",
       "      <td>강득구</td>\n",
       "      <td>대표</td>\n",
       "    </tr>\n",
       "    <tr>\n",
       "      <th>...</th>\n",
       "      <td>...</td>\n",
       "      <td>...</td>\n",
       "    </tr>\n",
       "    <tr>\n",
       "      <th>593</th>\n",
       "      <td>황보승희</td>\n",
       "      <td>공동</td>\n",
       "    </tr>\n",
       "    <tr>\n",
       "      <th>594</th>\n",
       "      <td>황운하</td>\n",
       "      <td>대표</td>\n",
       "    </tr>\n",
       "    <tr>\n",
       "      <th>595</th>\n",
       "      <td>황운하</td>\n",
       "      <td>공동</td>\n",
       "    </tr>\n",
       "    <tr>\n",
       "      <th>596</th>\n",
       "      <td>황희</td>\n",
       "      <td>대표</td>\n",
       "    </tr>\n",
       "    <tr>\n",
       "      <th>597</th>\n",
       "      <td>황희</td>\n",
       "      <td>공동</td>\n",
       "    </tr>\n",
       "  </tbody>\n",
       "</table>\n",
       "<p>598 rows × 2 columns</p>\n",
       "</div>"
      ],
      "text/plain": [
       "      의원명 발의자\n",
       "0     강기윤  대표\n",
       "1     강기윤  공동\n",
       "2     강대식  대표\n",
       "3     강대식  공동\n",
       "4     강득구  대표\n",
       "..    ...  ..\n",
       "593  황보승희  공동\n",
       "594   황운하  대표\n",
       "595   황운하  공동\n",
       "596    황희  대표\n",
       "597    황희  공동\n",
       "\n",
       "[598 rows x 2 columns]"
      ]
     },
     "execution_count": 222,
     "metadata": {},
     "output_type": "execute_result"
    }
   ],
   "source": [
    "name_pb"
   ]
  },
  {
   "cell_type": "markdown",
   "id": "cb8b48ff",
   "metadata": {},
   "source": [
    "# 빈칸 만들기 -> df1"
   ]
  },
  {
   "cell_type": "code",
   "execution_count": 223,
   "id": "8273d8cc",
   "metadata": {},
   "outputs": [],
   "source": [
    "df1 = name_pb.copy()"
   ]
  },
  {
   "cell_type": "code",
   "execution_count": 224,
   "id": "1b1700c1",
   "metadata": {},
   "outputs": [
    {
     "data": {
      "text/html": [
       "<div>\n",
       "<style scoped>\n",
       "    .dataframe tbody tr th:only-of-type {\n",
       "        vertical-align: middle;\n",
       "    }\n",
       "\n",
       "    .dataframe tbody tr th {\n",
       "        vertical-align: top;\n",
       "    }\n",
       "\n",
       "    .dataframe thead th {\n",
       "        text-align: right;\n",
       "    }\n",
       "</style>\n",
       "<table border=\"1\" class=\"dataframe\">\n",
       "  <thead>\n",
       "    <tr style=\"text-align: right;\">\n",
       "      <th></th>\n",
       "      <th>의원명</th>\n",
       "      <th>발의자</th>\n",
       "    </tr>\n",
       "  </thead>\n",
       "  <tbody>\n",
       "    <tr>\n",
       "      <th>0</th>\n",
       "      <td>강기윤</td>\n",
       "      <td>대표</td>\n",
       "    </tr>\n",
       "    <tr>\n",
       "      <th>1</th>\n",
       "      <td>강기윤</td>\n",
       "      <td>공동</td>\n",
       "    </tr>\n",
       "    <tr>\n",
       "      <th>2</th>\n",
       "      <td>강대식</td>\n",
       "      <td>대표</td>\n",
       "    </tr>\n",
       "    <tr>\n",
       "      <th>3</th>\n",
       "      <td>강대식</td>\n",
       "      <td>공동</td>\n",
       "    </tr>\n",
       "    <tr>\n",
       "      <th>4</th>\n",
       "      <td>강득구</td>\n",
       "      <td>대표</td>\n",
       "    </tr>\n",
       "  </tbody>\n",
       "</table>\n",
       "</div>"
      ],
      "text/plain": [
       "   의원명 발의자\n",
       "0  강기윤  대표\n",
       "1  강기윤  공동\n",
       "2  강대식  대표\n",
       "3  강대식  공동\n",
       "4  강득구  대표"
      ]
     },
     "execution_count": 224,
     "metadata": {},
     "output_type": "execute_result"
    }
   ],
   "source": [
    "df1.head()"
   ]
  },
  {
   "cell_type": "code",
   "execution_count": 282,
   "id": "9227b0a9",
   "metadata": {},
   "outputs": [],
   "source": [
    "import numpy as np"
   ]
  },
  {
   "cell_type": "code",
   "execution_count": 283,
   "id": "8813c01d",
   "metadata": {},
   "outputs": [],
   "source": [
    "li_el = []\n",
    "for _ in range(598): li_el.append([])"
   ]
  },
  {
   "cell_type": "code",
   "execution_count": 285,
   "id": "39e896ed",
   "metadata": {},
   "outputs": [],
   "source": [
    "df1['법률안명'] = pd.Series(li_el)\n",
    "df1['소관위원회'] = pd.Series(li_el)"
   ]
  },
  {
   "cell_type": "code",
   "execution_count": 286,
   "id": "a317052b",
   "metadata": {},
   "outputs": [
    {
     "data": {
      "text/html": [
       "<div>\n",
       "<style scoped>\n",
       "    .dataframe tbody tr th:only-of-type {\n",
       "        vertical-align: middle;\n",
       "    }\n",
       "\n",
       "    .dataframe tbody tr th {\n",
       "        vertical-align: top;\n",
       "    }\n",
       "\n",
       "    .dataframe thead th {\n",
       "        text-align: right;\n",
       "    }\n",
       "</style>\n",
       "<table border=\"1\" class=\"dataframe\">\n",
       "  <thead>\n",
       "    <tr style=\"text-align: right;\">\n",
       "      <th></th>\n",
       "      <th>의원명</th>\n",
       "      <th>발의자</th>\n",
       "      <th>법률안명</th>\n",
       "      <th>소관위원회</th>\n",
       "    </tr>\n",
       "  </thead>\n",
       "  <tbody>\n",
       "    <tr>\n",
       "      <th>0</th>\n",
       "      <td>강기윤</td>\n",
       "      <td>대표</td>\n",
       "      <td>[]</td>\n",
       "      <td>[]</td>\n",
       "    </tr>\n",
       "    <tr>\n",
       "      <th>1</th>\n",
       "      <td>강기윤</td>\n",
       "      <td>공동</td>\n",
       "      <td>[]</td>\n",
       "      <td>[]</td>\n",
       "    </tr>\n",
       "    <tr>\n",
       "      <th>2</th>\n",
       "      <td>강대식</td>\n",
       "      <td>대표</td>\n",
       "      <td>[]</td>\n",
       "      <td>[]</td>\n",
       "    </tr>\n",
       "    <tr>\n",
       "      <th>3</th>\n",
       "      <td>강대식</td>\n",
       "      <td>공동</td>\n",
       "      <td>[]</td>\n",
       "      <td>[]</td>\n",
       "    </tr>\n",
       "    <tr>\n",
       "      <th>4</th>\n",
       "      <td>강득구</td>\n",
       "      <td>대표</td>\n",
       "      <td>[]</td>\n",
       "      <td>[]</td>\n",
       "    </tr>\n",
       "  </tbody>\n",
       "</table>\n",
       "</div>"
      ],
      "text/plain": [
       "   의원명 발의자 법률안명 소관위원회\n",
       "0  강기윤  대표   []    []\n",
       "1  강기윤  공동   []    []\n",
       "2  강대식  대표   []    []\n",
       "3  강대식  공동   []    []\n",
       "4  강득구  대표   []    []"
      ]
     },
     "execution_count": 286,
     "metadata": {},
     "output_type": "execute_result"
    }
   ],
   "source": [
    "df1.head()"
   ]
  },
  {
   "cell_type": "code",
   "execution_count": 287,
   "id": "21154665",
   "metadata": {},
   "outputs": [
    {
     "name": "stdout",
     "output_type": "stream",
     "text": [
      "<class 'pandas.core.frame.DataFrame'>\n",
      "RangeIndex: 598 entries, 0 to 597\n",
      "Data columns (total 4 columns):\n",
      " #   Column  Non-Null Count  Dtype \n",
      "---  ------  --------------  ----- \n",
      " 0   의원명     598 non-null    object\n",
      " 1   발의자     598 non-null    object\n",
      " 2   법률안명    598 non-null    object\n",
      " 3   소관위원회   598 non-null    object\n",
      "dtypes: object(4)\n",
      "memory usage: 18.8+ KB\n"
     ]
    }
   ],
   "source": [
    "df1.info()"
   ]
  },
  {
   "cell_type": "raw",
   "id": "c10b7599",
   "metadata": {},
   "source": [
    "PB의 발의자\n",
    "for 대표발의자 in PB.대표발의자:\n",
    "    -> name_pb의 (의원명 == 대표발의자) and (발의자 == 대표) 에 해당되는 행의 인덱스idx를 뽑아요.\n",
    "    -> name_pb의 법률안명에 PB[idx, 법률안명]를 넣는다.\n",
    "    -> name_pb의 소관위원에 PB[idx, 소관위원회]를 넣는다.\n",
    "    \n",
    "for row_idx, 공동발의자리스트 in enumerate(PB.공동발의자):\n",
    "    for 공동발의자 in 공동발의자리스트:\n",
    "        name_pb의 법률안명에 PB[row_idx, 법률안명]를 넣는다.\n",
    "        name_pb의 소관위원에 PB[row_idx, 소관위원회]를 넣는다."
   ]
  },
  {
   "cell_type": "markdown",
   "id": "6c031f57",
   "metadata": {},
   "source": [
    "# ===== 여기서부터 ===== #"
   ]
  },
  {
   "cell_type": "markdown",
   "id": "621185b3",
   "metadata": {},
   "source": [
    "# 대표발의자에 대해 for문 돌릴때"
   ]
  },
  {
   "cell_type": "markdown",
   "id": "bf42e373",
   "metadata": {},
   "source": [
    "## for문이 처음 돌아갈때"
   ]
  },
  {
   "cell_type": "code",
   "execution_count": 288,
   "id": "347b1583",
   "metadata": {},
   "outputs": [
    {
     "data": {
      "text/html": [
       "<div>\n",
       "<style scoped>\n",
       "    .dataframe tbody tr th:only-of-type {\n",
       "        vertical-align: middle;\n",
       "    }\n",
       "\n",
       "    .dataframe tbody tr th {\n",
       "        vertical-align: top;\n",
       "    }\n",
       "\n",
       "    .dataframe thead th {\n",
       "        text-align: right;\n",
       "    }\n",
       "</style>\n",
       "<table border=\"1\" class=\"dataframe\">\n",
       "  <thead>\n",
       "    <tr style=\"text-align: right;\">\n",
       "      <th></th>\n",
       "      <th>법률안명</th>\n",
       "      <th>대표발의자</th>\n",
       "      <th>공동발의자</th>\n",
       "      <th>소관위원회</th>\n",
       "      <th>제안일</th>\n",
       "      <th>처리상태</th>\n",
       "      <th>상세페이지</th>\n",
       "    </tr>\n",
       "  </thead>\n",
       "  <tbody>\n",
       "    <tr>\n",
       "      <th>0</th>\n",
       "      <td>성폭력방지 및 피해자보호 등에 관한 법률 | 일부개정법률안</td>\n",
       "      <td>강대식</td>\n",
       "      <td>[김병욱, 김상훈, 배준영, 송언석, 유경준, 유의동, 이만희, 이명수, 조수진, ...</td>\n",
       "      <td>여성가족위원회</td>\n",
       "      <td>2022-06-30</td>\n",
       "      <td>NaN</td>\n",
       "      <td>http://likms.assembly.go.kr/bill/billDetail.do...</td>\n",
       "    </tr>\n",
       "    <tr>\n",
       "      <th>1</th>\n",
       "      <td>남녀고용평등과 일·가정 양립 지원에 관한 법률 | 일부개정법률안</td>\n",
       "      <td>강대식</td>\n",
       "      <td>[김병욱, 김승수, 배준영, 유경준, 유의동, 이명수, 정희용, 조수진, 지성호]</td>\n",
       "      <td>환경노동위원회</td>\n",
       "      <td>2022-06-30</td>\n",
       "      <td>NaN</td>\n",
       "      <td>http://likms.assembly.go.kr/bill/billDetail.do...</td>\n",
       "    </tr>\n",
       "  </tbody>\n",
       "</table>\n",
       "</div>"
      ],
      "text/plain": [
       "                                  법률안명 대표발의자  \\\n",
       "0     성폭력방지 및 피해자보호 등에 관한 법률 | 일부개정법률안   강대식   \n",
       "1  남녀고용평등과 일·가정 양립 지원에 관한 법률 | 일부개정법률안   강대식   \n",
       "\n",
       "                                               공동발의자    소관위원회        제안일 처리상태  \\\n",
       "0  [김병욱, 김상훈, 배준영, 송언석, 유경준, 유의동, 이만희, 이명수, 조수진, ...  여성가족위원회 2022-06-30  NaN   \n",
       "1      [김병욱, 김승수, 배준영, 유경준, 유의동, 이명수, 정희용, 조수진, 지성호]  환경노동위원회 2022-06-30  NaN   \n",
       "\n",
       "                                               상세페이지  \n",
       "0  http://likms.assembly.go.kr/bill/billDetail.do...  \n",
       "1  http://likms.assembly.go.kr/bill/billDetail.do...  "
      ]
     },
     "execution_count": 288,
     "metadata": {},
     "output_type": "execute_result"
    }
   ],
   "source": [
    "PB.head(2)"
   ]
  },
  {
   "cell_type": "code",
   "execution_count": 289,
   "id": "2f5baa5d",
   "metadata": {},
   "outputs": [
    {
     "name": "stdout",
     "output_type": "stream",
     "text": [
      "   의원명 발의자 법률안명 소관위원회\n",
      "2  강대식  대표   []    []\n",
      "******************************\n",
      "[2]\n",
      "******************************\n",
      "[['성폭력방지 및 피해자보호 등에 관한 법률 | 일부개정법률안']]\n",
      "******************************\n",
      "   의원명 발의자                                법률안명 소관위원회\n",
      "2  강대식  대표  [성폭력방지 및 피해자보호 등에 관한 법률 | 일부개정법률안]    []\n"
     ]
    },
    {
     "data": {
      "text/html": [
       "<div>\n",
       "<style scoped>\n",
       "    .dataframe tbody tr th:only-of-type {\n",
       "        vertical-align: middle;\n",
       "    }\n",
       "\n",
       "    .dataframe tbody tr th {\n",
       "        vertical-align: top;\n",
       "    }\n",
       "\n",
       "    .dataframe thead th {\n",
       "        text-align: right;\n",
       "    }\n",
       "</style>\n",
       "<table border=\"1\" class=\"dataframe\">\n",
       "  <thead>\n",
       "    <tr style=\"text-align: right;\">\n",
       "      <th></th>\n",
       "      <th>의원명</th>\n",
       "      <th>발의자</th>\n",
       "      <th>법률안명</th>\n",
       "      <th>소관위원회</th>\n",
       "    </tr>\n",
       "  </thead>\n",
       "  <tbody>\n",
       "    <tr>\n",
       "      <th>0</th>\n",
       "      <td>강기윤</td>\n",
       "      <td>대표</td>\n",
       "      <td>[]</td>\n",
       "      <td>[]</td>\n",
       "    </tr>\n",
       "    <tr>\n",
       "      <th>1</th>\n",
       "      <td>강기윤</td>\n",
       "      <td>공동</td>\n",
       "      <td>[]</td>\n",
       "      <td>[]</td>\n",
       "    </tr>\n",
       "    <tr>\n",
       "      <th>2</th>\n",
       "      <td>강대식</td>\n",
       "      <td>대표</td>\n",
       "      <td>[성폭력방지 및 피해자보호 등에 관한 법률 | 일부개정법률안]</td>\n",
       "      <td>[]</td>\n",
       "    </tr>\n",
       "    <tr>\n",
       "      <th>3</th>\n",
       "      <td>강대식</td>\n",
       "      <td>공동</td>\n",
       "      <td>[]</td>\n",
       "      <td>[]</td>\n",
       "    </tr>\n",
       "    <tr>\n",
       "      <th>4</th>\n",
       "      <td>강득구</td>\n",
       "      <td>대표</td>\n",
       "      <td>[]</td>\n",
       "      <td>[]</td>\n",
       "    </tr>\n",
       "  </tbody>\n",
       "</table>\n",
       "</div>"
      ],
      "text/plain": [
       "   의원명 발의자                                법률안명 소관위원회\n",
       "0  강기윤  대표                                  []    []\n",
       "1  강기윤  공동                                  []    []\n",
       "2  강대식  대표  [성폭력방지 및 피해자보호 등에 관한 법률 | 일부개정법률안]    []\n",
       "3  강대식  공동                                  []    []\n",
       "4  강득구  대표                                  []    []"
      ]
     },
     "execution_count": 289,
     "metadata": {},
     "output_type": "execute_result"
    }
   ],
   "source": [
    "df2 = df1.copy()\n",
    "# for i, ps in enumerate(PB['대표발의자']):\n",
    "# for문이 처음 돌아가는 상황 재현\n",
    "i = 0\n",
    "ps = '강대식' \n",
    "\n",
    "idx = df2[(ps == df2['의원명'])&(df2['발의자'] == '대표')].index\n",
    "\n",
    "print(df2[(ps == df2['의원명'])&(df2['발의자'] == '대표')])\n",
    "print('*'*30)\n",
    "print(idx.values)\n",
    "print('*'*30)\n",
    "\n",
    "old = list(df2.loc[idx,'법률안명'])\n",
    "add = PB.loc[i, '법률안명']\n",
    "new = [old[0] + [add]]\n",
    "print(new)\n",
    "print('*'*30)\n",
    "\n",
    "df2.loc[idx,'법률안명'] = new\n",
    "print(df2.loc[idx,:])\n",
    "\n",
    "df2.head()"
   ]
  },
  {
   "cell_type": "code",
   "execution_count": null,
   "id": "aeeac2dc",
   "metadata": {},
   "outputs": [],
   "source": []
  },
  {
   "cell_type": "markdown",
   "id": "9bda23e3",
   "metadata": {},
   "source": [
    "## for문 두번째 돌아갈때"
   ]
  },
  {
   "cell_type": "code",
   "execution_count": 312,
   "id": "a148cde0",
   "metadata": {},
   "outputs": [
    {
     "name": "stdout",
     "output_type": "stream",
     "text": [
      "   의원명 발의자                                법률안명 소관위원회\n",
      "2  강대식  대표  [성폭력방지 및 피해자보호 등에 관한 법률 | 일부개정법률안]    []\n",
      "******************************\n",
      "[2]\n",
      "******************************\n",
      "[['성폭력방지 및 피해자보호 등에 관한 법률 | 일부개정법률안', '남녀고용평등과 일·가정 양립 지원에 관한 법률 | 일부개정법률안']]\n",
      "******************************\n",
      "   의원명 발의자                                               법률안명 소관위원회\n",
      "2  강대식  대표  [성폭력방지 및 피해자보호 등에 관한 법률 | 일부개정법률안, 남녀고용평등과 일·가...    []\n"
     ]
    },
    {
     "data": {
      "text/html": [
       "<div>\n",
       "<style scoped>\n",
       "    .dataframe tbody tr th:only-of-type {\n",
       "        vertical-align: middle;\n",
       "    }\n",
       "\n",
       "    .dataframe tbody tr th {\n",
       "        vertical-align: top;\n",
       "    }\n",
       "\n",
       "    .dataframe thead th {\n",
       "        text-align: right;\n",
       "    }\n",
       "</style>\n",
       "<table border=\"1\" class=\"dataframe\">\n",
       "  <thead>\n",
       "    <tr style=\"text-align: right;\">\n",
       "      <th></th>\n",
       "      <th>의원명</th>\n",
       "      <th>발의자</th>\n",
       "      <th>법률안명</th>\n",
       "      <th>소관위원회</th>\n",
       "    </tr>\n",
       "  </thead>\n",
       "  <tbody>\n",
       "    <tr>\n",
       "      <th>0</th>\n",
       "      <td>강기윤</td>\n",
       "      <td>대표</td>\n",
       "      <td>[]</td>\n",
       "      <td>[]</td>\n",
       "    </tr>\n",
       "    <tr>\n",
       "      <th>1</th>\n",
       "      <td>강기윤</td>\n",
       "      <td>공동</td>\n",
       "      <td>[]</td>\n",
       "      <td>[]</td>\n",
       "    </tr>\n",
       "    <tr>\n",
       "      <th>2</th>\n",
       "      <td>강대식</td>\n",
       "      <td>대표</td>\n",
       "      <td>[성폭력방지 및 피해자보호 등에 관한 법률 | 일부개정법률안, 남녀고용평등과 일·가...</td>\n",
       "      <td>[]</td>\n",
       "    </tr>\n",
       "    <tr>\n",
       "      <th>3</th>\n",
       "      <td>강대식</td>\n",
       "      <td>공동</td>\n",
       "      <td>[]</td>\n",
       "      <td>[]</td>\n",
       "    </tr>\n",
       "    <tr>\n",
       "      <th>4</th>\n",
       "      <td>강득구</td>\n",
       "      <td>대표</td>\n",
       "      <td>[]</td>\n",
       "      <td>[]</td>\n",
       "    </tr>\n",
       "  </tbody>\n",
       "</table>\n",
       "</div>"
      ],
      "text/plain": [
       "   의원명 발의자                                               법률안명 소관위원회\n",
       "0  강기윤  대표                                                 []    []\n",
       "1  강기윤  공동                                                 []    []\n",
       "2  강대식  대표  [성폭력방지 및 피해자보호 등에 관한 법률 | 일부개정법률안, 남녀고용평등과 일·가...    []\n",
       "3  강대식  공동                                                 []    []\n",
       "4  강득구  대표                                                 []    []"
      ]
     },
     "execution_count": 312,
     "metadata": {},
     "output_type": "execute_result"
    }
   ],
   "source": [
    "df3 = df2.copy()\n",
    "# for i, ps in enumerate(PB['대표발의자']):\n",
    "# for문이 두번째 돌아가는 상황 재현\n",
    "i = 1\n",
    "ps = '강대식' \n",
    "\n",
    "idx = df3[(ps == df3['의원명'])&(df3['발의자'] == '대표')].index\n",
    "\n",
    "print(df3[(ps == df3['의원명'])&(df3['발의자'] == '대표')])\n",
    "print('*'*30)\n",
    "print(idx.values)\n",
    "print('*'*30)\n",
    "\n",
    "old = list(df3.loc[idx,'법률안명'])\n",
    "add = PB.loc[i, '법률안명']\n",
    "new = [old[0] + [add]]\n",
    "\n",
    "print(new)\n",
    "print('*'*30)\n",
    "\n",
    "df3.loc[idx,'법률안명'] = new\n",
    "print(df3.loc[idx,:])\n",
    "\n",
    "df3.head()"
   ]
  },
  {
   "cell_type": "markdown",
   "id": "b602367a",
   "metadata": {},
   "source": [
    "## 값이 잘 들어갔는지 확인"
   ]
  },
  {
   "cell_type": "code",
   "execution_count": 300,
   "id": "cb9472a6",
   "metadata": {},
   "outputs": [],
   "source": [
    "temp = df3.loc[idx,'법률안명']"
   ]
  },
  {
   "cell_type": "code",
   "execution_count": 311,
   "id": "e86fab1c",
   "metadata": {},
   "outputs": [
    {
     "name": "stdout",
     "output_type": "stream",
     "text": [
      "<class 'pandas.core.series.Series'> \n",
      " 2    [성폭력방지 및 피해자보호 등에 관한 법률 | 일부개정법률안, 남녀고용평등과 일·가...\n",
      "Name: 법률안명, dtype: object\n",
      "['성폭력방지 및 피해자보호 등에 관한 법률 | 일부개정법률안', '남녀고용평등과 일·가정 양립 지원에 관한 법률 | 일부개정법률안']\n"
     ]
    }
   ],
   "source": [
    "print(type(temp), '\\n', temp)\n",
    "print(temp[2])"
   ]
  },
  {
   "cell_type": "code",
   "execution_count": null,
   "id": "c0dbb981",
   "metadata": {},
   "outputs": [],
   "source": []
  },
  {
   "cell_type": "markdown",
   "id": "22e76ed7",
   "metadata": {},
   "source": [
    "# ===== 여기까지 ==== #"
   ]
  },
  {
   "cell_type": "code",
   "execution_count": 296,
   "id": "319cedb4",
   "metadata": {
    "collapsed": true
   },
   "outputs": [
    {
     "ename": "KeyError",
     "evalue": "'법률안명'",
     "output_type": "error",
     "traceback": [
      "\u001b[1;31m---------------------------------------------------------------------------\u001b[0m",
      "\u001b[1;31mKeyError\u001b[0m                                  Traceback (most recent call last)",
      "File \u001b[1;32m~\\anaconda3\\envs\\pytheoyeon\\lib\\site-packages\\pandas\\core\\indexes\\base.py:3621\u001b[0m, in \u001b[0;36mIndex.get_loc\u001b[1;34m(self, key, method, tolerance)\u001b[0m\n\u001b[0;32m   3620\u001b[0m \u001b[38;5;28;01mtry\u001b[39;00m:\n\u001b[1;32m-> 3621\u001b[0m     \u001b[38;5;28;01mreturn\u001b[39;00m \u001b[38;5;28;43mself\u001b[39;49m\u001b[38;5;241;43m.\u001b[39;49m\u001b[43m_engine\u001b[49m\u001b[38;5;241;43m.\u001b[39;49m\u001b[43mget_loc\u001b[49m\u001b[43m(\u001b[49m\u001b[43mcasted_key\u001b[49m\u001b[43m)\u001b[49m\n\u001b[0;32m   3622\u001b[0m \u001b[38;5;28;01mexcept\u001b[39;00m \u001b[38;5;167;01mKeyError\u001b[39;00m \u001b[38;5;28;01mas\u001b[39;00m err:\n",
      "File \u001b[1;32m~\\anaconda3\\envs\\pytheoyeon\\lib\\site-packages\\pandas\\_libs\\index.pyx:136\u001b[0m, in \u001b[0;36mpandas._libs.index.IndexEngine.get_loc\u001b[1;34m()\u001b[0m\n",
      "File \u001b[1;32m~\\anaconda3\\envs\\pytheoyeon\\lib\\site-packages\\pandas\\_libs\\index.pyx:163\u001b[0m, in \u001b[0;36mpandas._libs.index.IndexEngine.get_loc\u001b[1;34m()\u001b[0m\n",
      "File \u001b[1;32mpandas\\_libs\\hashtable_class_helper.pxi:5198\u001b[0m, in \u001b[0;36mpandas._libs.hashtable.PyObjectHashTable.get_item\u001b[1;34m()\u001b[0m\n",
      "File \u001b[1;32mpandas\\_libs\\hashtable_class_helper.pxi:5206\u001b[0m, in \u001b[0;36mpandas._libs.hashtable.PyObjectHashTable.get_item\u001b[1;34m()\u001b[0m\n",
      "\u001b[1;31mKeyError\u001b[0m: '법률안명'",
      "\nThe above exception was the direct cause of the following exception:\n",
      "\u001b[1;31mKeyError\u001b[0m                                  Traceback (most recent call last)",
      "Input \u001b[1;32mIn [296]\u001b[0m, in \u001b[0;36m<cell line: 2>\u001b[1;34m()\u001b[0m\n\u001b[0;32m      1\u001b[0m \u001b[38;5;66;03m# 발의자가 대표인 경우\u001b[39;00m\n\u001b[0;32m      2\u001b[0m \u001b[38;5;28;01mfor\u001b[39;00m i \u001b[38;5;129;01min\u001b[39;00m \u001b[38;5;28mlist\u001b[39m(PB[\u001b[38;5;124m'\u001b[39m\u001b[38;5;124m대표발의자\u001b[39m\u001b[38;5;124m'\u001b[39m]): \u001b[38;5;66;03m#법률안 df 에서 의원명\u001b[39;00m\n\u001b[1;32m----> 4\u001b[0m     li \u001b[38;5;241m=\u001b[39m \u001b[43mname_pb\u001b[49m\u001b[43m[\u001b[49m\u001b[43m(\u001b[49m\u001b[43mname_pb\u001b[49m\u001b[43m[\u001b[49m\u001b[38;5;124;43m'\u001b[39;49m\u001b[38;5;124;43m의원명\u001b[39;49m\u001b[38;5;124;43m'\u001b[39;49m\u001b[43m]\u001b[49m\u001b[38;5;241;43m==\u001b[39;49m\u001b[43mi\u001b[49m\u001b[43m)\u001b[49m\u001b[38;5;241;43m&\u001b[39;49m\u001b[43m(\u001b[49m\u001b[43mname_pb\u001b[49m\u001b[43m[\u001b[49m\u001b[38;5;124;43m'\u001b[39;49m\u001b[38;5;124;43m발의자\u001b[39;49m\u001b[38;5;124;43m'\u001b[39;49m\u001b[43m]\u001b[49m\u001b[43m \u001b[49m\u001b[38;5;241;43m==\u001b[39;49m\u001b[43m \u001b[49m\u001b[38;5;124;43m'\u001b[39;49m\u001b[38;5;124;43m대표\u001b[39;49m\u001b[38;5;124;43m'\u001b[39;49m\u001b[43m)\u001b[49m\u001b[43m]\u001b[49m\u001b[43m[\u001b[49m\u001b[38;5;124;43m'\u001b[39;49m\u001b[38;5;124;43m법률안명\u001b[39;49m\u001b[38;5;124;43m'\u001b[39;49m\u001b[43m]\u001b[49m\u001b[38;5;241m.\u001b[39mtolist() \u001b[38;5;66;03m#리스트로 변경\u001b[39;00m\n\u001b[0;32m      5\u001b[0m     j \u001b[38;5;241m=\u001b[39m name_pb\u001b[38;5;241m.\u001b[39mindex[(name_pb[\u001b[38;5;124m'\u001b[39m\u001b[38;5;124m의원명\u001b[39m\u001b[38;5;124m'\u001b[39m]\u001b[38;5;241m==\u001b[39mi)\u001b[38;5;241m&\u001b[39m(name_pb[\u001b[38;5;124m'\u001b[39m\u001b[38;5;124m발의자\u001b[39m\u001b[38;5;124m'\u001b[39m] \u001b[38;5;241m==\u001b[39m \u001b[38;5;124m'\u001b[39m\u001b[38;5;124m대표\u001b[39m\u001b[38;5;124m'\u001b[39m)]\n\u001b[0;32m      6\u001b[0m     j \u001b[38;5;241m=\u001b[39m j\u001b[38;5;241m.\u001b[39mtolist() \u001b[38;5;66;03m#int64타입이라 리스트로 변경\u001b[39;00m\n",
      "File \u001b[1;32m~\\anaconda3\\envs\\pytheoyeon\\lib\\site-packages\\pandas\\core\\frame.py:3505\u001b[0m, in \u001b[0;36mDataFrame.__getitem__\u001b[1;34m(self, key)\u001b[0m\n\u001b[0;32m   3503\u001b[0m \u001b[38;5;28;01mif\u001b[39;00m \u001b[38;5;28mself\u001b[39m\u001b[38;5;241m.\u001b[39mcolumns\u001b[38;5;241m.\u001b[39mnlevels \u001b[38;5;241m>\u001b[39m \u001b[38;5;241m1\u001b[39m:\n\u001b[0;32m   3504\u001b[0m     \u001b[38;5;28;01mreturn\u001b[39;00m \u001b[38;5;28mself\u001b[39m\u001b[38;5;241m.\u001b[39m_getitem_multilevel(key)\n\u001b[1;32m-> 3505\u001b[0m indexer \u001b[38;5;241m=\u001b[39m \u001b[38;5;28;43mself\u001b[39;49m\u001b[38;5;241;43m.\u001b[39;49m\u001b[43mcolumns\u001b[49m\u001b[38;5;241;43m.\u001b[39;49m\u001b[43mget_loc\u001b[49m\u001b[43m(\u001b[49m\u001b[43mkey\u001b[49m\u001b[43m)\u001b[49m\n\u001b[0;32m   3506\u001b[0m \u001b[38;5;28;01mif\u001b[39;00m is_integer(indexer):\n\u001b[0;32m   3507\u001b[0m     indexer \u001b[38;5;241m=\u001b[39m [indexer]\n",
      "File \u001b[1;32m~\\anaconda3\\envs\\pytheoyeon\\lib\\site-packages\\pandas\\core\\indexes\\base.py:3623\u001b[0m, in \u001b[0;36mIndex.get_loc\u001b[1;34m(self, key, method, tolerance)\u001b[0m\n\u001b[0;32m   3621\u001b[0m     \u001b[38;5;28;01mreturn\u001b[39;00m \u001b[38;5;28mself\u001b[39m\u001b[38;5;241m.\u001b[39m_engine\u001b[38;5;241m.\u001b[39mget_loc(casted_key)\n\u001b[0;32m   3622\u001b[0m \u001b[38;5;28;01mexcept\u001b[39;00m \u001b[38;5;167;01mKeyError\u001b[39;00m \u001b[38;5;28;01mas\u001b[39;00m err:\n\u001b[1;32m-> 3623\u001b[0m     \u001b[38;5;28;01mraise\u001b[39;00m \u001b[38;5;167;01mKeyError\u001b[39;00m(key) \u001b[38;5;28;01mfrom\u001b[39;00m \u001b[38;5;21;01merr\u001b[39;00m\n\u001b[0;32m   3624\u001b[0m \u001b[38;5;28;01mexcept\u001b[39;00m \u001b[38;5;167;01mTypeError\u001b[39;00m:\n\u001b[0;32m   3625\u001b[0m     \u001b[38;5;66;03m# If we have a listlike key, _check_indexing_error will raise\u001b[39;00m\n\u001b[0;32m   3626\u001b[0m     \u001b[38;5;66;03m#  InvalidIndexError. Otherwise we fall through and re-raise\u001b[39;00m\n\u001b[0;32m   3627\u001b[0m     \u001b[38;5;66;03m#  the TypeError.\u001b[39;00m\n\u001b[0;32m   3628\u001b[0m     \u001b[38;5;28mself\u001b[39m\u001b[38;5;241m.\u001b[39m_check_indexing_error(key)\n",
      "\u001b[1;31mKeyError\u001b[0m: '법률안명'"
     ]
    }
   ],
   "source": [
    "# 발의자가 대표인 경우\n",
    "for i in list(PB['대표발의자']): #법률안 df 에서 의원명\n",
    "    \n",
    "    li = name_pb[(name_pb['의원명']==i)&(name_pb['발의자'] == '대표')]['법률안명'].tolist() #리스트로 변경\n",
    "    j = name_pb.index[(name_pb['의원명']==i)&(name_pb['발의자'] == '대표')]\n",
    "    j = j.tolist() #int64타입이라 리스트로 변경\n",
    "    \n",
    "    for t in list(PB[PB['대표발의자']==i]['법률안명']): #해당 법률안 리스트로 append\n",
    "        li.append(t)\n",
    "        \n",
    "    name_pb.iloc[j[0],2] = str(li) #li 값 추가\n",
    "        \n",
    "name_pb"
   ]
  },
  {
   "cell_type": "code",
   "execution_count": null,
   "id": "5812aa92",
   "metadata": {},
   "outputs": [],
   "source": [
    "li = name_pb[(name_pb['의원명']=='강대식')&(name_pb['발의자'] == '대표')]['법률안명'].tolist() "
   ]
  },
  {
   "cell_type": "code",
   "execution_count": null,
   "id": "ebb17baa",
   "metadata": {},
   "outputs": [],
   "source": [
    "j = name_pb.index[(name_pb['의원명']=='강대식')&(name_pb['발의자'] == '대표')]"
   ]
  },
  {
   "cell_type": "code",
   "execution_count": null,
   "id": "dd306208",
   "metadata": {},
   "outputs": [],
   "source": [
    "j = j.tolist()"
   ]
  },
  {
   "cell_type": "code",
   "execution_count": null,
   "id": "5074e78f",
   "metadata": {},
   "outputs": [],
   "source": [
    "for i in list(PB[PB['대표발의자']=='강대식']['법률안명']):\n",
    "    li.append(i)\n",
    "    \n",
    "li"
   ]
  },
  {
   "cell_type": "code",
   "execution_count": null,
   "id": "963757ce",
   "metadata": {},
   "outputs": [],
   "source": [
    "name_pb.iloc[j[0],2] = str(li)"
   ]
  },
  {
   "cell_type": "code",
   "execution_count": null,
   "id": "7082d444",
   "metadata": {},
   "outputs": [],
   "source": [
    "name_pb.iloc[j[0],2]"
   ]
  },
  {
   "cell_type": "code",
   "execution_count": null,
   "id": "e9737c36",
   "metadata": {},
   "outputs": [],
   "source": [
    "name_pb.iloc[j[0],:]"
   ]
  },
  {
   "cell_type": "code",
   "execution_count": null,
   "id": "e9d54206",
   "metadata": {},
   "outputs": [],
   "source": []
  },
  {
   "cell_type": "code",
   "execution_count": null,
   "id": "e376250e",
   "metadata": {},
   "outputs": [],
   "source": []
  }
 ],
 "metadata": {
  "kernelspec": {
   "display_name": "Python 3 (ipykernel)",
   "language": "python",
   "name": "python3"
  },
  "language_info": {
   "codemirror_mode": {
    "name": "ipython",
    "version": 3
   },
   "file_extension": ".py",
   "mimetype": "text/x-python",
   "name": "python",
   "nbconvert_exporter": "python",
   "pygments_lexer": "ipython3",
   "version": "3.10.4"
  },
  "toc": {
   "base_numbering": 1,
   "nav_menu": {},
   "number_sections": true,
   "sideBar": true,
   "skip_h1_title": false,
   "title_cell": "Table of Contents",
   "title_sidebar": "Contents",
   "toc_cell": false,
   "toc_position": {
    "height": "calc(100% - 180px)",
    "left": "10px",
    "top": "150px",
    "width": "279.797px"
   },
   "toc_section_display": true,
   "toc_window_display": true
  }
 },
 "nbformat": 4,
 "nbformat_minor": 5
}
