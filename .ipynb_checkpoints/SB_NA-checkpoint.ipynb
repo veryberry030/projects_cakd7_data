{
 "cells": [
  {
   "cell_type": "code",
   "execution_count": 11,
   "id": "916e08d5",
   "metadata": {},
   "outputs": [],
   "source": [
    "import os\n",
    "import sys\n",
    "import urllib.request\n",
    "import json\n",
    "import pandas as pd\n",
    "from bs4 import BeautifulSoup"
   ]
  },
  {
   "cell_type": "markdown",
   "id": "63873fd5",
   "metadata": {},
   "source": [
    "# 네이버 API 활용방안"
   ]
  },
  {
   "cell_type": "markdown",
   "id": "bf2e347b",
   "metadata": {},
   "source": [
    "- https://developers.naver.com/docs/serviceapi/search/news/news.md#%EB%89%B4%EC%8A%A4"
   ]
  },
  {
   "cell_type": "code",
   "execution_count": 22,
   "id": "b33612df",
   "metadata": {},
   "outputs": [],
   "source": [
    "client_id = \"ISdXTGuV8Tdqx9fNxPgz\"\n",
    "client_secret = \"e2kcexi37t\"\n",
    "\n",
    "encText = urllib.parse.quote(\"윤석열\")\n",
    "display = 100 # 출력건수 (최대)\n",
    "sort = 'sim' # 유사도"
   ]
  },
  {
   "cell_type": "code",
   "execution_count": 23,
   "id": "eabeb413",
   "metadata": {},
   "outputs": [],
   "source": [
    "def getDFabout(cat):\n",
    "    url = f'https://openapi.naver.com/v1/search/{cat}?query={encText}&display={display}&sort={sort}'\n",
    "\n",
    "    request = urllib.request.Request(url)\n",
    "    request.add_header(\"X-Naver-Client-Id\",client_id)\n",
    "    request.add_header(\"X-Naver-Client-Secret\",client_secret)\n",
    "\n",
    "    response = urllib.request.urlopen(request)\n",
    "    rescode = response.getcode()\n",
    "\n",
    "    if(rescode==200):\n",
    "        response_body = response.read()\n",
    "        print('Success')\n",
    "    else:\n",
    "        print(\"Error Code:\" + rescode)\n",
    "    data = response_body.decode('utf-8')\n",
    "    data=json.loads(data)\n",
    "    data1 = pd.DataFrame(data['items'])\n",
    "    return data1"
   ]
  },
  {
   "cell_type": "code",
   "execution_count": 24,
   "id": "831dc706",
   "metadata": {},
   "outputs": [
    {
     "name": "stdout",
     "output_type": "stream",
     "text": [
      "Success\n"
     ]
    }
   ],
   "source": [
    "df = getDFabout('news')"
   ]
  },
  {
   "cell_type": "code",
   "execution_count": 25,
   "id": "e0dff175",
   "metadata": {},
   "outputs": [],
   "source": [
    "pd.options.display.max_colwidth = 20"
   ]
  },
  {
   "cell_type": "code",
   "execution_count": 26,
   "id": "d0de73fa",
   "metadata": {},
   "outputs": [
    {
     "name": "stdout",
     "output_type": "stream",
     "text": [
      "<class 'pandas.core.frame.DataFrame'>\n",
      "RangeIndex: 100 entries, 0 to 99\n",
      "Data columns (total 5 columns):\n",
      " #   Column        Non-Null Count  Dtype \n",
      "---  ------        --------------  ----- \n",
      " 0   title         100 non-null    object\n",
      " 1   originallink  100 non-null    object\n",
      " 2   link          100 non-null    object\n",
      " 3   description   100 non-null    object\n",
      " 4   pubDate       100 non-null    object\n",
      "dtypes: object(5)\n",
      "memory usage: 4.0+ KB\n"
     ]
    }
   ],
   "source": [
    "df.info()"
   ]
  },
  {
   "cell_type": "code",
   "execution_count": 27,
   "id": "94a53ff2",
   "metadata": {},
   "outputs": [
    {
     "data": {
      "text/html": [
       "<div>\n",
       "<style scoped>\n",
       "    .dataframe tbody tr th:only-of-type {\n",
       "        vertical-align: middle;\n",
       "    }\n",
       "\n",
       "    .dataframe tbody tr th {\n",
       "        vertical-align: top;\n",
       "    }\n",
       "\n",
       "    .dataframe thead th {\n",
       "        text-align: right;\n",
       "    }\n",
       "</style>\n",
       "<table border=\"1\" class=\"dataframe\">\n",
       "  <thead>\n",
       "    <tr style=\"text-align: right;\">\n",
       "      <th></th>\n",
       "      <th>title</th>\n",
       "      <th>originallink</th>\n",
       "      <th>link</th>\n",
       "      <th>description</th>\n",
       "      <th>pubDate</th>\n",
       "    </tr>\n",
       "  </thead>\n",
       "  <tbody>\n",
       "    <tr>\n",
       "      <th>0</th>\n",
       "      <td>주한 에티오피아 대사로부터 신...</td>\n",
       "      <td>http://www.newsi...</td>\n",
       "      <td>https://n.news.n...</td>\n",
       "      <td>&lt;b&gt;윤석열&lt;/b&gt; 대통령이 ...</td>\n",
       "      <td>Fri, 29 Jul 2022...</td>\n",
       "    </tr>\n",
       "    <tr>\n",
       "      <th>1</th>\n",
       "      <td>[속보] &lt;b&gt;윤석열&lt;/b&gt; ...</td>\n",
       "      <td>https://www.hank...</td>\n",
       "      <td>https://n.news.n...</td>\n",
       "      <td>&lt;b&gt;윤석열&lt;/b&gt; 정부의 첫...</td>\n",
       "      <td>Thu, 28 Jul 2022...</td>\n",
       "    </tr>\n",
       "    <tr>\n",
       "      <th>2</th>\n",
       "      <td>&lt;b&gt;윤석열&lt;/b&gt; 정부, &amp;...</td>\n",
       "      <td>https://hankooki...</td>\n",
       "      <td>https://n.news.n...</td>\n",
       "      <td>&lt;b&gt;윤석열&lt;/b&gt; 정부의 국...</td>\n",
       "      <td>Fri, 29 Jul 2022...</td>\n",
       "    </tr>\n",
       "    <tr>\n",
       "      <th>3</th>\n",
       "      <td>경란(警亂) 고비 넘긴 &lt;b&gt;...</td>\n",
       "      <td>http://www.sisaj...</td>\n",
       "      <td>https://n.news.n...</td>\n",
       "      <td>&lt;b&gt;윤석열&lt;/b&gt; 정부의 승...</td>\n",
       "      <td>Fri, 29 Jul 2022...</td>\n",
       "    </tr>\n",
       "    <tr>\n",
       "      <th>4</th>\n",
       "      <td>김정은 “위험한 시도 시 &lt;b...</td>\n",
       "      <td>https://news.kbs...</td>\n",
       "      <td>https://n.news.n...</td>\n",
       "      <td>북한 김정은 위원장이 &amp;apo...</td>\n",
       "      <td>Thu, 28 Jul 2022...</td>\n",
       "    </tr>\n",
       "    <tr>\n",
       "      <th>...</th>\n",
       "      <td>...</td>\n",
       "      <td>...</td>\n",
       "      <td>...</td>\n",
       "      <td>...</td>\n",
       "      <td>...</td>\n",
       "    </tr>\n",
       "    <tr>\n",
       "      <th>95</th>\n",
       "      <td>대화하는 &lt;b&gt;윤석열&lt;/b&gt; ...</td>\n",
       "      <td>http://www.newsi...</td>\n",
       "      <td>https://n.news.n...</td>\n",
       "      <td>&lt;b&gt;윤석열&lt;/b&gt; 대통령과 ...</td>\n",
       "      <td>Thu, 28 Jul 2022...</td>\n",
       "    </tr>\n",
       "    <tr>\n",
       "      <th>96</th>\n",
       "      <td>발언하는 &lt;b&gt;윤석열&lt;/b&gt; 대통령</td>\n",
       "      <td>http://www.newsi...</td>\n",
       "      <td>https://n.news.n...</td>\n",
       "      <td>&lt;b&gt;윤석열&lt;/b&gt; 대통령이 ...</td>\n",
       "      <td>Fri, 29 Jul 2022...</td>\n",
       "    </tr>\n",
       "    <tr>\n",
       "      <th>97</th>\n",
       "      <td>&amp;quot;무슨 놈의 집권당이...</td>\n",
       "      <td>http://www.edail...</td>\n",
       "      <td>https://n.news.n...</td>\n",
       "      <td>김종인 전 국민의힘 비상대책위...</td>\n",
       "      <td>Thu, 28 Jul 2022...</td>\n",
       "    </tr>\n",
       "    <tr>\n",
       "      <th>98</th>\n",
       "      <td>지구대 근무자들 만난 &lt;b&gt;윤...</td>\n",
       "      <td>http://www.newsi...</td>\n",
       "      <td>https://n.news.n...</td>\n",
       "      <td>&lt;b&gt;윤석열&lt;/b&gt; 대통령이 ...</td>\n",
       "      <td>Fri, 29 Jul 2022...</td>\n",
       "    </tr>\n",
       "    <tr>\n",
       "      <th>99</th>\n",
       "      <td>&lt;b&gt;윤석열&lt;/b&gt; 대통령 국...</td>\n",
       "      <td>http://www.women...</td>\n",
       "      <td>https://n.news.n...</td>\n",
       "      <td>하락세를 지속하던 &lt;b&gt;윤석열...</td>\n",
       "      <td>Thu, 28 Jul 2022...</td>\n",
       "    </tr>\n",
       "  </tbody>\n",
       "</table>\n",
       "<p>100 rows × 5 columns</p>\n",
       "</div>"
      ],
      "text/plain": [
       "                  title         originallink                 link  \\\n",
       "0   주한 에티오피아 대사로부터 신...  http://www.newsi...  https://n.news.n...   \n",
       "1   [속보] <b>윤석열</b> ...  https://www.hank...  https://n.news.n...   \n",
       "2   <b>윤석열</b> 정부, &...  https://hankooki...  https://n.news.n...   \n",
       "3   경란(警亂) 고비 넘긴 <b>...  http://www.sisaj...  https://n.news.n...   \n",
       "4   김정은 “위험한 시도 시 <b...  https://news.kbs...  https://n.news.n...   \n",
       "..                  ...                  ...                  ...   \n",
       "95  대화하는 <b>윤석열</b> ...  http://www.newsi...  https://n.news.n...   \n",
       "96  발언하는 <b>윤석열</b> 대통령  http://www.newsi...  https://n.news.n...   \n",
       "97  &quot;무슨 놈의 집권당이...  http://www.edail...  https://n.news.n...   \n",
       "98  지구대 근무자들 만난 <b>윤...  http://www.newsi...  https://n.news.n...   \n",
       "99  <b>윤석열</b> 대통령 국...  http://www.women...  https://n.news.n...   \n",
       "\n",
       "            description              pubDate  \n",
       "0   <b>윤석열</b> 대통령이 ...  Fri, 29 Jul 2022...  \n",
       "1   <b>윤석열</b> 정부의 첫...  Thu, 28 Jul 2022...  \n",
       "2   <b>윤석열</b> 정부의 국...  Fri, 29 Jul 2022...  \n",
       "3   <b>윤석열</b> 정부의 승...  Fri, 29 Jul 2022...  \n",
       "4   북한 김정은 위원장이 &apo...  Thu, 28 Jul 2022...  \n",
       "..                  ...                  ...  \n",
       "95  <b>윤석열</b> 대통령과 ...  Thu, 28 Jul 2022...  \n",
       "96  <b>윤석열</b> 대통령이 ...  Fri, 29 Jul 2022...  \n",
       "97  김종인 전 국민의힘 비상대책위...  Thu, 28 Jul 2022...  \n",
       "98  <b>윤석열</b> 대통령이 ...  Fri, 29 Jul 2022...  \n",
       "99  하락세를 지속하던 <b>윤석열...  Thu, 28 Jul 2022...  \n",
       "\n",
       "[100 rows x 5 columns]"
      ]
     },
     "execution_count": 27,
     "metadata": {},
     "output_type": "execute_result"
    }
   ],
   "source": [
    "df"
   ]
  },
  {
   "cell_type": "markdown",
   "id": "7935bcc3",
   "metadata": {},
   "source": [
    "## description이 무슨 정보를 포함하는지 확인"
   ]
  },
  {
   "cell_type": "code",
   "execution_count": null,
   "id": "50b68c0e",
   "metadata": {},
   "outputs": [],
   "source": []
  },
  {
   "cell_type": "markdown",
   "id": "13478411",
   "metadata": {},
   "source": [
    "# 국회의원이름 리스트 MPnames"
   ]
  },
  {
   "cell_type": "code",
   "execution_count": null,
   "id": "6d61cca5",
   "metadata": {},
   "outputs": [],
   "source": []
  },
  {
   "cell_type": "markdown",
   "id": "6118fc04",
   "metadata": {},
   "source": [
    "# get_NA_about()\n",
    "- getNewsAbout(MPname): \n",
    "- return DataFrame ()"
   ]
  },
  {
   "cell_type": "code",
   "execution_count": null,
   "id": "aea1b42d",
   "metadata": {},
   "outputs": [],
   "source": []
  }
 ],
 "metadata": {
  "kernelspec": {
   "display_name": "Python 3 (ipykernel)",
   "language": "python",
   "name": "python3"
  },
  "language_info": {
   "codemirror_mode": {
    "name": "ipython",
    "version": 3
   },
   "file_extension": ".py",
   "mimetype": "text/x-python",
   "name": "python",
   "nbconvert_exporter": "python",
   "pygments_lexer": "ipython3",
   "version": "3.8.13"
  },
  "toc": {
   "base_numbering": 1,
   "nav_menu": {},
   "number_sections": true,
   "sideBar": true,
   "skip_h1_title": false,
   "title_cell": "Table of Contents",
   "title_sidebar": "Contents",
   "toc_cell": false,
   "toc_position": {},
   "toc_section_display": true,
   "toc_window_display": false
  }
 },
 "nbformat": 4,
 "nbformat_minor": 5
}
