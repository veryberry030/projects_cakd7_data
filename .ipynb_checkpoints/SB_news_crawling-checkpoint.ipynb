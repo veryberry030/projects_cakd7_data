{
 "cells": [
  {
   "cell_type": "code",
   "execution_count": 3,
   "id": "694561f8",
   "metadata": {},
   "outputs": [],
   "source": [
    "import warnings\n",
    "warnings.filterwarnings('ignore')"
   ]
  },
  {
   "cell_type": "markdown",
   "id": "bbe7a04a",
   "metadata": {},
   "source": [
    "## import - 문제 발생 여지"
   ]
  },
  {
   "cell_type": "code",
   "execution_count": 4,
   "id": "ca7c6ce7",
   "metadata": {},
   "outputs": [],
   "source": [
    "from bs4 import BeautifulSoup\n",
    "import re\n",
    "import pandas as pd\n",
    "import requests\n",
    "from datetime import datetime\n",
    "import urllib\n",
    "import requests as rq\n",
    "import urllib.request as ulq"
   ]
  },
  {
   "cell_type": "markdown",
   "id": "4ad4300f",
   "metadata": {},
   "source": [
    "## 과제0727_2\n",
    "- 네이버 뉴스 검색 사이트에서 검색 키워드와 총 필요한 뉴스기사 수를 입력하면 요청한 만큼 데이터 프레임 형태(컬럼은 title, url)로 출력해주는 크롤링 프로그램을 수행하세요.\n",
    "-https://search.naver.com/search.naver?where=news&sm=tab_jum&query="
   ]
  },
  {
   "cell_type": "markdown",
   "id": "830d3912",
   "metadata": {},
   "source": [
    "- 기사는 각 페이지에 10개\n",
    "- 네이버는 뉴스 검색결과를 4000건 까지 제공"
   ]
  },
  {
   "cell_type": "markdown",
   "id": "c60fe705",
   "metadata": {},
   "source": [
    "- query= (검색어, 한글도 그냥 가능)\n",
    "- start=(1, 11, 21,... 로 page 결정 가능)\n",
    "- (cluster_rank=이건 바꿔도 아무일도 일어나지 않는다.)"
   ]
  },
  {
   "cell_type": "markdown",
   "id": "d736ef09",
   "metadata": {},
   "source": [
    "- 검색 결과가 없을때: \n",
    "```\n",
    "<div class=\"not_found02\">\n",
    "...\n",
    "</div>\n",
    "```"
   ]
  },
  {
   "cell_type": "markdown",
   "id": "35c06739",
   "metadata": {},
   "source": [
    "- 기사 제목과 링크 :\n",
    "```\n",
    "<a class=\"news_tit\" \n",
    "href=\"https://www.joongang.co.kr/article/25089380\" \n",
    "onclick=\"return goOtherCR(this, 'a=nws*a.tit&amp;r=1&amp;i=880000F2_000000000000000003211962&amp;g=025.0003211962&amp;u='+urlencode(this.href));\" target=\"_blank\" \n",
    "title=\"[소년중앙] 친구를 위해서라면 우주 모험도 할 수 있어 ‘극장판 도라에몽: 진구의 우주소전쟁’\">\n",
    "[소년중앙] 친구를 위해서라면 우주 모험도 할 수 있어 ‘극장판\n",
    "<mark>\n",
    "도라에몽\n",
    "</mark>\n",
    ": 진...\n",
    "</a>\n",
    "```"
   ]
  },
  {
   "cell_type": "code",
   "execution_count": 13,
   "id": "55a1f871",
   "metadata": {},
   "outputs": [],
   "source": [
    "def getLinksFrom(url, fw):\n",
    "        df = pd.DataFrame(columns=['title', 'url'])\n",
    "        idx = 0\n",
    "        \n",
    "        response = requests.get(url)\n",
    "        fw.write(f'********** status_code : {response.status_code}\\n')\n",
    "            \n",
    "        if response.status_code != 200:\n",
    "            return None\n",
    "        \n",
    "        html = response.text\n",
    "        bs = BeautifulSoup(html, 'html.parser')\n",
    "        \n",
    "        # 검색결과가 하나도 없는 경우\n",
    "        notFound = bs.find_all('div', {'class' : \"not_found02\"})\n",
    "        if notFound:\n",
    "            fw.write(f'********** keyword not found\\n')\n",
    "            return None, None\n",
    "        \n",
    "        tagA = bs.find_all('a', {'class': \"news_tit\"})\n",
    "        fw.write(f'********** len(tagA) : {len(tagA)}\\n')\n",
    "        if not tagA:\n",
    "            return None, None\n",
    "  \n",
    "        for a in tagA:\n",
    "            title = a.get(\"title\")\n",
    "            href = a.get(\"href\")\n",
    "            fw.write(f'********** title : {title}\\n')\n",
    "#             try:\n",
    "#                 fw.write(f'********** title : {title}\\n')\n",
    "#             except UnicodeEncodeError:\n",
    "#                 fw.write(f'********** title : UnicodeEncodeError\\n')\n",
    "            fw.write(f'********** href : {href}\\n')\n",
    "            df.loc[idx] = [title, href]\n",
    "            idx += 1\n",
    "        return idx,  df"
   ]
  },
  {
   "cell_type": "code",
   "execution_count": 15,
   "id": "133e9083",
   "metadata": {},
   "outputs": [
    {
     "name": "stdout",
     "output_type": "stream",
     "text": [
      "검색할 단어>강기윤\n",
      "필요한 링크 갯수>500\n"
     ]
    }
   ],
   "source": [
    "keyword = input(\"검색할 단어>\")\n",
    "\n",
    "while True:\n",
    "    nNews = input(\"필요한 링크 갯수>\")\n",
    "    \n",
    "    try:\n",
    "        nNews = int(nNews)\n",
    "    except ValueError:\n",
    "        print(\"숫자로 입력\")\n",
    "        continue\n",
    "        \n",
    "    if (nNews >= 1) and (nNews <= 4000):\n",
    "        break\n",
    "    else:\n",
    "        print(\"1~4000 입력\")"
   ]
  },
  {
   "cell_type": "code",
   "execution_count": 16,
   "id": "43568ff4",
   "metadata": {},
   "outputs": [],
   "source": [
    "# 퍼센트 인코딩\n",
    "# 안해도 되네.?"
   ]
  },
  {
   "cell_type": "code",
   "execution_count": 17,
   "id": "cbc5baa5",
   "metadata": {
    "scrolled": true
   },
   "outputs": [
    {
     "name": "stdout",
     "output_type": "stream",
     "text": [
      "490 480 470 460 450 440 430 420 410 400 390 380 370 360 350 340 330 320 310 300 290 280 270 260 250 240 230 220 210 200 190 180 170 160 150 140 130 120 110 100 90 80 70 60 50 40 30 20 10 0 \n",
      "\n",
      "<class 'pandas.core.frame.DataFrame'>\n",
      "RangeIndex: 500 entries, 0 to 499\n",
      "Data columns (total 2 columns):\n",
      " #   Column  Non-Null Count  Dtype \n",
      "---  ------  --------------  ----- \n",
      " 0   title   500 non-null    object\n",
      " 1   url     500 non-null    object\n",
      "dtypes: object(2)\n",
      "memory usage: 7.9+ KB\n",
      "<class 'pandas.core.frame.DataFrame'>\n",
      "Int64Index: 362 entries, 0 to 499\n",
      "Data columns (total 2 columns):\n",
      " #   Column  Non-Null Count  Dtype \n",
      "---  ------  --------------  ----- \n",
      " 0   title   362 non-null    object\n",
      " 1   url     362 non-null    object\n",
      "dtypes: object(2)\n",
      "memory usage: 8.5+ KB\n"
     ]
    }
   ],
   "source": [
    "dt = datetime.now()\n",
    "dt = dt.strftime('_%m%d_%H%M')\n",
    "df_sum = pd.DataFrame(columns=['title', 'url'])\n",
    "p=0\n",
    "nLeft = nNews - df_sum.shape[0]\n",
    "\n",
    "with open(f'./logs/log_for_news_url{dt}.txt', 'w', encoding='utf-8') as fw:\n",
    "    while nLeft > 0:\n",
    "        fw.write(f'***** for page : {p + 1}\\n')\n",
    "        start = p*10+1\n",
    "        url = f'https://search.naver.com/search.naver?where=news&sm=tab_jum&query={keyword}&start={start}'\n",
    "        fw.write(f'***** url : {url}\\n')\n",
    "        \n",
    "        # getLinksFrom(url, fw) : 페이지 url을 넣으면 기사 DataFrame을 반환 [title,url], 행이 10개 실패시 None을 반환\n",
    "        rows, df = getLinksFrom(url, fw)\n",
    "        fw.write(f'***** row : {rows}\\n')\n",
    "        \n",
    "        # 기사링크 못 받아오면\n",
    "        if not rows: \n",
    "            fw.write(f'***** fail to get titles and links from : {url}\\n')\n",
    "            fw.write(f'***** get only {df_sum.shape[0]} rows.\\n')\n",
    "            break\n",
    "        elif rows == 1: # 기사 링크를 1개만 받아오면\n",
    "            df_sum = pd.concat([df_sum, df])\n",
    "            fw.write(f'***** get only {df_sum.shape[0]} rows.\\n')\n",
    "            break\n",
    "        else: # 기사 링크를 2개 이상 받아오면\n",
    "            df_sum = pd.concat([df_sum, df])\n",
    "            p += 1\n",
    "            nLeft = nNews - df_sum.shape[0]\n",
    "            print(nLeft, end= \" \")\n",
    "print('\\n')\n",
    "df_sum.reset_index(drop=True, inplace=True)          \n",
    "if nLeft < 0:\n",
    "    df_sum.drop(list(range(nNews, nNews-nLeft)), inplace=True)\n",
    "df_sum.info()\n",
    "df_sum.drop_duplicates(inplace=True)\n",
    "df_sum.info()"
   ]
  },
  {
   "cell_type": "code",
   "execution_count": 20,
   "id": "c45bc5bf",
   "metadata": {},
   "outputs": [],
   "source": [
    "df_sum.to_excel('gyGang_test.xlsx')"
   ]
  },
  {
   "cell_type": "code",
   "execution_count": 27,
   "id": "fc0e114c",
   "metadata": {},
   "outputs": [
    {
     "name": "stdout",
     "output_type": "stream",
     "text": [
      "                                            title  \\\n",
      "301             창원시, 지역 국회의원 초청해 연석회의…국비 확보 협조 요청   \n",
      "302              원자력병원, 내과계 간호ㆍ간병통합서비스 병동 추가 개소 外   \n",
      "303                    대구·경북의사회, 국민의힘과 의료정책간담회 개최   \n",
      "304             국민의힘 선대위 “공정과 상식 따라 한의약 균형 발전” 약속   \n",
      "305                              한약사 등 1000명 윤 지지   \n",
      "..                                            ...   \n",
      "495        국힘, 민주당에 상임위 배분 양보 촉구…사개특위 구성은 협상 '불가'   \n",
      "496                    경남지도자회의, 6·1 지선 당선인 축하연 개최   \n",
      "497                \"약자판기 철회하라\" 경남 2300 약사 들고 일어섰다   \n",
      "498  [종합] 당정대, 尹정부 경제정책 '규제 혁파' 한목소리...법인세·유류세 인하   \n",
      "499                  여야 원 구성 지연에 국회 공백… 법사위원장 쟁탈전   \n",
      "\n",
      "                                                   url  \n",
      "301  https://www.yna.co.kr/view/AKR2022071412800005...  \n",
      "302  http://www.newsmp.com/news/articleView.html?id...  \n",
      "303  http://www.bokuennews.com/news/article.html?no...  \n",
      "304  https://www.akomnews.com/bbs/board.php?bo_tabl...  \n",
      "305  http://www.gnmaeil.com/news/articleView.html?i...  \n",
      "..                                                 ...  \n",
      "495  https://www.sisa-news.com/news/article.html?no...  \n",
      "496  http://www.busan.com/view/busan/view.php?code=...  \n",
      "497  https://www.kpanews.co.kr/article/show.asp?idx...  \n",
      "498    http://www.newspim.com/news/view/20220615000418  \n",
      "499  https://www.womaneconomy.co.kr/news/articleVie...  \n",
      "\n",
      "[155 rows x 2 columns]\n"
     ]
    }
   ],
   "source": [
    "print(df_sum.loc[300:])"
   ]
  },
  {
   "cell_type": "code",
   "execution_count": null,
   "id": "7aebf589",
   "metadata": {},
   "outputs": [],
   "source": []
  }
 ],
 "metadata": {
  "kernelspec": {
   "display_name": "Python 3 (ipykernel)",
   "language": "python",
   "name": "python3"
  },
  "language_info": {
   "codemirror_mode": {
    "name": "ipython",
    "version": 3
   },
   "file_extension": ".py",
   "mimetype": "text/x-python",
   "name": "python",
   "nbconvert_exporter": "python",
   "pygments_lexer": "ipython3",
   "version": "3.8.13"
  },
  "toc": {
   "base_numbering": 1,
   "nav_menu": {},
   "number_sections": true,
   "sideBar": true,
   "skip_h1_title": false,
   "title_cell": "Table of Contents",
   "title_sidebar": "Contents",
   "toc_cell": false,
   "toc_position": {
    "height": "calc(100% - 180px)",
    "left": "10px",
    "top": "150px",
    "width": "289.844px"
   },
   "toc_section_display": true,
   "toc_window_display": false
  }
 },
 "nbformat": 4,
 "nbformat_minor": 5
}
