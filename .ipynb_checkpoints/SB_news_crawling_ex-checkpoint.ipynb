{
 "cells": [
  {
   "cell_type": "code",
   "execution_count": 3,
   "id": "694561f8",
   "metadata": {},
   "outputs": [],
   "source": [
    "import warnings\n",
    "warnings.filterwarnings('ignore')"
   ]
  },
  {
   "cell_type": "markdown",
   "id": "bbe7a04a",
   "metadata": {},
   "source": [
    "## import - 문제 발생 여지"
   ]
  },
  {
   "cell_type": "code",
   "execution_count": 4,
   "id": "ca7c6ce7",
   "metadata": {},
   "outputs": [],
   "source": [
    "from bs4 import BeautifulSoup\n",
    "import re\n",
    "import pandas as pd\n",
    "import requests\n",
    "from datetime import datetime\n",
    "import urllib\n",
    "import requests as rq\n",
    "import urllib.request as ulq"
   ]
  },
  {
   "cell_type": "markdown",
   "id": "4ad4300f",
   "metadata": {},
   "source": [
    "## 과제0727_2\n",
    "- 네이버 뉴스 검색 사이트에서 검색 키워드와 총 필요한 뉴스기사 수를 입력하면 요청한 만큼 데이터 프레임 형태(컬럼은 title, url)로 출력해주는 크롤링 프로그램을 수행하세요.\n",
    "-https://search.naver.com/search.naver?where=news&sm=tab_jum&query="
   ]
  },
  {
   "cell_type": "markdown",
   "id": "830d3912",
   "metadata": {},
   "source": [
    "- 기사는 각 페이지에 10개\n",
    "- 네이버는 뉴스 검색결과를 4000건 까지 제공"
   ]
  },
  {
   "cell_type": "markdown",
   "id": "c60fe705",
   "metadata": {},
   "source": [
    "- query= (검색어, 한글도 그냥 가능)\n",
    "- start=(1, 11, 21,... 로 page 결정 가능)\n",
    "- (cluster_rank=이건 바꿔도 아무일도 일어나지 않는다.)"
   ]
  },
  {
   "cell_type": "markdown",
   "id": "d736ef09",
   "metadata": {},
   "source": [
    "- 검색 결과가 없을때: \n",
    "```\n",
    "<div class=\"not_found02\">\n",
    "...\n",
    "</div>\n",
    "```"
   ]
  },
  {
   "cell_type": "markdown",
   "id": "35c06739",
   "metadata": {},
   "source": [
    "- 기사 제목과 링크 :\n",
    "```\n",
    "<a class=\"news_tit\" \n",
    "href=\"https://www.joongang.co.kr/article/25089380\" \n",
    "onclick=\"return goOtherCR(this, 'a=nws*a.tit&amp;r=1&amp;i=880000F2_000000000000000003211962&amp;g=025.0003211962&amp;u='+urlencode(this.href));\" target=\"_blank\" \n",
    "title=\"[소년중앙] 친구를 위해서라면 우주 모험도 할 수 있어 ‘극장판 도라에몽: 진구의 우주소전쟁’\">\n",
    "[소년중앙] 친구를 위해서라면 우주 모험도 할 수 있어 ‘극장판\n",
    "<mark>\n",
    "도라에몽\n",
    "</mark>\n",
    ": 진...\n",
    "</a>\n",
    "```"
   ]
  },
  {
   "cell_type": "code",
   "execution_count": 13,
   "id": "55a1f871",
   "metadata": {},
   "outputs": [],
   "source": [
    "def getLinksFrom(url, fw):\n",
    "        df = pd.DataFrame(columns=['title', 'url'])\n",
    "        idx = 0\n",
    "        \n",
    "        response = requests.get(url)\n",
    "        fw.write(f'********** status_code : {response.status_code}\\n')\n",
    "            \n",
    "        if response.status_code != 200:\n",
    "            return None\n",
    "        \n",
    "        html = response.text\n",
    "        bs = BeautifulSoup(html, 'html.parser')\n",
    "        \n",
    "        # 검색결과가 하나도 없는 경우\n",
    "        notFound = bs.find_all('div', {'class' : \"not_found02\"})\n",
    "        if notFound:\n",
    "            fw.write(f'********** keyword not found\\n')\n",
    "            return None, None\n",
    "        \n",
    "        tagA = bs.find_all('a', {'class': \"news_tit\"})\n",
    "        fw.write(f'********** len(tagA) : {len(tagA)}\\n')\n",
    "        if not tagA:\n",
    "            return None, None\n",
    "  \n",
    "        for a in tagA:\n",
    "            title = a.get(\"title\")\n",
    "            href = a.get(\"href\")\n",
    "            fw.write(f'********** title : {title}\\n')\n",
    "#             try:\n",
    "#                 fw.write(f'********** title : {title}\\n')\n",
    "#             except UnicodeEncodeError:\n",
    "#                 fw.write(f'********** title : UnicodeEncodeError\\n')\n",
    "            fw.write(f'********** href : {href}\\n')\n",
    "            df.loc[idx] = [title, href]\n",
    "            idx += 1\n",
    "        return idx,  df"
   ]
  },
  {
   "cell_type": "code",
   "execution_count": 15,
   "id": "133e9083",
   "metadata": {},
   "outputs": [
    {
     "name": "stdout",
     "output_type": "stream",
     "text": [
      "검색할 단어>강기윤\n",
      "필요한 링크 갯수>500\n"
     ]
    }
   ],
   "source": [
    "keyword = input(\"검색할 단어>\")\n",
    "\n",
    "while True:\n",
    "    nNews = input(\"필요한 링크 갯수>\")\n",
    "    \n",
    "    try:\n",
    "        nNews = int(nNews)\n",
    "    except ValueError:\n",
    "        print(\"숫자로 입력\")\n",
    "        continue\n",
    "        \n",
    "    if (nNews >= 1) and (nNews <= 4000):\n",
    "        break\n",
    "    else:\n",
    "        print(\"1~4000 입력\")"
   ]
  },
  {
   "cell_type": "code",
   "execution_count": 16,
   "id": "43568ff4",
   "metadata": {},
   "outputs": [],
   "source": [
    "# 퍼센트 인코딩\n",
    "# 안해도 되네.?"
   ]
  },
  {
   "cell_type": "code",
   "execution_count": 17,
   "id": "cbc5baa5",
   "metadata": {
    "scrolled": true
   },
   "outputs": [
    {
     "name": "stdout",
     "output_type": "stream",
     "text": [
      "490 480 470 460 450 440 430 420 410 400 390 380 370 360 350 340 330 320 310 300 290 280 270 260 250 240 230 220 210 200 190 180 170 160 150 140 130 120 110 100 90 80 70 60 50 40 30 20 10 0 \n",
      "\n",
      "<class 'pandas.core.frame.DataFrame'>\n",
      "RangeIndex: 500 entries, 0 to 499\n",
      "Data columns (total 2 columns):\n",
      " #   Column  Non-Null Count  Dtype \n",
      "---  ------  --------------  ----- \n",
      " 0   title   500 non-null    object\n",
      " 1   url     500 non-null    object\n",
      "dtypes: object(2)\n",
      "memory usage: 7.9+ KB\n",
      "<class 'pandas.core.frame.DataFrame'>\n",
      "Int64Index: 362 entries, 0 to 499\n",
      "Data columns (total 2 columns):\n",
      " #   Column  Non-Null Count  Dtype \n",
      "---  ------  --------------  ----- \n",
      " 0   title   362 non-null    object\n",
      " 1   url     362 non-null    object\n",
      "dtypes: object(2)\n",
      "memory usage: 8.5+ KB\n"
     ]
    }
   ],
   "source": [
    "dt = datetime.now()\n",
    "dt = dt.strftime('_%m%d_%H%M')\n",
    "df_sum = pd.DataFrame(columns=['title', 'url'])\n",
    "p=0\n",
    "nLeft = nNews - df_sum.shape[0]\n",
    "\n",
    "with open(f'./logs/log_for_news_url{dt}.txt', 'w', encoding='utf-8') as fw:\n",
    "    while nLeft > 0:\n",
    "        fw.write(f'***** for page : {p + 1}\\n')\n",
    "        start = p*10+1\n",
    "        url = f'https://search.naver.com/search.naver?where=news&sm=tab_jum&query={keyword}&start={start}'\n",
    "        fw.write(f'***** url : {url}\\n')\n",
    "        \n",
    "        # getLinksFrom(url, fw) : 페이지 url을 넣으면 기사 DataFrame을 반환 [title,url], 행이 10개 실패시 None을 반환\n",
    "        rows, df = getLinksFrom(url, fw)\n",
    "        fw.write(f'***** row : {rows}\\n')\n",
    "        \n",
    "        # 기사링크 못 받아오면\n",
    "        if not rows: \n",
    "            fw.write(f'***** fail to get titles and links from : {url}\\n')\n",
    "            fw.write(f'***** get only {df_sum.shape[0]} rows.\\n')\n",
    "            break\n",
    "        elif rows == 1: # 기사 링크를 1개만 받아오면\n",
    "            df_sum = pd.concat([df_sum, df])\n",
    "            fw.write(f'***** get only {df_sum.shape[0]} rows.\\n')\n",
    "            break\n",
    "        else: # 기사 링크를 2개 이상 받아오면\n",
    "            df_sum = pd.concat([df_sum, df])\n",
    "            p += 1\n",
    "            nLeft = nNews - df_sum.shape[0]\n",
    "            print(nLeft, end= \" \")\n",
    "print('\\n')\n",
    "df_sum.reset_index(drop=True, inplace=True)          \n",
    "if nLeft < 0:\n",
    "    df_sum.drop(list(range(nNews, nNews-nLeft)), inplace=True)\n",
    "df_sum.info()\n",
    "df_sum.drop_duplicates(inplace=True)\n",
    "df_sum.info()"
   ]
  },
  {
   "cell_type": "code",
   "execution_count": 20,
   "id": "c45bc5bf",
   "metadata": {},
   "outputs": [],
   "source": [
    "df_sum.to_excel('gyGang_test.xlsx')"
   ]
  },
  {
   "cell_type": "code",
   "execution_count": 28,
   "id": "13d82147",
   "metadata": {},
   "outputs": [
    {
     "name": "stdout",
     "output_type": "stream",
     "text": [
      "                                                title  \\\n",
      "0                      강기윤 \"확진자 접촉 무증상자도 신속항원 검사 무료화\"   \n",
      "1                           보건복지위원장 정춘숙…간사 강기윤‧강훈식 의원   \n",
      "2   \"팬데믹 시대 과학 방역의 핵심, 관료 아닌 전문가에 맡길 것\" [안철수 민·당·정...   \n",
      "3                   강기윤 '코로나 재유행대비 의료체계 점검 긴급 간담회' 연다   \n",
      "4                  강기윤\"코로나 재유행대비 의료체계 점검 위한 긴급 간담회\"개최   \n",
      "..                                                ...   \n",
      "95                            강기윤 의원, “마산 바닷길 다시 열겠다”   \n",
      "96                정호영 후보자 아들 MRI 관련 언쟁 벌이는 김성주-강기윤 간사   \n",
      "97                                    논의하는 김성주-강기윤 의원   \n",
      "98                        강기윤, '과다 보상금' 1억여 원 창원시에 환급   \n",
      "99                       강기윤 의원, ‘허위 보상’ 1억 원 창원시에 반납   \n",
      "\n",
      "                                                  url  \n",
      "0   http://www.edaily.co.kr/news/newspath.asp?news...  \n",
      "1   https://www.dailymedi.com/news/news_view.php?w...  \n",
      "2   http://www.sisaon.co.kr/news/articleView.html?...  \n",
      "3   http://daily.hankooki.com/news/articleView.htm...  \n",
      "4   https://www.gukjenews.com/news/articleView.htm...  \n",
      "..                                                ...  \n",
      "95                    http://www.breaknews.com/886452  \n",
      "96    http://www.newspim.com/news/view/20220503000822  \n",
      "97  http://www.newsis.com/view/?id=NISI20220503_00...  \n",
      "98           https://www.nocutnews.co.kr/news/5735230  \n",
      "99  https://news.kbs.co.kr/news/view.do?ncd=543180...  \n",
      "\n",
      "[98 rows x 2 columns]\n"
     ]
    }
   ],
   "source": [
    "print(df_sum.loc[:100])"
   ]
  },
  {
   "cell_type": "code",
   "execution_count": null,
   "id": "13b10208",
   "metadata": {},
   "outputs": [],
   "source": []
  }
 ],
 "metadata": {
  "kernelspec": {
   "display_name": "Python 3 (ipykernel)",
   "language": "python",
   "name": "python3"
  },
  "language_info": {
   "codemirror_mode": {
    "name": "ipython",
    "version": 3
   },
   "file_extension": ".py",
   "mimetype": "text/x-python",
   "name": "python",
   "nbconvert_exporter": "python",
   "pygments_lexer": "ipython3",
   "version": "3.8.13"
  },
  "toc": {
   "base_numbering": 1,
   "nav_menu": {},
   "number_sections": true,
   "sideBar": true,
   "skip_h1_title": false,
   "title_cell": "Table of Contents",
   "title_sidebar": "Contents",
   "toc_cell": false,
   "toc_position": {
    "height": "calc(100% - 180px)",
    "left": "10px",
    "top": "150px",
    "width": "289.844px"
   },
   "toc_section_display": true,
   "toc_window_display": false
  }
 },
 "nbformat": 4,
 "nbformat_minor": 5
}
