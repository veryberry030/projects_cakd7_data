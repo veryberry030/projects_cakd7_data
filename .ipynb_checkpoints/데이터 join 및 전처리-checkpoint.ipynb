{
 "cells": [
  {
   "cell_type": "markdown",
   "id": "2e02528b",
   "metadata": {},
   "source": [
    "# 데이터프레임 전처리"
   ]
  },
  {
   "cell_type": "code",
   "execution_count": 2,
   "id": "bc33e91b",
   "metadata": {},
   "outputs": [],
   "source": [
    "import json\n",
    "import numpy as np\n",
    "import pandas as pd\n",
    "import re\n",
    "import warnings\n",
    "warnings.filterwarnings('ignore')"
   ]
  },
  {
   "cell_type": "code",
   "execution_count": 3,
   "id": "40d6c5dd",
   "metadata": {},
   "outputs": [],
   "source": [
    "# 데이터 불러오기\n",
    "MP = pd.read_json('MP.json', orient = 'table')\n",
    "PB = pd.read_json(\"PB.json\", orient = 'table')"
   ]
  },
  {
   "cell_type": "code",
   "execution_count": 4,
   "id": "627209cd",
   "metadata": {},
   "outputs": [
    {
     "data": {
      "text/html": [
       "<div>\n",
       "<style scoped>\n",
       "    .dataframe tbody tr th:only-of-type {\n",
       "        vertical-align: middle;\n",
       "    }\n",
       "\n",
       "    .dataframe tbody tr th {\n",
       "        vertical-align: top;\n",
       "    }\n",
       "\n",
       "    .dataframe thead th {\n",
       "        text-align: right;\n",
       "    }\n",
       "</style>\n",
       "<table border=\"1\" class=\"dataframe\">\n",
       "  <thead>\n",
       "    <tr style=\"text-align: right;\">\n",
       "      <th></th>\n",
       "      <th>의원명</th>\n",
       "      <th>정당</th>\n",
       "      <th>소속위원회</th>\n",
       "      <th>지역</th>\n",
       "      <th>성별</th>\n",
       "      <th>당선횟수</th>\n",
       "      <th>당선방법</th>\n",
       "    </tr>\n",
       "  </thead>\n",
       "  <tbody>\n",
       "    <tr>\n",
       "      <th>0</th>\n",
       "      <td>강기윤</td>\n",
       "      <td>국민의힘</td>\n",
       "      <td>[보건복지위원회]</td>\n",
       "      <td>경남 창원시성산구</td>\n",
       "      <td>남</td>\n",
       "      <td>재선</td>\n",
       "      <td>지역구</td>\n",
       "    </tr>\n",
       "    <tr>\n",
       "      <th>1</th>\n",
       "      <td>강대식</td>\n",
       "      <td>국민의힘</td>\n",
       "      <td>[국토교통위원회,  예산결산특별위원회]</td>\n",
       "      <td>대구 동구을</td>\n",
       "      <td>남</td>\n",
       "      <td>초선</td>\n",
       "      <td>지역구</td>\n",
       "    </tr>\n",
       "    <tr>\n",
       "      <th>2</th>\n",
       "      <td>강득구</td>\n",
       "      <td>더불어민주당</td>\n",
       "      <td>[교육위원회,  국회운영위원회,  예산결산특별위원회]</td>\n",
       "      <td>경기 안양시만안구</td>\n",
       "      <td>남</td>\n",
       "      <td>초선</td>\n",
       "      <td>지역구</td>\n",
       "    </tr>\n",
       "    <tr>\n",
       "      <th>3</th>\n",
       "      <td>강민국</td>\n",
       "      <td>국민의힘</td>\n",
       "      <td>[민생경제안정특별위원회,  정무위원회,  예산결산특별위원회]</td>\n",
       "      <td>경남 진주시을</td>\n",
       "      <td>남</td>\n",
       "      <td>초선</td>\n",
       "      <td>지역구</td>\n",
       "    </tr>\n",
       "    <tr>\n",
       "      <th>4</th>\n",
       "      <td>강민정</td>\n",
       "      <td>더불어민주당</td>\n",
       "      <td>[중앙선거관리위원회위원(남래진)선출에관한인사청문특별위원회,  교육위원회,  국회운영...</td>\n",
       "      <td>비례대표</td>\n",
       "      <td>여</td>\n",
       "      <td>초선</td>\n",
       "      <td>비례대표</td>\n",
       "    </tr>\n",
       "    <tr>\n",
       "      <th>...</th>\n",
       "      <td>...</td>\n",
       "      <td>...</td>\n",
       "      <td>...</td>\n",
       "      <td>...</td>\n",
       "      <td>...</td>\n",
       "      <td>...</td>\n",
       "      <td>...</td>\n",
       "    </tr>\n",
       "    <tr>\n",
       "      <th>294</th>\n",
       "      <td>홍익표</td>\n",
       "      <td>더불어민주당</td>\n",
       "      <td>[문화체육관광위원회]</td>\n",
       "      <td>서울 중구성동구갑</td>\n",
       "      <td>남</td>\n",
       "      <td>3선</td>\n",
       "      <td>지역구</td>\n",
       "    </tr>\n",
       "    <tr>\n",
       "      <th>295</th>\n",
       "      <td>홍정민</td>\n",
       "      <td>더불어민주당</td>\n",
       "      <td>[산업통상자원중소벤처기업위원회,  여성가족위원회]</td>\n",
       "      <td>경기 고양시병</td>\n",
       "      <td>여</td>\n",
       "      <td>초선</td>\n",
       "      <td>지역구</td>\n",
       "    </tr>\n",
       "    <tr>\n",
       "      <th>296</th>\n",
       "      <td>황보승희</td>\n",
       "      <td>국민의힘</td>\n",
       "      <td>[문화체육관광위원회]</td>\n",
       "      <td>부산 중구영도구</td>\n",
       "      <td>여</td>\n",
       "      <td>초선</td>\n",
       "      <td>지역구</td>\n",
       "    </tr>\n",
       "    <tr>\n",
       "      <th>297</th>\n",
       "      <td>황운하</td>\n",
       "      <td>더불어민주당</td>\n",
       "      <td>[정무위원회]</td>\n",
       "      <td>대전 중구</td>\n",
       "      <td>남</td>\n",
       "      <td>초선</td>\n",
       "      <td>지역구</td>\n",
       "    </tr>\n",
       "    <tr>\n",
       "      <th>298</th>\n",
       "      <td>황희</td>\n",
       "      <td>더불어민주당</td>\n",
       "      <td>[예산결산특별위원회,  외교통일위원회]</td>\n",
       "      <td>서울 양천구갑</td>\n",
       "      <td>남</td>\n",
       "      <td>재선</td>\n",
       "      <td>지역구</td>\n",
       "    </tr>\n",
       "  </tbody>\n",
       "</table>\n",
       "<p>299 rows × 7 columns</p>\n",
       "</div>"
      ],
      "text/plain": [
       "      의원명      정당                                              소속위원회  \\\n",
       "0     강기윤    국민의힘                                          [보건복지위원회]   \n",
       "1     강대식    국민의힘                              [국토교통위원회,  예산결산특별위원회]   \n",
       "2     강득구  더불어민주당                      [교육위원회,  국회운영위원회,  예산결산특별위원회]   \n",
       "3     강민국    국민의힘                  [민생경제안정특별위원회,  정무위원회,  예산결산특별위원회]   \n",
       "4     강민정  더불어민주당  [중앙선거관리위원회위원(남래진)선출에관한인사청문특별위원회,  교육위원회,  국회운영...   \n",
       "..    ...     ...                                                ...   \n",
       "294   홍익표  더불어민주당                                        [문화체육관광위원회]   \n",
       "295   홍정민  더불어민주당                        [산업통상자원중소벤처기업위원회,  여성가족위원회]   \n",
       "296  황보승희    국민의힘                                        [문화체육관광위원회]   \n",
       "297   황운하  더불어민주당                                            [정무위원회]   \n",
       "298    황희  더불어민주당                              [예산결산특별위원회,  외교통일위원회]   \n",
       "\n",
       "            지역 성별 당선횟수  당선방법  \n",
       "0    경남 창원시성산구  남   재선   지역구  \n",
       "1       대구 동구을  남   초선   지역구  \n",
       "2    경기 안양시만안구  남   초선   지역구  \n",
       "3      경남 진주시을  남   초선   지역구  \n",
       "4         비례대표  여   초선  비례대표  \n",
       "..         ... ..  ...   ...  \n",
       "294  서울 중구성동구갑  남   3선   지역구  \n",
       "295    경기 고양시병  여   초선   지역구  \n",
       "296   부산 중구영도구  여   초선   지역구  \n",
       "297      대전 중구  남   초선   지역구  \n",
       "298    서울 양천구갑  남   재선   지역구  \n",
       "\n",
       "[299 rows x 7 columns]"
      ]
     },
     "execution_count": 4,
     "metadata": {},
     "output_type": "execute_result"
    }
   ],
   "source": [
    "# 국회의원 별 df\n",
    "MP"
   ]
  },
  {
   "cell_type": "code",
   "execution_count": 6,
   "id": "279ccca5",
   "metadata": {
    "scrolled": true
   },
   "outputs": [
    {
     "data": {
      "text/html": [
       "<div>\n",
       "<style scoped>\n",
       "    .dataframe tbody tr th:only-of-type {\n",
       "        vertical-align: middle;\n",
       "    }\n",
       "\n",
       "    .dataframe tbody tr th {\n",
       "        vertical-align: top;\n",
       "    }\n",
       "\n",
       "    .dataframe thead th {\n",
       "        text-align: right;\n",
       "    }\n",
       "</style>\n",
       "<table border=\"1\" class=\"dataframe\">\n",
       "  <thead>\n",
       "    <tr style=\"text-align: right;\">\n",
       "      <th></th>\n",
       "      <th>법률안명</th>\n",
       "      <th>대표발의자</th>\n",
       "      <th>공동발의자</th>\n",
       "      <th>소관위원회</th>\n",
       "      <th>제안일</th>\n",
       "      <th>처리상태</th>\n",
       "      <th>상세페이지</th>\n",
       "    </tr>\n",
       "  </thead>\n",
       "  <tbody>\n",
       "    <tr>\n",
       "      <th>0</th>\n",
       "      <td>성폭력방지 및 피해자보호 등에 관한 법률 | 일부개정법률안</td>\n",
       "      <td>강대식</td>\n",
       "      <td>[김병욱, 김상훈, 배준영, 송언석, 유경준, 유의동, 이만희, 이명수, 조수진, ...</td>\n",
       "      <td>여성가족위원회</td>\n",
       "      <td>2022-06-30</td>\n",
       "      <td>NaN</td>\n",
       "      <td>http://likms.assembly.go.kr/bill/billDetail.do...</td>\n",
       "    </tr>\n",
       "    <tr>\n",
       "      <th>1</th>\n",
       "      <td>남녀고용평등과 일·가정 양립 지원에 관한 법률 | 일부개정법률안</td>\n",
       "      <td>강대식</td>\n",
       "      <td>[김병욱, 김승수, 배준영, 유경준, 유의동, 이명수, 정희용, 조수진, 지성호]</td>\n",
       "      <td>환경노동위원회</td>\n",
       "      <td>2022-06-30</td>\n",
       "      <td>NaN</td>\n",
       "      <td>http://likms.assembly.go.kr/bill/billDetail.do...</td>\n",
       "    </tr>\n",
       "    <tr>\n",
       "      <th>2</th>\n",
       "      <td>양성평등기본법 | 일부개정법률안</td>\n",
       "      <td>강대식</td>\n",
       "      <td>[김병욱, 김상훈, 김승수, 배준영, 송언석, 유경준, 유의동, 이만희, 이명수, ...</td>\n",
       "      <td>여성가족위원회</td>\n",
       "      <td>2022-06-30</td>\n",
       "      <td>NaN</td>\n",
       "      <td>http://likms.assembly.go.kr/bill/billDetail.do...</td>\n",
       "    </tr>\n",
       "    <tr>\n",
       "      <th>3</th>\n",
       "      <td>여수ㆍ순천 10ㆍ19사건 진상규명 및 희생자 명예회복에 관한 특별법 | 일부개정법률안</td>\n",
       "      <td>소병철</td>\n",
       "      <td>[김승남, 김정호, 김회재, 서동용, 이수진, 이용선, 정일영, 주철현, 한준호]</td>\n",
       "      <td>행정안전위원회</td>\n",
       "      <td>2022-06-30</td>\n",
       "      <td>NaN</td>\n",
       "      <td>http://likms.assembly.go.kr/bill/billDetail.do...</td>\n",
       "    </tr>\n",
       "    <tr>\n",
       "      <th>4</th>\n",
       "      <td>조세특례제한법 | 일부개정법률안</td>\n",
       "      <td>정우택</td>\n",
       "      <td>[김학용, 서정숙, 이양수, 이종성, 정운천, 정희용, 조명희, 지성호, 최승재, ...</td>\n",
       "      <td>기획재정위원회</td>\n",
       "      <td>2022-06-30</td>\n",
       "      <td>NaN</td>\n",
       "      <td>http://likms.assembly.go.kr/bill/billDetail.do...</td>\n",
       "    </tr>\n",
       "  </tbody>\n",
       "</table>\n",
       "</div>"
      ],
      "text/plain": [
       "                                              법률안명 대표발의자  \\\n",
       "0                 성폭력방지 및 피해자보호 등에 관한 법률 | 일부개정법률안   강대식   \n",
       "1              남녀고용평등과 일·가정 양립 지원에 관한 법률 | 일부개정법률안   강대식   \n",
       "2                                양성평등기본법 | 일부개정법률안   강대식   \n",
       "3  여수ㆍ순천 10ㆍ19사건 진상규명 및 희생자 명예회복에 관한 특별법 | 일부개정법률안   소병철   \n",
       "4                                조세특례제한법 | 일부개정법률안   정우택   \n",
       "\n",
       "                                               공동발의자    소관위원회        제안일 처리상태  \\\n",
       "0  [김병욱, 김상훈, 배준영, 송언석, 유경준, 유의동, 이만희, 이명수, 조수진, ...  여성가족위원회 2022-06-30  NaN   \n",
       "1      [김병욱, 김승수, 배준영, 유경준, 유의동, 이명수, 정희용, 조수진, 지성호]  환경노동위원회 2022-06-30  NaN   \n",
       "2  [김병욱, 김상훈, 김승수, 배준영, 송언석, 유경준, 유의동, 이만희, 이명수, ...  여성가족위원회 2022-06-30  NaN   \n",
       "3      [김승남, 김정호, 김회재, 서동용, 이수진, 이용선, 정일영, 주철현, 한준호]  행정안전위원회 2022-06-30  NaN   \n",
       "4  [김학용, 서정숙, 이양수, 이종성, 정운천, 정희용, 조명희, 지성호, 최승재, ...  기획재정위원회 2022-06-30  NaN   \n",
       "\n",
       "                                               상세페이지  \n",
       "0  http://likms.assembly.go.kr/bill/billDetail.do...  \n",
       "1  http://likms.assembly.go.kr/bill/billDetail.do...  \n",
       "2  http://likms.assembly.go.kr/bill/billDetail.do...  \n",
       "3  http://likms.assembly.go.kr/bill/billDetail.do...  \n",
       "4  http://likms.assembly.go.kr/bill/billDetail.do...  "
      ]
     },
     "execution_count": 6,
     "metadata": {},
     "output_type": "execute_result"
    }
   ],
   "source": [
    "# 법률안 별 df\n",
    "PB.head()"
   ]
  },
  {
   "cell_type": "code",
   "execution_count": 30,
   "id": "b511d965",
   "metadata": {},
   "outputs": [
    {
     "ename": "TypeError",
     "evalue": "'NoneType' object is not subscriptable",
     "output_type": "error",
     "traceback": [
      "\u001b[1;31m---------------------------------------------------------------------------\u001b[0m",
      "\u001b[1;31mTypeError\u001b[0m                                 Traceback (most recent call last)",
      "Input \u001b[1;32mIn [30]\u001b[0m, in \u001b[0;36m<cell line: 10>\u001b[1;34m()\u001b[0m\n\u001b[0;32m      7\u001b[0m li \u001b[38;5;241m=\u001b[39m []\n\u001b[0;32m      8\u001b[0m PB1 \u001b[38;5;241m=\u001b[39m PB\u001b[38;5;241m.\u001b[39mdropna(subset\u001b[38;5;241m=\u001b[39m[\u001b[38;5;124m'\u001b[39m\u001b[38;5;124m공동발의자\u001b[39m\u001b[38;5;124m'\u001b[39m], inplace \u001b[38;5;241m=\u001b[39m \u001b[38;5;28;01mTrue\u001b[39;00m)\n\u001b[1;32m---> 10\u001b[0m \u001b[38;5;28;01mfor\u001b[39;00m i \u001b[38;5;129;01min\u001b[39;00m \u001b[38;5;28mrange\u001b[39m((\u001b[38;5;28mlen\u001b[39m(\u001b[43mPB1\u001b[49m\u001b[43m[\u001b[49m\u001b[38;5;124;43m'\u001b[39;49m\u001b[38;5;124;43m공동발의자\u001b[39;49m\u001b[38;5;124;43m'\u001b[39;49m\u001b[43m]\u001b[49m))):\n\u001b[0;32m     11\u001b[0m     \u001b[38;5;28;01mfor\u001b[39;00m t \u001b[38;5;129;01min\u001b[39;00m \u001b[38;5;28mrange\u001b[39m(\u001b[38;5;28mlen\u001b[39m(PB1[\u001b[38;5;124m'\u001b[39m\u001b[38;5;124m공동발의자\u001b[39m\u001b[38;5;124m'\u001b[39m][i])):\n\u001b[0;32m     12\u001b[0m         \u001b[38;5;28;01mif\u001b[39;00m PB1[\u001b[38;5;124m'\u001b[39m\u001b[38;5;124m공동발의자\u001b[39m\u001b[38;5;124m'\u001b[39m][i][t] \u001b[38;5;129;01min\u001b[39;00m li:\n",
      "\u001b[1;31mTypeError\u001b[0m: 'NoneType' object is not subscriptable"
     ]
    }
   ],
   "source": [
    "# 대표발의자랑 공동발의자 중복 확인\n",
    "\n",
    "# 대표발의\n",
    "re_li = PB['대표발의자'].unique()\n",
    "\n",
    "# 공동발의\n",
    "li = []\n",
    "PB1 = PB.dropna(subset=['공동발의자'], inplace = True)\n",
    "\n",
    "for i in range((len(PB1['공동발의자']))):\n",
    "    for t in range(len(PB1['공동발의자'][i])):\n",
    "        if PB1['공동발의자'][i][t] in li:\n",
    "            pass\n",
    "        else:\n",
    "            li.append(PB1['공동발의자'][i][t])\n",
    "print(li, '\\n')\n",
    "print(re_li)"
   ]
  },
  {
   "cell_type": "code",
   "execution_count": 28,
   "id": "f1cc7fb0",
   "metadata": {},
   "outputs": [
    {
     "ename": "TypeError",
     "evalue": "'NoneType' object is not subscriptable",
     "output_type": "error",
     "traceback": [
      "\u001b[1;31m---------------------------------------------------------------------------\u001b[0m",
      "\u001b[1;31mTypeError\u001b[0m                                 Traceback (most recent call last)",
      "Input \u001b[1;32mIn [28]\u001b[0m, in \u001b[0;36m<cell line: 1>\u001b[1;34m()\u001b[0m\n\u001b[1;32m----> 1\u001b[0m \u001b[38;5;28mlen\u001b[39m(\u001b[43mPB1\u001b[49m\u001b[43m[\u001b[49m\u001b[38;5;124;43m'\u001b[39;49m\u001b[38;5;124;43m공동발의자\u001b[39;49m\u001b[38;5;124;43m'\u001b[39;49m\u001b[43m]\u001b[49m[\u001b[38;5;241m5\u001b[39m])\n",
      "\u001b[1;31mTypeError\u001b[0m: 'NoneType' object is not subscriptable"
     ]
    }
   ],
   "source": [
    "len(PB1['공동발의자'][5])"
   ]
  },
  {
   "cell_type": "code",
   "execution_count": null,
   "id": "cb09157b",
   "metadata": {},
   "outputs": [],
   "source": [
    "name_pb = pd.DataFrame(columns = '공동발의자')"
   ]
  },
  {
   "cell_type": "code",
   "execution_count": 22,
   "id": "c90524af",
   "metadata": {},
   "outputs": [
    {
     "data": {
      "text/plain": [
       "1766"
      ]
     },
     "execution_count": 22,
     "metadata": {},
     "output_type": "execute_result"
    }
   ],
   "source": [
    "#df.query('주소.str.contains(\"서울\")')\n",
    "#PB.query('공동발의자.str.contains(\"김병욱\")')\n",
    "len(PB['공동발의자'])\n",
    "    "
   ]
  },
  {
   "cell_type": "code",
   "execution_count": null,
   "id": "afd0e167",
   "metadata": {},
   "outputs": [],
   "source": [
    "ti_df2.dropna(inplace = True)\n",
    "li = []\n",
    "co_li = list(ti_df2['공동발의자'])\n",
    "\n",
    "li = []\n",
    "for i in range((len(co_li))):\n",
    "    for t in range(len(co_li[i])):\n",
    "        if co_li[i][t] in li:\n",
    "            pass\n",
    "        else:\n",
    "            li.append(co_li[i][t])\n",
    "print(li, '\\n')\n",
    "print('공동발의자 개수: ', len(li), '개') "
   ]
  },
  {
   "cell_type": "code",
   "execution_count": 11,
   "id": "e7ae49e6",
   "metadata": {},
   "outputs": [],
   "source": [
    "# 공동 or 대표발의자 별로 나누기\n",
    "pb = PB.groupby('공동발의자')\n",
    "# #소관위원회 \n",
    "# pdpd['공동발의자']"
   ]
  },
  {
   "cell_type": "code",
   "execution_count": 12,
   "id": "9eb2b753",
   "metadata": {},
   "outputs": [
    {
     "data": {
      "text/plain": [
       "<pandas.core.groupby.generic.DataFrameGroupBy object at 0x000002064E0957C0>"
      ]
     },
     "execution_count": 12,
     "metadata": {},
     "output_type": "execute_result"
    }
   ],
   "source": [
    "pb"
   ]
  },
  {
   "cell_type": "code",
   "execution_count": null,
   "id": "66a69a15",
   "metadata": {},
   "outputs": [],
   "source": []
  }
 ],
 "metadata": {
  "kernelspec": {
   "display_name": "Python 3 (ipykernel)",
   "language": "python",
   "name": "python3"
  },
  "language_info": {
   "codemirror_mode": {
    "name": "ipython",
    "version": 3
   },
   "file_extension": ".py",
   "mimetype": "text/x-python",
   "name": "python",
   "nbconvert_exporter": "python",
   "pygments_lexer": "ipython3",
   "version": "3.9.12"
  }
 },
 "nbformat": 4,
 "nbformat_minor": 5
}
